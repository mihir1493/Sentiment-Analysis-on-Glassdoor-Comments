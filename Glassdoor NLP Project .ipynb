{
 "cells": [
  {
   "cell_type": "markdown",
   "id": "998d4dc7",
   "metadata": {},
   "source": [
    "## Importing dataset and cleaning certain columns "
   ]
  },
  {
   "cell_type": "code",
   "execution_count": 214,
   "id": "5916b343",
   "metadata": {},
   "outputs": [],
   "source": [
    "import pandas as pd\n",
    "import warnings"
   ]
  },
  {
   "cell_type": "code",
   "execution_count": 34,
   "id": "a1e8e5df",
   "metadata": {},
   "outputs": [],
   "source": [
    "walmart_df = pd.read_csv(\"walmart_data.csv\",index_col=[0])"
   ]
  },
  {
   "cell_type": "code",
   "execution_count": 35,
   "id": "15e78c99",
   "metadata": {},
   "outputs": [
    {
     "data": {
      "text/html": [
       "<div>\n",
       "<style scoped>\n",
       "    .dataframe tbody tr th:only-of-type {\n",
       "        vertical-align: middle;\n",
       "    }\n",
       "\n",
       "    .dataframe tbody tr th {\n",
       "        vertical-align: top;\n",
       "    }\n",
       "\n",
       "    .dataframe thead th {\n",
       "        text-align: right;\n",
       "    }\n",
       "</style>\n",
       "<table border=\"1\" class=\"dataframe\">\n",
       "  <thead>\n",
       "    <tr style=\"text-align: right;\">\n",
       "      <th></th>\n",
       "      <th>rating</th>\n",
       "      <th>employee_type</th>\n",
       "      <th>review</th>\n",
       "      <th>date_position</th>\n",
       "      <th>pros</th>\n",
       "      <th>cons</th>\n",
       "      <th>date</th>\n",
       "      <th>job title</th>\n",
       "    </tr>\n",
       "  </thead>\n",
       "  <tbody>\n",
       "    <tr>\n",
       "      <th>0</th>\n",
       "      <td>5.0</td>\n",
       "      <td>Current Employee, more than 8 years</td>\n",
       "      <td>pretty cool</td>\n",
       "      <td>Oct 4, 2021 - Anonymous Employee</td>\n",
       "      <td>get to be outside most of the time</td>\n",
       "      <td>i have to work but its okay</td>\n",
       "      <td>2021-10-04</td>\n",
       "      <td>Anonymous Employee</td>\n",
       "    </tr>\n",
       "    <tr>\n",
       "      <th>1</th>\n",
       "      <td>5.0</td>\n",
       "      <td>Former Employee, less than 1 year</td>\n",
       "      <td>From an Asst Store Manager</td>\n",
       "      <td>Jun 2, 2015 - Assistant Store Manager</td>\n",
       "      <td>Advancement opportunities, great at developing...</td>\n",
       "      <td>Understaffing issues negatively affects all pa...</td>\n",
       "      <td>2015-06-02</td>\n",
       "      <td>Assistant Store Manager</td>\n",
       "    </tr>\n",
       "    <tr>\n",
       "      <th>2</th>\n",
       "      <td>3.0</td>\n",
       "      <td>Former Employee, more than 5 years</td>\n",
       "      <td>It only takes one.</td>\n",
       "      <td>Oct 19, 2021 - Field Assistant Manager</td>\n",
       "      <td>I loved working with people as management. Thi...</td>\n",
       "      <td>It only takes one senior level management to t...</td>\n",
       "      <td>2021-10-19</td>\n",
       "      <td>Field Assistant Manager</td>\n",
       "    </tr>\n",
       "    <tr>\n",
       "      <th>3</th>\n",
       "      <td>3.0</td>\n",
       "      <td>Current Employee, less than 1 year</td>\n",
       "      <td>Can get overwhelming at times but decent pay</td>\n",
       "      <td>Oct 5, 2021 - Online Personal Shopper</td>\n",
       "      <td>$14 an hour starting pay.\\nDepending on what r...</td>\n",
       "      <td>Generally the whole business strucutre in term...</td>\n",
       "      <td>2021-10-05</td>\n",
       "      <td>Online Personal Shopper</td>\n",
       "    </tr>\n",
       "    <tr>\n",
       "      <th>4</th>\n",
       "      <td>3.0</td>\n",
       "      <td>Former Employee, less than 1 year</td>\n",
       "      <td>Admiring Front Skill</td>\n",
       "      <td>Oct 21, 2021 - Guest Greeter</td>\n",
       "      <td>A lot of social trafficking.....minimal guidan...</td>\n",
       "      <td>Less of a total team effectiveness by picking ...</td>\n",
       "      <td>2021-10-21</td>\n",
       "      <td>Guest Greeter</td>\n",
       "    </tr>\n",
       "  </tbody>\n",
       "</table>\n",
       "</div>"
      ],
      "text/plain": [
       "   rating                        employee_type  \\\n",
       "0     5.0  Current Employee, more than 8 years   \n",
       "1     5.0    Former Employee, less than 1 year   \n",
       "2     3.0   Former Employee, more than 5 years   \n",
       "3     3.0   Current Employee, less than 1 year   \n",
       "4     3.0    Former Employee, less than 1 year   \n",
       "\n",
       "                                         review  \\\n",
       "0                                   pretty cool   \n",
       "1                    From an Asst Store Manager   \n",
       "2                            It only takes one.   \n",
       "3  Can get overwhelming at times but decent pay   \n",
       "4                          Admiring Front Skill   \n",
       "\n",
       "                            date_position  \\\n",
       "0        Oct 4, 2021 - Anonymous Employee   \n",
       "1   Jun 2, 2015 - Assistant Store Manager   \n",
       "2  Oct 19, 2021 - Field Assistant Manager   \n",
       "3   Oct 5, 2021 - Online Personal Shopper   \n",
       "4            Oct 21, 2021 - Guest Greeter   \n",
       "\n",
       "                                                pros  \\\n",
       "0                 get to be outside most of the time   \n",
       "1  Advancement opportunities, great at developing...   \n",
       "2  I loved working with people as management. Thi...   \n",
       "3  $14 an hour starting pay.\\nDepending on what r...   \n",
       "4  A lot of social trafficking.....minimal guidan...   \n",
       "\n",
       "                                                cons        date  \\\n",
       "0                        i have to work but its okay  2021-10-04   \n",
       "1  Understaffing issues negatively affects all pa...  2015-06-02   \n",
       "2  It only takes one senior level management to t...  2021-10-19   \n",
       "3  Generally the whole business strucutre in term...  2021-10-05   \n",
       "4  Less of a total team effectiveness by picking ...  2021-10-21   \n",
       "\n",
       "                  job title  \n",
       "0        Anonymous Employee  \n",
       "1   Assistant Store Manager  \n",
       "2   Field Assistant Manager  \n",
       "3   Online Personal Shopper  \n",
       "4             Guest Greeter  "
      ]
     },
     "execution_count": 35,
     "metadata": {},
     "output_type": "execute_result"
    }
   ],
   "source": [
    "walmart_df.head()"
   ]
  },
  {
   "cell_type": "code",
   "execution_count": 36,
   "id": "d36a39ae",
   "metadata": {},
   "outputs": [
    {
     "name": "stdout",
     "output_type": "stream",
     "text": [
      "<class 'pandas.core.frame.DataFrame'>\n",
      "Int64Index: 1010 entries, 0 to 1009\n",
      "Data columns (total 8 columns):\n",
      " #   Column         Non-Null Count  Dtype  \n",
      "---  ------         --------------  -----  \n",
      " 0   rating         1010 non-null   float64\n",
      " 1   employee_type  1010 non-null   object \n",
      " 2   review         1006 non-null   object \n",
      " 3   date_position  1010 non-null   object \n",
      " 4   pros           1010 non-null   object \n",
      " 5   cons           1010 non-null   object \n",
      " 6   date           1010 non-null   object \n",
      " 7   job title      1010 non-null   object \n",
      "dtypes: float64(1), object(7)\n",
      "memory usage: 71.0+ KB\n"
     ]
    }
   ],
   "source": [
    "walmart_df.info()"
   ]
  },
  {
   "cell_type": "markdown",
   "id": "b74c4113",
   "metadata": {},
   "source": [
    "#### Dropping date_position column "
   ]
  },
  {
   "cell_type": "code",
   "execution_count": 37,
   "id": "9fa7b4d4",
   "metadata": {},
   "outputs": [],
   "source": [
    "walmart_df = walmart_df.drop(['date_position'], axis=1)"
   ]
  },
  {
   "cell_type": "code",
   "execution_count": 38,
   "id": "a3916f4b",
   "metadata": {},
   "outputs": [
    {
     "data": {
      "text/html": [
       "<div>\n",
       "<style scoped>\n",
       "    .dataframe tbody tr th:only-of-type {\n",
       "        vertical-align: middle;\n",
       "    }\n",
       "\n",
       "    .dataframe tbody tr th {\n",
       "        vertical-align: top;\n",
       "    }\n",
       "\n",
       "    .dataframe thead th {\n",
       "        text-align: right;\n",
       "    }\n",
       "</style>\n",
       "<table border=\"1\" class=\"dataframe\">\n",
       "  <thead>\n",
       "    <tr style=\"text-align: right;\">\n",
       "      <th></th>\n",
       "      <th>rating</th>\n",
       "      <th>employee_type</th>\n",
       "      <th>review</th>\n",
       "      <th>pros</th>\n",
       "      <th>cons</th>\n",
       "      <th>date</th>\n",
       "      <th>job title</th>\n",
       "    </tr>\n",
       "  </thead>\n",
       "  <tbody>\n",
       "    <tr>\n",
       "      <th>0</th>\n",
       "      <td>5.0</td>\n",
       "      <td>Current Employee, more than 8 years</td>\n",
       "      <td>pretty cool</td>\n",
       "      <td>get to be outside most of the time</td>\n",
       "      <td>i have to work but its okay</td>\n",
       "      <td>2021-10-04</td>\n",
       "      <td>Anonymous Employee</td>\n",
       "    </tr>\n",
       "    <tr>\n",
       "      <th>1</th>\n",
       "      <td>5.0</td>\n",
       "      <td>Former Employee, less than 1 year</td>\n",
       "      <td>From an Asst Store Manager</td>\n",
       "      <td>Advancement opportunities, great at developing...</td>\n",
       "      <td>Understaffing issues negatively affects all pa...</td>\n",
       "      <td>2015-06-02</td>\n",
       "      <td>Assistant Store Manager</td>\n",
       "    </tr>\n",
       "    <tr>\n",
       "      <th>2</th>\n",
       "      <td>3.0</td>\n",
       "      <td>Former Employee, more than 5 years</td>\n",
       "      <td>It only takes one.</td>\n",
       "      <td>I loved working with people as management. Thi...</td>\n",
       "      <td>It only takes one senior level management to t...</td>\n",
       "      <td>2021-10-19</td>\n",
       "      <td>Field Assistant Manager</td>\n",
       "    </tr>\n",
       "    <tr>\n",
       "      <th>3</th>\n",
       "      <td>3.0</td>\n",
       "      <td>Current Employee, less than 1 year</td>\n",
       "      <td>Can get overwhelming at times but decent pay</td>\n",
       "      <td>$14 an hour starting pay.\\nDepending on what r...</td>\n",
       "      <td>Generally the whole business strucutre in term...</td>\n",
       "      <td>2021-10-05</td>\n",
       "      <td>Online Personal Shopper</td>\n",
       "    </tr>\n",
       "    <tr>\n",
       "      <th>4</th>\n",
       "      <td>3.0</td>\n",
       "      <td>Former Employee, less than 1 year</td>\n",
       "      <td>Admiring Front Skill</td>\n",
       "      <td>A lot of social trafficking.....minimal guidan...</td>\n",
       "      <td>Less of a total team effectiveness by picking ...</td>\n",
       "      <td>2021-10-21</td>\n",
       "      <td>Guest Greeter</td>\n",
       "    </tr>\n",
       "  </tbody>\n",
       "</table>\n",
       "</div>"
      ],
      "text/plain": [
       "   rating                        employee_type  \\\n",
       "0     5.0  Current Employee, more than 8 years   \n",
       "1     5.0    Former Employee, less than 1 year   \n",
       "2     3.0   Former Employee, more than 5 years   \n",
       "3     3.0   Current Employee, less than 1 year   \n",
       "4     3.0    Former Employee, less than 1 year   \n",
       "\n",
       "                                         review  \\\n",
       "0                                   pretty cool   \n",
       "1                    From an Asst Store Manager   \n",
       "2                            It only takes one.   \n",
       "3  Can get overwhelming at times but decent pay   \n",
       "4                          Admiring Front Skill   \n",
       "\n",
       "                                                pros  \\\n",
       "0                 get to be outside most of the time   \n",
       "1  Advancement opportunities, great at developing...   \n",
       "2  I loved working with people as management. Thi...   \n",
       "3  $14 an hour starting pay.\\nDepending on what r...   \n",
       "4  A lot of social trafficking.....minimal guidan...   \n",
       "\n",
       "                                                cons        date  \\\n",
       "0                        i have to work but its okay  2021-10-04   \n",
       "1  Understaffing issues negatively affects all pa...  2015-06-02   \n",
       "2  It only takes one senior level management to t...  2021-10-19   \n",
       "3  Generally the whole business strucutre in term...  2021-10-05   \n",
       "4  Less of a total team effectiveness by picking ...  2021-10-21   \n",
       "\n",
       "                  job title  \n",
       "0        Anonymous Employee  \n",
       "1   Assistant Store Manager  \n",
       "2   Field Assistant Manager  \n",
       "3   Online Personal Shopper  \n",
       "4             Guest Greeter  "
      ]
     },
     "execution_count": 38,
     "metadata": {},
     "output_type": "execute_result"
    }
   ],
   "source": [
    "walmart_df.head()"
   ]
  },
  {
   "cell_type": "markdown",
   "id": "cfd016c9",
   "metadata": {},
   "source": [
    "#### Getting unique values in employee_type column"
   ]
  },
  {
   "cell_type": "code",
   "execution_count": 39,
   "id": "5d6c3d4e",
   "metadata": {},
   "outputs": [
    {
     "data": {
      "text/plain": [
       "array(['Current Employee, more than 8 years',\n",
       "       'Former Employee, less than 1 year',\n",
       "       'Former Employee, more than 5 years',\n",
       "       'Current Employee, less than 1 year', 'Former Employee',\n",
       "       'Former Employee, more than 1 year',\n",
       "       'Current Employee, more than 5 years',\n",
       "       'Former Employee, more than 3 years', 'Current Employee',\n",
       "       'Current Employee, more than 3 years',\n",
       "       'Current Employee, more than 1 year',\n",
       "       'Current Employee, more than 10 years',\n",
       "       'Former Employee, more than 8 years',\n",
       "       'Former Employee, more than 10 years'], dtype=object)"
      ]
     },
     "execution_count": 39,
     "metadata": {},
     "output_type": "execute_result"
    }
   ],
   "source": [
    "walmart_df.employee_type.unique()"
   ]
  },
  {
   "cell_type": "markdown",
   "id": "44b4e12d",
   "metadata": {},
   "source": [
    "#### Splitting employee_type column "
   ]
  },
  {
   "cell_type": "code",
   "execution_count": 41,
   "id": "5cd1253b",
   "metadata": {},
   "outputs": [],
   "source": [
    "walmart_df[['employee_type', 'B']] = walmart_df['employee_type'].str.split(',', 1, expand=True)"
   ]
  },
  {
   "cell_type": "code",
   "execution_count": 42,
   "id": "8e17700b",
   "metadata": {},
   "outputs": [
    {
     "data": {
      "text/html": [
       "<div>\n",
       "<style scoped>\n",
       "    .dataframe tbody tr th:only-of-type {\n",
       "        vertical-align: middle;\n",
       "    }\n",
       "\n",
       "    .dataframe tbody tr th {\n",
       "        vertical-align: top;\n",
       "    }\n",
       "\n",
       "    .dataframe thead th {\n",
       "        text-align: right;\n",
       "    }\n",
       "</style>\n",
       "<table border=\"1\" class=\"dataframe\">\n",
       "  <thead>\n",
       "    <tr style=\"text-align: right;\">\n",
       "      <th></th>\n",
       "      <th>rating</th>\n",
       "      <th>employee_type</th>\n",
       "      <th>review</th>\n",
       "      <th>pros</th>\n",
       "      <th>cons</th>\n",
       "      <th>date</th>\n",
       "      <th>job title</th>\n",
       "      <th>B</th>\n",
       "    </tr>\n",
       "  </thead>\n",
       "  <tbody>\n",
       "    <tr>\n",
       "      <th>0</th>\n",
       "      <td>5.0</td>\n",
       "      <td>Current Employee</td>\n",
       "      <td>pretty cool</td>\n",
       "      <td>get to be outside most of the time</td>\n",
       "      <td>i have to work but its okay</td>\n",
       "      <td>2021-10-04</td>\n",
       "      <td>Anonymous Employee</td>\n",
       "      <td>more than 8 years</td>\n",
       "    </tr>\n",
       "    <tr>\n",
       "      <th>1</th>\n",
       "      <td>5.0</td>\n",
       "      <td>Former Employee</td>\n",
       "      <td>From an Asst Store Manager</td>\n",
       "      <td>Advancement opportunities, great at developing...</td>\n",
       "      <td>Understaffing issues negatively affects all pa...</td>\n",
       "      <td>2015-06-02</td>\n",
       "      <td>Assistant Store Manager</td>\n",
       "      <td>less than 1 year</td>\n",
       "    </tr>\n",
       "    <tr>\n",
       "      <th>2</th>\n",
       "      <td>3.0</td>\n",
       "      <td>Former Employee</td>\n",
       "      <td>It only takes one.</td>\n",
       "      <td>I loved working with people as management. Thi...</td>\n",
       "      <td>It only takes one senior level management to t...</td>\n",
       "      <td>2021-10-19</td>\n",
       "      <td>Field Assistant Manager</td>\n",
       "      <td>more than 5 years</td>\n",
       "    </tr>\n",
       "    <tr>\n",
       "      <th>3</th>\n",
       "      <td>3.0</td>\n",
       "      <td>Current Employee</td>\n",
       "      <td>Can get overwhelming at times but decent pay</td>\n",
       "      <td>$14 an hour starting pay.\\nDepending on what r...</td>\n",
       "      <td>Generally the whole business strucutre in term...</td>\n",
       "      <td>2021-10-05</td>\n",
       "      <td>Online Personal Shopper</td>\n",
       "      <td>less than 1 year</td>\n",
       "    </tr>\n",
       "    <tr>\n",
       "      <th>4</th>\n",
       "      <td>3.0</td>\n",
       "      <td>Former Employee</td>\n",
       "      <td>Admiring Front Skill</td>\n",
       "      <td>A lot of social trafficking.....minimal guidan...</td>\n",
       "      <td>Less of a total team effectiveness by picking ...</td>\n",
       "      <td>2021-10-21</td>\n",
       "      <td>Guest Greeter</td>\n",
       "      <td>less than 1 year</td>\n",
       "    </tr>\n",
       "    <tr>\n",
       "      <th>...</th>\n",
       "      <td>...</td>\n",
       "      <td>...</td>\n",
       "      <td>...</td>\n",
       "      <td>...</td>\n",
       "      <td>...</td>\n",
       "      <td>...</td>\n",
       "      <td>...</td>\n",
       "      <td>...</td>\n",
       "    </tr>\n",
       "    <tr>\n",
       "      <th>1005</th>\n",
       "      <td>1.0</td>\n",
       "      <td>Former Employee</td>\n",
       "      <td>They fire people for accusations without inves...</td>\n",
       "      <td>The workload and the pharmacy software is great</td>\n",
       "      <td>To grab extra shifts, they use archaic ways. T...</td>\n",
       "      <td>2021-09-21</td>\n",
       "      <td>Staff Pharmacist</td>\n",
       "      <td>less than 1 year</td>\n",
       "    </tr>\n",
       "    <tr>\n",
       "      <th>1006</th>\n",
       "      <td>5.0</td>\n",
       "      <td>Former Employee</td>\n",
       "      <td>Pharmacy Tech</td>\n",
       "      <td>Fast paced, high volume store</td>\n",
       "      <td>Rude customers, pay cut, cut hours</td>\n",
       "      <td>2021-09-27</td>\n",
       "      <td>Anonymous Employee</td>\n",
       "      <td>None</td>\n",
       "    </tr>\n",
       "    <tr>\n",
       "      <th>1007</th>\n",
       "      <td>3.0</td>\n",
       "      <td>Former Employee</td>\n",
       "      <td>A double edged sword.</td>\n",
       "      <td>-I grew as a person and as a leader while bein...</td>\n",
       "      <td>-Leadership higher than store management tends...</td>\n",
       "      <td>2021-06-06</td>\n",
       "      <td>Assistant Manager/Coach</td>\n",
       "      <td>more than 10 years</td>\n",
       "    </tr>\n",
       "    <tr>\n",
       "      <th>1008</th>\n",
       "      <td>5.0</td>\n",
       "      <td>Current Employee</td>\n",
       "      <td>Huh</td>\n",
       "      <td>Benefits\\r\\nPaid time off\\r\\nProtected paid ti...</td>\n",
       "      <td>Management sucks\\r\\nDemanding \\r\\nUnder staffe...</td>\n",
       "      <td>2021-09-26</td>\n",
       "      <td>Asset Protection Associate</td>\n",
       "      <td>None</td>\n",
       "    </tr>\n",
       "    <tr>\n",
       "      <th>1009</th>\n",
       "      <td>4.0</td>\n",
       "      <td>Current Employee</td>\n",
       "      <td>It's a job</td>\n",
       "      <td>They aren't stingy with the hours</td>\n",
       "      <td>Standing the entire shift was a pain</td>\n",
       "      <td>2021-09-26</td>\n",
       "      <td>Cashier</td>\n",
       "      <td>None</td>\n",
       "    </tr>\n",
       "  </tbody>\n",
       "</table>\n",
       "<p>1010 rows × 8 columns</p>\n",
       "</div>"
      ],
      "text/plain": [
       "      rating     employee_type  \\\n",
       "0        5.0  Current Employee   \n",
       "1        5.0   Former Employee   \n",
       "2        3.0   Former Employee   \n",
       "3        3.0  Current Employee   \n",
       "4        3.0   Former Employee   \n",
       "...      ...               ...   \n",
       "1005     1.0   Former Employee   \n",
       "1006     5.0   Former Employee   \n",
       "1007     3.0   Former Employee   \n",
       "1008     5.0  Current Employee   \n",
       "1009     4.0  Current Employee   \n",
       "\n",
       "                                                 review  \\\n",
       "0                                           pretty cool   \n",
       "1                            From an Asst Store Manager   \n",
       "2                                    It only takes one.   \n",
       "3          Can get overwhelming at times but decent pay   \n",
       "4                                  Admiring Front Skill   \n",
       "...                                                 ...   \n",
       "1005  They fire people for accusations without inves...   \n",
       "1006                                      Pharmacy Tech   \n",
       "1007                              A double edged sword.   \n",
       "1008                                                Huh   \n",
       "1009                                         It's a job   \n",
       "\n",
       "                                                   pros  \\\n",
       "0                    get to be outside most of the time   \n",
       "1     Advancement opportunities, great at developing...   \n",
       "2     I loved working with people as management. Thi...   \n",
       "3     $14 an hour starting pay.\\nDepending on what r...   \n",
       "4     A lot of social trafficking.....minimal guidan...   \n",
       "...                                                 ...   \n",
       "1005    The workload and the pharmacy software is great   \n",
       "1006                      Fast paced, high volume store   \n",
       "1007  -I grew as a person and as a leader while bein...   \n",
       "1008  Benefits\\r\\nPaid time off\\r\\nProtected paid ti...   \n",
       "1009                  They aren't stingy with the hours   \n",
       "\n",
       "                                                   cons        date  \\\n",
       "0                           i have to work but its okay  2021-10-04   \n",
       "1     Understaffing issues negatively affects all pa...  2015-06-02   \n",
       "2     It only takes one senior level management to t...  2021-10-19   \n",
       "3     Generally the whole business strucutre in term...  2021-10-05   \n",
       "4     Less of a total team effectiveness by picking ...  2021-10-21   \n",
       "...                                                 ...         ...   \n",
       "1005  To grab extra shifts, they use archaic ways. T...  2021-09-21   \n",
       "1006                 Rude customers, pay cut, cut hours  2021-09-27   \n",
       "1007  -Leadership higher than store management tends...  2021-06-06   \n",
       "1008  Management sucks\\r\\nDemanding \\r\\nUnder staffe...  2021-09-26   \n",
       "1009               Standing the entire shift was a pain  2021-09-26   \n",
       "\n",
       "                        job title                    B  \n",
       "0              Anonymous Employee    more than 8 years  \n",
       "1         Assistant Store Manager     less than 1 year  \n",
       "2         Field Assistant Manager    more than 5 years  \n",
       "3         Online Personal Shopper     less than 1 year  \n",
       "4                   Guest Greeter     less than 1 year  \n",
       "...                           ...                  ...  \n",
       "1005             Staff Pharmacist     less than 1 year  \n",
       "1006           Anonymous Employee                 None  \n",
       "1007      Assistant Manager/Coach   more than 10 years  \n",
       "1008   Asset Protection Associate                 None  \n",
       "1009                      Cashier                 None  \n",
       "\n",
       "[1010 rows x 8 columns]"
      ]
     },
     "execution_count": 42,
     "metadata": {},
     "output_type": "execute_result"
    }
   ],
   "source": [
    "walmart_df"
   ]
  },
  {
   "cell_type": "code",
   "execution_count": 43,
   "id": "bbee4a42",
   "metadata": {},
   "outputs": [
    {
     "data": {
      "text/plain": [
       "array(['Current Employee', 'Former Employee'], dtype=object)"
      ]
     },
     "execution_count": 43,
     "metadata": {},
     "output_type": "execute_result"
    }
   ],
   "source": [
    "walmart_df.employee_type.unique()"
   ]
  },
  {
   "cell_type": "markdown",
   "id": "00432837",
   "metadata": {},
   "source": [
    "#### Find and Drop missing values from the dataset"
   ]
  },
  {
   "cell_type": "code",
   "execution_count": 33,
   "id": "859dd709",
   "metadata": {},
   "outputs": [
    {
     "data": {
      "text/plain": [
       "rating                0\n",
       "employee_type         0\n",
       "review                4\n",
       "pros                  0\n",
       "cons                  0\n",
       "date                  0\n",
       "job title             0\n",
       "A                     0\n",
       "B                   432\n",
       "type_of_employee      0\n",
       "dtype: int64"
      ]
     },
     "execution_count": 33,
     "metadata": {},
     "output_type": "execute_result"
    }
   ],
   "source": [
    "walmart_df.isna().sum()"
   ]
  },
  {
   "cell_type": "code",
   "execution_count": 44,
   "id": "144b0a03",
   "metadata": {},
   "outputs": [],
   "source": [
    "walmart_df = walmart_df.drop(['B'], axis=1)"
   ]
  },
  {
   "cell_type": "markdown",
   "id": "4f82b66a",
   "metadata": {},
   "source": [
    "#### Converting \"Date\" column type to datetime "
   ]
  },
  {
   "cell_type": "code",
   "execution_count": 45,
   "id": "66fecded",
   "metadata": {},
   "outputs": [],
   "source": [
    "walmart_df['date'] = pd.to_datetime(walmart_df['date'])"
   ]
  },
  {
   "cell_type": "code",
   "execution_count": 46,
   "id": "58a1b42c",
   "metadata": {},
   "outputs": [
    {
     "name": "stdout",
     "output_type": "stream",
     "text": [
      "<class 'pandas.core.frame.DataFrame'>\n",
      "Int64Index: 1010 entries, 0 to 1009\n",
      "Data columns (total 7 columns):\n",
      " #   Column         Non-Null Count  Dtype         \n",
      "---  ------         --------------  -----         \n",
      " 0   rating         1010 non-null   float64       \n",
      " 1   employee_type  1010 non-null   object        \n",
      " 2   review         1006 non-null   object        \n",
      " 3   pros           1010 non-null   object        \n",
      " 4   cons           1010 non-null   object        \n",
      " 5   date           1010 non-null   datetime64[ns]\n",
      " 6   job title      1010 non-null   object        \n",
      "dtypes: datetime64[ns](1), float64(1), object(5)\n",
      "memory usage: 63.1+ KB\n"
     ]
    }
   ],
   "source": [
    "walmart_df.info()"
   ]
  },
  {
   "cell_type": "code",
   "execution_count": 48,
   "id": "bd51ac93",
   "metadata": {},
   "outputs": [
    {
     "data": {
      "text/plain": [
       "rating           0\n",
       "employee_type    0\n",
       "review           4\n",
       "pros             0\n",
       "cons             0\n",
       "date             0\n",
       "job title        0\n",
       "dtype: int64"
      ]
     },
     "execution_count": 48,
     "metadata": {},
     "output_type": "execute_result"
    }
   ],
   "source": [
    "walmart_df.isna().sum()"
   ]
  },
  {
   "cell_type": "code",
   "execution_count": 49,
   "id": "579eef62",
   "metadata": {},
   "outputs": [],
   "source": [
    "walmart_df.dropna(inplace = True) "
   ]
  },
  {
   "cell_type": "code",
   "execution_count": 51,
   "id": "db17e060",
   "metadata": {},
   "outputs": [
    {
     "data": {
      "text/plain": [
       "rating           0\n",
       "employee_type    0\n",
       "review           0\n",
       "pros             0\n",
       "cons             0\n",
       "date             0\n",
       "job title        0\n",
       "dtype: int64"
      ]
     },
     "execution_count": 51,
     "metadata": {},
     "output_type": "execute_result"
    }
   ],
   "source": [
    "walmart_df.isna().sum()"
   ]
  },
  {
   "cell_type": "markdown",
   "id": "0794c9db",
   "metadata": {},
   "source": [
    "### Conducting Exploratory data analysis"
   ]
  },
  {
   "cell_type": "markdown",
   "id": "6df9c713",
   "metadata": {},
   "source": [
    "#### Plotting Distribtuion for Review Length vs Number of review"
   ]
  },
  {
   "cell_type": "code",
   "execution_count": 149,
   "id": "55bd2fae",
   "metadata": {},
   "outputs": [
    {
     "data": {
      "image/png": "[encoded data removed]",
      "text/plain": [
       "<Figure size 720x432 with 1 Axes>"
      ]
     },
     "metadata": {
      "needs_background": "light"
     },
     "output_type": "display_data"
    }
   ],
   "source": [
    "import seaborn as sns\n",
    "plt.figure(figsize=(10,6))\n",
    "doc_lens = [len(d) for d in walmart_df.review]\n",
    "plt.hist(doc_lens, bins = 100)\n",
    "plt.title('Distribution of Review character length')\n",
    "plt.ylabel('Number of Review')\n",
    "plt.xlabel('Review character length')\n",
    "sns.despine();"
   ]
  },
  {
   "cell_type": "markdown",
   "id": "51fb6da4",
   "metadata": {},
   "source": [
    "#### Plotting review rating frequency count "
   ]
  },
  {
   "cell_type": "code",
   "execution_count": 53,
   "id": "38e4a12a",
   "metadata": {},
   "outputs": [
    {
     "data": {
      "text/html": [
       "        <script type=\"text/javascript\">\n",
       "        window.PlotlyConfig = {MathJaxConfig: 'local'};\n",
       "        if (window.MathJax) {MathJax.Hub.Config({SVG: {font: \"STIX-Web\"}});}\n",
       "        if (typeof require !== 'undefined') {\n",
       "        require.undef(\"plotly\");\n",
       "        requirejs.config({\n",
       "            paths: {\n",
       "                'plotly': ['https://cdn.plot.ly/plotly-2.4.2.min']\n",
       "            }\n",
       "        });\n",
       "        require(['plotly'], function(Plotly) {\n",
       "            window._Plotly = Plotly;\n",
       "        });\n",
       "        }\n",
       "        </script>\n",
       "        "
      ]
     },
     "metadata": {},
     "output_type": "display_data"
    }
   ],
   "source": [
    "import matplotlib.pyplot as plt\n",
    "import seaborn as sns\n",
    "color = sns.color_palette()\n",
    "%matplotlib inline\n",
    "import plotly.offline as py\n",
    "py.init_notebook_mode(connected=True)\n",
    "import plotly.graph_objs as go\n",
    "import plotly.tools as tls\n",
    "import plotly.express as px\n",
    "# Product Scores"
   ]
  },
  {
   "cell_type": "code",
   "execution_count": 55,
   "id": "1ab0118f",
   "metadata": {},
   "outputs": [
    {
     "data": {
      "application/vnd.plotly.v1+json": {
       "config": {
        "plotlyServerURL": "https://plot.ly"
       },
       "data": [
        {
         "alignmentgroup": "True",
         "bingroup": "x",
         "hovertemplate": "rating=%{x}<br>count=%{y}<extra></extra>",
         "legendgroup": "",
         "marker": {
          "color": "turquoise",
          "line": {
           "color": "rgb(8,48,107)",
           "width": 1.5
          },
          "pattern": {
           "shape": ""
          }
         },
         "name": "",
         "offsetgroup": "",
         "orientation": "v",
         "showlegend": false,
         "type": "histogram",
         "x": [
          5,
          5,
          3,
          3,
          3,
          3,
          4,
          4,
          5,
          2,
          5,
          5,
          3,
          3,
          3,
          3,
          4,
          4,
          5,
          2,
          3,
          4,
          3,
          4,
          4,
          1,
          4,
          3,
          3,
          2,
          1,
          3,
          5,
          3,
          4,
          5,
          4,
          5,
          5,
          5,
          4,
          2,
          5,
          2,
          4,
          4,
          4,
          4,
          1,
          2,
          5,
          4,
          5,
          4,
          5,
          5,
          3,
          4,
          5,
          4,
          3,
          3,
          4,
          4,
          2,
          2,
          4,
          4,
          4,
          5,
          4,
          5,
          4,
          4,
          4,
          4,
          4,
          3,
          5,
          3,
          4,
          5,
          5,
          1,
          4,
          4,
          5,
          5,
          4,
          4,
          3,
          5,
          5,
          4,
          4,
          5,
          4,
          4,
          5,
          2,
          5,
          5,
          3,
          5,
          4,
          5,
          4,
          4,
          5,
          4,
          4,
          5,
          4,
          4,
          4,
          2,
          4,
          4,
          5,
          4,
          5,
          5,
          4,
          5,
          4,
          4,
          4,
          3,
          4,
          5,
          5,
          5,
          5,
          4,
          2,
          5,
          4,
          5,
          4,
          4,
          5,
          5,
          4,
          5,
          4,
          4,
          4,
          4,
          4,
          4,
          4,
          1,
          5,
          4,
          1,
          4,
          4,
          4,
          4,
          5,
          5,
          1,
          5,
          4,
          4,
          5,
          5,
          4,
          5,
          4,
          5,
          2,
          4,
          2,
          5,
          5,
          5,
          4,
          4,
          3,
          2,
          4,
          5,
          4,
          4,
          4,
          4,
          5,
          5,
          4,
          5,
          5,
          4,
          2,
          5,
          5,
          4,
          1,
          4,
          5,
          4,
          4,
          4,
          5,
          4,
          5,
          5,
          5,
          1,
          5,
          2,
          4,
          5,
          5,
          2,
          5,
          4,
          2,
          3,
          5,
          4,
          5,
          3,
          1,
          5,
          4,
          4,
          4,
          4,
          2,
          4,
          4,
          4,
          4,
          5,
          5,
          5,
          4,
          2,
          4,
          3,
          5,
          2,
          2,
          2,
          5,
          4,
          5,
          5,
          4,
          5,
          4,
          3,
          2,
          5,
          4,
          5,
          5,
          4,
          4,
          2,
          5,
          5,
          4,
          5,
          3,
          5,
          4,
          4,
          4,
          5,
          3,
          2,
          4,
          4,
          5,
          5,
          4,
          4,
          5,
          5,
          2,
          4,
          4,
          3,
          5,
          5,
          5,
          2,
          4,
          5,
          3,
          4,
          2,
          5,
          5,
          4,
          5,
          5,
          4,
          4,
          2,
          4,
          5,
          4,
          5,
          5,
          1,
          4,
          4,
          5,
          4,
          4,
          5,
          5,
          5,
          1,
          4,
          5,
          4,
          4,
          5,
          3,
          5,
          5,
          4,
          5,
          3,
          5,
          5,
          4,
          4,
          4,
          4,
          4,
          5,
          1,
          2,
          4,
          4,
          5,
          4,
          5,
          3,
          5,
          4,
          4,
          5,
          4,
          4,
          4,
          4,
          5,
          5,
          4,
          4,
          4,
          4,
          4,
          4,
          3,
          1,
          5,
          4,
          3,
          5,
          4,
          4,
          5,
          4,
          3,
          4,
          4,
          5,
          4,
          4,
          5,
          4,
          2,
          3,
          5,
          5,
          5,
          5,
          4,
          3,
          3,
          4,
          1,
          5,
          4,
          3,
          3,
          2,
          5,
          4,
          4,
          4,
          4,
          4,
          4,
          2,
          4,
          5,
          4,
          5,
          3,
          3,
          3,
          4,
          4,
          1,
          5,
          5,
          5,
          5,
          5,
          4,
          2,
          1,
          5,
          5,
          3,
          5,
          5,
          5,
          3,
          1,
          5,
          2,
          5,
          4,
          3,
          1,
          2,
          4,
          5,
          4,
          3,
          4,
          5,
          3,
          3,
          4,
          2,
          2,
          4,
          4,
          5,
          4,
          3,
          3,
          4,
          4,
          5,
          4,
          5,
          5,
          4,
          4,
          5,
          4,
          3,
          3,
          4,
          5,
          4,
          1,
          4,
          3,
          4,
          5,
          4,
          5,
          1,
          3,
          4,
          2,
          3,
          4,
          4,
          4,
          3,
          5,
          4,
          5,
          4,
          4,
          4,
          3,
          3,
          5,
          5,
          5,
          4,
          4,
          3,
          3,
          5,
          5,
          4,
          4,
          4,
          1,
          4,
          5,
          4,
          4,
          3,
          2,
          4,
          5,
          5,
          1,
          3,
          4,
          3,
          1,
          4,
          4,
          2,
          5,
          4,
          5,
          5,
          5,
          3,
          5,
          5,
          4,
          4,
          4,
          4,
          3,
          4,
          4,
          4,
          5,
          4,
          4,
          4,
          4,
          4,
          3,
          4,
          4,
          3,
          3,
          4,
          4,
          5,
          4,
          3,
          3,
          4,
          5,
          4,
          4,
          2,
          3,
          5,
          2,
          3,
          4,
          2,
          4,
          2,
          3,
          4,
          3,
          3,
          4,
          4,
          4,
          2,
          3,
          3,
          2,
          2,
          2,
          4,
          5,
          5,
          5,
          5,
          5,
          4,
          3,
          4,
          4,
          3,
          2,
          5,
          5,
          4,
          4,
          5,
          4,
          5,
          5,
          4,
          4,
          4,
          5,
          2,
          3,
          2,
          3,
          2,
          2,
          5,
          4,
          5,
          4,
          5,
          4,
          5,
          3,
          5,
          4,
          5,
          5,
          4,
          4,
          5,
          2,
          2,
          1,
          2,
          3,
          4,
          4,
          5,
          5,
          4,
          3,
          1,
          4,
          4,
          4,
          5,
          3,
          3,
          4,
          4,
          3,
          2,
          5,
          5,
          5,
          2,
          3,
          3,
          1,
          4,
          1,
          2,
          5,
          4,
          5,
          4,
          2,
          5,
          1,
          5,
          5,
          4,
          5,
          3,
          3,
          1,
          3,
          4,
          3,
          2,
          4,
          4,
          5,
          5,
          5,
          4,
          4,
          3,
          3,
          4,
          3,
          3,
          5,
          5,
          5,
          5,
          4,
          3,
          3,
          3,
          2,
          5,
          5,
          4,
          4,
          5,
          5,
          5,
          4,
          3,
          2,
          1,
          3,
          5,
          5,
          4,
          4,
          4,
          3,
          4,
          3,
          4,
          1,
          2,
          2,
          4,
          5,
          5,
          4,
          5,
          4,
          2,
          4,
          2,
          3,
          3,
          5,
          5,
          3,
          5,
          5,
          4,
          4,
          4,
          5,
          3,
          3,
          5,
          4,
          3,
          4,
          4,
          5,
          5,
          3,
          3,
          5,
          5,
          5,
          5,
          4,
          5,
          4,
          2,
          2,
          2,
          1,
          4,
          1,
          3,
          3,
          3,
          5,
          1,
          5,
          4,
          3,
          4,
          5,
          5,
          3,
          5,
          3,
          3,
          3,
          3,
          5,
          3,
          5,
          5,
          4,
          4,
          2,
          5,
          4,
          5,
          3,
          4,
          3,
          1,
          1,
          2,
          5,
          5,
          5,
          5,
          5,
          3,
          5,
          3,
          3,
          4,
          5,
          3,
          3,
          5,
          5,
          5,
          3,
          2,
          3,
          3,
          2,
          2,
          2,
          2,
          3,
          1,
          3,
          5,
          4,
          4,
          1,
          4,
          5,
          3,
          3,
          4,
          5,
          5,
          4,
          5,
          1,
          4,
          4,
          4,
          2,
          4,
          1,
          5,
          3,
          4,
          4,
          3,
          4,
          5,
          5,
          3,
          4,
          3,
          4,
          4,
          4,
          5,
          4,
          5,
          4,
          3,
          3,
          4,
          1,
          4,
          3,
          4,
          4,
          5,
          1,
          4,
          5,
          4,
          4,
          5,
          5,
          3,
          3,
          4,
          4,
          3,
          1,
          3,
          3,
          2,
          5,
          5,
          3,
          5,
          3,
          1,
          1,
          3,
          3,
          2,
          3,
          4,
          5,
          5,
          5,
          4,
          3,
          4,
          4,
          5,
          5,
          5,
          3,
          3,
          2,
          1,
          4,
          5,
          5,
          5,
          4,
          5,
          5,
          5,
          4,
          5,
          4,
          1,
          5,
          4,
          4,
          5,
          1,
          5,
          3,
          2,
          2,
          5,
          3,
          3,
          5,
          4,
          5,
          4,
          3,
          5,
          4,
          4,
          2,
          5,
          1,
          4,
          2,
          4,
          5,
          4,
          3,
          4,
          4,
          4,
          5,
          4,
          5,
          4,
          4,
          3,
          1,
          3,
          2,
          3,
          2,
          2,
          3,
          1,
          4,
          1,
          4,
          4,
          5,
          5,
          5,
          5,
          4,
          2,
          2,
          4,
          4,
          2,
          4,
          2,
          4,
          4,
          5,
          4,
          1,
          5,
          4,
          4,
          3,
          4,
          5,
          5,
          3,
          3,
          1,
          5,
          3,
          5,
          4
         ],
         "xaxis": "x",
         "yaxis": "y"
        }
       ],
       "layout": {
        "barmode": "relative",
        "legend": {
         "tracegroupgap": 0
        },
        "margin": {
         "t": 60
        },
        "template": {
         "data": {
          "bar": [
           {
            "error_x": {
             "color": "#2a3f5f"
            },
            "error_y": {
             "color": "#2a3f5f"
            },
            "marker": {
             "line": {
              "color": "#E5ECF6",
              "width": 0.5
             },
             "pattern": {
              "fillmode": "overlay",
              "size": 10,
              "solidity": 0.2
             }
            },
            "type": "bar"
           }
          ],
          "barpolar": [
           {
            "marker": {
             "line": {
              "color": "#E5ECF6",
              "width": 0.5
             },
             "pattern": {
              "fillmode": "overlay",
              "size": 10,
              "solidity": 0.2
             }
            },
            "type": "barpolar"
           }
          ],
          "carpet": [
           {
            "aaxis": {
             "endlinecolor": "#2a3f5f",
             "gridcolor": "white",
             "linecolor": "white",
             "minorgridcolor": "white",
             "startlinecolor": "#2a3f5f"
            },
            "baxis": {
             "endlinecolor": "#2a3f5f",
             "gridcolor": "white",
             "linecolor": "white",
             "minorgridcolor": "white",
             "startlinecolor": "#2a3f5f"
            },
            "type": "carpet"
           }
          ],
          "choropleth": [
           {
            "colorbar": {
             "outlinewidth": 0,
             "ticks": ""
            },
            "type": "choropleth"
           }
          ],
          "contour": [
           {
            "colorbar": {
             "outlinewidth": 0,
             "ticks": ""
            },
            "colorscale": [
             [
              0,
              "#0d0887"
             ],
             [
              0.1111111111111111,
              "#46039f"
             ],
             [
              0.2222222222222222,
              "#7201a8"
             ],
             [
              0.3333333333333333,
              "#9c179e"
             ],
             [
              0.4444444444444444,
              "#bd3786"
             ],
             [
              0.5555555555555556,
              "#d8576b"
             ],
             [
              0.6666666666666666,
              "#ed7953"
             ],
             [
              0.7777777777777778,
              "#fb9f3a"
             ],
             [
              0.8888888888888888,
              "#fdca26"
             ],
             [
              1,
              "#f0f921"
             ]
            ],
            "type": "contour"
           }
          ],
          "contourcarpet": [
           {
            "colorbar": {
             "outlinewidth": 0,
             "ticks": ""
            },
            "type": "contourcarpet"
           }
          ],
          "heatmap": [
           {
            "colorbar": {
             "outlinewidth": 0,
             "ticks": ""
            },
            "colorscale": [
             [
              0,
              "#0d0887"
             ],
             [
              0.1111111111111111,
              "#46039f"
             ],
             [
              0.2222222222222222,
              "#7201a8"
             ],
             [
              0.3333333333333333,
              "#9c179e"
             ],
             [
              0.4444444444444444,
              "#bd3786"
             ],
             [
              0.5555555555555556,
              "#d8576b"
             ],
             [
              0.6666666666666666,
              "#ed7953"
             ],
             [
              0.7777777777777778,
              "#fb9f3a"
             ],
             [
              0.8888888888888888,
              "#fdca26"
             ],
             [
              1,
              "#f0f921"
             ]
            ],
            "type": "heatmap"
           }
          ],
          "heatmapgl": [
           {
            "colorbar": {
             "outlinewidth": 0,
             "ticks": ""
            },
            "colorscale": [
             [
              0,
              "#0d0887"
             ],
             [
              0.1111111111111111,
              "#46039f"
             ],
             [
              0.2222222222222222,
              "#7201a8"
             ],
             [
              0.3333333333333333,
              "#9c179e"
             ],
             [
              0.4444444444444444,
              "#bd3786"
             ],
             [
              0.5555555555555556,
              "#d8576b"
             ],
             [
              0.6666666666666666,
              "#ed7953"
             ],
             [
              0.7777777777777778,
              "#fb9f3a"
             ],
             [
              0.8888888888888888,
              "#fdca26"
             ],
             [
              1,
              "#f0f921"
             ]
            ],
            "type": "heatmapgl"
           }
          ],
          "histogram": [
           {
            "marker": {
             "pattern": {
              "fillmode": "overlay",
              "size": 10,
              "solidity": 0.2
             }
            },
            "type": "histogram"
           }
          ],
          "histogram2d": [
           {
            "colorbar": {
             "outlinewidth": 0,
             "ticks": ""
            },
            "colorscale": [
             [
              0,
              "#0d0887"
             ],
             [
              0.1111111111111111,
              "#46039f"
             ],
             [
              0.2222222222222222,
              "#7201a8"
             ],
             [
              0.3333333333333333,
              "#9c179e"
             ],
             [
              0.4444444444444444,
              "#bd3786"
             ],
             [
              0.5555555555555556,
              "#d8576b"
             ],
             [
              0.6666666666666666,
              "#ed7953"
             ],
             [
              0.7777777777777778,
              "#fb9f3a"
             ],
             [
              0.8888888888888888,
              "#fdca26"
             ],
             [
              1,
              "#f0f921"
             ]
            ],
            "type": "histogram2d"
           }
          ],
          "histogram2dcontour": [
           {
            "colorbar": {
             "outlinewidth": 0,
             "ticks": ""
            },
            "colorscale": [
             [
              0,
              "#0d0887"
             ],
             [
              0.1111111111111111,
              "#46039f"
             ],
             [
              0.2222222222222222,
              "#7201a8"
             ],
             [
              0.3333333333333333,
              "#9c179e"
             ],
             [
              0.4444444444444444,
              "#bd3786"
             ],
             [
              0.5555555555555556,
              "#d8576b"
             ],
             [
              0.6666666666666666,
              "#ed7953"
             ],
             [
              0.7777777777777778,
              "#fb9f3a"
             ],
             [
              0.8888888888888888,
              "#fdca26"
             ],
             [
              1,
              "#f0f921"
             ]
            ],
            "type": "histogram2dcontour"
           }
          ],
          "mesh3d": [
           {
            "colorbar": {
             "outlinewidth": 0,
             "ticks": ""
            },
            "type": "mesh3d"
           }
          ],
          "parcoords": [
           {
            "line": {
             "colorbar": {
              "outlinewidth": 0,
              "ticks": ""
             }
            },
            "type": "parcoords"
           }
          ],
          "pie": [
           {
            "automargin": true,
            "type": "pie"
           }
          ],
          "scatter": [
           {
            "marker": {
             "colorbar": {
              "outlinewidth": 0,
              "ticks": ""
             }
            },
            "type": "scatter"
           }
          ],
          "scatter3d": [
           {
            "line": {
             "colorbar": {
              "outlinewidth": 0,
              "ticks": ""
             }
            },
            "marker": {
             "colorbar": {
              "outlinewidth": 0,
              "ticks": ""
             }
            },
            "type": "scatter3d"
           }
          ],
          "scattercarpet": [
           {
            "marker": {
             "colorbar": {
              "outlinewidth": 0,
              "ticks": ""
             }
            },
            "type": "scattercarpet"
           }
          ],
          "scattergeo": [
           {
            "marker": {
             "colorbar": {
              "outlinewidth": 0,
              "ticks": ""
             }
            },
            "type": "scattergeo"
           }
          ],
          "scattergl": [
           {
            "marker": {
             "colorbar": {
              "outlinewidth": 0,
              "ticks": ""
             }
            },
            "type": "scattergl"
           }
          ],
          "scattermapbox": [
           {
            "marker": {
             "colorbar": {
              "outlinewidth": 0,
              "ticks": ""
             }
            },
            "type": "scattermapbox"
           }
          ],
          "scatterpolar": [
           {
            "marker": {
             "colorbar": {
              "outlinewidth": 0,
              "ticks": ""
             }
            },
            "type": "scatterpolar"
           }
          ],
          "scatterpolargl": [
           {
            "marker": {
             "colorbar": {
              "outlinewidth": 0,
              "ticks": ""
             }
            },
            "type": "scatterpolargl"
           }
          ],
          "scatterternary": [
           {
            "marker": {
             "colorbar": {
              "outlinewidth": 0,
              "ticks": ""
             }
            },
            "type": "scatterternary"
           }
          ],
          "surface": [
           {
            "colorbar": {
             "outlinewidth": 0,
             "ticks": ""
            },
            "colorscale": [
             [
              0,
              "#0d0887"
             ],
             [
              0.1111111111111111,
              "#46039f"
             ],
             [
              0.2222222222222222,
              "#7201a8"
             ],
             [
              0.3333333333333333,
              "#9c179e"
             ],
             [
              0.4444444444444444,
              "#bd3786"
             ],
             [
              0.5555555555555556,
              "#d8576b"
             ],
             [
              0.6666666666666666,
              "#ed7953"
             ],
             [
              0.7777777777777778,
              "#fb9f3a"
             ],
             [
              0.8888888888888888,
              "#fdca26"
             ],
             [
              1,
              "#f0f921"
             ]
            ],
            "type": "surface"
           }
          ],
          "table": [
           {
            "cells": {
             "fill": {
              "color": "#EBF0F8"
             },
             "line": {
              "color": "white"
             }
            },
            "header": {
             "fill": {
              "color": "#C8D4E3"
             },
             "line": {
              "color": "white"
             }
            },
            "type": "table"
           }
          ]
         },
         "layout": {
          "annotationdefaults": {
           "arrowcolor": "#2a3f5f",
           "arrowhead": 0,
           "arrowwidth": 1
          },
          "autotypenumbers": "strict",
          "coloraxis": {
           "colorbar": {
            "outlinewidth": 0,
            "ticks": ""
           }
          },
          "colorscale": {
           "diverging": [
            [
             0,
             "#8e0152"
            ],
            [
             0.1,
             "#c51b7d"
            ],
            [
             0.2,
             "#de77ae"
            ],
            [
             0.3,
             "#f1b6da"
            ],
            [
             0.4,
             "#fde0ef"
            ],
            [
             0.5,
             "#f7f7f7"
            ],
            [
             0.6,
             "#e6f5d0"
            ],
            [
             0.7,
             "#b8e186"
            ],
            [
             0.8,
             "#7fbc41"
            ],
            [
             0.9,
             "#4d9221"
            ],
            [
             1,
             "#276419"
            ]
           ],
           "sequential": [
            [
             0,
             "#0d0887"
            ],
            [
             0.1111111111111111,
             "#46039f"
            ],
            [
             0.2222222222222222,
             "#7201a8"
            ],
            [
             0.3333333333333333,
             "#9c179e"
            ],
            [
             0.4444444444444444,
             "#bd3786"
            ],
            [
             0.5555555555555556,
             "#d8576b"
            ],
            [
             0.6666666666666666,
             "#ed7953"
            ],
            [
             0.7777777777777778,
             "#fb9f3a"
            ],
            [
             0.8888888888888888,
             "#fdca26"
            ],
            [
             1,
             "#f0f921"
            ]
           ],
           "sequentialminus": [
            [
             0,
             "#0d0887"
            ],
            [
             0.1111111111111111,
             "#46039f"
            ],
            [
             0.2222222222222222,
             "#7201a8"
            ],
            [
             0.3333333333333333,
             "#9c179e"
            ],
            [
             0.4444444444444444,
             "#bd3786"
            ],
            [
             0.5555555555555556,
             "#d8576b"
            ],
            [
             0.6666666666666666,
             "#ed7953"
            ],
            [
             0.7777777777777778,
             "#fb9f3a"
            ],
            [
             0.8888888888888888,
             "#fdca26"
            ],
            [
             1,
             "#f0f921"
            ]
           ]
          },
          "colorway": [
           "#636efa",
           "#EF553B",
           "#00cc96",
           "#ab63fa",
           "#FFA15A",
           "#19d3f3",
           "#FF6692",
           "#B6E880",
           "#FF97FF",
           "#FECB52"
          ],
          "font": {
           "color": "#2a3f5f"
          },
          "geo": {
           "bgcolor": "white",
           "lakecolor": "white",
           "landcolor": "#E5ECF6",
           "showlakes": true,
           "showland": true,
           "subunitcolor": "white"
          },
          "hoverlabel": {
           "align": "left"
          },
          "hovermode": "closest",
          "mapbox": {
           "style": "light"
          },
          "paper_bgcolor": "white",
          "plot_bgcolor": "#E5ECF6",
          "polar": {
           "angularaxis": {
            "gridcolor": "white",
            "linecolor": "white",
            "ticks": ""
           },
           "bgcolor": "#E5ECF6",
           "radialaxis": {
            "gridcolor": "white",
            "linecolor": "white",
            "ticks": ""
           }
          },
          "scene": {
           "xaxis": {
            "backgroundcolor": "#E5ECF6",
            "gridcolor": "white",
            "gridwidth": 2,
            "linecolor": "white",
            "showbackground": true,
            "ticks": "",
            "zerolinecolor": "white"
           },
           "yaxis": {
            "backgroundcolor": "#E5ECF6",
            "gridcolor": "white",
            "gridwidth": 2,
            "linecolor": "white",
            "showbackground": true,
            "ticks": "",
            "zerolinecolor": "white"
           },
           "zaxis": {
            "backgroundcolor": "#E5ECF6",
            "gridcolor": "white",
            "gridwidth": 2,
            "linecolor": "white",
            "showbackground": true,
            "ticks": "",
            "zerolinecolor": "white"
           }
          },
          "shapedefaults": {
           "line": {
            "color": "#2a3f5f"
           }
          },
          "ternary": {
           "aaxis": {
            "gridcolor": "white",
            "linecolor": "white",
            "ticks": ""
           },
           "baxis": {
            "gridcolor": "white",
            "linecolor": "white",
            "ticks": ""
           },
           "bgcolor": "#E5ECF6",
           "caxis": {
            "gridcolor": "white",
            "linecolor": "white",
            "ticks": ""
           }
          },
          "title": {
           "x": 0.05
          },
          "xaxis": {
           "automargin": true,
           "gridcolor": "white",
           "linecolor": "white",
           "ticks": "",
           "title": {
            "standoff": 15
           },
           "zerolinecolor": "white",
           "zerolinewidth": 2
          },
          "yaxis": {
           "automargin": true,
           "gridcolor": "white",
           "linecolor": "white",
           "ticks": "",
           "title": {
            "standoff": 15
           },
           "zerolinecolor": "white",
           "zerolinewidth": 2
          }
         }
        },
        "title": {
         "text": "Rating"
        },
        "xaxis": {
         "anchor": "y",
         "domain": [
          0,
          1
         ],
         "title": {
          "text": "rating"
         }
        },
        "yaxis": {
         "anchor": "x",
         "domain": [
          0,
          1
         ],
         "title": {
          "text": "count"
         }
        }
       }
      },
      "text/html": [
       "<div>                            <div id=\"8d4e461f-f99f-442b-ad97-4b7e440d84bc\" class=\"plotly-graph-div\" style=\"height:525px; width:100%;\"></div>            <script type=\"text/javascript\">                require([\"plotly\"], function(Plotly) {                    window.PLOTLYENV=window.PLOTLYENV || {};                                    if (document.getElementById(\"8d4e461f-f99f-442b-ad97-4b7e440d84bc\")) {                    Plotly.newPlot(                        \"8d4e461f-f99f-442b-ad97-4b7e440d84bc\",                        [{\"alignmentgroup\":\"True\",\"bingroup\":\"x\",\"hovertemplate\":\"rating=%{x}<br>count=%{y}<extra></extra>\",\"legendgroup\":\"\",\"marker\":{\"color\":\"turquoise\",\"line\":{\"color\":\"rgb(8,48,107)\",\"width\":1.5},\"pattern\":{\"shape\":\"\"}},\"name\":\"\",\"offsetgroup\":\"\",\"orientation\":\"v\",\"showlegend\":false,\"type\":\"histogram\",\"x\":[5.0,5.0,3.0,3.0,3.0,3.0,4.0,4.0,5.0,2.0,5.0,5.0,3.0,3.0,3.0,3.0,4.0,4.0,5.0,2.0,3.0,4.0,3.0,4.0,4.0,1.0,4.0,3.0,3.0,2.0,1.0,3.0,5.0,3.0,4.0,5.0,4.0,5.0,5.0,5.0,4.0,2.0,5.0,2.0,4.0,4.0,4.0,4.0,1.0,2.0,5.0,4.0,5.0,4.0,5.0,5.0,3.0,4.0,5.0,4.0,3.0,3.0,4.0,4.0,2.0,2.0,4.0,4.0,4.0,5.0,4.0,5.0,4.0,4.0,4.0,4.0,4.0,3.0,5.0,3.0,4.0,5.0,5.0,1.0,4.0,4.0,5.0,5.0,4.0,4.0,3.0,5.0,5.0,4.0,4.0,5.0,4.0,4.0,5.0,2.0,5.0,5.0,3.0,5.0,4.0,5.0,4.0,4.0,5.0,4.0,4.0,5.0,4.0,4.0,4.0,2.0,4.0,4.0,5.0,4.0,5.0,5.0,4.0,5.0,4.0,4.0,4.0,3.0,4.0,5.0,5.0,5.0,5.0,4.0,2.0,5.0,4.0,5.0,4.0,4.0,5.0,5.0,4.0,5.0,4.0,4.0,4.0,4.0,4.0,4.0,4.0,1.0,5.0,4.0,1.0,4.0,4.0,4.0,4.0,5.0,5.0,1.0,5.0,4.0,4.0,5.0,5.0,4.0,5.0,4.0,5.0,2.0,4.0,2.0,5.0,5.0,5.0,4.0,4.0,3.0,2.0,4.0,5.0,4.0,4.0,4.0,4.0,5.0,5.0,4.0,5.0,5.0,4.0,2.0,5.0,5.0,4.0,1.0,4.0,5.0,4.0,4.0,4.0,5.0,4.0,5.0,5.0,5.0,1.0,5.0,2.0,4.0,5.0,5.0,2.0,5.0,4.0,2.0,3.0,5.0,4.0,5.0,3.0,1.0,5.0,4.0,4.0,4.0,4.0,2.0,4.0,4.0,4.0,4.0,5.0,5.0,5.0,4.0,2.0,4.0,3.0,5.0,2.0,2.0,2.0,5.0,4.0,5.0,5.0,4.0,5.0,4.0,3.0,2.0,5.0,4.0,5.0,5.0,4.0,4.0,2.0,5.0,5.0,4.0,5.0,3.0,5.0,4.0,4.0,4.0,5.0,3.0,2.0,4.0,4.0,5.0,5.0,4.0,4.0,5.0,5.0,2.0,4.0,4.0,3.0,5.0,5.0,5.0,2.0,4.0,5.0,3.0,4.0,2.0,5.0,5.0,4.0,5.0,5.0,4.0,4.0,2.0,4.0,5.0,4.0,5.0,5.0,1.0,4.0,4.0,5.0,4.0,4.0,5.0,5.0,5.0,1.0,4.0,5.0,4.0,4.0,5.0,3.0,5.0,5.0,4.0,5.0,3.0,5.0,5.0,4.0,4.0,4.0,4.0,4.0,5.0,1.0,2.0,4.0,4.0,5.0,4.0,5.0,3.0,5.0,4.0,4.0,5.0,4.0,4.0,4.0,4.0,5.0,5.0,4.0,4.0,4.0,4.0,4.0,4.0,3.0,1.0,5.0,4.0,3.0,5.0,4.0,4.0,5.0,4.0,3.0,4.0,4.0,5.0,4.0,4.0,5.0,4.0,2.0,3.0,5.0,5.0,5.0,5.0,4.0,3.0,3.0,4.0,1.0,5.0,4.0,3.0,3.0,2.0,5.0,4.0,4.0,4.0,4.0,4.0,4.0,2.0,4.0,5.0,4.0,5.0,3.0,3.0,3.0,4.0,4.0,1.0,5.0,5.0,5.0,5.0,5.0,4.0,2.0,1.0,5.0,5.0,3.0,5.0,5.0,5.0,3.0,1.0,5.0,2.0,5.0,4.0,3.0,1.0,2.0,4.0,5.0,4.0,3.0,4.0,5.0,3.0,3.0,4.0,2.0,2.0,4.0,4.0,5.0,4.0,3.0,3.0,4.0,4.0,5.0,4.0,5.0,5.0,4.0,4.0,5.0,4.0,3.0,3.0,4.0,5.0,4.0,1.0,4.0,3.0,4.0,5.0,4.0,5.0,1.0,3.0,4.0,2.0,3.0,4.0,4.0,4.0,3.0,5.0,4.0,5.0,4.0,4.0,4.0,3.0,3.0,5.0,5.0,5.0,4.0,4.0,3.0,3.0,5.0,5.0,4.0,4.0,4.0,1.0,4.0,5.0,4.0,4.0,3.0,2.0,4.0,5.0,5.0,1.0,3.0,4.0,3.0,1.0,4.0,4.0,2.0,5.0,4.0,5.0,5.0,5.0,3.0,5.0,5.0,4.0,4.0,4.0,4.0,3.0,4.0,4.0,4.0,5.0,4.0,4.0,4.0,4.0,4.0,3.0,4.0,4.0,3.0,3.0,4.0,4.0,5.0,4.0,3.0,3.0,4.0,5.0,4.0,4.0,2.0,3.0,5.0,2.0,3.0,4.0,2.0,4.0,2.0,3.0,4.0,3.0,3.0,4.0,4.0,4.0,2.0,3.0,3.0,2.0,2.0,2.0,4.0,5.0,5.0,5.0,5.0,5.0,4.0,3.0,4.0,4.0,3.0,2.0,5.0,5.0,4.0,4.0,5.0,4.0,5.0,5.0,4.0,4.0,4.0,5.0,2.0,3.0,2.0,3.0,2.0,2.0,5.0,4.0,5.0,4.0,5.0,4.0,5.0,3.0,5.0,4.0,5.0,5.0,4.0,4.0,5.0,2.0,2.0,1.0,2.0,3.0,4.0,4.0,5.0,5.0,4.0,3.0,1.0,4.0,4.0,4.0,5.0,3.0,3.0,4.0,4.0,3.0,2.0,5.0,5.0,5.0,2.0,3.0,3.0,1.0,4.0,1.0,2.0,5.0,4.0,5.0,4.0,2.0,5.0,1.0,5.0,5.0,4.0,5.0,3.0,3.0,1.0,3.0,4.0,3.0,2.0,4.0,4.0,5.0,5.0,5.0,4.0,4.0,3.0,3.0,4.0,3.0,3.0,5.0,5.0,5.0,5.0,4.0,3.0,3.0,3.0,2.0,5.0,5.0,4.0,4.0,5.0,5.0,5.0,4.0,3.0,2.0,1.0,3.0,5.0,5.0,4.0,4.0,4.0,3.0,4.0,3.0,4.0,1.0,2.0,2.0,4.0,5.0,5.0,4.0,5.0,4.0,2.0,4.0,2.0,3.0,3.0,5.0,5.0,3.0,5.0,5.0,4.0,4.0,4.0,5.0,3.0,3.0,5.0,4.0,3.0,4.0,4.0,5.0,5.0,3.0,3.0,5.0,5.0,5.0,5.0,4.0,5.0,4.0,2.0,2.0,2.0,1.0,4.0,1.0,3.0,3.0,3.0,5.0,1.0,5.0,4.0,3.0,4.0,5.0,5.0,3.0,5.0,3.0,3.0,3.0,3.0,5.0,3.0,5.0,5.0,4.0,4.0,2.0,5.0,4.0,5.0,3.0,4.0,3.0,1.0,1.0,2.0,5.0,5.0,5.0,5.0,5.0,3.0,5.0,3.0,3.0,4.0,5.0,3.0,3.0,5.0,5.0,5.0,3.0,2.0,3.0,3.0,2.0,2.0,2.0,2.0,3.0,1.0,3.0,5.0,4.0,4.0,1.0,4.0,5.0,3.0,3.0,4.0,5.0,5.0,4.0,5.0,1.0,4.0,4.0,4.0,2.0,4.0,1.0,5.0,3.0,4.0,4.0,3.0,4.0,5.0,5.0,3.0,4.0,3.0,4.0,4.0,4.0,5.0,4.0,5.0,4.0,3.0,3.0,4.0,1.0,4.0,3.0,4.0,4.0,5.0,1.0,4.0,5.0,4.0,4.0,5.0,5.0,3.0,3.0,4.0,4.0,3.0,1.0,3.0,3.0,2.0,5.0,5.0,3.0,5.0,3.0,1.0,1.0,3.0,3.0,2.0,3.0,4.0,5.0,5.0,5.0,4.0,3.0,4.0,4.0,5.0,5.0,5.0,3.0,3.0,2.0,1.0,4.0,5.0,5.0,5.0,4.0,5.0,5.0,5.0,4.0,5.0,4.0,1.0,5.0,4.0,4.0,5.0,1.0,5.0,3.0,2.0,2.0,5.0,3.0,3.0,5.0,4.0,5.0,4.0,3.0,5.0,4.0,4.0,2.0,5.0,1.0,4.0,2.0,4.0,5.0,4.0,3.0,4.0,4.0,4.0,5.0,4.0,5.0,4.0,4.0,3.0,1.0,3.0,2.0,3.0,2.0,2.0,3.0,1.0,4.0,1.0,4.0,4.0,5.0,5.0,5.0,5.0,4.0,2.0,2.0,4.0,4.0,2.0,4.0,2.0,4.0,4.0,5.0,4.0,1.0,5.0,4.0,4.0,3.0,4.0,5.0,5.0,3.0,3.0,1.0,5.0,3.0,5.0,4.0],\"xaxis\":\"x\",\"yaxis\":\"y\"}],                        {\"barmode\":\"relative\",\"legend\":{\"tracegroupgap\":0},\"margin\":{\"t\":60},\"template\":{\"data\":{\"bar\":[{\"error_x\":{\"color\":\"#2a3f5f\"},\"error_y\":{\"color\":\"#2a3f5f\"},\"marker\":{\"line\":{\"color\":\"#E5ECF6\",\"width\":0.5},\"pattern\":{\"fillmode\":\"overlay\",\"size\":10,\"solidity\":0.2}},\"type\":\"bar\"}],\"barpolar\":[{\"marker\":{\"line\":{\"color\":\"#E5ECF6\",\"width\":0.5},\"pattern\":{\"fillmode\":\"overlay\",\"size\":10,\"solidity\":0.2}},\"type\":\"barpolar\"}],\"carpet\":[{\"aaxis\":{\"endlinecolor\":\"#2a3f5f\",\"gridcolor\":\"white\",\"linecolor\":\"white\",\"minorgridcolor\":\"white\",\"startlinecolor\":\"#2a3f5f\"},\"baxis\":{\"endlinecolor\":\"#2a3f5f\",\"gridcolor\":\"white\",\"linecolor\":\"white\",\"minorgridcolor\":\"white\",\"startlinecolor\":\"#2a3f5f\"},\"type\":\"carpet\"}],\"choropleth\":[{\"colorbar\":{\"outlinewidth\":0,\"ticks\":\"\"},\"type\":\"choropleth\"}],\"contour\":[{\"colorbar\":{\"outlinewidth\":0,\"ticks\":\"\"},\"colorscale\":[[0.0,\"#0d0887\"],[0.1111111111111111,\"#46039f\"],[0.2222222222222222,\"#7201a8\"],[0.3333333333333333,\"#9c179e\"],[0.4444444444444444,\"#bd3786\"],[0.5555555555555556,\"#d8576b\"],[0.6666666666666666,\"#ed7953\"],[0.7777777777777778,\"#fb9f3a\"],[0.8888888888888888,\"#fdca26\"],[1.0,\"#f0f921\"]],\"type\":\"contour\"}],\"contourcarpet\":[{\"colorbar\":{\"outlinewidth\":0,\"ticks\":\"\"},\"type\":\"contourcarpet\"}],\"heatmap\":[{\"colorbar\":{\"outlinewidth\":0,\"ticks\":\"\"},\"colorscale\":[[0.0,\"#0d0887\"],[0.1111111111111111,\"#46039f\"],[0.2222222222222222,\"#7201a8\"],[0.3333333333333333,\"#9c179e\"],[0.4444444444444444,\"#bd3786\"],[0.5555555555555556,\"#d8576b\"],[0.6666666666666666,\"#ed7953\"],[0.7777777777777778,\"#fb9f3a\"],[0.8888888888888888,\"#fdca26\"],[1.0,\"#f0f921\"]],\"type\":\"heatmap\"}],\"heatmapgl\":[{\"colorbar\":{\"outlinewidth\":0,\"ticks\":\"\"},\"colorscale\":[[0.0,\"#0d0887\"],[0.1111111111111111,\"#46039f\"],[0.2222222222222222,\"#7201a8\"],[0.3333333333333333,\"#9c179e\"],[0.4444444444444444,\"#bd3786\"],[0.5555555555555556,\"#d8576b\"],[0.6666666666666666,\"#ed7953\"],[0.7777777777777778,\"#fb9f3a\"],[0.8888888888888888,\"#fdca26\"],[1.0,\"#f0f921\"]],\"type\":\"heatmapgl\"}],\"histogram\":[{\"marker\":{\"pattern\":{\"fillmode\":\"overlay\",\"size\":10,\"solidity\":0.2}},\"type\":\"histogram\"}],\"histogram2d\":[{\"colorbar\":{\"outlinewidth\":0,\"ticks\":\"\"},\"colorscale\":[[0.0,\"#0d0887\"],[0.1111111111111111,\"#46039f\"],[0.2222222222222222,\"#7201a8\"],[0.3333333333333333,\"#9c179e\"],[0.4444444444444444,\"#bd3786\"],[0.5555555555555556,\"#d8576b\"],[0.6666666666666666,\"#ed7953\"],[0.7777777777777778,\"#fb9f3a\"],[0.8888888888888888,\"#fdca26\"],[1.0,\"#f0f921\"]],\"type\":\"histogram2d\"}],\"histogram2dcontour\":[{\"colorbar\":{\"outlinewidth\":0,\"ticks\":\"\"},\"colorscale\":[[0.0,\"#0d0887\"],[0.1111111111111111,\"#46039f\"],[0.2222222222222222,\"#7201a8\"],[0.3333333333333333,\"#9c179e\"],[0.4444444444444444,\"#bd3786\"],[0.5555555555555556,\"#d8576b\"],[0.6666666666666666,\"#ed7953\"],[0.7777777777777778,\"#fb9f3a\"],[0.8888888888888888,\"#fdca26\"],[1.0,\"#f0f921\"]],\"type\":\"histogram2dcontour\"}],\"mesh3d\":[{\"colorbar\":{\"outlinewidth\":0,\"ticks\":\"\"},\"type\":\"mesh3d\"}],\"parcoords\":[{\"line\":{\"colorbar\":{\"outlinewidth\":0,\"ticks\":\"\"}},\"type\":\"parcoords\"}],\"pie\":[{\"automargin\":true,\"type\":\"pie\"}],\"scatter\":[{\"marker\":{\"colorbar\":{\"outlinewidth\":0,\"ticks\":\"\"}},\"type\":\"scatter\"}],\"scatter3d\":[{\"line\":{\"colorbar\":{\"outlinewidth\":0,\"ticks\":\"\"}},\"marker\":{\"colorbar\":{\"outlinewidth\":0,\"ticks\":\"\"}},\"type\":\"scatter3d\"}],\"scattercarpet\":[{\"marker\":{\"colorbar\":{\"outlinewidth\":0,\"ticks\":\"\"}},\"type\":\"scattercarpet\"}],\"scattergeo\":[{\"marker\":{\"colorbar\":{\"outlinewidth\":0,\"ticks\":\"\"}},\"type\":\"scattergeo\"}],\"scattergl\":[{\"marker\":{\"colorbar\":{\"outlinewidth\":0,\"ticks\":\"\"}},\"type\":\"scattergl\"}],\"scattermapbox\":[{\"marker\":{\"colorbar\":{\"outlinewidth\":0,\"ticks\":\"\"}},\"type\":\"scattermapbox\"}],\"scatterpolar\":[{\"marker\":{\"colorbar\":{\"outlinewidth\":0,\"ticks\":\"\"}},\"type\":\"scatterpolar\"}],\"scatterpolargl\":[{\"marker\":{\"colorbar\":{\"outlinewidth\":0,\"ticks\":\"\"}},\"type\":\"scatterpolargl\"}],\"scatterternary\":[{\"marker\":{\"colorbar\":{\"outlinewidth\":0,\"ticks\":\"\"}},\"type\":\"scatterternary\"}],\"surface\":[{\"colorbar\":{\"outlinewidth\":0,\"ticks\":\"\"},\"colorscale\":[[0.0,\"#0d0887\"],[0.1111111111111111,\"#46039f\"],[0.2222222222222222,\"#7201a8\"],[0.3333333333333333,\"#9c179e\"],[0.4444444444444444,\"#bd3786\"],[0.5555555555555556,\"#d8576b\"],[0.6666666666666666,\"#ed7953\"],[0.7777777777777778,\"#fb9f3a\"],[0.8888888888888888,\"#fdca26\"],[1.0,\"#f0f921\"]],\"type\":\"surface\"}],\"table\":[{\"cells\":{\"fill\":{\"color\":\"#EBF0F8\"},\"line\":{\"color\":\"white\"}},\"header\":{\"fill\":{\"color\":\"#C8D4E3\"},\"line\":{\"color\":\"white\"}},\"type\":\"table\"}]},\"layout\":{\"annotationdefaults\":{\"arrowcolor\":\"#2a3f5f\",\"arrowhead\":0,\"arrowwidth\":1},\"autotypenumbers\":\"strict\",\"coloraxis\":{\"colorbar\":{\"outlinewidth\":0,\"ticks\":\"\"}},\"colorscale\":{\"diverging\":[[0,\"#8e0152\"],[0.1,\"#c51b7d\"],[0.2,\"#de77ae\"],[0.3,\"#f1b6da\"],[0.4,\"#fde0ef\"],[0.5,\"#f7f7f7\"],[0.6,\"#e6f5d0\"],[0.7,\"#b8e186\"],[0.8,\"#7fbc41\"],[0.9,\"#4d9221\"],[1,\"#276419\"]],\"sequential\":[[0.0,\"#0d0887\"],[0.1111111111111111,\"#46039f\"],[0.2222222222222222,\"#7201a8\"],[0.3333333333333333,\"#9c179e\"],[0.4444444444444444,\"#bd3786\"],[0.5555555555555556,\"#d8576b\"],[0.6666666666666666,\"#ed7953\"],[0.7777777777777778,\"#fb9f3a\"],[0.8888888888888888,\"#fdca26\"],[1.0,\"#f0f921\"]],\"sequentialminus\":[[0.0,\"#0d0887\"],[0.1111111111111111,\"#46039f\"],[0.2222222222222222,\"#7201a8\"],[0.3333333333333333,\"#9c179e\"],[0.4444444444444444,\"#bd3786\"],[0.5555555555555556,\"#d8576b\"],[0.6666666666666666,\"#ed7953\"],[0.7777777777777778,\"#fb9f3a\"],[0.8888888888888888,\"#fdca26\"],[1.0,\"#f0f921\"]]},\"colorway\":[\"#636efa\",\"#EF553B\",\"#00cc96\",\"#ab63fa\",\"#FFA15A\",\"#19d3f3\",\"#FF6692\",\"#B6E880\",\"#FF97FF\",\"#FECB52\"],\"font\":{\"color\":\"#2a3f5f\"},\"geo\":{\"bgcolor\":\"white\",\"lakecolor\":\"white\",\"landcolor\":\"#E5ECF6\",\"showlakes\":true,\"showland\":true,\"subunitcolor\":\"white\"},\"hoverlabel\":{\"align\":\"left\"},\"hovermode\":\"closest\",\"mapbox\":{\"style\":\"light\"},\"paper_bgcolor\":\"white\",\"plot_bgcolor\":\"#E5ECF6\",\"polar\":{\"angularaxis\":{\"gridcolor\":\"white\",\"linecolor\":\"white\",\"ticks\":\"\"},\"bgcolor\":\"#E5ECF6\",\"radialaxis\":{\"gridcolor\":\"white\",\"linecolor\":\"white\",\"ticks\":\"\"}},\"scene\":{\"xaxis\":{\"backgroundcolor\":\"#E5ECF6\",\"gridcolor\":\"white\",\"gridwidth\":2,\"linecolor\":\"white\",\"showbackground\":true,\"ticks\":\"\",\"zerolinecolor\":\"white\"},\"yaxis\":{\"backgroundcolor\":\"#E5ECF6\",\"gridcolor\":\"white\",\"gridwidth\":2,\"linecolor\":\"white\",\"showbackground\":true,\"ticks\":\"\",\"zerolinecolor\":\"white\"},\"zaxis\":{\"backgroundcolor\":\"#E5ECF6\",\"gridcolor\":\"white\",\"gridwidth\":2,\"linecolor\":\"white\",\"showbackground\":true,\"ticks\":\"\",\"zerolinecolor\":\"white\"}},\"shapedefaults\":{\"line\":{\"color\":\"#2a3f5f\"}},\"ternary\":{\"aaxis\":{\"gridcolor\":\"white\",\"linecolor\":\"white\",\"ticks\":\"\"},\"baxis\":{\"gridcolor\":\"white\",\"linecolor\":\"white\",\"ticks\":\"\"},\"bgcolor\":\"#E5ECF6\",\"caxis\":{\"gridcolor\":\"white\",\"linecolor\":\"white\",\"ticks\":\"\"}},\"title\":{\"x\":0.05},\"xaxis\":{\"automargin\":true,\"gridcolor\":\"white\",\"linecolor\":\"white\",\"ticks\":\"\",\"title\":{\"standoff\":15},\"zerolinecolor\":\"white\",\"zerolinewidth\":2},\"yaxis\":{\"automargin\":true,\"gridcolor\":\"white\",\"linecolor\":\"white\",\"ticks\":\"\",\"title\":{\"standoff\":15},\"zerolinecolor\":\"white\",\"zerolinewidth\":2}}},\"title\":{\"text\":\"Rating\"},\"xaxis\":{\"anchor\":\"y\",\"domain\":[0.0,1.0],\"title\":{\"text\":\"rating\"}},\"yaxis\":{\"anchor\":\"x\",\"domain\":[0.0,1.0],\"title\":{\"text\":\"count\"}}},                        {\"responsive\": true}                    ).then(function(){\n",
       "                            \n",
       "var gd = document.getElementById('8d4e461f-f99f-442b-ad97-4b7e440d84bc');\n",
       "var x = new MutationObserver(function (mutations, observer) {{\n",
       "        var display = window.getComputedStyle(gd).display;\n",
       "        if (!display || display === 'none') {{\n",
       "            console.log([gd, 'removed!']);\n",
       "            Plotly.purge(gd);\n",
       "            observer.disconnect();\n",
       "        }}\n",
       "}});\n",
       "\n",
       "// Listen for the removal of the full notebook cells\n",
       "var notebookContainer = gd.closest('#notebook-container');\n",
       "if (notebookContainer) {{\n",
       "    x.observe(notebookContainer, {childList: true});\n",
       "}}\n",
       "\n",
       "// Listen for the clearing of the current output cell\n",
       "var outputEl = gd.closest('.output');\n",
       "if (outputEl) {{\n",
       "    x.observe(outputEl, {childList: true});\n",
       "}}\n",
       "\n",
       "                        })                };                });            </script>        </div>"
      ]
     },
     "metadata": {},
     "output_type": "display_data"
    }
   ],
   "source": [
    "fig = px.histogram(walmart_df, x=\"rating\")\n",
    "fig.update_traces(marker_color=\"turquoise\",marker_line_color='rgb(8,48,107)',\n",
    "                  marker_line_width=1.5)\n",
    "fig.update_layout(title_text='Rating')\n",
    "fig.show()"
   ]
  },
  {
   "cell_type": "markdown",
   "id": "8c1fa5dd",
   "metadata": {},
   "source": [
    "#### Employee type vs rating "
   ]
  },
  {
   "cell_type": "code",
   "execution_count": 330,
   "id": "4c6fd845",
   "metadata": {},
   "outputs": [
    {
     "data": {
      "application/vnd.plotly.v1+json": {
       "config": {
        "plotlyServerURL": "https://plot.ly"
       },
       "data": [
        {
         "alignmentgroup": "True",
         "bingroup": "x",
         "hovertemplate": "rating=5.0<br>employee_type=%{x}<br>count=%{y}<extra></extra>",
         "legendgroup": "5.0",
         "marker": {
          "color": "#636efa",
          "pattern": {
           "shape": ""
          }
         },
         "name": "5.0",
         "offsetgroup": "5.0",
         "orientation": "v",
         "showlegend": true,
         "type": "histogram",
         "x": [
          "Current Employee",
          "Former Employee",
          "Current Employee",
          "Current Employee",
          "Former Employee",
          "Current Employee",
          "Current Employee",
          "Current Employee",
          "Former Employee",
          "Current Employee",
          "Former Employee",
          "Current Employee",
          "Current Employee",
          "Former Employee",
          "Former Employee",
          "Current Employee",
          "Current Employee",
          "Current Employee",
          "Former Employee",
          "Current Employee",
          "Current Employee",
          "Former Employee",
          "Current Employee",
          "Current Employee",
          "Current Employee",
          "Former Employee",
          "Former Employee",
          "Current Employee",
          "Current Employee",
          "Former Employee",
          "Current Employee",
          "Former Employee",
          "Current Employee",
          "Former Employee",
          "Former Employee",
          "Current Employee",
          "Current Employee",
          "Former Employee",
          "Current Employee",
          "Former Employee",
          "Former Employee",
          "Former Employee",
          "Current Employee",
          "Current Employee",
          "Current Employee",
          "Former Employee",
          "Current Employee",
          "Current Employee",
          "Former Employee",
          "Former Employee",
          "Former Employee",
          "Current Employee",
          "Current Employee",
          "Current Employee",
          "Former Employee",
          "Former Employee",
          "Current Employee",
          "Former Employee",
          "Current Employee",
          "Current Employee",
          "Former Employee",
          "Former Employee",
          "Current Employee",
          "Current Employee",
          "Former Employee",
          "Former Employee",
          "Current Employee",
          "Former Employee",
          "Current Employee",
          "Former Employee",
          "Current Employee",
          "Current Employee",
          "Former Employee",
          "Current Employee",
          "Former Employee",
          "Current Employee",
          "Current Employee",
          "Current Employee",
          "Current Employee",
          "Current Employee",
          "Current Employee",
          "Former Employee",
          "Former Employee",
          "Current Employee",
          "Current Employee",
          "Current Employee",
          "Former Employee",
          "Current Employee",
          "Current Employee",
          "Former Employee",
          "Former Employee",
          "Current Employee",
          "Current Employee",
          "Former Employee",
          "Current Employee",
          "Former Employee",
          "Former Employee",
          "Former Employee",
          "Current Employee",
          "Current Employee",
          "Former Employee",
          "Former Employee",
          "Former Employee",
          "Current Employee",
          "Current Employee",
          "Current Employee",
          "Former Employee",
          "Current Employee",
          "Current Employee",
          "Current Employee",
          "Current Employee",
          "Current Employee",
          "Current Employee",
          "Former Employee",
          "Current Employee",
          "Current Employee",
          "Former Employee",
          "Former Employee",
          "Current Employee",
          "Current Employee",
          "Current Employee",
          "Current Employee",
          "Current Employee",
          "Current Employee",
          "Current Employee",
          "Current Employee",
          "Former Employee",
          "Current Employee",
          "Former Employee",
          "Former Employee",
          "Current Employee",
          "Current Employee",
          "Current Employee",
          "Current Employee",
          "Current Employee",
          "Former Employee",
          "Former Employee",
          "Current Employee",
          "Current Employee",
          "Current Employee",
          "Current Employee",
          "Current Employee",
          "Former Employee",
          "Current Employee",
          "Current Employee",
          "Current Employee",
          "Former Employee",
          "Current Employee",
          "Former Employee",
          "Former Employee",
          "Current Employee",
          "Current Employee",
          "Former Employee",
          "Current Employee",
          "Former Employee",
          "Current Employee",
          "Former Employee",
          "Former Employee",
          "Current Employee",
          "Current Employee",
          "Former Employee",
          "Current Employee",
          "Current Employee",
          "Former Employee",
          "Former Employee",
          "Current Employee",
          "Former Employee",
          "Current Employee",
          "Current Employee",
          "Former Employee",
          "Current Employee",
          "Former Employee",
          "Current Employee",
          "Current Employee",
          "Current Employee",
          "Current Employee",
          "Current Employee",
          "Former Employee",
          "Current Employee",
          "Former Employee",
          "Current Employee",
          "Current Employee",
          "Current Employee",
          "Current Employee",
          "Current Employee",
          "Current Employee",
          "Former Employee",
          "Current Employee",
          "Former Employee",
          "Current Employee",
          "Current Employee",
          "Current Employee",
          "Current Employee",
          "Former Employee",
          "Former Employee",
          "Former Employee",
          "Current Employee",
          "Current Employee",
          "Former Employee",
          "Current Employee",
          "Former Employee",
          "Current Employee",
          "Current Employee",
          "Current Employee",
          "Former Employee",
          "Current Employee",
          "Former Employee",
          "Current Employee",
          "Former Employee",
          "Former Employee",
          "Current Employee",
          "Former Employee",
          "Current Employee",
          "Former Employee",
          "Current Employee",
          "Current Employee",
          "Former Employee",
          "Former Employee",
          "Current Employee",
          "Current Employee",
          "Former Employee",
          "Current Employee",
          "Former Employee",
          "Former Employee",
          "Current Employee",
          "Current Employee",
          "Current Employee",
          "Current Employee",
          "Current Employee",
          "Former Employee",
          "Current Employee",
          "Current Employee",
          "Current Employee",
          "Former Employee",
          "Current Employee",
          "Current Employee",
          "Current Employee",
          "Current Employee",
          "Former Employee",
          "Former Employee",
          "Current Employee",
          "Former Employee",
          "Current Employee",
          "Current Employee",
          "Current Employee",
          "Current Employee",
          "Current Employee",
          "Current Employee",
          "Current Employee",
          "Current Employee",
          "Former Employee",
          "Current Employee",
          "Current Employee",
          "Former Employee",
          "Former Employee",
          "Former Employee",
          "Current Employee",
          "Current Employee",
          "Current Employee",
          "Current Employee",
          "Current Employee",
          "Current Employee",
          "Former Employee",
          "Current Employee",
          "Current Employee",
          "Current Employee",
          "Current Employee",
          "Current Employee",
          "Current Employee",
          "Current Employee",
          "Former Employee",
          "Current Employee",
          "Former Employee",
          "Former Employee",
          "Current Employee",
          "Former Employee",
          "Current Employee",
          "Former Employee",
          "Current Employee",
          "Current Employee",
          "Former Employee",
          "Current Employee",
          "Current Employee",
          "Current Employee",
          "Current Employee",
          "Former Employee",
          "Current Employee",
          "Former Employee",
          "Former Employee",
          "Former Employee",
          "Former Employee",
          "Former Employee",
          "Current Employee",
          "Former Employee",
          "Current Employee",
          "Current Employee",
          "Current Employee",
          "Current Employee",
          "Current Employee",
          "Current Employee",
          "Current Employee",
          "Current Employee",
          "Current Employee",
          "Current Employee",
          "Former Employee",
          "Current Employee",
          "Former Employee",
          "Current Employee",
          "Current Employee",
          "Current Employee",
          "Former Employee",
          "Former Employee",
          "Current Employee"
         ],
         "xaxis": "x",
         "yaxis": "y"
        },
        {
         "alignmentgroup": "True",
         "bingroup": "x",
         "hovertemplate": "rating=3.0<br>employee_type=%{x}<br>count=%{y}<extra></extra>",
         "legendgroup": "3.0",
         "marker": {
          "color": "#EF553B",
          "pattern": {
           "shape": ""
          }
         },
         "name": "3.0",
         "offsetgroup": "3.0",
         "orientation": "v",
         "showlegend": true,
         "type": "histogram",
         "x": [
          "Former Employee",
          "Current Employee",
          "Former Employee",
          "Former Employee",
          "Former Employee",
          "Current Employee",
          "Former Employee",
          "Former Employee",
          "Former Employee",
          "Former Employee",
          "Former Employee",
          "Former Employee",
          "Current Employee",
          "Current Employee",
          "Former Employee",
          "Current Employee",
          "Former Employee",
          "Former Employee",
          "Current Employee",
          "Current Employee",
          "Current Employee",
          "Current Employee",
          "Former Employee",
          "Current Employee",
          "Current Employee",
          "Current Employee",
          "Former Employee",
          "Current Employee",
          "Current Employee",
          "Former Employee",
          "Former Employee",
          "Current Employee",
          "Current Employee",
          "Former Employee",
          "Current Employee",
          "Former Employee",
          "Former Employee",
          "Current Employee",
          "Current Employee",
          "Current Employee",
          "Current Employee",
          "Current Employee",
          "Former Employee",
          "Current Employee",
          "Current Employee",
          "Former Employee",
          "Former Employee",
          "Current Employee",
          "Former Employee",
          "Current Employee",
          "Current Employee",
          "Former Employee",
          "Current Employee",
          "Former Employee",
          "Current Employee",
          "Former Employee",
          "Former Employee",
          "Former Employee",
          "Current Employee",
          "Former Employee",
          "Former Employee",
          "Current Employee",
          "Former Employee",
          "Former Employee",
          "Former Employee",
          "Current Employee",
          "Former Employee",
          "Current Employee",
          "Former Employee",
          "Former Employee",
          "Former Employee",
          "Former Employee",
          "Former Employee",
          "Current Employee",
          "Former Employee",
          "Current Employee",
          "Current Employee",
          "Former Employee",
          "Former Employee",
          "Current Employee",
          "Former Employee",
          "Former Employee",
          "Current Employee",
          "Current Employee",
          "Current Employee",
          "Current Employee",
          "Former Employee",
          "Current Employee",
          "Current Employee",
          "Former Employee",
          "Current Employee",
          "Former Employee",
          "Former Employee",
          "Former Employee",
          "Current Employee",
          "Former Employee",
          "Former Employee",
          "Current Employee",
          "Former Employee",
          "Current Employee",
          "Former Employee",
          "Former Employee",
          "Former Employee",
          "Former Employee",
          "Former Employee",
          "Former Employee",
          "Current Employee",
          "Current Employee",
          "Former Employee",
          "Former Employee",
          "Former Employee",
          "Former Employee",
          "Former Employee",
          "Former Employee",
          "Current Employee",
          "Current Employee",
          "Former Employee",
          "Former Employee",
          "Current Employee",
          "Former Employee",
          "Current Employee",
          "Former Employee",
          "Current Employee",
          "Former Employee",
          "Former Employee",
          "Current Employee",
          "Former Employee",
          "Current Employee",
          "Current Employee",
          "Current Employee",
          "Current Employee",
          "Current Employee",
          "Current Employee",
          "Current Employee",
          "Current Employee",
          "Current Employee",
          "Current Employee",
          "Former Employee",
          "Former Employee",
          "Former Employee",
          "Current Employee",
          "Former Employee",
          "Current Employee",
          "Current Employee",
          "Former Employee",
          "Former Employee",
          "Former Employee",
          "Former Employee",
          "Current Employee",
          "Current Employee",
          "Current Employee",
          "Current Employee",
          "Former Employee",
          "Current Employee",
          "Former Employee",
          "Former Employee",
          "Current Employee",
          "Current Employee",
          "Former Employee",
          "Former Employee",
          "Current Employee",
          "Current Employee",
          "Current Employee",
          "Former Employee",
          "Former Employee",
          "Current Employee",
          "Current Employee",
          "Current Employee",
          "Former Employee",
          "Current Employee",
          "Former Employee",
          "Former Employee"
         ],
         "xaxis": "x",
         "yaxis": "y"
        },
        {
         "alignmentgroup": "True",
         "bingroup": "x",
         "hovertemplate": "rating=4.0<br>employee_type=%{x}<br>count=%{y}<extra></extra>",
         "legendgroup": "4.0",
         "marker": {
          "color": "#00cc96",
          "pattern": {
           "shape": ""
          }
         },
         "name": "4.0",
         "offsetgroup": "4.0",
         "orientation": "v",
         "showlegend": true,
         "type": "histogram",
         "x": [
          "Former Employee",
          "Former Employee",
          "Former Employee",
          "Former Employee",
          "Current Employee",
          "Former Employee",
          "Former Employee",
          "Former Employee",
          "Former Employee",
          "Former Employee",
          "Current Employee",
          "Former Employee",
          "Current Employee",
          "Current Employee",
          "Former Employee",
          "Former Employee",
          "Current Employee",
          "Former Employee",
          "Former Employee",
          "Current Employee",
          "Former Employee",
          "Current Employee",
          "Former Employee",
          "Former Employee",
          "Former Employee",
          "Former Employee",
          "Current Employee",
          "Current Employee",
          "Former Employee",
          "Current Employee",
          "Former Employee",
          "Former Employee",
          "Current Employee",
          "Former Employee",
          "Former Employee",
          "Former Employee",
          "Current Employee",
          "Former Employee",
          "Former Employee",
          "Current Employee",
          "Former Employee",
          "Former Employee",
          "Current Employee",
          "Former Employee",
          "Former Employee",
          "Current Employee",
          "Current Employee",
          "Current Employee",
          "Current Employee",
          "Former Employee",
          "Current Employee",
          "Former Employee",
          "Current Employee",
          "Former Employee",
          "Former Employee",
          "Current Employee",
          "Former Employee",
          "Former Employee",
          "Former Employee",
          "Former Employee",
          "Former Employee",
          "Current Employee",
          "Current Employee",
          "Current Employee",
          "Former Employee",
          "Current Employee",
          "Former Employee",
          "Current Employee",
          "Current Employee",
          "Current Employee",
          "Former Employee",
          "Current Employee",
          "Current Employee",
          "Former Employee",
          "Current Employee",
          "Current Employee",
          "Current Employee",
          "Former Employee",
          "Current Employee",
          "Current Employee",
          "Current Employee",
          "Current Employee",
          "Current Employee",
          "Current Employee",
          "Former Employee",
          "Current Employee",
          "Current Employee",
          "Current Employee",
          "Former Employee",
          "Current Employee",
          "Current Employee",
          "Former Employee",
          "Current Employee",
          "Current Employee",
          "Current Employee",
          "Current Employee",
          "Current Employee",
          "Former Employee",
          "Former Employee",
          "Former Employee",
          "Current Employee",
          "Current Employee",
          "Current Employee",
          "Former Employee",
          "Current Employee",
          "Current Employee",
          "Former Employee",
          "Current Employee",
          "Former Employee",
          "Former Employee",
          "Current Employee",
          "Former Employee",
          "Current Employee",
          "Current Employee",
          "Former Employee",
          "Current Employee",
          "Former Employee",
          "Current Employee",
          "Former Employee",
          "Current Employee",
          "Former Employee",
          "Current Employee",
          "Former Employee",
          "Current Employee",
          "Former Employee",
          "Current Employee",
          "Current Employee",
          "Current Employee",
          "Current Employee",
          "Current Employee",
          "Current Employee",
          "Former Employee",
          "Former Employee",
          "Current Employee",
          "Current Employee",
          "Former Employee",
          "Current Employee",
          "Former Employee",
          "Current Employee",
          "Former Employee",
          "Current Employee",
          "Current Employee",
          "Current Employee",
          "Former Employee",
          "Current Employee",
          "Former Employee",
          "Current Employee",
          "Former Employee",
          "Former Employee",
          "Former Employee",
          "Current Employee",
          "Current Employee",
          "Current Employee",
          "Current Employee",
          "Current Employee",
          "Current Employee",
          "Current Employee",
          "Current Employee",
          "Former Employee",
          "Current Employee",
          "Former Employee",
          "Former Employee",
          "Current Employee",
          "Current Employee",
          "Current Employee",
          "Former Employee",
          "Current Employee",
          "Former Employee",
          "Current Employee",
          "Current Employee",
          "Former Employee",
          "Current Employee",
          "Former Employee",
          "Former Employee",
          "Former Employee",
          "Current Employee",
          "Former Employee",
          "Current Employee",
          "Former Employee",
          "Former Employee",
          "Former Employee",
          "Former Employee",
          "Current Employee",
          "Former Employee",
          "Former Employee",
          "Current Employee",
          "Former Employee",
          "Former Employee",
          "Current Employee",
          "Former Employee",
          "Former Employee",
          "Current Employee",
          "Former Employee",
          "Current Employee",
          "Current Employee",
          "Former Employee",
          "Former Employee",
          "Former Employee",
          "Current Employee",
          "Former Employee",
          "Current Employee",
          "Former Employee",
          "Current Employee",
          "Current Employee",
          "Current Employee",
          "Current Employee",
          "Former Employee",
          "Former Employee",
          "Current Employee",
          "Former Employee",
          "Current Employee",
          "Current Employee",
          "Current Employee",
          "Former Employee",
          "Current Employee",
          "Current Employee",
          "Current Employee",
          "Former Employee",
          "Current Employee",
          "Former Employee",
          "Current Employee",
          "Former Employee",
          "Current Employee",
          "Current Employee",
          "Current Employee",
          "Former Employee",
          "Current Employee",
          "Current Employee",
          "Former Employee",
          "Former Employee",
          "Current Employee",
          "Former Employee",
          "Current Employee",
          "Current Employee",
          "Current Employee",
          "Current Employee",
          "Former Employee",
          "Former Employee",
          "Former Employee",
          "Former Employee",
          "Former Employee",
          "Former Employee",
          "Former Employee",
          "Current Employee",
          "Former Employee",
          "Current Employee",
          "Current Employee",
          "Former Employee",
          "Former Employee",
          "Former Employee",
          "Current Employee",
          "Current Employee",
          "Current Employee",
          "Former Employee",
          "Former Employee",
          "Current Employee",
          "Current Employee",
          "Current Employee",
          "Former Employee",
          "Former Employee",
          "Former Employee",
          "Former Employee",
          "Current Employee",
          "Current Employee",
          "Current Employee",
          "Current Employee",
          "Current Employee",
          "Former Employee",
          "Former Employee",
          "Current Employee",
          "Former Employee",
          "Former Employee",
          "Current Employee",
          "Current Employee",
          "Current Employee",
          "Former Employee",
          "Current Employee",
          "Current Employee",
          "Current Employee",
          "Current Employee",
          "Current Employee",
          "Current Employee",
          "Current Employee",
          "Former Employee",
          "Current Employee",
          "Current Employee",
          "Current Employee",
          "Current Employee",
          "Current Employee",
          "Current Employee",
          "Current Employee",
          "Current Employee",
          "Former Employee",
          "Current Employee",
          "Current Employee",
          "Former Employee",
          "Current Employee",
          "Former Employee",
          "Current Employee",
          "Current Employee",
          "Former Employee",
          "Current Employee",
          "Former Employee",
          "Current Employee",
          "Current Employee",
          "Former Employee",
          "Current Employee",
          "Former Employee",
          "Former Employee",
          "Current Employee",
          "Former Employee",
          "Former Employee",
          "Current Employee",
          "Current Employee",
          "Current Employee",
          "Former Employee",
          "Former Employee",
          "Former Employee",
          "Current Employee",
          "Former Employee",
          "Former Employee",
          "Current Employee",
          "Former Employee",
          "Current Employee",
          "Former Employee",
          "Former Employee",
          "Former Employee",
          "Former Employee",
          "Current Employee",
          "Former Employee",
          "Current Employee",
          "Former Employee",
          "Current Employee",
          "Former Employee",
          "Former Employee",
          "Former Employee",
          "Former Employee",
          "Current Employee",
          "Current Employee",
          "Former Employee",
          "Current Employee",
          "Current Employee",
          "Current Employee",
          "Former Employee",
          "Current Employee",
          "Former Employee",
          "Former Employee",
          "Former Employee",
          "Current Employee",
          "Former Employee",
          "Current Employee",
          "Former Employee",
          "Current Employee",
          "Former Employee",
          "Former Employee",
          "Current Employee",
          "Former Employee",
          "Current Employee",
          "Former Employee",
          "Current Employee",
          "Current Employee",
          "Current Employee",
          "Current Employee",
          "Current Employee",
          "Current Employee",
          "Former Employee",
          "Former Employee",
          "Former Employee",
          "Former Employee",
          "Current Employee",
          "Former Employee",
          "Current Employee"
         ],
         "xaxis": "x",
         "yaxis": "y"
        },
        {
         "alignmentgroup": "True",
         "bingroup": "x",
         "hovertemplate": "rating=2.0<br>employee_type=%{x}<br>count=%{y}<extra></extra>",
         "legendgroup": "2.0",
         "marker": {
          "color": "#ab63fa",
          "pattern": {
           "shape": ""
          }
         },
         "name": "2.0",
         "offsetgroup": "2.0",
         "orientation": "v",
         "showlegend": true,
         "type": "histogram",
         "x": [
          "Current Employee",
          "Current Employee",
          "Current Employee",
          "Current Employee",
          "Former Employee",
          "Current Employee",
          "Current Employee",
          "Former Employee",
          "Current Employee",
          "Current Employee",
          "Current Employee",
          "Former Employee",
          "Current Employee",
          "Former Employee",
          "Former Employee",
          "Former Employee",
          "Former Employee",
          "Current Employee",
          "Former Employee",
          "Current Employee",
          "Current Employee",
          "Former Employee",
          "Current Employee",
          "Current Employee",
          "Former Employee",
          "Current Employee",
          "Current Employee",
          "Current Employee",
          "Former Employee",
          "Current Employee",
          "Current Employee",
          "Former Employee",
          "Former Employee",
          "Current Employee",
          "Current Employee",
          "Former Employee",
          "Current Employee",
          "Current Employee",
          "Current Employee",
          "Former Employee",
          "Current Employee",
          "Former Employee",
          "Former Employee",
          "Former Employee",
          "Current Employee",
          "Former Employee",
          "Former Employee",
          "Current Employee",
          "Former Employee",
          "Former Employee",
          "Current Employee",
          "Current Employee",
          "Former Employee",
          "Former Employee",
          "Current Employee",
          "Former Employee",
          "Former Employee",
          "Current Employee",
          "Former Employee",
          "Current Employee",
          "Current Employee",
          "Current Employee",
          "Former Employee",
          "Former Employee",
          "Former Employee",
          "Current Employee",
          "Current Employee",
          "Current Employee",
          "Former Employee",
          "Former Employee",
          "Former Employee",
          "Former Employee",
          "Former Employee",
          "Current Employee",
          "Former Employee",
          "Former Employee",
          "Former Employee",
          "Former Employee",
          "Former Employee",
          "Current Employee",
          "Current Employee",
          "Current Employee",
          "Former Employee",
          "Current Employee",
          "Current Employee",
          "Current Employee",
          "Former Employee",
          "Former Employee",
          "Former Employee",
          "Current Employee",
          "Former Employee",
          "Current Employee",
          "Current Employee",
          "Former Employee"
         ],
         "xaxis": "x",
         "yaxis": "y"
        },
        {
         "alignmentgroup": "True",
         "bingroup": "x",
         "hovertemplate": "rating=1.0<br>employee_type=%{x}<br>count=%{y}<extra></extra>",
         "legendgroup": "1.0",
         "marker": {
          "color": "#FFA15A",
          "pattern": {
           "shape": ""
          }
         },
         "name": "1.0",
         "offsetgroup": "1.0",
         "orientation": "v",
         "showlegend": true,
         "type": "histogram",
         "x": [
          "Former Employee",
          "Current Employee",
          "Former Employee",
          "Current Employee",
          "Former Employee",
          "Former Employee",
          "Former Employee",
          "Former Employee",
          "Former Employee",
          "Former Employee",
          "Former Employee",
          "Former Employee",
          "Current Employee",
          "Current Employee",
          "Current Employee",
          "Former Employee",
          "Former Employee",
          "Former Employee",
          "Former Employee",
          "Former Employee",
          "Current Employee",
          "Former Employee",
          "Former Employee",
          "Current Employee",
          "Former Employee",
          "Current Employee",
          "Former Employee",
          "Former Employee",
          "Former Employee",
          "Current Employee",
          "Current Employee",
          "Former Employee",
          "Former Employee",
          "Current Employee",
          "Former Employee",
          "Current Employee",
          "Former Employee",
          "Current Employee",
          "Former Employee",
          "Former Employee",
          "Current Employee",
          "Former Employee",
          "Current Employee",
          "Former Employee",
          "Current Employee",
          "Current Employee",
          "Former Employee",
          "Former Employee",
          "Former Employee",
          "Former Employee",
          "Former Employee",
          "Former Employee",
          "Former Employee",
          "Former Employee",
          "Former Employee"
         ],
         "xaxis": "x",
         "yaxis": "y"
        }
       ],
       "layout": {
        "barmode": "relative",
        "legend": {
         "title": {
          "text": "rating"
         },
         "tracegroupgap": 0
        },
        "margin": {
         "t": 60
        },
        "template": {
         "data": {
          "bar": [
           {
            "error_x": {
             "color": "#2a3f5f"
            },
            "error_y": {
             "color": "#2a3f5f"
            },
            "marker": {
             "line": {
              "color": "#E5ECF6",
              "width": 0.5
             },
             "pattern": {
              "fillmode": "overlay",
              "size": 10,
              "solidity": 0.2
             }
            },
            "type": "bar"
           }
          ],
          "barpolar": [
           {
            "marker": {
             "line": {
              "color": "#E5ECF6",
              "width": 0.5
             },
             "pattern": {
              "fillmode": "overlay",
              "size": 10,
              "solidity": 0.2
             }
            },
            "type": "barpolar"
           }
          ],
          "carpet": [
           {
            "aaxis": {
             "endlinecolor": "#2a3f5f",
             "gridcolor": "white",
             "linecolor": "white",
             "minorgridcolor": "white",
             "startlinecolor": "#2a3f5f"
            },
            "baxis": {
             "endlinecolor": "#2a3f5f",
             "gridcolor": "white",
             "linecolor": "white",
             "minorgridcolor": "white",
             "startlinecolor": "#2a3f5f"
            },
            "type": "carpet"
           }
          ],
          "choropleth": [
           {
            "colorbar": {
             "outlinewidth": 0,
             "ticks": ""
            },
            "type": "choropleth"
           }
          ],
          "contour": [
           {
            "colorbar": {
             "outlinewidth": 0,
             "ticks": ""
            },
            "colorscale": [
             [
              0,
              "#0d0887"
             ],
             [
              0.1111111111111111,
              "#46039f"
             ],
             [
              0.2222222222222222,
              "#7201a8"
             ],
             [
              0.3333333333333333,
              "#9c179e"
             ],
             [
              0.4444444444444444,
              "#bd3786"
             ],
             [
              0.5555555555555556,
              "#d8576b"
             ],
             [
              0.6666666666666666,
              "#ed7953"
             ],
             [
              0.7777777777777778,
              "#fb9f3a"
             ],
             [
              0.8888888888888888,
              "#fdca26"
             ],
             [
              1,
              "#f0f921"
             ]
            ],
            "type": "contour"
           }
          ],
          "contourcarpet": [
           {
            "colorbar": {
             "outlinewidth": 0,
             "ticks": ""
            },
            "type": "contourcarpet"
           }
          ],
          "heatmap": [
           {
            "colorbar": {
             "outlinewidth": 0,
             "ticks": ""
            },
            "colorscale": [
             [
              0,
              "#0d0887"
             ],
             [
              0.1111111111111111,
              "#46039f"
             ],
             [
              0.2222222222222222,
              "#7201a8"
             ],
             [
              0.3333333333333333,
              "#9c179e"
             ],
             [
              0.4444444444444444,
              "#bd3786"
             ],
             [
              0.5555555555555556,
              "#d8576b"
             ],
             [
              0.6666666666666666,
              "#ed7953"
             ],
             [
              0.7777777777777778,
              "#fb9f3a"
             ],
             [
              0.8888888888888888,
              "#fdca26"
             ],
             [
              1,
              "#f0f921"
             ]
            ],
            "type": "heatmap"
           }
          ],
          "heatmapgl": [
           {
            "colorbar": {
             "outlinewidth": 0,
             "ticks": ""
            },
            "colorscale": [
             [
              0,
              "#0d0887"
             ],
             [
              0.1111111111111111,
              "#46039f"
             ],
             [
              0.2222222222222222,
              "#7201a8"
             ],
             [
              0.3333333333333333,
              "#9c179e"
             ],
             [
              0.4444444444444444,
              "#bd3786"
             ],
             [
              0.5555555555555556,
              "#d8576b"
             ],
             [
              0.6666666666666666,
              "#ed7953"
             ],
             [
              0.7777777777777778,
              "#fb9f3a"
             ],
             [
              0.8888888888888888,
              "#fdca26"
             ],
             [
              1,
              "#f0f921"
             ]
            ],
            "type": "heatmapgl"
           }
          ],
          "histogram": [
           {
            "marker": {
             "pattern": {
              "fillmode": "overlay",
              "size": 10,
              "solidity": 0.2
             }
            },
            "type": "histogram"
           }
          ],
          "histogram2d": [
           {
            "colorbar": {
             "outlinewidth": 0,
             "ticks": ""
            },
            "colorscale": [
             [
              0,
              "#0d0887"
             ],
             [
              0.1111111111111111,
              "#46039f"
             ],
             [
              0.2222222222222222,
              "#7201a8"
             ],
             [
              0.3333333333333333,
              "#9c179e"
             ],
             [
              0.4444444444444444,
              "#bd3786"
             ],
             [
              0.5555555555555556,
              "#d8576b"
             ],
             [
              0.6666666666666666,
              "#ed7953"
             ],
             [
              0.7777777777777778,
              "#fb9f3a"
             ],
             [
              0.8888888888888888,
              "#fdca26"
             ],
             [
              1,
              "#f0f921"
             ]
            ],
            "type": "histogram2d"
           }
          ],
          "histogram2dcontour": [
           {
            "colorbar": {
             "outlinewidth": 0,
             "ticks": ""
            },
            "colorscale": [
             [
              0,
              "#0d0887"
             ],
             [
              0.1111111111111111,
              "#46039f"
             ],
             [
              0.2222222222222222,
              "#7201a8"
             ],
             [
              0.3333333333333333,
              "#9c179e"
             ],
             [
              0.4444444444444444,
              "#bd3786"
             ],
             [
              0.5555555555555556,
              "#d8576b"
             ],
             [
              0.6666666666666666,
              "#ed7953"
             ],
             [
              0.7777777777777778,
              "#fb9f3a"
             ],
             [
              0.8888888888888888,
              "#fdca26"
             ],
             [
              1,
              "#f0f921"
             ]
            ],
            "type": "histogram2dcontour"
           }
          ],
          "mesh3d": [
           {
            "colorbar": {
             "outlinewidth": 0,
             "ticks": ""
            },
            "type": "mesh3d"
           }
          ],
          "parcoords": [
           {
            "line": {
             "colorbar": {
              "outlinewidth": 0,
              "ticks": ""
             }
            },
            "type": "parcoords"
           }
          ],
          "pie": [
           {
            "automargin": true,
            "type": "pie"
           }
          ],
          "scatter": [
           {
            "marker": {
             "colorbar": {
              "outlinewidth": 0,
              "ticks": ""
             }
            },
            "type": "scatter"
           }
          ],
          "scatter3d": [
           {
            "line": {
             "colorbar": {
              "outlinewidth": 0,
              "ticks": ""
             }
            },
            "marker": {
             "colorbar": {
              "outlinewidth": 0,
              "ticks": ""
             }
            },
            "type": "scatter3d"
           }
          ],
          "scattercarpet": [
           {
            "marker": {
             "colorbar": {
              "outlinewidth": 0,
              "ticks": ""
             }
            },
            "type": "scattercarpet"
           }
          ],
          "scattergeo": [
           {
            "marker": {
             "colorbar": {
              "outlinewidth": 0,
              "ticks": ""
             }
            },
            "type": "scattergeo"
           }
          ],
          "scattergl": [
           {
            "marker": {
             "colorbar": {
              "outlinewidth": 0,
              "ticks": ""
             }
            },
            "type": "scattergl"
           }
          ],
          "scattermapbox": [
           {
            "marker": {
             "colorbar": {
              "outlinewidth": 0,
              "ticks": ""
             }
            },
            "type": "scattermapbox"
           }
          ],
          "scatterpolar": [
           {
            "marker": {
             "colorbar": {
              "outlinewidth": 0,
              "ticks": ""
             }
            },
            "type": "scatterpolar"
           }
          ],
          "scatterpolargl": [
           {
            "marker": {
             "colorbar": {
              "outlinewidth": 0,
              "ticks": ""
             }
            },
            "type": "scatterpolargl"
           }
          ],
          "scatterternary": [
           {
            "marker": {
             "colorbar": {
              "outlinewidth": 0,
              "ticks": ""
             }
            },
            "type": "scatterternary"
           }
          ],
          "surface": [
           {
            "colorbar": {
             "outlinewidth": 0,
             "ticks": ""
            },
            "colorscale": [
             [
              0,
              "#0d0887"
             ],
             [
              0.1111111111111111,
              "#46039f"
             ],
             [
              0.2222222222222222,
              "#7201a8"
             ],
             [
              0.3333333333333333,
              "#9c179e"
             ],
             [
              0.4444444444444444,
              "#bd3786"
             ],
             [
              0.5555555555555556,
              "#d8576b"
             ],
             [
              0.6666666666666666,
              "#ed7953"
             ],
             [
              0.7777777777777778,
              "#fb9f3a"
             ],
             [
              0.8888888888888888,
              "#fdca26"
             ],
             [
              1,
              "#f0f921"
             ]
            ],
            "type": "surface"
           }
          ],
          "table": [
           {
            "cells": {
             "fill": {
              "color": "#EBF0F8"
             },
             "line": {
              "color": "white"
             }
            },
            "header": {
             "fill": {
              "color": "#C8D4E3"
             },
             "line": {
              "color": "white"
             }
            },
            "type": "table"
           }
          ]
         },
         "layout": {
          "annotationdefaults": {
           "arrowcolor": "#2a3f5f",
           "arrowhead": 0,
           "arrowwidth": 1
          },
          "autotypenumbers": "strict",
          "coloraxis": {
           "colorbar": {
            "outlinewidth": 0,
            "ticks": ""
           }
          },
          "colorscale": {
           "diverging": [
            [
             0,
             "#8e0152"
            ],
            [
             0.1,
             "#c51b7d"
            ],
            [
             0.2,
             "#de77ae"
            ],
            [
             0.3,
             "#f1b6da"
            ],
            [
             0.4,
             "#fde0ef"
            ],
            [
             0.5,
             "#f7f7f7"
            ],
            [
             0.6,
             "#e6f5d0"
            ],
            [
             0.7,
             "#b8e186"
            ],
            [
             0.8,
             "#7fbc41"
            ],
            [
             0.9,
             "#4d9221"
            ],
            [
             1,
             "#276419"
            ]
           ],
           "sequential": [
            [
             0,
             "#0d0887"
            ],
            [
             0.1111111111111111,
             "#46039f"
            ],
            [
             0.2222222222222222,
             "#7201a8"
            ],
            [
             0.3333333333333333,
             "#9c179e"
            ],
            [
             0.4444444444444444,
             "#bd3786"
            ],
            [
             0.5555555555555556,
             "#d8576b"
            ],
            [
             0.6666666666666666,
             "#ed7953"
            ],
            [
             0.7777777777777778,
             "#fb9f3a"
            ],
            [
             0.8888888888888888,
             "#fdca26"
            ],
            [
             1,
             "#f0f921"
            ]
           ],
           "sequentialminus": [
            [
             0,
             "#0d0887"
            ],
            [
             0.1111111111111111,
             "#46039f"
            ],
            [
             0.2222222222222222,
             "#7201a8"
            ],
            [
             0.3333333333333333,
             "#9c179e"
            ],
            [
             0.4444444444444444,
             "#bd3786"
            ],
            [
             0.5555555555555556,
             "#d8576b"
            ],
            [
             0.6666666666666666,
             "#ed7953"
            ],
            [
             0.7777777777777778,
             "#fb9f3a"
            ],
            [
             0.8888888888888888,
             "#fdca26"
            ],
            [
             1,
             "#f0f921"
            ]
           ]
          },
          "colorway": [
           "#636efa",
           "#EF553B",
           "#00cc96",
           "#ab63fa",
           "#FFA15A",
           "#19d3f3",
           "#FF6692",
           "#B6E880",
           "#FF97FF",
           "#FECB52"
          ],
          "font": {
           "color": "#2a3f5f"
          },
          "geo": {
           "bgcolor": "white",
           "lakecolor": "white",
           "landcolor": "#E5ECF6",
           "showlakes": true,
           "showland": true,
           "subunitcolor": "white"
          },
          "hoverlabel": {
           "align": "left"
          },
          "hovermode": "closest",
          "mapbox": {
           "style": "light"
          },
          "paper_bgcolor": "white",
          "plot_bgcolor": "#E5ECF6",
          "polar": {
           "angularaxis": {
            "gridcolor": "white",
            "linecolor": "white",
            "ticks": ""
           },
           "bgcolor": "#E5ECF6",
           "radialaxis": {
            "gridcolor": "white",
            "linecolor": "white",
            "ticks": ""
           }
          },
          "scene": {
           "xaxis": {
            "backgroundcolor": "#E5ECF6",
            "gridcolor": "white",
            "gridwidth": 2,
            "linecolor": "white",
            "showbackground": true,
            "ticks": "",
            "zerolinecolor": "white"
           },
           "yaxis": {
            "backgroundcolor": "#E5ECF6",
            "gridcolor": "white",
            "gridwidth": 2,
            "linecolor": "white",
            "showbackground": true,
            "ticks": "",
            "zerolinecolor": "white"
           },
           "zaxis": {
            "backgroundcolor": "#E5ECF6",
            "gridcolor": "white",
            "gridwidth": 2,
            "linecolor": "white",
            "showbackground": true,
            "ticks": "",
            "zerolinecolor": "white"
           }
          },
          "shapedefaults": {
           "line": {
            "color": "#2a3f5f"
           }
          },
          "ternary": {
           "aaxis": {
            "gridcolor": "white",
            "linecolor": "white",
            "ticks": ""
           },
           "baxis": {
            "gridcolor": "white",
            "linecolor": "white",
            "ticks": ""
           },
           "bgcolor": "#E5ECF6",
           "caxis": {
            "gridcolor": "white",
            "linecolor": "white",
            "ticks": ""
           }
          },
          "title": {
           "x": 0.05
          },
          "xaxis": {
           "automargin": true,
           "gridcolor": "white",
           "linecolor": "white",
           "ticks": "",
           "title": {
            "standoff": 15
           },
           "zerolinecolor": "white",
           "zerolinewidth": 2
          },
          "yaxis": {
           "automargin": true,
           "gridcolor": "white",
           "linecolor": "white",
           "ticks": "",
           "title": {
            "standoff": 15
           },
           "zerolinecolor": "white",
           "zerolinewidth": 2
          }
         }
        },
        "xaxis": {
         "anchor": "y",
         "domain": [
          0,
          1
         ],
         "title": {
          "text": "employee_type"
         }
        },
        "yaxis": {
         "anchor": "x",
         "domain": [
          0,
          1
         ],
         "title": {
          "text": "count"
         }
        }
       }
      },
      "text/html": [
       "<div>                            <div id=\"88184d9b-f4a7-4c79-ad7e-bba5bc749ff4\" class=\"plotly-graph-div\" style=\"height:525px; width:100%;\"></div>            <script type=\"text/javascript\">                require([\"plotly\"], function(Plotly) {                    window.PLOTLYENV=window.PLOTLYENV || {};                                    if (document.getElementById(\"88184d9b-f4a7-4c79-ad7e-bba5bc749ff4\")) {                    Plotly.newPlot(                        \"88184d9b-f4a7-4c79-ad7e-bba5bc749ff4\",                        [{\"alignmentgroup\":\"True\",\"bingroup\":\"x\",\"hovertemplate\":\"rating=5.0<br>employee_type=%{x}<br>count=%{y}<extra></extra>\",\"legendgroup\":\"5.0\",\"marker\":{\"color\":\"#636efa\",\"pattern\":{\"shape\":\"\"}},\"name\":\"5.0\",\"offsetgroup\":\"5.0\",\"orientation\":\"v\",\"showlegend\":true,\"type\":\"histogram\",\"x\":[\"Current Employee\",\"Former Employee\",\"Current Employee\",\"Current Employee\",\"Former Employee\",\"Current Employee\",\"Current Employee\",\"Current Employee\",\"Former Employee\",\"Current Employee\",\"Former Employee\",\"Current Employee\",\"Current Employee\",\"Former Employee\",\"Former Employee\",\"Current Employee\",\"Current Employee\",\"Current Employee\",\"Former Employee\",\"Current Employee\",\"Current Employee\",\"Former Employee\",\"Current Employee\",\"Current Employee\",\"Current Employee\",\"Former Employee\",\"Former Employee\",\"Current Employee\",\"Current Employee\",\"Former Employee\",\"Current Employee\",\"Former Employee\",\"Current Employee\",\"Former Employee\",\"Former Employee\",\"Current Employee\",\"Current Employee\",\"Former Employee\",\"Current Employee\",\"Former Employee\",\"Former Employee\",\"Former Employee\",\"Current Employee\",\"Current Employee\",\"Current Employee\",\"Former Employee\",\"Current Employee\",\"Current Employee\",\"Former Employee\",\"Former Employee\",\"Former Employee\",\"Current Employee\",\"Current Employee\",\"Current Employee\",\"Former Employee\",\"Former Employee\",\"Current Employee\",\"Former Employee\",\"Current Employee\",\"Current Employee\",\"Former Employee\",\"Former Employee\",\"Current Employee\",\"Current Employee\",\"Former Employee\",\"Former Employee\",\"Current Employee\",\"Former Employee\",\"Current Employee\",\"Former Employee\",\"Current Employee\",\"Current Employee\",\"Former Employee\",\"Current Employee\",\"Former Employee\",\"Current Employee\",\"Current Employee\",\"Current Employee\",\"Current Employee\",\"Current Employee\",\"Current Employee\",\"Former Employee\",\"Former Employee\",\"Current Employee\",\"Current Employee\",\"Current Employee\",\"Former Employee\",\"Current Employee\",\"Current Employee\",\"Former Employee\",\"Former Employee\",\"Current Employee\",\"Current Employee\",\"Former Employee\",\"Current Employee\",\"Former Employee\",\"Former Employee\",\"Former Employee\",\"Current Employee\",\"Current Employee\",\"Former Employee\",\"Former Employee\",\"Former Employee\",\"Current Employee\",\"Current Employee\",\"Current Employee\",\"Former Employee\",\"Current Employee\",\"Current Employee\",\"Current Employee\",\"Current Employee\",\"Current Employee\",\"Current Employee\",\"Former Employee\",\"Current Employee\",\"Current Employee\",\"Former Employee\",\"Former Employee\",\"Current Employee\",\"Current Employee\",\"Current Employee\",\"Current Employee\",\"Current Employee\",\"Current Employee\",\"Current Employee\",\"Current Employee\",\"Former Employee\",\"Current Employee\",\"Former Employee\",\"Former Employee\",\"Current Employee\",\"Current Employee\",\"Current Employee\",\"Current Employee\",\"Current Employee\",\"Former Employee\",\"Former Employee\",\"Current Employee\",\"Current Employee\",\"Current Employee\",\"Current Employee\",\"Current Employee\",\"Former Employee\",\"Current Employee\",\"Current Employee\",\"Current Employee\",\"Former Employee\",\"Current Employee\",\"Former Employee\",\"Former Employee\",\"Current Employee\",\"Current Employee\",\"Former Employee\",\"Current Employee\",\"Former Employee\",\"Current Employee\",\"Former Employee\",\"Former Employee\",\"Current Employee\",\"Current Employee\",\"Former Employee\",\"Current Employee\",\"Current Employee\",\"Former Employee\",\"Former Employee\",\"Current Employee\",\"Former Employee\",\"Current Employee\",\"Current Employee\",\"Former Employee\",\"Current Employee\",\"Former Employee\",\"Current Employee\",\"Current Employee\",\"Current Employee\",\"Current Employee\",\"Current Employee\",\"Former Employee\",\"Current Employee\",\"Former Employee\",\"Current Employee\",\"Current Employee\",\"Current Employee\",\"Current Employee\",\"Current Employee\",\"Current Employee\",\"Former Employee\",\"Current Employee\",\"Former Employee\",\"Current Employee\",\"Current Employee\",\"Current Employee\",\"Current Employee\",\"Former Employee\",\"Former Employee\",\"Former Employee\",\"Current Employee\",\"Current Employee\",\"Former Employee\",\"Current Employee\",\"Former Employee\",\"Current Employee\",\"Current Employee\",\"Current Employee\",\"Former Employee\",\"Current Employee\",\"Former Employee\",\"Current Employee\",\"Former Employee\",\"Former Employee\",\"Current Employee\",\"Former Employee\",\"Current Employee\",\"Former Employee\",\"Current Employee\",\"Current Employee\",\"Former Employee\",\"Former Employee\",\"Current Employee\",\"Current Employee\",\"Former Employee\",\"Current Employee\",\"Former Employee\",\"Former Employee\",\"Current Employee\",\"Current Employee\",\"Current Employee\",\"Current Employee\",\"Current Employee\",\"Former Employee\",\"Current Employee\",\"Current Employee\",\"Current Employee\",\"Former Employee\",\"Current Employee\",\"Current Employee\",\"Current Employee\",\"Current Employee\",\"Former Employee\",\"Former Employee\",\"Current Employee\",\"Former Employee\",\"Current Employee\",\"Current Employee\",\"Current Employee\",\"Current Employee\",\"Current Employee\",\"Current Employee\",\"Current Employee\",\"Current Employee\",\"Former Employee\",\"Current Employee\",\"Current Employee\",\"Former Employee\",\"Former Employee\",\"Former Employee\",\"Current Employee\",\"Current Employee\",\"Current Employee\",\"Current Employee\",\"Current Employee\",\"Current Employee\",\"Former Employee\",\"Current Employee\",\"Current Employee\",\"Current Employee\",\"Current Employee\",\"Current Employee\",\"Current Employee\",\"Current Employee\",\"Former Employee\",\"Current Employee\",\"Former Employee\",\"Former Employee\",\"Current Employee\",\"Former Employee\",\"Current Employee\",\"Former Employee\",\"Current Employee\",\"Current Employee\",\"Former Employee\",\"Current Employee\",\"Current Employee\",\"Current Employee\",\"Current Employee\",\"Former Employee\",\"Current Employee\",\"Former Employee\",\"Former Employee\",\"Former Employee\",\"Former Employee\",\"Former Employee\",\"Current Employee\",\"Former Employee\",\"Current Employee\",\"Current Employee\",\"Current Employee\",\"Current Employee\",\"Current Employee\",\"Current Employee\",\"Current Employee\",\"Current Employee\",\"Current Employee\",\"Current Employee\",\"Former Employee\",\"Current Employee\",\"Former Employee\",\"Current Employee\",\"Current Employee\",\"Current Employee\",\"Former Employee\",\"Former Employee\",\"Current Employee\"],\"xaxis\":\"x\",\"yaxis\":\"y\"},{\"alignmentgroup\":\"True\",\"bingroup\":\"x\",\"hovertemplate\":\"rating=3.0<br>employee_type=%{x}<br>count=%{y}<extra></extra>\",\"legendgroup\":\"3.0\",\"marker\":{\"color\":\"#EF553B\",\"pattern\":{\"shape\":\"\"}},\"name\":\"3.0\",\"offsetgroup\":\"3.0\",\"orientation\":\"v\",\"showlegend\":true,\"type\":\"histogram\",\"x\":[\"Former Employee\",\"Current Employee\",\"Former Employee\",\"Former Employee\",\"Former Employee\",\"Current Employee\",\"Former Employee\",\"Former Employee\",\"Former Employee\",\"Former Employee\",\"Former Employee\",\"Former Employee\",\"Current Employee\",\"Current Employee\",\"Former Employee\",\"Current Employee\",\"Former Employee\",\"Former Employee\",\"Current Employee\",\"Current Employee\",\"Current Employee\",\"Current Employee\",\"Former Employee\",\"Current Employee\",\"Current Employee\",\"Current Employee\",\"Former Employee\",\"Current Employee\",\"Current Employee\",\"Former Employee\",\"Former Employee\",\"Current Employee\",\"Current Employee\",\"Former Employee\",\"Current Employee\",\"Former Employee\",\"Former Employee\",\"Current Employee\",\"Current Employee\",\"Current Employee\",\"Current Employee\",\"Current Employee\",\"Former Employee\",\"Current Employee\",\"Current Employee\",\"Former Employee\",\"Former Employee\",\"Current Employee\",\"Former Employee\",\"Current Employee\",\"Current Employee\",\"Former Employee\",\"Current Employee\",\"Former Employee\",\"Current Employee\",\"Former Employee\",\"Former Employee\",\"Former Employee\",\"Current Employee\",\"Former Employee\",\"Former Employee\",\"Current Employee\",\"Former Employee\",\"Former Employee\",\"Former Employee\",\"Current Employee\",\"Former Employee\",\"Current Employee\",\"Former Employee\",\"Former Employee\",\"Former Employee\",\"Former Employee\",\"Former Employee\",\"Current Employee\",\"Former Employee\",\"Current Employee\",\"Current Employee\",\"Former Employee\",\"Former Employee\",\"Current Employee\",\"Former Employee\",\"Former Employee\",\"Current Employee\",\"Current Employee\",\"Current Employee\",\"Current Employee\",\"Former Employee\",\"Current Employee\",\"Current Employee\",\"Former Employee\",\"Current Employee\",\"Former Employee\",\"Former Employee\",\"Former Employee\",\"Current Employee\",\"Former Employee\",\"Former Employee\",\"Current Employee\",\"Former Employee\",\"Current Employee\",\"Former Employee\",\"Former Employee\",\"Former Employee\",\"Former Employee\",\"Former Employee\",\"Former Employee\",\"Current Employee\",\"Current Employee\",\"Former Employee\",\"Former Employee\",\"Former Employee\",\"Former Employee\",\"Former Employee\",\"Former Employee\",\"Current Employee\",\"Current Employee\",\"Former Employee\",\"Former Employee\",\"Current Employee\",\"Former Employee\",\"Current Employee\",\"Former Employee\",\"Current Employee\",\"Former Employee\",\"Former Employee\",\"Current Employee\",\"Former Employee\",\"Current Employee\",\"Current Employee\",\"Current Employee\",\"Current Employee\",\"Current Employee\",\"Current Employee\",\"Current Employee\",\"Current Employee\",\"Current Employee\",\"Current Employee\",\"Former Employee\",\"Former Employee\",\"Former Employee\",\"Current Employee\",\"Former Employee\",\"Current Employee\",\"Current Employee\",\"Former Employee\",\"Former Employee\",\"Former Employee\",\"Former Employee\",\"Current Employee\",\"Current Employee\",\"Current Employee\",\"Current Employee\",\"Former Employee\",\"Current Employee\",\"Former Employee\",\"Former Employee\",\"Current Employee\",\"Current Employee\",\"Former Employee\",\"Former Employee\",\"Current Employee\",\"Current Employee\",\"Current Employee\",\"Former Employee\",\"Former Employee\",\"Current Employee\",\"Current Employee\",\"Current Employee\",\"Former Employee\",\"Current Employee\",\"Former Employee\",\"Former Employee\"],\"xaxis\":\"x\",\"yaxis\":\"y\"},{\"alignmentgroup\":\"True\",\"bingroup\":\"x\",\"hovertemplate\":\"rating=4.0<br>employee_type=%{x}<br>count=%{y}<extra></extra>\",\"legendgroup\":\"4.0\",\"marker\":{\"color\":\"#00cc96\",\"pattern\":{\"shape\":\"\"}},\"name\":\"4.0\",\"offsetgroup\":\"4.0\",\"orientation\":\"v\",\"showlegend\":true,\"type\":\"histogram\",\"x\":[\"Former Employee\",\"Former Employee\",\"Former Employee\",\"Former Employee\",\"Current Employee\",\"Former Employee\",\"Former Employee\",\"Former Employee\",\"Former Employee\",\"Former Employee\",\"Current Employee\",\"Former Employee\",\"Current Employee\",\"Current Employee\",\"Former Employee\",\"Former Employee\",\"Current Employee\",\"Former Employee\",\"Former Employee\",\"Current Employee\",\"Former Employee\",\"Current Employee\",\"Former Employee\",\"Former Employee\",\"Former Employee\",\"Former Employee\",\"Current Employee\",\"Current Employee\",\"Former Employee\",\"Current Employee\",\"Former Employee\",\"Former Employee\",\"Current Employee\",\"Former Employee\",\"Former Employee\",\"Former Employee\",\"Current Employee\",\"Former Employee\",\"Former Employee\",\"Current Employee\",\"Former Employee\",\"Former Employee\",\"Current Employee\",\"Former Employee\",\"Former Employee\",\"Current Employee\",\"Current Employee\",\"Current Employee\",\"Current Employee\",\"Former Employee\",\"Current Employee\",\"Former Employee\",\"Current Employee\",\"Former Employee\",\"Former Employee\",\"Current Employee\",\"Former Employee\",\"Former Employee\",\"Former Employee\",\"Former Employee\",\"Former Employee\",\"Current Employee\",\"Current Employee\",\"Current Employee\",\"Former Employee\",\"Current Employee\",\"Former Employee\",\"Current Employee\",\"Current Employee\",\"Current Employee\",\"Former Employee\",\"Current Employee\",\"Current Employee\",\"Former Employee\",\"Current Employee\",\"Current Employee\",\"Current Employee\",\"Former Employee\",\"Current Employee\",\"Current Employee\",\"Current Employee\",\"Current Employee\",\"Current Employee\",\"Current Employee\",\"Former Employee\",\"Current Employee\",\"Current Employee\",\"Current Employee\",\"Former Employee\",\"Current Employee\",\"Current Employee\",\"Former Employee\",\"Current Employee\",\"Current Employee\",\"Current Employee\",\"Current Employee\",\"Current Employee\",\"Former Employee\",\"Former Employee\",\"Former Employee\",\"Current Employee\",\"Current Employee\",\"Current Employee\",\"Former Employee\",\"Current Employee\",\"Current Employee\",\"Former Employee\",\"Current Employee\",\"Former Employee\",\"Former Employee\",\"Current Employee\",\"Former Employee\",\"Current Employee\",\"Current Employee\",\"Former Employee\",\"Current Employee\",\"Former Employee\",\"Current Employee\",\"Former Employee\",\"Current Employee\",\"Former Employee\",\"Current Employee\",\"Former Employee\",\"Current Employee\",\"Former Employee\",\"Current Employee\",\"Current Employee\",\"Current Employee\",\"Current Employee\",\"Current Employee\",\"Current Employee\",\"Former Employee\",\"Former Employee\",\"Current Employee\",\"Current Employee\",\"Former Employee\",\"Current Employee\",\"Former Employee\",\"Current Employee\",\"Former Employee\",\"Current Employee\",\"Current Employee\",\"Current Employee\",\"Former Employee\",\"Current Employee\",\"Former Employee\",\"Current Employee\",\"Former Employee\",\"Former Employee\",\"Former Employee\",\"Current Employee\",\"Current Employee\",\"Current Employee\",\"Current Employee\",\"Current Employee\",\"Current Employee\",\"Current Employee\",\"Current Employee\",\"Former Employee\",\"Current Employee\",\"Former Employee\",\"Former Employee\",\"Current Employee\",\"Current Employee\",\"Current Employee\",\"Former Employee\",\"Current Employee\",\"Former Employee\",\"Current Employee\",\"Current Employee\",\"Former Employee\",\"Current Employee\",\"Former Employee\",\"Former Employee\",\"Former Employee\",\"Current Employee\",\"Former Employee\",\"Current Employee\",\"Former Employee\",\"Former Employee\",\"Former Employee\",\"Former Employee\",\"Current Employee\",\"Former Employee\",\"Former Employee\",\"Current Employee\",\"Former Employee\",\"Former Employee\",\"Current Employee\",\"Former Employee\",\"Former Employee\",\"Current Employee\",\"Former Employee\",\"Current Employee\",\"Current Employee\",\"Former Employee\",\"Former Employee\",\"Former Employee\",\"Current Employee\",\"Former Employee\",\"Current Employee\",\"Former Employee\",\"Current Employee\",\"Current Employee\",\"Current Employee\",\"Current Employee\",\"Former Employee\",\"Former Employee\",\"Current Employee\",\"Former Employee\",\"Current Employee\",\"Current Employee\",\"Current Employee\",\"Former Employee\",\"Current Employee\",\"Current Employee\",\"Current Employee\",\"Former Employee\",\"Current Employee\",\"Former Employee\",\"Current Employee\",\"Former Employee\",\"Current Employee\",\"Current Employee\",\"Current Employee\",\"Former Employee\",\"Current Employee\",\"Current Employee\",\"Former Employee\",\"Former Employee\",\"Current Employee\",\"Former Employee\",\"Current Employee\",\"Current Employee\",\"Current Employee\",\"Current Employee\",\"Former Employee\",\"Former Employee\",\"Former Employee\",\"Former Employee\",\"Former Employee\",\"Former Employee\",\"Former Employee\",\"Current Employee\",\"Former Employee\",\"Current Employee\",\"Current Employee\",\"Former Employee\",\"Former Employee\",\"Former Employee\",\"Current Employee\",\"Current Employee\",\"Current Employee\",\"Former Employee\",\"Former Employee\",\"Current Employee\",\"Current Employee\",\"Current Employee\",\"Former Employee\",\"Former Employee\",\"Former Employee\",\"Former Employee\",\"Current Employee\",\"Current Employee\",\"Current Employee\",\"Current Employee\",\"Current Employee\",\"Former Employee\",\"Former Employee\",\"Current Employee\",\"Former Employee\",\"Former Employee\",\"Current Employee\",\"Current Employee\",\"Current Employee\",\"Former Employee\",\"Current Employee\",\"Current Employee\",\"Current Employee\",\"Current Employee\",\"Current Employee\",\"Current Employee\",\"Current Employee\",\"Former Employee\",\"Current Employee\",\"Current Employee\",\"Current Employee\",\"Current Employee\",\"Current Employee\",\"Current Employee\",\"Current Employee\",\"Current Employee\",\"Former Employee\",\"Current Employee\",\"Current Employee\",\"Former Employee\",\"Current Employee\",\"Former Employee\",\"Current Employee\",\"Current Employee\",\"Former Employee\",\"Current Employee\",\"Former Employee\",\"Current Employee\",\"Current Employee\",\"Former Employee\",\"Current Employee\",\"Former Employee\",\"Former Employee\",\"Current Employee\",\"Former Employee\",\"Former Employee\",\"Current Employee\",\"Current Employee\",\"Current Employee\",\"Former Employee\",\"Former Employee\",\"Former Employee\",\"Current Employee\",\"Former Employee\",\"Former Employee\",\"Current Employee\",\"Former Employee\",\"Current Employee\",\"Former Employee\",\"Former Employee\",\"Former Employee\",\"Former Employee\",\"Current Employee\",\"Former Employee\",\"Current Employee\",\"Former Employee\",\"Current Employee\",\"Former Employee\",\"Former Employee\",\"Former Employee\",\"Former Employee\",\"Current Employee\",\"Current Employee\",\"Former Employee\",\"Current Employee\",\"Current Employee\",\"Current Employee\",\"Former Employee\",\"Current Employee\",\"Former Employee\",\"Former Employee\",\"Former Employee\",\"Current Employee\",\"Former Employee\",\"Current Employee\",\"Former Employee\",\"Current Employee\",\"Former Employee\",\"Former Employee\",\"Current Employee\",\"Former Employee\",\"Current Employee\",\"Former Employee\",\"Current Employee\",\"Current Employee\",\"Current Employee\",\"Current Employee\",\"Current Employee\",\"Current Employee\",\"Former Employee\",\"Former Employee\",\"Former Employee\",\"Former Employee\",\"Current Employee\",\"Former Employee\",\"Current Employee\"],\"xaxis\":\"x\",\"yaxis\":\"y\"},{\"alignmentgroup\":\"True\",\"bingroup\":\"x\",\"hovertemplate\":\"rating=2.0<br>employee_type=%{x}<br>count=%{y}<extra></extra>\",\"legendgroup\":\"2.0\",\"marker\":{\"color\":\"#ab63fa\",\"pattern\":{\"shape\":\"\"}},\"name\":\"2.0\",\"offsetgroup\":\"2.0\",\"orientation\":\"v\",\"showlegend\":true,\"type\":\"histogram\",\"x\":[\"Current Employee\",\"Current Employee\",\"Current Employee\",\"Current Employee\",\"Former Employee\",\"Current Employee\",\"Current Employee\",\"Former Employee\",\"Current Employee\",\"Current Employee\",\"Current Employee\",\"Former Employee\",\"Current Employee\",\"Former Employee\",\"Former Employee\",\"Former Employee\",\"Former Employee\",\"Current Employee\",\"Former Employee\",\"Current Employee\",\"Current Employee\",\"Former Employee\",\"Current Employee\",\"Current Employee\",\"Former Employee\",\"Current Employee\",\"Current Employee\",\"Current Employee\",\"Former Employee\",\"Current Employee\",\"Current Employee\",\"Former Employee\",\"Former Employee\",\"Current Employee\",\"Current Employee\",\"Former Employee\",\"Current Employee\",\"Current Employee\",\"Current Employee\",\"Former Employee\",\"Current Employee\",\"Former Employee\",\"Former Employee\",\"Former Employee\",\"Current Employee\",\"Former Employee\",\"Former Employee\",\"Current Employee\",\"Former Employee\",\"Former Employee\",\"Current Employee\",\"Current Employee\",\"Former Employee\",\"Former Employee\",\"Current Employee\",\"Former Employee\",\"Former Employee\",\"Current Employee\",\"Former Employee\",\"Current Employee\",\"Current Employee\",\"Current Employee\",\"Former Employee\",\"Former Employee\",\"Former Employee\",\"Current Employee\",\"Current Employee\",\"Current Employee\",\"Former Employee\",\"Former Employee\",\"Former Employee\",\"Former Employee\",\"Former Employee\",\"Current Employee\",\"Former Employee\",\"Former Employee\",\"Former Employee\",\"Former Employee\",\"Former Employee\",\"Current Employee\",\"Current Employee\",\"Current Employee\",\"Former Employee\",\"Current Employee\",\"Current Employee\",\"Current Employee\",\"Former Employee\",\"Former Employee\",\"Former Employee\",\"Current Employee\",\"Former Employee\",\"Current Employee\",\"Current Employee\",\"Former Employee\"],\"xaxis\":\"x\",\"yaxis\":\"y\"},{\"alignmentgroup\":\"True\",\"bingroup\":\"x\",\"hovertemplate\":\"rating=1.0<br>employee_type=%{x}<br>count=%{y}<extra></extra>\",\"legendgroup\":\"1.0\",\"marker\":{\"color\":\"#FFA15A\",\"pattern\":{\"shape\":\"\"}},\"name\":\"1.0\",\"offsetgroup\":\"1.0\",\"orientation\":\"v\",\"showlegend\":true,\"type\":\"histogram\",\"x\":[\"Former Employee\",\"Current Employee\",\"Former Employee\",\"Current Employee\",\"Former Employee\",\"Former Employee\",\"Former Employee\",\"Former Employee\",\"Former Employee\",\"Former Employee\",\"Former Employee\",\"Former Employee\",\"Current Employee\",\"Current Employee\",\"Current Employee\",\"Former Employee\",\"Former Employee\",\"Former Employee\",\"Former Employee\",\"Former Employee\",\"Current Employee\",\"Former Employee\",\"Former Employee\",\"Current Employee\",\"Former Employee\",\"Current Employee\",\"Former Employee\",\"Former Employee\",\"Former Employee\",\"Current Employee\",\"Current Employee\",\"Former Employee\",\"Former Employee\",\"Current Employee\",\"Former Employee\",\"Current Employee\",\"Former Employee\",\"Current Employee\",\"Former Employee\",\"Former Employee\",\"Current Employee\",\"Former Employee\",\"Current Employee\",\"Former Employee\",\"Current Employee\",\"Current Employee\",\"Former Employee\",\"Former Employee\",\"Former Employee\",\"Former Employee\",\"Former Employee\",\"Former Employee\",\"Former Employee\",\"Former Employee\",\"Former Employee\"],\"xaxis\":\"x\",\"yaxis\":\"y\"}],                        {\"barmode\":\"relative\",\"legend\":{\"title\":{\"text\":\"rating\"},\"tracegroupgap\":0},\"margin\":{\"t\":60},\"template\":{\"data\":{\"bar\":[{\"error_x\":{\"color\":\"#2a3f5f\"},\"error_y\":{\"color\":\"#2a3f5f\"},\"marker\":{\"line\":{\"color\":\"#E5ECF6\",\"width\":0.5},\"pattern\":{\"fillmode\":\"overlay\",\"size\":10,\"solidity\":0.2}},\"type\":\"bar\"}],\"barpolar\":[{\"marker\":{\"line\":{\"color\":\"#E5ECF6\",\"width\":0.5},\"pattern\":{\"fillmode\":\"overlay\",\"size\":10,\"solidity\":0.2}},\"type\":\"barpolar\"}],\"carpet\":[{\"aaxis\":{\"endlinecolor\":\"#2a3f5f\",\"gridcolor\":\"white\",\"linecolor\":\"white\",\"minorgridcolor\":\"white\",\"startlinecolor\":\"#2a3f5f\"},\"baxis\":{\"endlinecolor\":\"#2a3f5f\",\"gridcolor\":\"white\",\"linecolor\":\"white\",\"minorgridcolor\":\"white\",\"startlinecolor\":\"#2a3f5f\"},\"type\":\"carpet\"}],\"choropleth\":[{\"colorbar\":{\"outlinewidth\":0,\"ticks\":\"\"},\"type\":\"choropleth\"}],\"contour\":[{\"colorbar\":{\"outlinewidth\":0,\"ticks\":\"\"},\"colorscale\":[[0.0,\"#0d0887\"],[0.1111111111111111,\"#46039f\"],[0.2222222222222222,\"#7201a8\"],[0.3333333333333333,\"#9c179e\"],[0.4444444444444444,\"#bd3786\"],[0.5555555555555556,\"#d8576b\"],[0.6666666666666666,\"#ed7953\"],[0.7777777777777778,\"#fb9f3a\"],[0.8888888888888888,\"#fdca26\"],[1.0,\"#f0f921\"]],\"type\":\"contour\"}],\"contourcarpet\":[{\"colorbar\":{\"outlinewidth\":0,\"ticks\":\"\"},\"type\":\"contourcarpet\"}],\"heatmap\":[{\"colorbar\":{\"outlinewidth\":0,\"ticks\":\"\"},\"colorscale\":[[0.0,\"#0d0887\"],[0.1111111111111111,\"#46039f\"],[0.2222222222222222,\"#7201a8\"],[0.3333333333333333,\"#9c179e\"],[0.4444444444444444,\"#bd3786\"],[0.5555555555555556,\"#d8576b\"],[0.6666666666666666,\"#ed7953\"],[0.7777777777777778,\"#fb9f3a\"],[0.8888888888888888,\"#fdca26\"],[1.0,\"#f0f921\"]],\"type\":\"heatmap\"}],\"heatmapgl\":[{\"colorbar\":{\"outlinewidth\":0,\"ticks\":\"\"},\"colorscale\":[[0.0,\"#0d0887\"],[0.1111111111111111,\"#46039f\"],[0.2222222222222222,\"#7201a8\"],[0.3333333333333333,\"#9c179e\"],[0.4444444444444444,\"#bd3786\"],[0.5555555555555556,\"#d8576b\"],[0.6666666666666666,\"#ed7953\"],[0.7777777777777778,\"#fb9f3a\"],[0.8888888888888888,\"#fdca26\"],[1.0,\"#f0f921\"]],\"type\":\"heatmapgl\"}],\"histogram\":[{\"marker\":{\"pattern\":{\"fillmode\":\"overlay\",\"size\":10,\"solidity\":0.2}},\"type\":\"histogram\"}],\"histogram2d\":[{\"colorbar\":{\"outlinewidth\":0,\"ticks\":\"\"},\"colorscale\":[[0.0,\"#0d0887\"],[0.1111111111111111,\"#46039f\"],[0.2222222222222222,\"#7201a8\"],[0.3333333333333333,\"#9c179e\"],[0.4444444444444444,\"#bd3786\"],[0.5555555555555556,\"#d8576b\"],[0.6666666666666666,\"#ed7953\"],[0.7777777777777778,\"#fb9f3a\"],[0.8888888888888888,\"#fdca26\"],[1.0,\"#f0f921\"]],\"type\":\"histogram2d\"}],\"histogram2dcontour\":[{\"colorbar\":{\"outlinewidth\":0,\"ticks\":\"\"},\"colorscale\":[[0.0,\"#0d0887\"],[0.1111111111111111,\"#46039f\"],[0.2222222222222222,\"#7201a8\"],[0.3333333333333333,\"#9c179e\"],[0.4444444444444444,\"#bd3786\"],[0.5555555555555556,\"#d8576b\"],[0.6666666666666666,\"#ed7953\"],[0.7777777777777778,\"#fb9f3a\"],[0.8888888888888888,\"#fdca26\"],[1.0,\"#f0f921\"]],\"type\":\"histogram2dcontour\"}],\"mesh3d\":[{\"colorbar\":{\"outlinewidth\":0,\"ticks\":\"\"},\"type\":\"mesh3d\"}],\"parcoords\":[{\"line\":{\"colorbar\":{\"outlinewidth\":0,\"ticks\":\"\"}},\"type\":\"parcoords\"}],\"pie\":[{\"automargin\":true,\"type\":\"pie\"}],\"scatter\":[{\"marker\":{\"colorbar\":{\"outlinewidth\":0,\"ticks\":\"\"}},\"type\":\"scatter\"}],\"scatter3d\":[{\"line\":{\"colorbar\":{\"outlinewidth\":0,\"ticks\":\"\"}},\"marker\":{\"colorbar\":{\"outlinewidth\":0,\"ticks\":\"\"}},\"type\":\"scatter3d\"}],\"scattercarpet\":[{\"marker\":{\"colorbar\":{\"outlinewidth\":0,\"ticks\":\"\"}},\"type\":\"scattercarpet\"}],\"scattergeo\":[{\"marker\":{\"colorbar\":{\"outlinewidth\":0,\"ticks\":\"\"}},\"type\":\"scattergeo\"}],\"scattergl\":[{\"marker\":{\"colorbar\":{\"outlinewidth\":0,\"ticks\":\"\"}},\"type\":\"scattergl\"}],\"scattermapbox\":[{\"marker\":{\"colorbar\":{\"outlinewidth\":0,\"ticks\":\"\"}},\"type\":\"scattermapbox\"}],\"scatterpolar\":[{\"marker\":{\"colorbar\":{\"outlinewidth\":0,\"ticks\":\"\"}},\"type\":\"scatterpolar\"}],\"scatterpolargl\":[{\"marker\":{\"colorbar\":{\"outlinewidth\":0,\"ticks\":\"\"}},\"type\":\"scatterpolargl\"}],\"scatterternary\":[{\"marker\":{\"colorbar\":{\"outlinewidth\":0,\"ticks\":\"\"}},\"type\":\"scatterternary\"}],\"surface\":[{\"colorbar\":{\"outlinewidth\":0,\"ticks\":\"\"},\"colorscale\":[[0.0,\"#0d0887\"],[0.1111111111111111,\"#46039f\"],[0.2222222222222222,\"#7201a8\"],[0.3333333333333333,\"#9c179e\"],[0.4444444444444444,\"#bd3786\"],[0.5555555555555556,\"#d8576b\"],[0.6666666666666666,\"#ed7953\"],[0.7777777777777778,\"#fb9f3a\"],[0.8888888888888888,\"#fdca26\"],[1.0,\"#f0f921\"]],\"type\":\"surface\"}],\"table\":[{\"cells\":{\"fill\":{\"color\":\"#EBF0F8\"},\"line\":{\"color\":\"white\"}},\"header\":{\"fill\":{\"color\":\"#C8D4E3\"},\"line\":{\"color\":\"white\"}},\"type\":\"table\"}]},\"layout\":{\"annotationdefaults\":{\"arrowcolor\":\"#2a3f5f\",\"arrowhead\":0,\"arrowwidth\":1},\"autotypenumbers\":\"strict\",\"coloraxis\":{\"colorbar\":{\"outlinewidth\":0,\"ticks\":\"\"}},\"colorscale\":{\"diverging\":[[0,\"#8e0152\"],[0.1,\"#c51b7d\"],[0.2,\"#de77ae\"],[0.3,\"#f1b6da\"],[0.4,\"#fde0ef\"],[0.5,\"#f7f7f7\"],[0.6,\"#e6f5d0\"],[0.7,\"#b8e186\"],[0.8,\"#7fbc41\"],[0.9,\"#4d9221\"],[1,\"#276419\"]],\"sequential\":[[0.0,\"#0d0887\"],[0.1111111111111111,\"#46039f\"],[0.2222222222222222,\"#7201a8\"],[0.3333333333333333,\"#9c179e\"],[0.4444444444444444,\"#bd3786\"],[0.5555555555555556,\"#d8576b\"],[0.6666666666666666,\"#ed7953\"],[0.7777777777777778,\"#fb9f3a\"],[0.8888888888888888,\"#fdca26\"],[1.0,\"#f0f921\"]],\"sequentialminus\":[[0.0,\"#0d0887\"],[0.1111111111111111,\"#46039f\"],[0.2222222222222222,\"#7201a8\"],[0.3333333333333333,\"#9c179e\"],[0.4444444444444444,\"#bd3786\"],[0.5555555555555556,\"#d8576b\"],[0.6666666666666666,\"#ed7953\"],[0.7777777777777778,\"#fb9f3a\"],[0.8888888888888888,\"#fdca26\"],[1.0,\"#f0f921\"]]},\"colorway\":[\"#636efa\",\"#EF553B\",\"#00cc96\",\"#ab63fa\",\"#FFA15A\",\"#19d3f3\",\"#FF6692\",\"#B6E880\",\"#FF97FF\",\"#FECB52\"],\"font\":{\"color\":\"#2a3f5f\"},\"geo\":{\"bgcolor\":\"white\",\"lakecolor\":\"white\",\"landcolor\":\"#E5ECF6\",\"showlakes\":true,\"showland\":true,\"subunitcolor\":\"white\"},\"hoverlabel\":{\"align\":\"left\"},\"hovermode\":\"closest\",\"mapbox\":{\"style\":\"light\"},\"paper_bgcolor\":\"white\",\"plot_bgcolor\":\"#E5ECF6\",\"polar\":{\"angularaxis\":{\"gridcolor\":\"white\",\"linecolor\":\"white\",\"ticks\":\"\"},\"bgcolor\":\"#E5ECF6\",\"radialaxis\":{\"gridcolor\":\"white\",\"linecolor\":\"white\",\"ticks\":\"\"}},\"scene\":{\"xaxis\":{\"backgroundcolor\":\"#E5ECF6\",\"gridcolor\":\"white\",\"gridwidth\":2,\"linecolor\":\"white\",\"showbackground\":true,\"ticks\":\"\",\"zerolinecolor\":\"white\"},\"yaxis\":{\"backgroundcolor\":\"#E5ECF6\",\"gridcolor\":\"white\",\"gridwidth\":2,\"linecolor\":\"white\",\"showbackground\":true,\"ticks\":\"\",\"zerolinecolor\":\"white\"},\"zaxis\":{\"backgroundcolor\":\"#E5ECF6\",\"gridcolor\":\"white\",\"gridwidth\":2,\"linecolor\":\"white\",\"showbackground\":true,\"ticks\":\"\",\"zerolinecolor\":\"white\"}},\"shapedefaults\":{\"line\":{\"color\":\"#2a3f5f\"}},\"ternary\":{\"aaxis\":{\"gridcolor\":\"white\",\"linecolor\":\"white\",\"ticks\":\"\"},\"baxis\":{\"gridcolor\":\"white\",\"linecolor\":\"white\",\"ticks\":\"\"},\"bgcolor\":\"#E5ECF6\",\"caxis\":{\"gridcolor\":\"white\",\"linecolor\":\"white\",\"ticks\":\"\"}},\"title\":{\"x\":0.05},\"xaxis\":{\"automargin\":true,\"gridcolor\":\"white\",\"linecolor\":\"white\",\"ticks\":\"\",\"title\":{\"standoff\":15},\"zerolinecolor\":\"white\",\"zerolinewidth\":2},\"yaxis\":{\"automargin\":true,\"gridcolor\":\"white\",\"linecolor\":\"white\",\"ticks\":\"\",\"title\":{\"standoff\":15},\"zerolinecolor\":\"white\",\"zerolinewidth\":2}}},\"xaxis\":{\"anchor\":\"y\",\"domain\":[0.0,1.0],\"title\":{\"text\":\"employee_type\"}},\"yaxis\":{\"anchor\":\"x\",\"domain\":[0.0,1.0],\"title\":{\"text\":\"count\"}}},                        {\"responsive\": true}                    ).then(function(){\n",
       "                            \n",
       "var gd = document.getElementById('88184d9b-f4a7-4c79-ad7e-bba5bc749ff4');\n",
       "var x = new MutationObserver(function (mutations, observer) {{\n",
       "        var display = window.getComputedStyle(gd).display;\n",
       "        if (!display || display === 'none') {{\n",
       "            console.log([gd, 'removed!']);\n",
       "            Plotly.purge(gd);\n",
       "            observer.disconnect();\n",
       "        }}\n",
       "}});\n",
       "\n",
       "// Listen for the removal of the full notebook cells\n",
       "var notebookContainer = gd.closest('#notebook-container');\n",
       "if (notebookContainer) {{\n",
       "    x.observe(notebookContainer, {childList: true});\n",
       "}}\n",
       "\n",
       "// Listen for the clearing of the current output cell\n",
       "var outputEl = gd.closest('.output');\n",
       "if (outputEl) {{\n",
       "    x.observe(outputEl, {childList: true});\n",
       "}}\n",
       "\n",
       "                        })                };                });            </script>        </div>"
      ]
     },
     "metadata": {},
     "output_type": "display_data"
    }
   ],
   "source": [
    "px.histogram(walmart_df, x=\"employee_type\", color=\"rating\")"
   ]
  },
  {
   "cell_type": "markdown",
   "id": "5cb723e2",
   "metadata": {},
   "source": [
    "#### Plot review count timeline "
   ]
  },
  {
   "cell_type": "code",
   "execution_count": 71,
   "id": "36488890",
   "metadata": {},
   "outputs": [],
   "source": [
    "from dateutil.parser import parse"
   ]
  },
  {
   "cell_type": "code",
   "execution_count": 72,
   "id": "c24e8c1b",
   "metadata": {},
   "outputs": [],
   "source": [
    "walmart_df['monthyear'] = pd.to_datetime(walmart_df['date']).dt.to_period('M')"
   ]
  },
  {
   "cell_type": "code",
   "execution_count": 73,
   "id": "fbb14346",
   "metadata": {},
   "outputs": [
    {
     "data": {
      "text/html": [
       "<div>\n",
       "<style scoped>\n",
       "    .dataframe tbody tr th:only-of-type {\n",
       "        vertical-align: middle;\n",
       "    }\n",
       "\n",
       "    .dataframe tbody tr th {\n",
       "        vertical-align: top;\n",
       "    }\n",
       "\n",
       "    .dataframe thead th {\n",
       "        text-align: right;\n",
       "    }\n",
       "</style>\n",
       "<table border=\"1\" class=\"dataframe\">\n",
       "  <thead>\n",
       "    <tr style=\"text-align: right;\">\n",
       "      <th></th>\n",
       "      <th>rating</th>\n",
       "      <th>employee_type</th>\n",
       "      <th>review</th>\n",
       "      <th>pros</th>\n",
       "      <th>cons</th>\n",
       "      <th>date</th>\n",
       "      <th>job title</th>\n",
       "      <th>monthyear</th>\n",
       "      <th>day</th>\n",
       "    </tr>\n",
       "  </thead>\n",
       "  <tbody>\n",
       "    <tr>\n",
       "      <th>0</th>\n",
       "      <td>5.0</td>\n",
       "      <td>Current Employee</td>\n",
       "      <td>pretty cool</td>\n",
       "      <td>get to be outside most of the time</td>\n",
       "      <td>i have to work but its okay</td>\n",
       "      <td>2021-10-04</td>\n",
       "      <td>Anonymous Employee</td>\n",
       "      <td>2021-10</td>\n",
       "      <td>2021-10-04</td>\n",
       "    </tr>\n",
       "    <tr>\n",
       "      <th>1</th>\n",
       "      <td>5.0</td>\n",
       "      <td>Former Employee</td>\n",
       "      <td>From an Asst Store Manager</td>\n",
       "      <td>Advancement opportunities, great at developing...</td>\n",
       "      <td>Understaffing issues negatively affects all pa...</td>\n",
       "      <td>2015-06-02</td>\n",
       "      <td>Assistant Store Manager</td>\n",
       "      <td>2015-06</td>\n",
       "      <td>2015-06-02</td>\n",
       "    </tr>\n",
       "    <tr>\n",
       "      <th>2</th>\n",
       "      <td>3.0</td>\n",
       "      <td>Former Employee</td>\n",
       "      <td>It only takes one.</td>\n",
       "      <td>I loved working with people as management. Thi...</td>\n",
       "      <td>It only takes one senior level management to t...</td>\n",
       "      <td>2021-10-19</td>\n",
       "      <td>Field Assistant Manager</td>\n",
       "      <td>2021-10</td>\n",
       "      <td>2021-10-19</td>\n",
       "    </tr>\n",
       "    <tr>\n",
       "      <th>3</th>\n",
       "      <td>3.0</td>\n",
       "      <td>Current Employee</td>\n",
       "      <td>Can get overwhelming at times but decent pay</td>\n",
       "      <td>$14 an hour starting pay.\\nDepending on what r...</td>\n",
       "      <td>Generally the whole business strucutre in term...</td>\n",
       "      <td>2021-10-05</td>\n",
       "      <td>Online Personal Shopper</td>\n",
       "      <td>2021-10</td>\n",
       "      <td>2021-10-05</td>\n",
       "    </tr>\n",
       "    <tr>\n",
       "      <th>4</th>\n",
       "      <td>3.0</td>\n",
       "      <td>Former Employee</td>\n",
       "      <td>Admiring Front Skill</td>\n",
       "      <td>A lot of social trafficking.....minimal guidan...</td>\n",
       "      <td>Less of a total team effectiveness by picking ...</td>\n",
       "      <td>2021-10-21</td>\n",
       "      <td>Guest Greeter</td>\n",
       "      <td>2021-10</td>\n",
       "      <td>2021-10-21</td>\n",
       "    </tr>\n",
       "  </tbody>\n",
       "</table>\n",
       "</div>"
      ],
      "text/plain": [
       "   rating     employee_type                                        review  \\\n",
       "0     5.0  Current Employee                                   pretty cool   \n",
       "1     5.0   Former Employee                    From an Asst Store Manager   \n",
       "2     3.0   Former Employee                            It only takes one.   \n",
       "3     3.0  Current Employee  Can get overwhelming at times but decent pay   \n",
       "4     3.0   Former Employee                          Admiring Front Skill   \n",
       "\n",
       "                                                pros  \\\n",
       "0                 get to be outside most of the time   \n",
       "1  Advancement opportunities, great at developing...   \n",
       "2  I loved working with people as management. Thi...   \n",
       "3  $14 an hour starting pay.\\nDepending on what r...   \n",
       "4  A lot of social trafficking.....minimal guidan...   \n",
       "\n",
       "                                                cons       date  \\\n",
       "0                        i have to work but its okay 2021-10-04   \n",
       "1  Understaffing issues negatively affects all pa... 2015-06-02   \n",
       "2  It only takes one senior level management to t... 2021-10-19   \n",
       "3  Generally the whole business strucutre in term... 2021-10-05   \n",
       "4  Less of a total team effectiveness by picking ... 2021-10-21   \n",
       "\n",
       "                  job title monthyear         day  \n",
       "0        Anonymous Employee   2021-10  2021-10-04  \n",
       "1   Assistant Store Manager   2015-06  2015-06-02  \n",
       "2   Field Assistant Manager   2021-10  2021-10-19  \n",
       "3   Online Personal Shopper   2021-10  2021-10-05  \n",
       "4             Guest Greeter   2021-10  2021-10-21  "
      ]
     },
     "execution_count": 73,
     "metadata": {},
     "output_type": "execute_result"
    }
   ],
   "source": [
    "walmart_df.head()"
   ]
  },
  {
   "cell_type": "code",
   "execution_count": 59,
   "id": "40c9c04c",
   "metadata": {},
   "outputs": [
    {
     "data": {
      "text/html": [
       "<div>\n",
       "<style scoped>\n",
       "    .dataframe tbody tr th:only-of-type {\n",
       "        vertical-align: middle;\n",
       "    }\n",
       "\n",
       "    .dataframe tbody tr th {\n",
       "        vertical-align: top;\n",
       "    }\n",
       "\n",
       "    .dataframe thead th {\n",
       "        text-align: right;\n",
       "    }\n",
       "</style>\n",
       "<table border=\"1\" class=\"dataframe\">\n",
       "  <thead>\n",
       "    <tr style=\"text-align: right;\">\n",
       "      <th></th>\n",
       "      <th>month</th>\n",
       "      <th>counts</th>\n",
       "    </tr>\n",
       "  </thead>\n",
       "  <tbody>\n",
       "    <tr>\n",
       "      <th>0</th>\n",
       "      <td>2015-06</td>\n",
       "      <td>2</td>\n",
       "    </tr>\n",
       "    <tr>\n",
       "      <th>1</th>\n",
       "      <td>2021-05</td>\n",
       "      <td>2</td>\n",
       "    </tr>\n",
       "    <tr>\n",
       "      <th>2</th>\n",
       "      <td>2021-06</td>\n",
       "      <td>3</td>\n",
       "    </tr>\n",
       "    <tr>\n",
       "      <th>3</th>\n",
       "      <td>2021-07</td>\n",
       "      <td>13</td>\n",
       "    </tr>\n",
       "    <tr>\n",
       "      <th>4</th>\n",
       "      <td>2021-08</td>\n",
       "      <td>39</td>\n",
       "    </tr>\n",
       "    <tr>\n",
       "      <th>5</th>\n",
       "      <td>2021-09</td>\n",
       "      <td>215</td>\n",
       "    </tr>\n",
       "    <tr>\n",
       "      <th>6</th>\n",
       "      <td>2021-10</td>\n",
       "      <td>732</td>\n",
       "    </tr>\n",
       "  </tbody>\n",
       "</table>\n",
       "</div>"
      ],
      "text/plain": [
       "     month  counts\n",
       "0  2015-06       2\n",
       "1  2021-05       2\n",
       "2  2021-06       3\n",
       "3  2021-07      13\n",
       "4  2021-08      39\n",
       "5  2021-09     215\n",
       "6  2021-10     732"
      ]
     },
     "execution_count": 59,
     "metadata": {},
     "output_type": "execute_result"
    }
   ],
   "source": [
    "by_month = pd.to_datetime(walmart_df['date']).dt.to_period('M').value_counts().sort_index()\n",
    "by_month.index = pd.PeriodIndex(by_month.index)\n",
    "df_month = by_month.rename_axis('month').reset_index(name='counts')\n",
    "df_month"
   ]
  },
  {
   "cell_type": "code",
   "execution_count": 61,
   "id": "661b2735",
   "metadata": {},
   "outputs": [
    {
     "data": {
      "application/vnd.plotly.v1+json": {
       "config": {
        "plotlyServerURL": "https://plot.ly"
       },
       "data": [
        {
         "marker": {
          "color": "indianred"
         },
         "text": "counts",
         "type": "scatter",
         "x": [
          "2015-06",
          "2021-05",
          "2021-06",
          "2021-07",
          "2021-08",
          "2021-09",
          "2021-10"
         ],
         "y": [
          2,
          2,
          3,
          13,
          39,
          215,
          732
         ]
        }
       ],
       "layout": {
        "showlegend": false,
        "template": {
         "data": {
          "bar": [
           {
            "error_x": {
             "color": "#2a3f5f"
            },
            "error_y": {
             "color": "#2a3f5f"
            },
            "marker": {
             "line": {
              "color": "#E5ECF6",
              "width": 0.5
             },
             "pattern": {
              "fillmode": "overlay",
              "size": 10,
              "solidity": 0.2
             }
            },
            "type": "bar"
           }
          ],
          "barpolar": [
           {
            "marker": {
             "line": {
              "color": "#E5ECF6",
              "width": 0.5
             },
             "pattern": {
              "fillmode": "overlay",
              "size": 10,
              "solidity": 0.2
             }
            },
            "type": "barpolar"
           }
          ],
          "carpet": [
           {
            "aaxis": {
             "endlinecolor": "#2a3f5f",
             "gridcolor": "white",
             "linecolor": "white",
             "minorgridcolor": "white",
             "startlinecolor": "#2a3f5f"
            },
            "baxis": {
             "endlinecolor": "#2a3f5f",
             "gridcolor": "white",
             "linecolor": "white",
             "minorgridcolor": "white",
             "startlinecolor": "#2a3f5f"
            },
            "type": "carpet"
           }
          ],
          "choropleth": [
           {
            "colorbar": {
             "outlinewidth": 0,
             "ticks": ""
            },
            "type": "choropleth"
           }
          ],
          "contour": [
           {
            "colorbar": {
             "outlinewidth": 0,
             "ticks": ""
            },
            "colorscale": [
             [
              0,
              "#0d0887"
             ],
             [
              0.1111111111111111,
              "#46039f"
             ],
             [
              0.2222222222222222,
              "#7201a8"
             ],
             [
              0.3333333333333333,
              "#9c179e"
             ],
             [
              0.4444444444444444,
              "#bd3786"
             ],
             [
              0.5555555555555556,
              "#d8576b"
             ],
             [
              0.6666666666666666,
              "#ed7953"
             ],
             [
              0.7777777777777778,
              "#fb9f3a"
             ],
             [
              0.8888888888888888,
              "#fdca26"
             ],
             [
              1,
              "#f0f921"
             ]
            ],
            "type": "contour"
           }
          ],
          "contourcarpet": [
           {
            "colorbar": {
             "outlinewidth": 0,
             "ticks": ""
            },
            "type": "contourcarpet"
           }
          ],
          "heatmap": [
           {
            "colorbar": {
             "outlinewidth": 0,
             "ticks": ""
            },
            "colorscale": [
             [
              0,
              "#0d0887"
             ],
             [
              0.1111111111111111,
              "#46039f"
             ],
             [
              0.2222222222222222,
              "#7201a8"
             ],
             [
              0.3333333333333333,
              "#9c179e"
             ],
             [
              0.4444444444444444,
              "#bd3786"
             ],
             [
              0.5555555555555556,
              "#d8576b"
             ],
             [
              0.6666666666666666,
              "#ed7953"
             ],
             [
              0.7777777777777778,
              "#fb9f3a"
             ],
             [
              0.8888888888888888,
              "#fdca26"
             ],
             [
              1,
              "#f0f921"
             ]
            ],
            "type": "heatmap"
           }
          ],
          "heatmapgl": [
           {
            "colorbar": {
             "outlinewidth": 0,
             "ticks": ""
            },
            "colorscale": [
             [
              0,
              "#0d0887"
             ],
             [
              0.1111111111111111,
              "#46039f"
             ],
             [
              0.2222222222222222,
              "#7201a8"
             ],
             [
              0.3333333333333333,
              "#9c179e"
             ],
             [
              0.4444444444444444,
              "#bd3786"
             ],
             [
              0.5555555555555556,
              "#d8576b"
             ],
             [
              0.6666666666666666,
              "#ed7953"
             ],
             [
              0.7777777777777778,
              "#fb9f3a"
             ],
             [
              0.8888888888888888,
              "#fdca26"
             ],
             [
              1,
              "#f0f921"
             ]
            ],
            "type": "heatmapgl"
           }
          ],
          "histogram": [
           {
            "marker": {
             "pattern": {
              "fillmode": "overlay",
              "size": 10,
              "solidity": 0.2
             }
            },
            "type": "histogram"
           }
          ],
          "histogram2d": [
           {
            "colorbar": {
             "outlinewidth": 0,
             "ticks": ""
            },
            "colorscale": [
             [
              0,
              "#0d0887"
             ],
             [
              0.1111111111111111,
              "#46039f"
             ],
             [
              0.2222222222222222,
              "#7201a8"
             ],
             [
              0.3333333333333333,
              "#9c179e"
             ],
             [
              0.4444444444444444,
              "#bd3786"
             ],
             [
              0.5555555555555556,
              "#d8576b"
             ],
             [
              0.6666666666666666,
              "#ed7953"
             ],
             [
              0.7777777777777778,
              "#fb9f3a"
             ],
             [
              0.8888888888888888,
              "#fdca26"
             ],
             [
              1,
              "#f0f921"
             ]
            ],
            "type": "histogram2d"
           }
          ],
          "histogram2dcontour": [
           {
            "colorbar": {
             "outlinewidth": 0,
             "ticks": ""
            },
            "colorscale": [
             [
              0,
              "#0d0887"
             ],
             [
              0.1111111111111111,
              "#46039f"
             ],
             [
              0.2222222222222222,
              "#7201a8"
             ],
             [
              0.3333333333333333,
              "#9c179e"
             ],
             [
              0.4444444444444444,
              "#bd3786"
             ],
             [
              0.5555555555555556,
              "#d8576b"
             ],
             [
              0.6666666666666666,
              "#ed7953"
             ],
             [
              0.7777777777777778,
              "#fb9f3a"
             ],
             [
              0.8888888888888888,
              "#fdca26"
             ],
             [
              1,
              "#f0f921"
             ]
            ],
            "type": "histogram2dcontour"
           }
          ],
          "mesh3d": [
           {
            "colorbar": {
             "outlinewidth": 0,
             "ticks": ""
            },
            "type": "mesh3d"
           }
          ],
          "parcoords": [
           {
            "line": {
             "colorbar": {
              "outlinewidth": 0,
              "ticks": ""
             }
            },
            "type": "parcoords"
           }
          ],
          "pie": [
           {
            "automargin": true,
            "type": "pie"
           }
          ],
          "scatter": [
           {
            "marker": {
             "colorbar": {
              "outlinewidth": 0,
              "ticks": ""
             }
            },
            "type": "scatter"
           }
          ],
          "scatter3d": [
           {
            "line": {
             "colorbar": {
              "outlinewidth": 0,
              "ticks": ""
             }
            },
            "marker": {
             "colorbar": {
              "outlinewidth": 0,
              "ticks": ""
             }
            },
            "type": "scatter3d"
           }
          ],
          "scattercarpet": [
           {
            "marker": {
             "colorbar": {
              "outlinewidth": 0,
              "ticks": ""
             }
            },
            "type": "scattercarpet"
           }
          ],
          "scattergeo": [
           {
            "marker": {
             "colorbar": {
              "outlinewidth": 0,
              "ticks": ""
             }
            },
            "type": "scattergeo"
           }
          ],
          "scattergl": [
           {
            "marker": {
             "colorbar": {
              "outlinewidth": 0,
              "ticks": ""
             }
            },
            "type": "scattergl"
           }
          ],
          "scattermapbox": [
           {
            "marker": {
             "colorbar": {
              "outlinewidth": 0,
              "ticks": ""
             }
            },
            "type": "scattermapbox"
           }
          ],
          "scatterpolar": [
           {
            "marker": {
             "colorbar": {
              "outlinewidth": 0,
              "ticks": ""
             }
            },
            "type": "scatterpolar"
           }
          ],
          "scatterpolargl": [
           {
            "marker": {
             "colorbar": {
              "outlinewidth": 0,
              "ticks": ""
             }
            },
            "type": "scatterpolargl"
           }
          ],
          "scatterternary": [
           {
            "marker": {
             "colorbar": {
              "outlinewidth": 0,
              "ticks": ""
             }
            },
            "type": "scatterternary"
           }
          ],
          "surface": [
           {
            "colorbar": {
             "outlinewidth": 0,
             "ticks": ""
            },
            "colorscale": [
             [
              0,
              "#0d0887"
             ],
             [
              0.1111111111111111,
              "#46039f"
             ],
             [
              0.2222222222222222,
              "#7201a8"
             ],
             [
              0.3333333333333333,
              "#9c179e"
             ],
             [
              0.4444444444444444,
              "#bd3786"
             ],
             [
              0.5555555555555556,
              "#d8576b"
             ],
             [
              0.6666666666666666,
              "#ed7953"
             ],
             [
              0.7777777777777778,
              "#fb9f3a"
             ],
             [
              0.8888888888888888,
              "#fdca26"
             ],
             [
              1,
              "#f0f921"
             ]
            ],
            "type": "surface"
           }
          ],
          "table": [
           {
            "cells": {
             "fill": {
              "color": "#EBF0F8"
             },
             "line": {
              "color": "white"
             }
            },
            "header": {
             "fill": {
              "color": "#C8D4E3"
             },
             "line": {
              "color": "white"
             }
            },
            "type": "table"
           }
          ]
         },
         "layout": {
          "annotationdefaults": {
           "arrowcolor": "#2a3f5f",
           "arrowhead": 0,
           "arrowwidth": 1
          },
          "autotypenumbers": "strict",
          "coloraxis": {
           "colorbar": {
            "outlinewidth": 0,
            "ticks": ""
           }
          },
          "colorscale": {
           "diverging": [
            [
             0,
             "#8e0152"
            ],
            [
             0.1,
             "#c51b7d"
            ],
            [
             0.2,
             "#de77ae"
            ],
            [
             0.3,
             "#f1b6da"
            ],
            [
             0.4,
             "#fde0ef"
            ],
            [
             0.5,
             "#f7f7f7"
            ],
            [
             0.6,
             "#e6f5d0"
            ],
            [
             0.7,
             "#b8e186"
            ],
            [
             0.8,
             "#7fbc41"
            ],
            [
             0.9,
             "#4d9221"
            ],
            [
             1,
             "#276419"
            ]
           ],
           "sequential": [
            [
             0,
             "#0d0887"
            ],
            [
             0.1111111111111111,
             "#46039f"
            ],
            [
             0.2222222222222222,
             "#7201a8"
            ],
            [
             0.3333333333333333,
             "#9c179e"
            ],
            [
             0.4444444444444444,
             "#bd3786"
            ],
            [
             0.5555555555555556,
             "#d8576b"
            ],
            [
             0.6666666666666666,
             "#ed7953"
            ],
            [
             0.7777777777777778,
             "#fb9f3a"
            ],
            [
             0.8888888888888888,
             "#fdca26"
            ],
            [
             1,
             "#f0f921"
            ]
           ],
           "sequentialminus": [
            [
             0,
             "#0d0887"
            ],
            [
             0.1111111111111111,
             "#46039f"
            ],
            [
             0.2222222222222222,
             "#7201a8"
            ],
            [
             0.3333333333333333,
             "#9c179e"
            ],
            [
             0.4444444444444444,
             "#bd3786"
            ],
            [
             0.5555555555555556,
             "#d8576b"
            ],
            [
             0.6666666666666666,
             "#ed7953"
            ],
            [
             0.7777777777777778,
             "#fb9f3a"
            ],
            [
             0.8888888888888888,
             "#fdca26"
            ],
            [
             1,
             "#f0f921"
            ]
           ]
          },
          "colorway": [
           "#636efa",
           "#EF553B",
           "#00cc96",
           "#ab63fa",
           "#FFA15A",
           "#19d3f3",
           "#FF6692",
           "#B6E880",
           "#FF97FF",
           "#FECB52"
          ],
          "font": {
           "color": "#2a3f5f"
          },
          "geo": {
           "bgcolor": "white",
           "lakecolor": "white",
           "landcolor": "#E5ECF6",
           "showlakes": true,
           "showland": true,
           "subunitcolor": "white"
          },
          "hoverlabel": {
           "align": "left"
          },
          "hovermode": "closest",
          "mapbox": {
           "style": "light"
          },
          "paper_bgcolor": "white",
          "plot_bgcolor": "#E5ECF6",
          "polar": {
           "angularaxis": {
            "gridcolor": "white",
            "linecolor": "white",
            "ticks": ""
           },
           "bgcolor": "#E5ECF6",
           "radialaxis": {
            "gridcolor": "white",
            "linecolor": "white",
            "ticks": ""
           }
          },
          "scene": {
           "xaxis": {
            "backgroundcolor": "#E5ECF6",
            "gridcolor": "white",
            "gridwidth": 2,
            "linecolor": "white",
            "showbackground": true,
            "ticks": "",
            "zerolinecolor": "white"
           },
           "yaxis": {
            "backgroundcolor": "#E5ECF6",
            "gridcolor": "white",
            "gridwidth": 2,
            "linecolor": "white",
            "showbackground": true,
            "ticks": "",
            "zerolinecolor": "white"
           },
           "zaxis": {
            "backgroundcolor": "#E5ECF6",
            "gridcolor": "white",
            "gridwidth": 2,
            "linecolor": "white",
            "showbackground": true,
            "ticks": "",
            "zerolinecolor": "white"
           }
          },
          "shapedefaults": {
           "line": {
            "color": "#2a3f5f"
           }
          },
          "ternary": {
           "aaxis": {
            "gridcolor": "white",
            "linecolor": "white",
            "ticks": ""
           },
           "baxis": {
            "gridcolor": "white",
            "linecolor": "white",
            "ticks": ""
           },
           "bgcolor": "#E5ECF6",
           "caxis": {
            "gridcolor": "white",
            "linecolor": "white",
            "ticks": ""
           }
          },
          "title": {
           "x": 0.05
          },
          "xaxis": {
           "automargin": true,
           "gridcolor": "white",
           "linecolor": "white",
           "ticks": "",
           "title": {
            "standoff": 15
           },
           "zerolinecolor": "white",
           "zerolinewidth": 2
          },
          "yaxis": {
           "automargin": true,
           "gridcolor": "white",
           "linecolor": "white",
           "ticks": "",
           "title": {
            "standoff": 15
           },
           "zerolinecolor": "white",
           "zerolinewidth": 2
          }
         }
        },
        "title": {
         "text": "Reviews"
        },
        "xaxis": {
         "title": {
          "text": "Months"
         }
        },
        "yaxis": {
         "title": {
          "text": "Total Reviews"
         }
        }
       }
      },
      "text/html": [
       "<div>                            <div id=\"8838c742-d01f-4549-a0b4-5af7966abb74\" class=\"plotly-graph-div\" style=\"height:525px; width:100%;\"></div>            <script type=\"text/javascript\">                require([\"plotly\"], function(Plotly) {                    window.PLOTLYENV=window.PLOTLYENV || {};                                    if (document.getElementById(\"8838c742-d01f-4549-a0b4-5af7966abb74\")) {                    Plotly.newPlot(                        \"8838c742-d01f-4549-a0b4-5af7966abb74\",                        [{\"marker\":{\"color\":\"indianred\"},\"text\":\"counts\",\"type\":\"scatter\",\"x\":[\"2015-06\",\"2021-05\",\"2021-06\",\"2021-07\",\"2021-08\",\"2021-09\",\"2021-10\"],\"y\":[2,2,3,13,39,215,732]}],                        {\"showlegend\":false,\"template\":{\"data\":{\"bar\":[{\"error_x\":{\"color\":\"#2a3f5f\"},\"error_y\":{\"color\":\"#2a3f5f\"},\"marker\":{\"line\":{\"color\":\"#E5ECF6\",\"width\":0.5},\"pattern\":{\"fillmode\":\"overlay\",\"size\":10,\"solidity\":0.2}},\"type\":\"bar\"}],\"barpolar\":[{\"marker\":{\"line\":{\"color\":\"#E5ECF6\",\"width\":0.5},\"pattern\":{\"fillmode\":\"overlay\",\"size\":10,\"solidity\":0.2}},\"type\":\"barpolar\"}],\"carpet\":[{\"aaxis\":{\"endlinecolor\":\"#2a3f5f\",\"gridcolor\":\"white\",\"linecolor\":\"white\",\"minorgridcolor\":\"white\",\"startlinecolor\":\"#2a3f5f\"},\"baxis\":{\"endlinecolor\":\"#2a3f5f\",\"gridcolor\":\"white\",\"linecolor\":\"white\",\"minorgridcolor\":\"white\",\"startlinecolor\":\"#2a3f5f\"},\"type\":\"carpet\"}],\"choropleth\":[{\"colorbar\":{\"outlinewidth\":0,\"ticks\":\"\"},\"type\":\"choropleth\"}],\"contour\":[{\"colorbar\":{\"outlinewidth\":0,\"ticks\":\"\"},\"colorscale\":[[0.0,\"#0d0887\"],[0.1111111111111111,\"#46039f\"],[0.2222222222222222,\"#7201a8\"],[0.3333333333333333,\"#9c179e\"],[0.4444444444444444,\"#bd3786\"],[0.5555555555555556,\"#d8576b\"],[0.6666666666666666,\"#ed7953\"],[0.7777777777777778,\"#fb9f3a\"],[0.8888888888888888,\"#fdca26\"],[1.0,\"#f0f921\"]],\"type\":\"contour\"}],\"contourcarpet\":[{\"colorbar\":{\"outlinewidth\":0,\"ticks\":\"\"},\"type\":\"contourcarpet\"}],\"heatmap\":[{\"colorbar\":{\"outlinewidth\":0,\"ticks\":\"\"},\"colorscale\":[[0.0,\"#0d0887\"],[0.1111111111111111,\"#46039f\"],[0.2222222222222222,\"#7201a8\"],[0.3333333333333333,\"#9c179e\"],[0.4444444444444444,\"#bd3786\"],[0.5555555555555556,\"#d8576b\"],[0.6666666666666666,\"#ed7953\"],[0.7777777777777778,\"#fb9f3a\"],[0.8888888888888888,\"#fdca26\"],[1.0,\"#f0f921\"]],\"type\":\"heatmap\"}],\"heatmapgl\":[{\"colorbar\":{\"outlinewidth\":0,\"ticks\":\"\"},\"colorscale\":[[0.0,\"#0d0887\"],[0.1111111111111111,\"#46039f\"],[0.2222222222222222,\"#7201a8\"],[0.3333333333333333,\"#9c179e\"],[0.4444444444444444,\"#bd3786\"],[0.5555555555555556,\"#d8576b\"],[0.6666666666666666,\"#ed7953\"],[0.7777777777777778,\"#fb9f3a\"],[0.8888888888888888,\"#fdca26\"],[1.0,\"#f0f921\"]],\"type\":\"heatmapgl\"}],\"histogram\":[{\"marker\":{\"pattern\":{\"fillmode\":\"overlay\",\"size\":10,\"solidity\":0.2}},\"type\":\"histogram\"}],\"histogram2d\":[{\"colorbar\":{\"outlinewidth\":0,\"ticks\":\"\"},\"colorscale\":[[0.0,\"#0d0887\"],[0.1111111111111111,\"#46039f\"],[0.2222222222222222,\"#7201a8\"],[0.3333333333333333,\"#9c179e\"],[0.4444444444444444,\"#bd3786\"],[0.5555555555555556,\"#d8576b\"],[0.6666666666666666,\"#ed7953\"],[0.7777777777777778,\"#fb9f3a\"],[0.8888888888888888,\"#fdca26\"],[1.0,\"#f0f921\"]],\"type\":\"histogram2d\"}],\"histogram2dcontour\":[{\"colorbar\":{\"outlinewidth\":0,\"ticks\":\"\"},\"colorscale\":[[0.0,\"#0d0887\"],[0.1111111111111111,\"#46039f\"],[0.2222222222222222,\"#7201a8\"],[0.3333333333333333,\"#9c179e\"],[0.4444444444444444,\"#bd3786\"],[0.5555555555555556,\"#d8576b\"],[0.6666666666666666,\"#ed7953\"],[0.7777777777777778,\"#fb9f3a\"],[0.8888888888888888,\"#fdca26\"],[1.0,\"#f0f921\"]],\"type\":\"histogram2dcontour\"}],\"mesh3d\":[{\"colorbar\":{\"outlinewidth\":0,\"ticks\":\"\"},\"type\":\"mesh3d\"}],\"parcoords\":[{\"line\":{\"colorbar\":{\"outlinewidth\":0,\"ticks\":\"\"}},\"type\":\"parcoords\"}],\"pie\":[{\"automargin\":true,\"type\":\"pie\"}],\"scatter\":[{\"marker\":{\"colorbar\":{\"outlinewidth\":0,\"ticks\":\"\"}},\"type\":\"scatter\"}],\"scatter3d\":[{\"line\":{\"colorbar\":{\"outlinewidth\":0,\"ticks\":\"\"}},\"marker\":{\"colorbar\":{\"outlinewidth\":0,\"ticks\":\"\"}},\"type\":\"scatter3d\"}],\"scattercarpet\":[{\"marker\":{\"colorbar\":{\"outlinewidth\":0,\"ticks\":\"\"}},\"type\":\"scattercarpet\"}],\"scattergeo\":[{\"marker\":{\"colorbar\":{\"outlinewidth\":0,\"ticks\":\"\"}},\"type\":\"scattergeo\"}],\"scattergl\":[{\"marker\":{\"colorbar\":{\"outlinewidth\":0,\"ticks\":\"\"}},\"type\":\"scattergl\"}],\"scattermapbox\":[{\"marker\":{\"colorbar\":{\"outlinewidth\":0,\"ticks\":\"\"}},\"type\":\"scattermapbox\"}],\"scatterpolar\":[{\"marker\":{\"colorbar\":{\"outlinewidth\":0,\"ticks\":\"\"}},\"type\":\"scatterpolar\"}],\"scatterpolargl\":[{\"marker\":{\"colorbar\":{\"outlinewidth\":0,\"ticks\":\"\"}},\"type\":\"scatterpolargl\"}],\"scatterternary\":[{\"marker\":{\"colorbar\":{\"outlinewidth\":0,\"ticks\":\"\"}},\"type\":\"scatterternary\"}],\"surface\":[{\"colorbar\":{\"outlinewidth\":0,\"ticks\":\"\"},\"colorscale\":[[0.0,\"#0d0887\"],[0.1111111111111111,\"#46039f\"],[0.2222222222222222,\"#7201a8\"],[0.3333333333333333,\"#9c179e\"],[0.4444444444444444,\"#bd3786\"],[0.5555555555555556,\"#d8576b\"],[0.6666666666666666,\"#ed7953\"],[0.7777777777777778,\"#fb9f3a\"],[0.8888888888888888,\"#fdca26\"],[1.0,\"#f0f921\"]],\"type\":\"surface\"}],\"table\":[{\"cells\":{\"fill\":{\"color\":\"#EBF0F8\"},\"line\":{\"color\":\"white\"}},\"header\":{\"fill\":{\"color\":\"#C8D4E3\"},\"line\":{\"color\":\"white\"}},\"type\":\"table\"}]},\"layout\":{\"annotationdefaults\":{\"arrowcolor\":\"#2a3f5f\",\"arrowhead\":0,\"arrowwidth\":1},\"autotypenumbers\":\"strict\",\"coloraxis\":{\"colorbar\":{\"outlinewidth\":0,\"ticks\":\"\"}},\"colorscale\":{\"diverging\":[[0,\"#8e0152\"],[0.1,\"#c51b7d\"],[0.2,\"#de77ae\"],[0.3,\"#f1b6da\"],[0.4,\"#fde0ef\"],[0.5,\"#f7f7f7\"],[0.6,\"#e6f5d0\"],[0.7,\"#b8e186\"],[0.8,\"#7fbc41\"],[0.9,\"#4d9221\"],[1,\"#276419\"]],\"sequential\":[[0.0,\"#0d0887\"],[0.1111111111111111,\"#46039f\"],[0.2222222222222222,\"#7201a8\"],[0.3333333333333333,\"#9c179e\"],[0.4444444444444444,\"#bd3786\"],[0.5555555555555556,\"#d8576b\"],[0.6666666666666666,\"#ed7953\"],[0.7777777777777778,\"#fb9f3a\"],[0.8888888888888888,\"#fdca26\"],[1.0,\"#f0f921\"]],\"sequentialminus\":[[0.0,\"#0d0887\"],[0.1111111111111111,\"#46039f\"],[0.2222222222222222,\"#7201a8\"],[0.3333333333333333,\"#9c179e\"],[0.4444444444444444,\"#bd3786\"],[0.5555555555555556,\"#d8576b\"],[0.6666666666666666,\"#ed7953\"],[0.7777777777777778,\"#fb9f3a\"],[0.8888888888888888,\"#fdca26\"],[1.0,\"#f0f921\"]]},\"colorway\":[\"#636efa\",\"#EF553B\",\"#00cc96\",\"#ab63fa\",\"#FFA15A\",\"#19d3f3\",\"#FF6692\",\"#B6E880\",\"#FF97FF\",\"#FECB52\"],\"font\":{\"color\":\"#2a3f5f\"},\"geo\":{\"bgcolor\":\"white\",\"lakecolor\":\"white\",\"landcolor\":\"#E5ECF6\",\"showlakes\":true,\"showland\":true,\"subunitcolor\":\"white\"},\"hoverlabel\":{\"align\":\"left\"},\"hovermode\":\"closest\",\"mapbox\":{\"style\":\"light\"},\"paper_bgcolor\":\"white\",\"plot_bgcolor\":\"#E5ECF6\",\"polar\":{\"angularaxis\":{\"gridcolor\":\"white\",\"linecolor\":\"white\",\"ticks\":\"\"},\"bgcolor\":\"#E5ECF6\",\"radialaxis\":{\"gridcolor\":\"white\",\"linecolor\":\"white\",\"ticks\":\"\"}},\"scene\":{\"xaxis\":{\"backgroundcolor\":\"#E5ECF6\",\"gridcolor\":\"white\",\"gridwidth\":2,\"linecolor\":\"white\",\"showbackground\":true,\"ticks\":\"\",\"zerolinecolor\":\"white\"},\"yaxis\":{\"backgroundcolor\":\"#E5ECF6\",\"gridcolor\":\"white\",\"gridwidth\":2,\"linecolor\":\"white\",\"showbackground\":true,\"ticks\":\"\",\"zerolinecolor\":\"white\"},\"zaxis\":{\"backgroundcolor\":\"#E5ECF6\",\"gridcolor\":\"white\",\"gridwidth\":2,\"linecolor\":\"white\",\"showbackground\":true,\"ticks\":\"\",\"zerolinecolor\":\"white\"}},\"shapedefaults\":{\"line\":{\"color\":\"#2a3f5f\"}},\"ternary\":{\"aaxis\":{\"gridcolor\":\"white\",\"linecolor\":\"white\",\"ticks\":\"\"},\"baxis\":{\"gridcolor\":\"white\",\"linecolor\":\"white\",\"ticks\":\"\"},\"bgcolor\":\"#E5ECF6\",\"caxis\":{\"gridcolor\":\"white\",\"linecolor\":\"white\",\"ticks\":\"\"}},\"title\":{\"x\":0.05},\"xaxis\":{\"automargin\":true,\"gridcolor\":\"white\",\"linecolor\":\"white\",\"ticks\":\"\",\"title\":{\"standoff\":15},\"zerolinecolor\":\"white\",\"zerolinewidth\":2},\"yaxis\":{\"automargin\":true,\"gridcolor\":\"white\",\"linecolor\":\"white\",\"ticks\":\"\",\"title\":{\"standoff\":15},\"zerolinecolor\":\"white\",\"zerolinewidth\":2}}},\"title\":{\"text\":\"Reviews\"},\"xaxis\":{\"title\":{\"text\":\"Months\"}},\"yaxis\":{\"title\":{\"text\":\"Total Reviews\"}}},                        {\"responsive\": true}                    ).then(function(){\n",
       "                            \n",
       "var gd = document.getElementById('8838c742-d01f-4549-a0b4-5af7966abb74');\n",
       "var x = new MutationObserver(function (mutations, observer) {{\n",
       "        var display = window.getComputedStyle(gd).display;\n",
       "        if (!display || display === 'none') {{\n",
       "            console.log([gd, 'removed!']);\n",
       "            Plotly.purge(gd);\n",
       "            observer.disconnect();\n",
       "        }}\n",
       "}});\n",
       "\n",
       "// Listen for the removal of the full notebook cells\n",
       "var notebookContainer = gd.closest('#notebook-container');\n",
       "if (notebookContainer) {{\n",
       "    x.observe(notebookContainer, {childList: true});\n",
       "}}\n",
       "\n",
       "// Listen for the clearing of the current output cell\n",
       "var outputEl = gd.closest('.output');\n",
       "if (outputEl) {{\n",
       "    x.observe(outputEl, {childList: true});\n",
       "}}\n",
       "\n",
       "                        })                };                });            </script>        </div>"
      ]
     },
     "metadata": {},
     "output_type": "display_data"
    }
   ],
   "source": [
    "import plotly.express as px\n",
    "import plotly.graph_objs as go\n",
    "fig = go.Figure(data=go.Scatter(x=df_month['month'].astype(dtype=str), \n",
    "                        y=df_month['counts'],\n",
    "                        marker_color='indianred', text=\"counts\"))\n",
    "fig.update_layout({\"title\": 'Reviews',\n",
    "                   \"xaxis\": {\"title\":\"Months\"},\n",
    "                   \"yaxis\": {\"title\":\"Total Reviews\"},\n",
    "                   \"showlegend\": False})\n",
    "#fig.write_image(\"by-month.png\",format=\"png\", width=1000, height=600, scale=3)\n",
    "fig.show()"
   ]
  },
  {
   "cell_type": "markdown",
   "id": "d6607620",
   "metadata": {},
   "source": [
    "#### Plot review count by job title "
   ]
  },
  {
   "cell_type": "code",
   "execution_count": 79,
   "id": "2050a9fe",
   "metadata": {},
   "outputs": [
    {
     "data": {
      "application/vnd.plotly.v1+json": {
       "config": {
        "plotlyServerURL": "https://plot.ly"
       },
       "data": [
        {
         "alignmentgroup": "True",
         "bingroup": "x",
         "hovertemplate": "job title=%{x}<br>count=%{y}<extra></extra>",
         "legendgroup": "",
         "marker": {
          "color": "orange",
          "line": {
           "color": "rgb(8,48,107)",
           "width": 1.5
          },
          "pattern": {
           "shape": ""
          }
         },
         "name": "",
         "offsetgroup": "",
         "orientation": "v",
         "showlegend": false,
         "type": "histogram",
         "x": [
          " Anonymous Employee",
          " Assistant Store Manager",
          " Field Assistant Manager",
          " Online Personal Shopper",
          " Guest Greeter",
          " Meat/Produce Associate",
          " Department Manager",
          " Walmart Online Grocery Pickup",
          " Certified Pharmacy Technician",
          " Replenishment Manager",
          " Anonymous Employee",
          " Assistant Store Manager",
          " Field Assistant Manager",
          " Online Personal Shopper",
          " Guest Greeter",
          " Meat/Produce Associate",
          " Department Manager",
          " Walmart Online Grocery Pickup",
          " Certified Pharmacy Technician",
          " Replenishment Manager",
          " Anonymous Employee",
          " Over Night Stocker/Night Crew",
          " Project Manager",
          " Stocker and Part Time Over Night If IM Needed",
          " Online Grocery Associate",
          " Fresh Production Associate",
          " Modular Team Associate",
          " Store Manager",
          " Order Filler",
          " EARLY MORNING STOCKER",
          " RESOLUTION COORDINATOR II",
          " Pharmacy Technician",
          " Overnight Stocker",
          " Deli Bakery Associate",
          " Department Manager",
          " Customer Resolution Specialist",
          " Personal Shopper",
          " Overnight Dairy/Frozen Stocker",
          " CSD Lead Associate",
          " Customer Service Representative",
          " Clicklist Associate",
          " Sales Associate",
          " Order Filler - OGP",
          " Sales Associate",
          " Automotive Technician",
          " Digital Team Lead",
          " Fresh Production Associate",
          " Online Grocery Pickup Associate",
          " Sales Associate",
          " ON Stocking TA",
          " Sales Associate/Cashier",
          " Sales Associate",
          " Front End Cashier",
          " Area Manager",
          " Personal Shopper",
          " Cashier",
          " Ecommerce Associate",
          " Door Greeter",
          " Night Stocker",
          " Front End Cashier",
          " Team Leader",
          " Cashier - Front End",
          " Shipping Clerk",
          " Optometric Technician",
          " Resolution Specialist",
          " Pharmacy Technician",
          " Warehouse Associate",
          " Deli/Bakery Associate",
          " Personal Shopper",
          " Rx Sales Associate",
          " Unemployed",
          " Order Filler",
          " Retail Associate",
          " Certified Pharmacy Technician",
          " Personal Shopper",
          " Sales Associate",
          " Account Resolution Specialist II",
          " Retail Sales Associate",
          " EHS Specialist",
          " Online Personal Shopper",
          " Cashier",
          " Manager",
          " IMS Associate",
          " Order Filler",
          " Front End Cashier",
          " Sales Associate",
          " Online Order Fulfillment",
          " Technician",
          " Cashier",
          " Front End Cashier",
          " Walmart Cashier",
          " Senior Manager, Operations",
          " Manager",
          " Part Time Cashier",
          " People Lead (HR Generalist)",
          " Walmart Sales Associate",
          " Cashier",
          " Sales Associate",
          " Dental Hygienist",
          " Deli Associate",
          " Customer Service",
          " Obstetrician and Gynecologist",
          " Personal Digital Shopper",
          " Uploader",
          " Pharmacist",
          " A2 Receiver",
          " Online Grocery Pickup Associate",
          " Online Personal Shopper",
          " Human Resource Assistant",
          " Front End Team Lead",
          " Cashier",
          " Overnight Stocker",
          " Customer Service Representative",
          " Coordinator II",
          " Academy Trainer",
          " Retail Sales Associate",
          " Coach",
          " Fresh Team Lead",
          " Sales Associate",
          " Overnight Stocker",
          " Director of Marketing",
          " Manager",
          " Door Host",
          " Anonymous Employee",
          " Cap II Associate",
          " Deli Associate",
          " Sales Associate",
          " Asset Protection Specialist",
          " Cap II Associate",
          " Staff Pharmacist",
          " Fulfillment Associate",
          " Cap II Associate",
          " Sales Associate/Cashier",
          " Customer Service Associate",
          " Co-Manager",
          " Cage Cashier",
          " Stocker",
          " Warehouse Associate",
          " General Laborer",
          " Online Grocery Pickup",
          " Anonymous Employee",
          " Anonymous Employee",
          " Anonymous Employee",
          " Supply Chain Manager",
          " Customer Service Representative",
          " Stocker",
          " Sales Floor Associate",
          " Team Lead",
          " Personal Shopper/OGP",
          " Pharmacy Technician",
          " Fresh CAP Associate II",
          " Software Engineer",
          " Sales Associate/Cashier",
          " Assistant Manager",
          " Auto Technician",
          " E-Commerce Associate",
          " Customer Service Manager (CSM)",
          " Cashier",
          " Personal Shopper",
          " OFFICE MANAGER/BOOKKEEPER",
          " Sales Associate",
          " Inventory Associate",
          " Any Position",
          " Human Resources Manager",
          " E-Commerce Specialist",
          " Digital Coach Manager",
          " Order Filler",
          " Fresh Cap II Associate",
          " Warehouse Associate",
          " Staffer",
          " Anonymous Employee",
          " Front End Cashier",
          " Human Resources Assistant",
          " Online Grocery Pickup Associate",
          " Personal Shopper",
          " Store Manager",
          " Cashier",
          " Retail Sales Associate",
          " Night Stocker",
          " Cashier/Greeter",
          " Deli Fresh Food",
          " Anonymous Employee",
          " Certified Pharmacy Technician",
          " Sales Associate/Cashier",
          " Cap II Associate",
          " Department Manager",
          " Overnight Stocker",
          " Anonymous Employee",
          " Picker/Packer",
          " Automotive Service Advisor",
          " Stocker",
          " Anonymous Employee",
          " Anonymous Employee",
          " Overnight Stocker",
          " Stocker",
          " Anonymous Employee",
          " Customer Service Representative",
          " Cashier",
          " Cashier",
          " Sales Associate/Cashier",
          " Sales Associate/Cashier",
          " Apparel Associate",
          " ON Stocking TA",
          " Front End Coach",
          " Deli/Bakery Associate",
          " Sales Associate",
          " Retail Sales Associate",
          " Dual Licensed Optician",
          " Department Manager",
          " Stocking Associate",
          " Automotive Technician",
          " Personal Shopper/OGP",
          " Store Manager",
          " Stockboy/Cashier",
          " Sales Associate",
          " Retail Sales Associate",
          " Non Conveyable Order Filler",
          " Customer Service Associate/Stocker",
          " Licensed Optician",
          " ECommerce Personal Shopper",
          " Walmart Online Grocery Pickup",
          " Manager",
          " Order Picker",
          " Anonymous Employee",
          " Senior Technical Expert",
          " Digital Procurement",
          " Warehouse Associate",
          " Stocking TA",
          " Cashier",
          " Anonymous Employee",
          " Stocker/Unloader",
          " Greeter",
          " Certified Pharmacy Technician",
          " Pharmacy Technician",
          " Team Leader",
          " Associate",
          " Sales Associate",
          " Sales Associate",
          " ON Stocker",
          " Anonymous Employee",
          " Deli Clerk",
          " Stocker",
          " Personal Shopper",
          " Cart Attendant",
          " Team Lead",
          " Cart Attendant",
          " Team Leader",
          " Plumber",
          " Order Filler",
          " Cashier",
          " Warehouse Worker",
          " Cashier",
          " Team Lead",
          " Sales Associate",
          " Walmart Cashier",
          " Shelf Stocker",
          " Cashier",
          " Cashier",
          " Cashier",
          " Sales Associate",
          " Sales Associate/Cashier",
          " Remodeling",
          " Customer Service Associate",
          " Sales Manager",
          " Sales Associate/Cashier",
          " Apparel Team Lead",
          " Service Technician",
          " Asset Protection Associate",
          " OGP - Personal Shopper",
          " Automotive Associate",
          " Online Grocery Pickup",
          " Customer Service",
          " Sales Associate",
          " Anonymous Employee",
          " Front End Cashier",
          " Pharmacist",
          " Walmart Warehouse Associate",
          " Sales Associate",
          " Pharmacy Tehcnican",
          " Sales Associate/Cashier",
          " FRESH CAP II Supervisor",
          " Walmart Sales Associate",
          " Systems Operator",
          " E-commerce",
          " Front End Cashier",
          " Technician",
          " Apparel Sales Associate",
          " Pharmacy Technician",
          " Assistant Manager",
          " Retail Associate",
          " Sales Associate",
          " Cart Attendant",
          " Cap II Associate",
          " Store Manager",
          " Sales Associate",
          " Apparel Associate",
          " Electronics Associate",
          " Area Manager",
          " Overnight Stocker",
          " Digital Personal Shopper",
          " Supercenter Co-Manager",
          " Field Project Manager",
          " Walmart Stocker",
          " Cashier",
          " Anonymous Employee",
          " Cashier",
          " Customer Service Representative",
          " Evening Stocker",
          " Stock Associate",
          " Academy Coach",
          " Fitting Room Attendant",
          " Sales Associate Lawn and Garden",
          " Associate",
          " Retail Associate",
          " Sales Advisor",
          " Part Time Cashier",
          " Front End Cashier",
          " Self Employed",
          " Fork Lift Driver",
          " Ogp Associate",
          " Anonymous Employee",
          " Cashier",
          " Team Lead",
          " Associate",
          " Sales Associate/Cashier",
          " Anonymous Employee",
          " Customer Service Associate",
          " Front End Service Clerk/Cashier",
          " Sales Associate/Cashier",
          " DC Order Filler",
          " Cap II Associate",
          " Deli/Bakery Clerk",
          " Anonymous Employee",
          " Cashier",
          " Asset Protection Associate",
          " Territory Sales Manager",
          " Team Lead",
          " Sales Associate",
          " Walmart Coach",
          " Cap-1 Associate",
          " Anonymous Employee",
          " Area Manager",
          " Stock Associate",
          " Shelf Stocker",
          " Part Time Cashier",
          " Assistant Manager",
          " Sales Associate/Cashier",
          " Anonymous Employee",
          " Front End Cashier",
          " Front End Cashier",
          " Sales Floor Associate",
          " Anonymous Employee",
          " Cashier",
          " Stocker",
          " Online Grocery Pickup Associate",
          " Cashier",
          " Personal Shopper",
          " Team Lead",
          " Stocker",
          " Personal Shopper/OGP",
          " Anonymous Employee",
          " Meat and Produce Associate",
          " Online Grocery Pickup Associate",
          " Sales Associate/Cashier",
          " Senior User Experience Designer",
          " Bakery Associate",
          " R&M Maintenance Supervisor",
          " Anonymous Employee",
          " Department Manager",
          " Lead Software Engineer",
          " Stocking Associate",
          " Asset Protection Customer Host",
          " Cashier",
          " Customer Service Associate",
          " Order Filler",
          " Certified Pharmacy Technician",
          " Software Engineer",
          " Asset Protection Associate",
          " Personal Shopper/OGP",
          " Asset Protection Associate",
          " Sales Associate/Cashier",
          " Asset Protection Associate",
          " Store Manager",
          " Customer Service",
          " Sales Associate",
          " Anonymous Employee",
          " Walmart Sales Associate",
          " Sales Associate/Cashier",
          " Overnight Stocker",
          " Pharmacy Technician",
          " Store Associate",
          " Sales Associate",
          " Overnight Stocker",
          " Optician",
          " Software Engineer",
          " Order Filler",
          " Automotive Technician",
          " Customer Service Representative",
          " Cashier",
          " Assistant Manager",
          " Student",
          " Stocking",
          " Department Manager",
          " Personal Shopper",
          " Cashier",
          " Anonymous Employee",
          " WalMart Overnight Stocker",
          " Anonymous Employee",
          " Front End Cashier",
          " Stocker",
          " Part Time Cashier",
          " Computer Aided Draftsperson",
          " Anonymous Employee",
          " Store Manager",
          " Stocker",
          " Product Analyst",
          " Area Manager",
          " Online Grocery Pickup",
          " Deli Associate",
          " Personal Shopper",
          " Meat/Produce Associate",
          " Stocker",
          " Item Stocker",
          " Customer Service Representative (CSR)",
          " Stocker",
          " Cashier",
          " Team Lead",
          " Stocking Associate - CAP2",
          " Janitor",
          " Front End Associate/Cashier",
          " Slotter",
          " Backroom IMS",
          " Assistant Manager",
          " Coach",
          " Asset Protection Associate",
          " Fresh Cap II Associate",
          " Management",
          " Personal Shopper",
          " Dairy Department Manager",
          " Sales Associate/Cashier",
          " Walmart Cashier",
          " Retail Associate",
          " Cashier",
          " Assistant Manager",
          " Coach",
          " Retail Sales Associate",
          " Anonymous Employee",
          " Sales Associate",
          " Car Technician",
          " Overnight Stocker",
          " Sales Associate",
          " Warehouse Associate",
          " Inventory Control Specialist/Food Sales Associate",
          " Deli/Bakery Associate",
          " Stock Associate",
          " Entertainment",
          " Customer Service Representative",
          " Anonymous Employee",
          " Stock Associate",
          " Optician",
          " Fresh Food Associate",
          " Personal Shopper/OGP",
          " Cashier",
          " Walmart Stocker (Overnight)",
          " Personal Shopper/OGP",
          " Auto Technician",
          " Food and Consumables Team Associate",
          " Senior Cyber Security Risk Analyst",
          " Cashier",
          " Overnight Stocker",
          " Stocker",
          " Front End Cashier",
          " Overnight Stocker",
          " Cashier/Self Check Out Host",
          " Deli Clerk",
          " Overnight Stocker",
          " Self Checkout Host",
          " Cashier",
          " Personal Shopper/OGP",
          " Asset Protection Associate",
          " Digital Team Lead",
          " Project Manager",
          " Part Time Cashier",
          " OverNight Team Lead",
          " DSD Receiver",
          " Stock Associate",
          " Front End Host",
          " Cashier",
          " WalMart Cart Pusher",
          " Asset Protection Associate",
          " Front End Associate",
          " Sales Associate/Cashier",
          " Sales Associate",
          " Supply Chain Manager",
          " Pharmacy Technician",
          " Retail Sales Associate",
          " Cashier",
          " Customer Host",
          " Anonymous Employee",
          " Online Grocery Pickup",
          " Product Manager",
          " Stocker",
          " Pharmacy Technician",
          " Currently Not Employed",
          " Sales Associate",
          " Sales Associate/Cashier",
          " Asset Protection Associate",
          " Cashier",
          " Sales Associate/Cashier",
          " WalMart Overnight Stocker",
          " Parking Lot Attendant",
          " Fresh Cap II Associate",
          " Certified Pharmacy Technician",
          " In-Stock Team Member",
          " Front End Coach",
          " Certified Pharmacy Technician",
          " Freight Handler",
          " Order Picker",
          " Manager",
          " Human Resources Manager",
          " OverNight Team Lead",
          " Online Grocery Pickup Associate",
          " Anonymous Employee",
          " Associate",
          " Backroom Team Member",
          " Fresh Cap Team II",
          " Nothing Specific",
          " Anonymous Employee",
          " Pharmacist",
          " CAP II Supervisor",
          " Front End Associate/Cashier",
          " Stocker",
          " Store Manager",
          " Asset Protection Associate",
          " Digital Coach",
          " Painter",
          " Nightshift Stocker",
          " Back Room Stocking",
          " Self Checkout Host",
          " Walmart Sales Associate",
          " Anonymous Employee",
          " Online Shopping Associate",
          " Senior Manager II",
          " Assistant Manager",
          " Cashier",
          " Fire Alarm Tech",
          " Digital Personal Shopper",
          " Cashier",
          " Apparel Associate",
          " ON Stocking TA",
          " Remote Work From Home Jobs",
          " Digital Shopper",
          " Anonymous Employee",
          " Anonymous Employee",
          " Apparel Sales Associate",
          " Department Manager",
          " Meat/Produce Associate",
          " Cashier",
          " Cart Associate",
          " Pop Bottle Machine Emptier",
          " Personal Shopper/OGP",
          " Anonymous Employee",
          " Anonymous Employee",
          " Maintenance Associate",
          " Sales Asscociates",
          " Anonymous Employee",
          " Currently Unemployed And Seeking Work",
          " Walmart Stocker",
          " Cashier",
          " Guest Service Team Member - Cashier",
          " Cap II Associate",
          " Resolution Specialist III",
          " People Lead",
          " Cap II Associate",
          " Customer Host",
          " Overnight Stocker",
          " Cart Pusher",
          " Certified Pharmacy Technician",
          " Fresh CAP Associate",
          " Anonymous Employee",
          " Cashier",
          " Sales Associate/Cashier",
          " Stocking TA",
          " Grocery Manager",
          " Front End Cashier",
          " Personal Shopper/OGP",
          " Sales Associate/Cashier",
          " Personal Grocery Shopper",
          " Sales Associate",
          " Ogp Associate",
          " Anonymous Employee",
          " Overnight Stocker",
          " Overnight Stocker",
          " Online Grocery Pickup",
          " Grocery Stocker",
          " Digital Team Lead",
          " Anonymous Employee",
          " Cashier",
          " Frontend Team Lead",
          " Coach",
          " Cashier",
          " Maintenance Technician",
          " OverNight Team Lead",
          " Computer Software Engineer, Systems Software",
          " Coach",
          " Front End Cashier",
          " Cashier",
          " Produce Associate",
          " Stocking Associate",
          " Cashier",
          " Night Stocker",
          " Front End Associate/Cashier",
          " Guest Service Team Member - Cashier",
          " Asset Protection Associate",
          " Anonymous Employee",
          " Sales Associate",
          " Technical Support Engineer",
          " WalMart Overnight Stocker",
          " SCO Host",
          " Cashier",
          " Pharmacist",
          " Self Checkout Host",
          " Pharmacy Technician Needs",
          " Associate",
          " Online Pickup Associate",
          " Freight Loader",
          " Frozen/Dairy Associate",
          " Associate",
          " Front End Service Leader",
          " Cart Pusher",
          " Cashier",
          " Lawn and Garden Sales Associate",
          " Sales Associate",
          " Cashier",
          " Cap II Associate",
          " Anonymous Employee",
          " Anonymous Employee",
          " Electronics Sales Associate",
          " Produce Associate",
          " Personal Digital Shopper",
          " Team Lead",
          " Overnight Team Associate",
          " Sales Associate",
          " Cashier",
          " Retail Sales Associate",
          " Team Lead",
          " Cashier",
          " Food and Consumables Team Lead",
          " Assistant Manager",
          " Pharmacist",
          " Undisclosed",
          " Cap II Associate",
          " Fresh Cap II Associate",
          " Personal Shopper",
          " Walmart Distribution Associate",
          " Remote Customer Service Representative",
          " Asset Protection Associate",
          " Customer Service Manager (CSM)",
          " Customer Service Representative",
          " Cashier",
          " Cashier",
          " Walmart Cashier",
          " Cashier",
          " Department Manager",
          " Tire Technician",
          " Cashier",
          " Truck Driver",
          " Customer Service Associate",
          " Warehouse Operator I",
          " Cart Attendant",
          " Overnight Manager",
          " Overnight Stock Associate",
          " Associate",
          " Overnight Stocker",
          " Associate",
          " O/N Stocker",
          " Order Filler",
          " Stock Associate",
          " Sales Associate",
          " Garden Associate",
          " Clinical Pharmacist",
          " Entertainment Team Member",
          " Walmart Associate",
          " Bakery Associate",
          " Cashier",
          " Cap II Associate",
          " Department Manager",
          " Overnight Stocker",
          " Cart Pusher",
          " Asset Protection Host/Customer Host",
          " Truck Driver",
          " Anonymous Employee",
          " Assistant Manager",
          " Manager",
          " Customer Service Manager (CSM)",
          " Staff Physical Therapist",
          " Host",
          " Economics",
          " Anonymous Employee",
          " Process Improvement Director",
          " Break Pack Sorter",
          " Staff Accountant",
          " Anonymous Employee",
          " WalMart Overnight Stocker",
          " Cart Pusher",
          " Online Grocery Pickup Associate",
          " Ogp Associate",
          " Greeter",
          " DC Order Filler",
          " Associate",
          " Driver/Coordinator",
          " Anonymous Employee",
          " Optician",
          " Warehouse Associate",
          " Anonymous Employee",
          " Cashier",
          " Assistant Store Manager",
          " Asset Protection Customer Host",
          " Sporting Goods Sales Associate",
          " Meat Sales Associate",
          " Warehouse Associate",
          " Manager",
          " Sales Associate",
          " Cashier",
          " Stocker",
          " Order Filler",
          " Registered Nurse",
          " Auto Technician",
          " Cashier",
          " Food and Consumables Team Associate",
          " Front End Cashier",
          " Overnight Stocker",
          " Service Technician",
          " Anonymous Employee",
          " Certified Pharmacy Technician",
          " Online Order Filling",
          " Retail Sales Assistant",
          " Coach",
          " Anonymous Employee",
          " Pharmacy Tech",
          " Cashier",
          " Anonymous Employee",
          " Hardware Engineer",
          " Walmart ECommerce Associate",
          " Sales Associate/Cashier",
          " Team Leader",
          " Cashier",
          " Anonymous Employee",
          " Store Manager",
          " Cashier",
          " Walmart Online Grocery Pickup",
          " Stocker",
          " Overnight Stocker",
          " Store Associate",
          " Cashier",
          " Anonymous Employee",
          " Personal Shopper/OGP",
          " Sales Associate/Cashier",
          " Stock Associate",
          " Sales Associate/Cashier",
          " data analsyte",
          " Academy Trainer",
          " Anonymous Employee",
          " Cashier",
          " Department Manager",
          " Stocker",
          " Online Grocery Personal Shopper",
          " Deli Worker",
          " O/N Stocker, Greeter, Department Manager, Shop Tech",
          " Team Lead",
          " Team Lead",
          " Service Technician",
          " Sales Representative",
          " Unloader",
          " Store Manager",
          " Anonymous Employee",
          " Recruitment Marketing",
          " Walmart",
          " Sales Associate/Cashier",
          " Maintenance Person",
          " Sales Associate",
          " Sales Associate",
          " Cap II Associate",
          " Stocker",
          " Stocker",
          " Pharmacist",
          " Retail Electronics Associate",
          " Online Fulfillment",
          " Anonymous Employee",
          " Cart Associate",
          " Human Resources Clerk",
          " Personal Shopper",
          " Cashier",
          " Service Writer",
          " Loss Prevention",
          " Certified Pharmacy Technician",
          " Service Manager",
          " Electronics Sales Associate",
          " Order Picker",
          " Anonymous Employee",
          " Customer Host",
          " Walmart Cashier",
          " Analyst",
          " Cake Decorator",
          " Customer Service Representative",
          " Stock Associate",
          " Customer Service Associate",
          " OPD Team Member",
          " Apparel Associate",
          " Warehouse Worker",
          " Personal Shopper/OGP",
          " Walmart.com Customer Care Representative",
          " People Lead",
          " Personal Shopper",
          " Sales Associate",
          " Overnight Stocker",
          " Cap II Associate",
          " Garden Center Associate",
          " Senior Product Owner",
          " Personal Shopper",
          " Cart Pusher",
          " Cashier",
          " Anonymous Employee",
          " Cashier/Courtesy Clerk",
          " ECommerce Specialist",
          " Software Engineer III",
          " Stocking",
          " Cosmetics Department Manager",
          " Overnight Stocker",
          " Over Night Stocker",
          " Stocker",
          " Network Administrator",
          " Sales Associate",
          " Cashier",
          " Stocking Associate",
          " Associate",
          " Delivery Truck Driver",
          " Receiver",
          " Maintenance",
          " Overnight Stocker",
          " Anonymous Employee",
          " Stock Picker",
          " Maintenance Associate",
          " Overnight Stocker",
          " Personal Shopper",
          " Cashier",
          " Cashier",
          " Bakery Team Member",
          " Frontend Checkout TA",
          " Customer Service",
          " Order Picker",
          " Ethics Case Manager",
          " Deli Clerk",
          " Cashier",
          " Personal Shopper",
          " Cashier",
          " Order Filler",
          " Personal Shopper/OGP",
          " Wearhouse Associate",
          " Anonymous Employee",
          " Stocking Associate",
          " Cashier",
          " Cashier",
          " Assistant Manager",
          " Front End Cashier",
          " Cap-1 Associate",
          " Online Grocery Delivery",
          " Area Manager",
          " Team Lead",
          " Head of Product Management",
          " Stocker",
          " Stocker",
          " Anonymous Employee",
          " Forklift Driver",
          " Lead Head Receiver",
          " Project Manager",
          " Cashier",
          " Janitor/Cleaner",
          " Anonymous Employee",
          " Anonymous Employee",
          " Customer Service Manager",
          " Operations Manager",
          " Walmart Cashier",
          " Anonymous Employee",
          " Claims Associate",
          " PRN",
          " Storeroom Attendant",
          " Student",
          " Cart Pusher",
          " Associate",
          " Assciate-corporate Taxation",
          " Anonymous Employee",
          " Walmart Cashier",
          " Anonymous Employee",
          " Deli Clerk",
          " Stock Associate",
          " Cashier",
          " Cashier",
          " Stocker",
          " Cashier",
          " Anonymous Employee",
          " Quality Assurance",
          " Anonymous Employee",
          " Stock Associate",
          " Pharmacy Technician",
          " Ecommerce Associate",
          " PhD Student",
          " Assistant Manager",
          " WalMart Overnight Stocker",
          " Groceries Online Shopper",
          " Cap II Associate",
          " Overnight Stocker/Door Greeter",
          " Area Manager",
          " Finance Manager",
          " Cashier",
          " Software Engineer",
          " Sales Associate/Cashier",
          " WalMart Overnight Stocker",
          " Cart Attendant",
          " Cashier and Front End Services",
          " Stocker",
          " Team Lead",
          " Sales Associate/Cashier",
          " Digital Personal Shopper",
          " Cap II Associate",
          " User Experience Designer",
          " Accounting Manager",
          " Shipping&Recieving",
          " Greeter",
          " Overnight Maintenance Supervisor",
          " Chicken Express Team Member",
          " Customer Service",
          " Personal Shopper/OGP",
          " Stockroom Assistant",
          " Utility Associate",
          " Sales Associate",
          " Online Grocery Pickup",
          " Retail Associate",
          " Anonymous Employee",
          " Contact Center",
          " CAP II Supervisor",
          " Certified Pharmacy Technician",
          " Certified Pharmacy Technician",
          " Stocker",
          " Academy Trainer",
          " Anonymous Employee",
          " Driver Coordinator",
          " Truck Unloader",
          " Baker",
          " Customer Service Manager (CSM)",
          " Custodian",
          " Staff Pharmacist",
          " Fresh Production Associate",
          " Anonymous Employee",
          " Stocking TA",
          " Sales Associate",
          " Overnight Stocker",
          " Team Leader",
          " Order Fulfillment Associate",
          " Sales Associate",
          " Anonymous Employee",
          " Counter Clerk",
          " In Store Shopper - Curbside",
          " Backroom Associate",
          " PhamacyTech",
          " Front End Cashier",
          " Over Night Stocker",
          " Walmart Sales Associate",
          " Cashier Stockman Cart Pusher Customer Service",
          " Laborer",
          " Hardlines Team Lead",
          " Cashier",
          " Personal Shopper",
          " Certified Nursing Assistant CNA",
          " Baker/Cake Decorator",
          " Warehouse Worker",
          " Machine Operator",
          " Team Leader",
          " Sales Associate",
          " Walmart Online Grocery Pickup",
          " Modular Team Associate",
          " Baker/Cake Decorator",
          " Senior Product Manager",
          " Self Checkout Host",
          " Maintenance",
          " Pharmacist In Charge",
          " Anonymous Employee",
          " Intern",
          " Sales Associate",
          " Cart Attendant",
          " Anonymous Employee",
          " Personal Shopper",
          " Personal Shopper/OGP",
          " Produce Associate",
          " Overnight Replinishment Associate",
          " Maintenance Technician",
          " Overnight Stocker",
          " Stocker",
          " Sales Associate/Cashier",
          " Door Greeter",
          " Cap II Associate",
          " Staff Pharmacist",
          " Anonymous Employee",
          " Assistant Manager/Coach",
          " Asset Protection Associate",
          " Cashier"
         ],
         "xaxis": "x",
         "yaxis": "y"
        }
       ],
       "layout": {
        "barmode": "relative",
        "legend": {
         "tracegroupgap": 0
        },
        "margin": {
         "t": 60
        },
        "template": {
         "data": {
          "bar": [
           {
            "error_x": {
             "color": "#2a3f5f"
            },
            "error_y": {
             "color": "#2a3f5f"
            },
            "marker": {
             "line": {
              "color": "#E5ECF6",
              "width": 0.5
             },
             "pattern": {
              "fillmode": "overlay",
              "size": 10,
              "solidity": 0.2
             }
            },
            "type": "bar"
           }
          ],
          "barpolar": [
           {
            "marker": {
             "line": {
              "color": "#E5ECF6",
              "width": 0.5
             },
             "pattern": {
              "fillmode": "overlay",
              "size": 10,
              "solidity": 0.2
             }
            },
            "type": "barpolar"
           }
          ],
          "carpet": [
           {
            "aaxis": {
             "endlinecolor": "#2a3f5f",
             "gridcolor": "white",
             "linecolor": "white",
             "minorgridcolor": "white",
             "startlinecolor": "#2a3f5f"
            },
            "baxis": {
             "endlinecolor": "#2a3f5f",
             "gridcolor": "white",
             "linecolor": "white",
             "minorgridcolor": "white",
             "startlinecolor": "#2a3f5f"
            },
            "type": "carpet"
           }
          ],
          "choropleth": [
           {
            "colorbar": {
             "outlinewidth": 0,
             "ticks": ""
            },
            "type": "choropleth"
           }
          ],
          "contour": [
           {
            "colorbar": {
             "outlinewidth": 0,
             "ticks": ""
            },
            "colorscale": [
             [
              0,
              "#0d0887"
             ],
             [
              0.1111111111111111,
              "#46039f"
             ],
             [
              0.2222222222222222,
              "#7201a8"
             ],
             [
              0.3333333333333333,
              "#9c179e"
             ],
             [
              0.4444444444444444,
              "#bd3786"
             ],
             [
              0.5555555555555556,
              "#d8576b"
             ],
             [
              0.6666666666666666,
              "#ed7953"
             ],
             [
              0.7777777777777778,
              "#fb9f3a"
             ],
             [
              0.8888888888888888,
              "#fdca26"
             ],
             [
              1,
              "#f0f921"
             ]
            ],
            "type": "contour"
           }
          ],
          "contourcarpet": [
           {
            "colorbar": {
             "outlinewidth": 0,
             "ticks": ""
            },
            "type": "contourcarpet"
           }
          ],
          "heatmap": [
           {
            "colorbar": {
             "outlinewidth": 0,
             "ticks": ""
            },
            "colorscale": [
             [
              0,
              "#0d0887"
             ],
             [
              0.1111111111111111,
              "#46039f"
             ],
             [
              0.2222222222222222,
              "#7201a8"
             ],
             [
              0.3333333333333333,
              "#9c179e"
             ],
             [
              0.4444444444444444,
              "#bd3786"
             ],
             [
              0.5555555555555556,
              "#d8576b"
             ],
             [
              0.6666666666666666,
              "#ed7953"
             ],
             [
              0.7777777777777778,
              "#fb9f3a"
             ],
             [
              0.8888888888888888,
              "#fdca26"
             ],
             [
              1,
              "#f0f921"
             ]
            ],
            "type": "heatmap"
           }
          ],
          "heatmapgl": [
           {
            "colorbar": {
             "outlinewidth": 0,
             "ticks": ""
            },
            "colorscale": [
             [
              0,
              "#0d0887"
             ],
             [
              0.1111111111111111,
              "#46039f"
             ],
             [
              0.2222222222222222,
              "#7201a8"
             ],
             [
              0.3333333333333333,
              "#9c179e"
             ],
             [
              0.4444444444444444,
              "#bd3786"
             ],
             [
              0.5555555555555556,
              "#d8576b"
             ],
             [
              0.6666666666666666,
              "#ed7953"
             ],
             [
              0.7777777777777778,
              "#fb9f3a"
             ],
             [
              0.8888888888888888,
              "#fdca26"
             ],
             [
              1,
              "#f0f921"
             ]
            ],
            "type": "heatmapgl"
           }
          ],
          "histogram": [
           {
            "marker": {
             "pattern": {
              "fillmode": "overlay",
              "size": 10,
              "solidity": 0.2
             }
            },
            "type": "histogram"
           }
          ],
          "histogram2d": [
           {
            "colorbar": {
             "outlinewidth": 0,
             "ticks": ""
            },
            "colorscale": [
             [
              0,
              "#0d0887"
             ],
             [
              0.1111111111111111,
              "#46039f"
             ],
             [
              0.2222222222222222,
              "#7201a8"
             ],
             [
              0.3333333333333333,
              "#9c179e"
             ],
             [
              0.4444444444444444,
              "#bd3786"
             ],
             [
              0.5555555555555556,
              "#d8576b"
             ],
             [
              0.6666666666666666,
              "#ed7953"
             ],
             [
              0.7777777777777778,
              "#fb9f3a"
             ],
             [
              0.8888888888888888,
              "#fdca26"
             ],
             [
              1,
              "#f0f921"
             ]
            ],
            "type": "histogram2d"
           }
          ],
          "histogram2dcontour": [
           {
            "colorbar": {
             "outlinewidth": 0,
             "ticks": ""
            },
            "colorscale": [
             [
              0,
              "#0d0887"
             ],
             [
              0.1111111111111111,
              "#46039f"
             ],
             [
              0.2222222222222222,
              "#7201a8"
             ],
             [
              0.3333333333333333,
              "#9c179e"
             ],
             [
              0.4444444444444444,
              "#bd3786"
             ],
             [
              0.5555555555555556,
              "#d8576b"
             ],
             [
              0.6666666666666666,
              "#ed7953"
             ],
             [
              0.7777777777777778,
              "#fb9f3a"
             ],
             [
              0.8888888888888888,
              "#fdca26"
             ],
             [
              1,
              "#f0f921"
             ]
            ],
            "type": "histogram2dcontour"
           }
          ],
          "mesh3d": [
           {
            "colorbar": {
             "outlinewidth": 0,
             "ticks": ""
            },
            "type": "mesh3d"
           }
          ],
          "parcoords": [
           {
            "line": {
             "colorbar": {
              "outlinewidth": 0,
              "ticks": ""
             }
            },
            "type": "parcoords"
           }
          ],
          "pie": [
           {
            "automargin": true,
            "type": "pie"
           }
          ],
          "scatter": [
           {
            "marker": {
             "colorbar": {
              "outlinewidth": 0,
              "ticks": ""
             }
            },
            "type": "scatter"
           }
          ],
          "scatter3d": [
           {
            "line": {
             "colorbar": {
              "outlinewidth": 0,
              "ticks": ""
             }
            },
            "marker": {
             "colorbar": {
              "outlinewidth": 0,
              "ticks": ""
             }
            },
            "type": "scatter3d"
           }
          ],
          "scattercarpet": [
           {
            "marker": {
             "colorbar": {
              "outlinewidth": 0,
              "ticks": ""
             }
            },
            "type": "scattercarpet"
           }
          ],
          "scattergeo": [
           {
            "marker": {
             "colorbar": {
              "outlinewidth": 0,
              "ticks": ""
             }
            },
            "type": "scattergeo"
           }
          ],
          "scattergl": [
           {
            "marker": {
             "colorbar": {
              "outlinewidth": 0,
              "ticks": ""
             }
            },
            "type": "scattergl"
           }
          ],
          "scattermapbox": [
           {
            "marker": {
             "colorbar": {
              "outlinewidth": 0,
              "ticks": ""
             }
            },
            "type": "scattermapbox"
           }
          ],
          "scatterpolar": [
           {
            "marker": {
             "colorbar": {
              "outlinewidth": 0,
              "ticks": ""
             }
            },
            "type": "scatterpolar"
           }
          ],
          "scatterpolargl": [
           {
            "marker": {
             "colorbar": {
              "outlinewidth": 0,
              "ticks": ""
             }
            },
            "type": "scatterpolargl"
           }
          ],
          "scatterternary": [
           {
            "marker": {
             "colorbar": {
              "outlinewidth": 0,
              "ticks": ""
             }
            },
            "type": "scatterternary"
           }
          ],
          "surface": [
           {
            "colorbar": {
             "outlinewidth": 0,
             "ticks": ""
            },
            "colorscale": [
             [
              0,
              "#0d0887"
             ],
             [
              0.1111111111111111,
              "#46039f"
             ],
             [
              0.2222222222222222,
              "#7201a8"
             ],
             [
              0.3333333333333333,
              "#9c179e"
             ],
             [
              0.4444444444444444,
              "#bd3786"
             ],
             [
              0.5555555555555556,
              "#d8576b"
             ],
             [
              0.6666666666666666,
              "#ed7953"
             ],
             [
              0.7777777777777778,
              "#fb9f3a"
             ],
             [
              0.8888888888888888,
              "#fdca26"
             ],
             [
              1,
              "#f0f921"
             ]
            ],
            "type": "surface"
           }
          ],
          "table": [
           {
            "cells": {
             "fill": {
              "color": "#EBF0F8"
             },
             "line": {
              "color": "white"
             }
            },
            "header": {
             "fill": {
              "color": "#C8D4E3"
             },
             "line": {
              "color": "white"
             }
            },
            "type": "table"
           }
          ]
         },
         "layout": {
          "annotationdefaults": {
           "arrowcolor": "#2a3f5f",
           "arrowhead": 0,
           "arrowwidth": 1
          },
          "autotypenumbers": "strict",
          "coloraxis": {
           "colorbar": {
            "outlinewidth": 0,
            "ticks": ""
           }
          },
          "colorscale": {
           "diverging": [
            [
             0,
             "#8e0152"
            ],
            [
             0.1,
             "#c51b7d"
            ],
            [
             0.2,
             "#de77ae"
            ],
            [
             0.3,
             "#f1b6da"
            ],
            [
             0.4,
             "#fde0ef"
            ],
            [
             0.5,
             "#f7f7f7"
            ],
            [
             0.6,
             "#e6f5d0"
            ],
            [
             0.7,
             "#b8e186"
            ],
            [
             0.8,
             "#7fbc41"
            ],
            [
             0.9,
             "#4d9221"
            ],
            [
             1,
             "#276419"
            ]
           ],
           "sequential": [
            [
             0,
             "#0d0887"
            ],
            [
             0.1111111111111111,
             "#46039f"
            ],
            [
             0.2222222222222222,
             "#7201a8"
            ],
            [
             0.3333333333333333,
             "#9c179e"
            ],
            [
             0.4444444444444444,
             "#bd3786"
            ],
            [
             0.5555555555555556,
             "#d8576b"
            ],
            [
             0.6666666666666666,
             "#ed7953"
            ],
            [
             0.7777777777777778,
             "#fb9f3a"
            ],
            [
             0.8888888888888888,
             "#fdca26"
            ],
            [
             1,
             "#f0f921"
            ]
           ],
           "sequentialminus": [
            [
             0,
             "#0d0887"
            ],
            [
             0.1111111111111111,
             "#46039f"
            ],
            [
             0.2222222222222222,
             "#7201a8"
            ],
            [
             0.3333333333333333,
             "#9c179e"
            ],
            [
             0.4444444444444444,
             "#bd3786"
            ],
            [
             0.5555555555555556,
             "#d8576b"
            ],
            [
             0.6666666666666666,
             "#ed7953"
            ],
            [
             0.7777777777777778,
             "#fb9f3a"
            ],
            [
             0.8888888888888888,
             "#fdca26"
            ],
            [
             1,
             "#f0f921"
            ]
           ]
          },
          "colorway": [
           "#636efa",
           "#EF553B",
           "#00cc96",
           "#ab63fa",
           "#FFA15A",
           "#19d3f3",
           "#FF6692",
           "#B6E880",
           "#FF97FF",
           "#FECB52"
          ],
          "font": {
           "color": "#2a3f5f"
          },
          "geo": {
           "bgcolor": "white",
           "lakecolor": "white",
           "landcolor": "#E5ECF6",
           "showlakes": true,
           "showland": true,
           "subunitcolor": "white"
          },
          "hoverlabel": {
           "align": "left"
          },
          "hovermode": "closest",
          "mapbox": {
           "style": "light"
          },
          "paper_bgcolor": "white",
          "plot_bgcolor": "#E5ECF6",
          "polar": {
           "angularaxis": {
            "gridcolor": "white",
            "linecolor": "white",
            "ticks": ""
           },
           "bgcolor": "#E5ECF6",
           "radialaxis": {
            "gridcolor": "white",
            "linecolor": "white",
            "ticks": ""
           }
          },
          "scene": {
           "xaxis": {
            "backgroundcolor": "#E5ECF6",
            "gridcolor": "white",
            "gridwidth": 2,
            "linecolor": "white",
            "showbackground": true,
            "ticks": "",
            "zerolinecolor": "white"
           },
           "yaxis": {
            "backgroundcolor": "#E5ECF6",
            "gridcolor": "white",
            "gridwidth": 2,
            "linecolor": "white",
            "showbackground": true,
            "ticks": "",
            "zerolinecolor": "white"
           },
           "zaxis": {
            "backgroundcolor": "#E5ECF6",
            "gridcolor": "white",
            "gridwidth": 2,
            "linecolor": "white",
            "showbackground": true,
            "ticks": "",
            "zerolinecolor": "white"
           }
          },
          "shapedefaults": {
           "line": {
            "color": "#2a3f5f"
           }
          },
          "ternary": {
           "aaxis": {
            "gridcolor": "white",
            "linecolor": "white",
            "ticks": ""
           },
           "baxis": {
            "gridcolor": "white",
            "linecolor": "white",
            "ticks": ""
           },
           "bgcolor": "#E5ECF6",
           "caxis": {
            "gridcolor": "white",
            "linecolor": "white",
            "ticks": ""
           }
          },
          "title": {
           "x": 0.05
          },
          "xaxis": {
           "automargin": true,
           "gridcolor": "white",
           "linecolor": "white",
           "ticks": "",
           "title": {
            "standoff": 15
           },
           "zerolinecolor": "white",
           "zerolinewidth": 2
          },
          "yaxis": {
           "automargin": true,
           "gridcolor": "white",
           "linecolor": "white",
           "ticks": "",
           "title": {
            "standoff": 15
           },
           "zerolinecolor": "white",
           "zerolinewidth": 2
          }
         }
        },
        "title": {
         "text": "Review by Job Title"
        },
        "xaxis": {
         "anchor": "y",
         "domain": [
          0,
          1
         ],
         "title": {
          "text": "job title"
         }
        },
        "yaxis": {
         "anchor": "x",
         "domain": [
          0,
          1
         ],
         "title": {
          "text": "count"
         }
        }
       }
      },
      "text/html": [
       "<div>                            <div id=\"87452b55-97e0-4c82-9f4c-7ca8633b2778\" class=\"plotly-graph-div\" style=\"height:525px; width:100%;\"></div>            <script type=\"text/javascript\">                require([\"plotly\"], function(Plotly) {                    window.PLOTLYENV=window.PLOTLYENV || {};                                    if (document.getElementById(\"87452b55-97e0-4c82-9f4c-7ca8633b2778\")) {                    Plotly.newPlot(                        \"87452b55-97e0-4c82-9f4c-7ca8633b2778\",                        [{\"alignmentgroup\":\"True\",\"bingroup\":\"x\",\"hovertemplate\":\"job title=%{x}<br>count=%{y}<extra></extra>\",\"legendgroup\":\"\",\"marker\":{\"color\":\"orange\",\"line\":{\"color\":\"rgb(8,48,107)\",\"width\":1.5},\"pattern\":{\"shape\":\"\"}},\"name\":\"\",\"offsetgroup\":\"\",\"orientation\":\"v\",\"showlegend\":false,\"type\":\"histogram\",\"x\":[\" Anonymous Employee\",\" Assistant Store Manager\",\" Field Assistant Manager\",\" Online Personal Shopper\",\" Guest Greeter\",\" Meat/Produce Associate\",\" Department Manager\",\" Walmart Online Grocery Pickup\",\" Certified Pharmacy Technician\",\" Replenishment Manager\",\" Anonymous Employee\",\" Assistant Store Manager\",\" Field Assistant Manager\",\" Online Personal Shopper\",\" Guest Greeter\",\" Meat/Produce Associate\",\" Department Manager\",\" Walmart Online Grocery Pickup\",\" Certified Pharmacy Technician\",\" Replenishment Manager\",\" Anonymous Employee\",\" Over Night Stocker/Night Crew\",\" Project Manager\",\" Stocker and Part Time Over Night If IM Needed\",\" Online Grocery Associate\",\" Fresh Production Associate\",\" Modular Team Associate\",\" Store Manager\",\" Order Filler\",\" EARLY MORNING STOCKER\",\" RESOLUTION COORDINATOR II\",\" Pharmacy Technician\",\" Overnight Stocker\",\" Deli Bakery Associate\",\" Department Manager\",\" Customer Resolution Specialist\",\" Personal Shopper\",\" Overnight Dairy/Frozen Stocker\",\" CSD Lead Associate\",\" Customer Service Representative\",\" Clicklist Associate\",\" Sales Associate\",\" Order Filler - OGP\",\" Sales Associate\",\" Automotive Technician\",\" Digital Team Lead\",\" Fresh Production Associate\",\" Online Grocery Pickup Associate\",\" Sales Associate\",\" ON Stocking TA\",\" Sales Associate/Cashier\",\" Sales Associate\",\" Front End Cashier\",\" Area Manager\",\" Personal Shopper\",\" Cashier\",\" Ecommerce Associate\",\" Door Greeter\",\" Night Stocker\",\" Front End Cashier\",\" Team Leader\",\" Cashier - Front End\",\" Shipping Clerk\",\" Optometric Technician\",\" Resolution Specialist\",\" Pharmacy Technician\",\" Warehouse Associate\",\" Deli/Bakery Associate\",\" Personal Shopper\",\" Rx Sales Associate\",\" Unemployed\",\" Order Filler\",\" Retail Associate\",\" Certified Pharmacy Technician\",\" Personal Shopper\",\" Sales Associate\",\" Account Resolution Specialist II\",\" Retail Sales Associate\",\" EHS Specialist\",\" Online Personal Shopper\",\" Cashier\",\" Manager\",\" IMS Associate\",\" Order Filler\",\" Front End Cashier\",\" Sales Associate\",\" Online Order Fulfillment\",\" Technician\",\" Cashier\",\" Front End Cashier\",\" Walmart Cashier\",\" Senior Manager, Operations\",\" Manager\",\" Part Time Cashier\",\" People Lead (HR Generalist)\",\" Walmart Sales Associate\",\" Cashier\",\" Sales Associate\",\" Dental Hygienist\",\" Deli Associate\",\" Customer Service\",\" Obstetrician and Gynecologist\",\" Personal Digital Shopper\",\" Uploader\",\" Pharmacist\",\" A2 Receiver\",\" Online Grocery Pickup Associate\",\" Online Personal Shopper\",\" Human Resource Assistant\",\" Front End Team Lead\",\" Cashier\",\" Overnight Stocker\",\" Customer Service Representative\",\" Coordinator II\",\" Academy Trainer\",\" Retail Sales Associate\",\" Coach\",\" Fresh Team Lead\",\" Sales Associate\",\" Overnight Stocker\",\" Director of Marketing\",\" Manager\",\" Door Host\",\" Anonymous Employee\",\" Cap II Associate\",\" Deli Associate\",\" Sales Associate\",\" Asset Protection Specialist\",\" Cap II Associate\",\" Staff Pharmacist\",\" Fulfillment Associate\",\" Cap II Associate\",\" Sales Associate/Cashier\",\" Customer Service Associate\",\" Co-Manager\",\" Cage Cashier\",\" Stocker\",\" Warehouse Associate\",\" General Laborer\",\" Online Grocery Pickup\",\" Anonymous Employee\",\" Anonymous Employee\",\" Anonymous Employee\",\" Supply Chain Manager\",\" Customer Service Representative\",\" Stocker\",\" Sales Floor Associate\",\" Team Lead\",\" Personal Shopper/OGP\",\" Pharmacy Technician\",\" Fresh CAP Associate II\",\" Software Engineer\",\" Sales Associate/Cashier\",\" Assistant Manager\",\" Auto Technician\",\" E-Commerce Associate\",\" Customer Service Manager (CSM)\",\" Cashier\",\" Personal Shopper\",\" OFFICE MANAGER/BOOKKEEPER\",\" Sales Associate\",\" Inventory Associate\",\" Any Position\",\" Human Resources Manager\",\" E-Commerce Specialist\",\" Digital Coach Manager\",\" Order Filler\",\" Fresh Cap II Associate\",\" Warehouse Associate\",\" Staffer\",\" Anonymous Employee\",\" Front End Cashier\",\" Human Resources Assistant\",\" Online Grocery Pickup Associate\",\" Personal Shopper\",\" Store Manager\",\" Cashier\",\" Retail Sales Associate\",\" Night Stocker\",\" Cashier/Greeter\",\" Deli Fresh Food\",\" Anonymous Employee\",\" Certified Pharmacy Technician\",\" Sales Associate/Cashier\",\" Cap II Associate\",\" Department Manager\",\" Overnight Stocker\",\" Anonymous Employee\",\" Picker/Packer\",\" Automotive Service Advisor\",\" Stocker\",\" Anonymous Employee\",\" Anonymous Employee\",\" Overnight Stocker\",\" Stocker\",\" Anonymous Employee\",\" Customer Service Representative\",\" Cashier\",\" Cashier\",\" Sales Associate/Cashier\",\" Sales Associate/Cashier\",\" Apparel Associate\",\" ON Stocking TA\",\" Front End Coach\",\" Deli/Bakery Associate\",\" Sales Associate\",\" Retail Sales Associate\",\" Dual Licensed Optician\",\" Department Manager\",\" Stocking Associate\",\" Automotive Technician\",\" Personal Shopper/OGP\",\" Store Manager\",\" Stockboy/Cashier\",\" Sales Associate\",\" Retail Sales Associate\",\" Non Conveyable Order Filler\",\" Customer Service Associate/Stocker\",\" Licensed Optician\",\" ECommerce Personal Shopper\",\" Walmart Online Grocery Pickup\",\" Manager\",\" Order Picker\",\" Anonymous Employee\",\" Senior Technical Expert\",\" Digital Procurement\",\" Warehouse Associate\",\" Stocking TA\",\" Cashier\",\" Anonymous Employee\",\" Stocker/Unloader\",\" Greeter\",\" Certified Pharmacy Technician\",\" Pharmacy Technician\",\" Team Leader\",\" Associate\",\" Sales Associate\",\" Sales Associate\",\" ON Stocker\",\" Anonymous Employee\",\" Deli Clerk\",\" Stocker\",\" Personal Shopper\",\" Cart Attendant\",\" Team Lead\",\" Cart Attendant\",\" Team Leader\",\" Plumber\",\" Order Filler\",\" Cashier\",\" Warehouse Worker\",\" Cashier\",\" Team Lead\",\" Sales Associate\",\" Walmart Cashier\",\" Shelf Stocker\",\" Cashier\",\" Cashier\",\" Cashier\",\" Sales Associate\",\" Sales Associate/Cashier\",\" Remodeling\",\" Customer Service Associate\",\" Sales Manager\",\" Sales Associate/Cashier\",\" Apparel Team Lead\",\" Service Technician\",\" Asset Protection Associate\",\" OGP - Personal Shopper\",\" Automotive Associate\",\" Online Grocery Pickup\",\" Customer Service\",\" Sales Associate\",\" Anonymous Employee\",\" Front End Cashier\",\" Pharmacist\",\" Walmart Warehouse Associate\",\" Sales Associate\",\" Pharmacy Tehcnican\",\" Sales Associate/Cashier\",\" FRESH CAP II Supervisor\",\" Walmart Sales Associate\",\" Systems Operator\",\" E-commerce\",\" Front End Cashier\",\" Technician\",\" Apparel Sales Associate\",\" Pharmacy Technician\",\" Assistant Manager\",\" Retail Associate\",\" Sales Associate\",\" Cart Attendant\",\" Cap II Associate\",\" Store Manager\",\" Sales Associate\",\" Apparel Associate\",\" Electronics Associate\",\" Area Manager\",\" Overnight Stocker\",\" Digital Personal Shopper\",\" Supercenter Co-Manager\",\" Field Project Manager\",\" Walmart Stocker\",\" Cashier\",\" Anonymous Employee\",\" Cashier\",\" Customer Service Representative\",\" Evening Stocker\",\" Stock Associate\",\" Academy Coach\",\" Fitting Room Attendant\",\" Sales Associate Lawn and Garden\",\" Associate\",\" Retail Associate\",\" Sales Advisor\",\" Part Time Cashier\",\" Front End Cashier\",\" Self Employed\",\" Fork Lift Driver\",\" Ogp Associate\",\" Anonymous Employee\",\" Cashier\",\" Team Lead\",\" Associate\",\" Sales Associate/Cashier\",\" Anonymous Employee\",\" Customer Service Associate\",\" Front End Service Clerk/Cashier\",\" Sales Associate/Cashier\",\" DC Order Filler\",\" Cap II Associate\",\" Deli/Bakery Clerk\",\" Anonymous Employee\",\" Cashier\",\" Asset Protection Associate\",\" Territory Sales Manager\",\" Team Lead\",\" Sales Associate\",\" Walmart Coach\",\" Cap-1 Associate\",\" Anonymous Employee\",\" Area Manager\",\" Stock Associate\",\" Shelf Stocker\",\" Part Time Cashier\",\" Assistant Manager\",\" Sales Associate/Cashier\",\" Anonymous Employee\",\" Front End Cashier\",\" Front End Cashier\",\" Sales Floor Associate\",\" Anonymous Employee\",\" Cashier\",\" Stocker\",\" Online Grocery Pickup Associate\",\" Cashier\",\" Personal Shopper\",\" Team Lead\",\" Stocker\",\" Personal Shopper/OGP\",\" Anonymous Employee\",\" Meat and Produce Associate\",\" Online Grocery Pickup Associate\",\" Sales Associate/Cashier\",\" Senior User Experience Designer\",\" Bakery Associate\",\" R&M Maintenance Supervisor\",\" Anonymous Employee\",\" Department Manager\",\" Lead Software Engineer\",\" Stocking Associate\",\" Asset Protection Customer Host\",\" Cashier\",\" Customer Service Associate\",\" Order Filler\",\" Certified Pharmacy Technician\",\" Software Engineer\",\" Asset Protection Associate\",\" Personal Shopper/OGP\",\" Asset Protection Associate\",\" Sales Associate/Cashier\",\" Asset Protection Associate\",\" Store Manager\",\" Customer Service\",\" Sales Associate\",\" Anonymous Employee\",\" Walmart Sales Associate\",\" Sales Associate/Cashier\",\" Overnight Stocker\",\" Pharmacy Technician\",\" Store Associate\",\" Sales Associate\",\" Overnight Stocker\",\" Optician\",\" Software Engineer\",\" Order Filler\",\" Automotive Technician\",\" Customer Service Representative\",\" Cashier\",\" Assistant Manager\",\" Student\",\" Stocking\",\" Department Manager\",\" Personal Shopper\",\" Cashier\",\" Anonymous Employee\",\" WalMart Overnight Stocker\",\" Anonymous Employee\",\" Front End Cashier\",\" Stocker\",\" Part Time Cashier\",\" Computer Aided Draftsperson\",\" Anonymous Employee\",\" Store Manager\",\" Stocker\",\" Product Analyst\",\" Area Manager\",\" Online Grocery Pickup\",\" Deli Associate\",\" Personal Shopper\",\" Meat/Produce Associate\",\" Stocker\",\" Item Stocker\",\" Customer Service Representative (CSR)\",\" Stocker\",\" Cashier\",\" Team Lead\",\" Stocking Associate - CAP2\",\" Janitor\",\" Front End Associate/Cashier\",\" Slotter\",\" Backroom IMS\",\" Assistant Manager\",\" Coach\",\" Asset Protection Associate\",\" Fresh Cap II Associate\",\" Management\",\" Personal Shopper\",\" Dairy Department Manager\",\" Sales Associate/Cashier\",\" Walmart Cashier\",\" Retail Associate\",\" Cashier\",\" Assistant Manager\",\" Coach\",\" Retail Sales Associate\",\" Anonymous Employee\",\" Sales Associate\",\" Car Technician\",\" Overnight Stocker\",\" Sales Associate\",\" Warehouse Associate\",\" Inventory Control Specialist/Food Sales Associate\",\" Deli/Bakery Associate\",\" Stock Associate\",\" Entertainment\",\" Customer Service Representative\",\" Anonymous Employee\",\" Stock Associate\",\" Optician\",\" Fresh Food Associate\",\" Personal Shopper/OGP\",\" Cashier\",\" Walmart Stocker (Overnight)\",\" Personal Shopper/OGP\",\" Auto Technician\",\" Food and Consumables Team Associate\",\" Senior Cyber Security Risk Analyst\",\" Cashier\",\" Overnight Stocker\",\" Stocker\",\" Front End Cashier\",\" Overnight Stocker\",\" Cashier/Self Check Out Host\",\" Deli Clerk\",\" Overnight Stocker\",\" Self Checkout Host\",\" Cashier\",\" Personal Shopper/OGP\",\" Asset Protection Associate\",\" Digital Team Lead\",\" Project Manager\",\" Part Time Cashier\",\" OverNight Team Lead\",\" DSD Receiver\",\" Stock Associate\",\" Front End Host\",\" Cashier\",\" WalMart Cart Pusher\",\" Asset Protection Associate\",\" Front End Associate\",\" Sales Associate/Cashier\",\" Sales Associate\",\" Supply Chain Manager\",\" Pharmacy Technician\",\" Retail Sales Associate\",\" Cashier\",\" Customer Host\",\" Anonymous Employee\",\" Online Grocery Pickup\",\" Product Manager\",\" Stocker\",\" Pharmacy Technician\",\" Currently Not Employed\",\" Sales Associate\",\" Sales Associate/Cashier\",\" Asset Protection Associate\",\" Cashier\",\" Sales Associate/Cashier\",\" WalMart Overnight Stocker\",\" Parking Lot Attendant\",\" Fresh Cap II Associate\",\" Certified Pharmacy Technician\",\" In-Stock Team Member\",\" Front End Coach\",\" Certified Pharmacy Technician\",\" Freight Handler\",\" Order Picker\",\" Manager\",\" Human Resources Manager\",\" OverNight Team Lead\",\" Online Grocery Pickup Associate\",\" Anonymous Employee\",\" Associate\",\" Backroom Team Member\",\" Fresh Cap Team II\",\" Nothing Specific\",\" Anonymous Employee\",\" Pharmacist\",\" CAP II Supervisor\",\" Front End Associate/Cashier\",\" Stocker\",\" Store Manager\",\" Asset Protection Associate\",\" Digital Coach\",\" Painter\",\" Nightshift Stocker\",\" Back Room Stocking\",\" Self Checkout Host\",\" Walmart Sales Associate\",\" Anonymous Employee\",\" Online Shopping Associate\",\" Senior Manager II\",\" Assistant Manager\",\" Cashier\",\" Fire Alarm Tech\",\" Digital Personal Shopper\",\" Cashier\",\" Apparel Associate\",\" ON Stocking TA\",\" Remote Work From Home Jobs\",\" Digital Shopper\",\" Anonymous Employee\",\" Anonymous Employee\",\" Apparel Sales Associate\",\" Department Manager\",\" Meat/Produce Associate\",\" Cashier\",\" Cart Associate\",\" Pop Bottle Machine Emptier\",\" Personal Shopper/OGP\",\" Anonymous Employee\",\" Anonymous Employee\",\" Maintenance Associate\",\" Sales Asscociates\",\" Anonymous Employee\",\" Currently Unemployed And Seeking Work\",\" Walmart Stocker\",\" Cashier\",\" Guest Service Team Member - Cashier\",\" Cap II Associate\",\" Resolution Specialist III\",\" People Lead\",\" Cap II Associate\",\" Customer Host\",\" Overnight Stocker\",\" Cart Pusher\",\" Certified Pharmacy Technician\",\" Fresh CAP Associate\",\" Anonymous Employee\",\" Cashier\",\" Sales Associate/Cashier\",\" Stocking TA\",\" Grocery Manager\",\" Front End Cashier\",\" Personal Shopper/OGP\",\" Sales Associate/Cashier\",\" Personal Grocery Shopper\",\" Sales Associate\",\" Ogp Associate\",\" Anonymous Employee\",\" Overnight Stocker\",\" Overnight Stocker\",\" Online Grocery Pickup\",\" Grocery Stocker\",\" Digital Team Lead\",\" Anonymous Employee\",\" Cashier\",\" Frontend Team Lead\",\" Coach\",\" Cashier\",\" Maintenance Technician\",\" OverNight Team Lead\",\" Computer Software Engineer, Systems Software\",\" Coach\",\" Front End Cashier\",\" Cashier\",\" Produce Associate\",\" Stocking Associate\",\" Cashier\",\" Night Stocker\",\" Front End Associate/Cashier\",\" Guest Service Team Member - Cashier\",\" Asset Protection Associate\",\" Anonymous Employee\",\" Sales Associate\",\" Technical Support Engineer\",\" WalMart Overnight Stocker\",\" SCO Host\",\" Cashier\",\" Pharmacist\",\" Self Checkout Host\",\" Pharmacy Technician Needs\",\" Associate\",\" Online Pickup Associate\",\" Freight Loader\",\" Frozen/Dairy Associate\",\" Associate\",\" Front End Service Leader\",\" Cart Pusher\",\" Cashier\",\" Lawn and Garden Sales Associate\",\" Sales Associate\",\" Cashier\",\" Cap II Associate\",\" Anonymous Employee\",\" Anonymous Employee\",\" Electronics Sales Associate\",\" Produce Associate\",\" Personal Digital Shopper\",\" Team Lead\",\" Overnight Team Associate\",\" Sales Associate\",\" Cashier\",\" Retail Sales Associate\",\" Team Lead\",\" Cashier\",\" Food and Consumables Team Lead\",\" Assistant Manager\",\" Pharmacist\",\" Undisclosed\",\" Cap II Associate\",\" Fresh Cap II Associate\",\" Personal Shopper\",\" Walmart Distribution Associate\",\" Remote Customer Service Representative\",\" Asset Protection Associate\",\" Customer Service Manager (CSM)\",\" Customer Service Representative\",\" Cashier\",\" Cashier\",\" Walmart Cashier\",\" Cashier\",\" Department Manager\",\" Tire Technician\",\" Cashier\",\" Truck Driver\",\" Customer Service Associate\",\" Warehouse Operator I\",\" Cart Attendant\",\" Overnight Manager\",\" Overnight Stock Associate\",\" Associate\",\" Overnight Stocker\",\" Associate\",\" O/N Stocker\",\" Order Filler\",\" Stock Associate\",\" Sales Associate\",\" Garden Associate\",\" Clinical Pharmacist\",\" Entertainment Team Member\",\" Walmart Associate\",\" Bakery Associate\",\" Cashier\",\" Cap II Associate\",\" Department Manager\",\" Overnight Stocker\",\" Cart Pusher\",\" Asset Protection Host/Customer Host\",\" Truck Driver\",\" Anonymous Employee\",\" Assistant Manager\",\" Manager\",\" Customer Service Manager (CSM)\",\" Staff Physical Therapist\",\" Host\",\" Economics\",\" Anonymous Employee\",\" Process Improvement Director\",\" Break Pack Sorter\",\" Staff Accountant\",\" Anonymous Employee\",\" WalMart Overnight Stocker\",\" Cart Pusher\",\" Online Grocery Pickup Associate\",\" Ogp Associate\",\" Greeter\",\" DC Order Filler\",\" Associate\",\" Driver/Coordinator\",\" Anonymous Employee\",\" Optician\",\" Warehouse Associate\",\" Anonymous Employee\",\" Cashier\",\" Assistant Store Manager\",\" Asset Protection Customer Host\",\" Sporting Goods Sales Associate\",\" Meat Sales Associate\",\" Warehouse Associate\",\" Manager\",\" Sales Associate\",\" Cashier\",\" Stocker\",\" Order Filler\",\" Registered Nurse\",\" Auto Technician\",\" Cashier\",\" Food and Consumables Team Associate\",\" Front End Cashier\",\" Overnight Stocker\",\" Service Technician\",\" Anonymous Employee\",\" Certified Pharmacy Technician\",\" Online Order Filling\",\" Retail Sales Assistant\",\" Coach\",\" Anonymous Employee\",\" Pharmacy Tech\",\" Cashier\",\" Anonymous Employee\",\" Hardware Engineer\",\" Walmart ECommerce Associate\",\" Sales Associate/Cashier\",\" Team Leader\",\" Cashier\",\" Anonymous Employee\",\" Store Manager\",\" Cashier\",\" Walmart Online Grocery Pickup\",\" Stocker\",\" Overnight Stocker\",\" Store Associate\",\" Cashier\",\" Anonymous Employee\",\" Personal Shopper/OGP\",\" Sales Associate/Cashier\",\" Stock Associate\",\" Sales Associate/Cashier\",\" data analsyte\",\" Academy Trainer\",\" Anonymous Employee\",\" Cashier\",\" Department Manager\",\" Stocker\",\" Online Grocery Personal Shopper\",\" Deli Worker\",\" O/N Stocker, Greeter, Department Manager, Shop Tech\",\" Team Lead\",\" Team Lead\",\" Service Technician\",\" Sales Representative\",\" Unloader\",\" Store Manager\",\" Anonymous Employee\",\" Recruitment Marketing\",\" Walmart\",\" Sales Associate/Cashier\",\" Maintenance Person\",\" Sales Associate\",\" Sales Associate\",\" Cap II Associate\",\" Stocker\",\" Stocker\",\" Pharmacist\",\" Retail Electronics Associate\",\" Online Fulfillment\",\" Anonymous Employee\",\" Cart Associate\",\" Human Resources Clerk\",\" Personal Shopper\",\" Cashier\",\" Service Writer\",\" Loss Prevention\",\" Certified Pharmacy Technician\",\" Service Manager\",\" Electronics Sales Associate\",\" Order Picker\",\" Anonymous Employee\",\" Customer Host\",\" Walmart Cashier\",\" Analyst\",\" Cake Decorator\",\" Customer Service Representative\",\" Stock Associate\",\" Customer Service Associate\",\" OPD Team Member\",\" Apparel Associate\",\" Warehouse Worker\",\" Personal Shopper/OGP\",\" Walmart.com Customer Care Representative\",\" People Lead\",\" Personal Shopper\",\" Sales Associate\",\" Overnight Stocker\",\" Cap II Associate\",\" Garden Center Associate\",\" Senior Product Owner\",\" Personal Shopper\",\" Cart Pusher\",\" Cashier\",\" Anonymous Employee\",\" Cashier/Courtesy Clerk\",\" ECommerce Specialist\",\" Software Engineer III\",\" Stocking\",\" Cosmetics Department Manager\",\" Overnight Stocker\",\" Over Night Stocker\",\" Stocker\",\" Network Administrator\",\" Sales Associate\",\" Cashier\",\" Stocking Associate\",\" Associate\",\" Delivery Truck Driver\",\" Receiver\",\" Maintenance\",\" Overnight Stocker\",\" Anonymous Employee\",\" Stock Picker\",\" Maintenance Associate\",\" Overnight Stocker\",\" Personal Shopper\",\" Cashier\",\" Cashier\",\" Bakery Team Member\",\" Frontend Checkout TA\",\" Customer Service\",\" Order Picker\",\" Ethics Case Manager\",\" Deli Clerk\",\" Cashier\",\" Personal Shopper\",\" Cashier\",\" Order Filler\",\" Personal Shopper/OGP\",\" Wearhouse Associate\",\" Anonymous Employee\",\" Stocking Associate\",\" Cashier\",\" Cashier\",\" Assistant Manager\",\" Front End Cashier\",\" Cap-1 Associate\",\" Online Grocery Delivery\",\" Area Manager\",\" Team Lead\",\" Head of Product Management\",\" Stocker\",\" Stocker\",\" Anonymous Employee\",\" Forklift Driver\",\" Lead Head Receiver\",\" Project Manager\",\" Cashier\",\" Janitor/Cleaner\",\" Anonymous Employee\",\" Anonymous Employee\",\" Customer Service Manager\",\" Operations Manager\",\" Walmart Cashier\",\" Anonymous Employee\",\" Claims Associate\",\" PRN\",\" Storeroom Attendant\",\" Student\",\" Cart Pusher\",\" Associate\",\" Assciate-corporate Taxation\",\" Anonymous Employee\",\" Walmart Cashier\",\" Anonymous Employee\",\" Deli Clerk\",\" Stock Associate\",\" Cashier\",\" Cashier\",\" Stocker\",\" Cashier\",\" Anonymous Employee\",\" Quality Assurance\",\" Anonymous Employee\",\" Stock Associate\",\" Pharmacy Technician\",\" Ecommerce Associate\",\" PhD Student\",\" Assistant Manager\",\" WalMart Overnight Stocker\",\" Groceries Online Shopper\",\" Cap II Associate\",\" Overnight Stocker/Door Greeter\",\" Area Manager\",\" Finance Manager\",\" Cashier\",\" Software Engineer\",\" Sales Associate/Cashier\",\" WalMart Overnight Stocker\",\" Cart Attendant\",\" Cashier and Front End Services\",\" Stocker\",\" Team Lead\",\" Sales Associate/Cashier\",\" Digital Personal Shopper\",\" Cap II Associate\",\" User Experience Designer\",\" Accounting Manager\",\" Shipping&Recieving\",\" Greeter\",\" Overnight Maintenance Supervisor\",\" Chicken Express Team Member\",\" Customer Service\",\" Personal Shopper/OGP\",\" Stockroom Assistant\",\" Utility Associate\",\" Sales Associate\",\" Online Grocery Pickup\",\" Retail Associate\",\" Anonymous Employee\",\" Contact Center\",\" CAP II Supervisor\",\" Certified Pharmacy Technician\",\" Certified Pharmacy Technician\",\" Stocker\",\" Academy Trainer\",\" Anonymous Employee\",\" Driver Coordinator\",\" Truck Unloader\",\" Baker\",\" Customer Service Manager (CSM)\",\" Custodian\",\" Staff Pharmacist\",\" Fresh Production Associate\",\" Anonymous Employee\",\" Stocking TA\",\" Sales Associate\",\" Overnight Stocker\",\" Team Leader\",\" Order Fulfillment Associate\",\" Sales Associate\",\" Anonymous Employee\",\" Counter Clerk\",\" In Store Shopper - Curbside\",\" Backroom Associate\",\" PhamacyTech\",\" Front End Cashier\",\" Over Night Stocker\",\" Walmart Sales Associate\",\" Cashier Stockman Cart Pusher Customer Service\",\" Laborer\",\" Hardlines Team Lead\",\" Cashier\",\" Personal Shopper\",\" Certified Nursing Assistant CNA\",\" Baker/Cake Decorator\",\" Warehouse Worker\",\" Machine Operator\",\" Team Leader\",\" Sales Associate\",\" Walmart Online Grocery Pickup\",\" Modular Team Associate\",\" Baker/Cake Decorator\",\" Senior Product Manager\",\" Self Checkout Host\",\" Maintenance\",\" Pharmacist In Charge\",\" Anonymous Employee\",\" Intern\",\" Sales Associate\",\" Cart Attendant\",\" Anonymous Employee\",\" Personal Shopper\",\" Personal Shopper/OGP\",\" Produce Associate\",\" Overnight Replinishment Associate\",\" Maintenance Technician\",\" Overnight Stocker\",\" Stocker\",\" Sales Associate/Cashier\",\" Door Greeter\",\" Cap II Associate\",\" Staff Pharmacist\",\" Anonymous Employee\",\" Assistant Manager/Coach\",\" Asset Protection Associate\",\" Cashier\"],\"xaxis\":\"x\",\"yaxis\":\"y\"}],                        {\"barmode\":\"relative\",\"legend\":{\"tracegroupgap\":0},\"margin\":{\"t\":60},\"template\":{\"data\":{\"bar\":[{\"error_x\":{\"color\":\"#2a3f5f\"},\"error_y\":{\"color\":\"#2a3f5f\"},\"marker\":{\"line\":{\"color\":\"#E5ECF6\",\"width\":0.5},\"pattern\":{\"fillmode\":\"overlay\",\"size\":10,\"solidity\":0.2}},\"type\":\"bar\"}],\"barpolar\":[{\"marker\":{\"line\":{\"color\":\"#E5ECF6\",\"width\":0.5},\"pattern\":{\"fillmode\":\"overlay\",\"size\":10,\"solidity\":0.2}},\"type\":\"barpolar\"}],\"carpet\":[{\"aaxis\":{\"endlinecolor\":\"#2a3f5f\",\"gridcolor\":\"white\",\"linecolor\":\"white\",\"minorgridcolor\":\"white\",\"startlinecolor\":\"#2a3f5f\"},\"baxis\":{\"endlinecolor\":\"#2a3f5f\",\"gridcolor\":\"white\",\"linecolor\":\"white\",\"minorgridcolor\":\"white\",\"startlinecolor\":\"#2a3f5f\"},\"type\":\"carpet\"}],\"choropleth\":[{\"colorbar\":{\"outlinewidth\":0,\"ticks\":\"\"},\"type\":\"choropleth\"}],\"contour\":[{\"colorbar\":{\"outlinewidth\":0,\"ticks\":\"\"},\"colorscale\":[[0.0,\"#0d0887\"],[0.1111111111111111,\"#46039f\"],[0.2222222222222222,\"#7201a8\"],[0.3333333333333333,\"#9c179e\"],[0.4444444444444444,\"#bd3786\"],[0.5555555555555556,\"#d8576b\"],[0.6666666666666666,\"#ed7953\"],[0.7777777777777778,\"#fb9f3a\"],[0.8888888888888888,\"#fdca26\"],[1.0,\"#f0f921\"]],\"type\":\"contour\"}],\"contourcarpet\":[{\"colorbar\":{\"outlinewidth\":0,\"ticks\":\"\"},\"type\":\"contourcarpet\"}],\"heatmap\":[{\"colorbar\":{\"outlinewidth\":0,\"ticks\":\"\"},\"colorscale\":[[0.0,\"#0d0887\"],[0.1111111111111111,\"#46039f\"],[0.2222222222222222,\"#7201a8\"],[0.3333333333333333,\"#9c179e\"],[0.4444444444444444,\"#bd3786\"],[0.5555555555555556,\"#d8576b\"],[0.6666666666666666,\"#ed7953\"],[0.7777777777777778,\"#fb9f3a\"],[0.8888888888888888,\"#fdca26\"],[1.0,\"#f0f921\"]],\"type\":\"heatmap\"}],\"heatmapgl\":[{\"colorbar\":{\"outlinewidth\":0,\"ticks\":\"\"},\"colorscale\":[[0.0,\"#0d0887\"],[0.1111111111111111,\"#46039f\"],[0.2222222222222222,\"#7201a8\"],[0.3333333333333333,\"#9c179e\"],[0.4444444444444444,\"#bd3786\"],[0.5555555555555556,\"#d8576b\"],[0.6666666666666666,\"#ed7953\"],[0.7777777777777778,\"#fb9f3a\"],[0.8888888888888888,\"#fdca26\"],[1.0,\"#f0f921\"]],\"type\":\"heatmapgl\"}],\"histogram\":[{\"marker\":{\"pattern\":{\"fillmode\":\"overlay\",\"size\":10,\"solidity\":0.2}},\"type\":\"histogram\"}],\"histogram2d\":[{\"colorbar\":{\"outlinewidth\":0,\"ticks\":\"\"},\"colorscale\":[[0.0,\"#0d0887\"],[0.1111111111111111,\"#46039f\"],[0.2222222222222222,\"#7201a8\"],[0.3333333333333333,\"#9c179e\"],[0.4444444444444444,\"#bd3786\"],[0.5555555555555556,\"#d8576b\"],[0.6666666666666666,\"#ed7953\"],[0.7777777777777778,\"#fb9f3a\"],[0.8888888888888888,\"#fdca26\"],[1.0,\"#f0f921\"]],\"type\":\"histogram2d\"}],\"histogram2dcontour\":[{\"colorbar\":{\"outlinewidth\":0,\"ticks\":\"\"},\"colorscale\":[[0.0,\"#0d0887\"],[0.1111111111111111,\"#46039f\"],[0.2222222222222222,\"#7201a8\"],[0.3333333333333333,\"#9c179e\"],[0.4444444444444444,\"#bd3786\"],[0.5555555555555556,\"#d8576b\"],[0.6666666666666666,\"#ed7953\"],[0.7777777777777778,\"#fb9f3a\"],[0.8888888888888888,\"#fdca26\"],[1.0,\"#f0f921\"]],\"type\":\"histogram2dcontour\"}],\"mesh3d\":[{\"colorbar\":{\"outlinewidth\":0,\"ticks\":\"\"},\"type\":\"mesh3d\"}],\"parcoords\":[{\"line\":{\"colorbar\":{\"outlinewidth\":0,\"ticks\":\"\"}},\"type\":\"parcoords\"}],\"pie\":[{\"automargin\":true,\"type\":\"pie\"}],\"scatter\":[{\"marker\":{\"colorbar\":{\"outlinewidth\":0,\"ticks\":\"\"}},\"type\":\"scatter\"}],\"scatter3d\":[{\"line\":{\"colorbar\":{\"outlinewidth\":0,\"ticks\":\"\"}},\"marker\":{\"colorbar\":{\"outlinewidth\":0,\"ticks\":\"\"}},\"type\":\"scatter3d\"}],\"scattercarpet\":[{\"marker\":{\"colorbar\":{\"outlinewidth\":0,\"ticks\":\"\"}},\"type\":\"scattercarpet\"}],\"scattergeo\":[{\"marker\":{\"colorbar\":{\"outlinewidth\":0,\"ticks\":\"\"}},\"type\":\"scattergeo\"}],\"scattergl\":[{\"marker\":{\"colorbar\":{\"outlinewidth\":0,\"ticks\":\"\"}},\"type\":\"scattergl\"}],\"scattermapbox\":[{\"marker\":{\"colorbar\":{\"outlinewidth\":0,\"ticks\":\"\"}},\"type\":\"scattermapbox\"}],\"scatterpolar\":[{\"marker\":{\"colorbar\":{\"outlinewidth\":0,\"ticks\":\"\"}},\"type\":\"scatterpolar\"}],\"scatterpolargl\":[{\"marker\":{\"colorbar\":{\"outlinewidth\":0,\"ticks\":\"\"}},\"type\":\"scatterpolargl\"}],\"scatterternary\":[{\"marker\":{\"colorbar\":{\"outlinewidth\":0,\"ticks\":\"\"}},\"type\":\"scatterternary\"}],\"surface\":[{\"colorbar\":{\"outlinewidth\":0,\"ticks\":\"\"},\"colorscale\":[[0.0,\"#0d0887\"],[0.1111111111111111,\"#46039f\"],[0.2222222222222222,\"#7201a8\"],[0.3333333333333333,\"#9c179e\"],[0.4444444444444444,\"#bd3786\"],[0.5555555555555556,\"#d8576b\"],[0.6666666666666666,\"#ed7953\"],[0.7777777777777778,\"#fb9f3a\"],[0.8888888888888888,\"#fdca26\"],[1.0,\"#f0f921\"]],\"type\":\"surface\"}],\"table\":[{\"cells\":{\"fill\":{\"color\":\"#EBF0F8\"},\"line\":{\"color\":\"white\"}},\"header\":{\"fill\":{\"color\":\"#C8D4E3\"},\"line\":{\"color\":\"white\"}},\"type\":\"table\"}]},\"layout\":{\"annotationdefaults\":{\"arrowcolor\":\"#2a3f5f\",\"arrowhead\":0,\"arrowwidth\":1},\"autotypenumbers\":\"strict\",\"coloraxis\":{\"colorbar\":{\"outlinewidth\":0,\"ticks\":\"\"}},\"colorscale\":{\"diverging\":[[0,\"#8e0152\"],[0.1,\"#c51b7d\"],[0.2,\"#de77ae\"],[0.3,\"#f1b6da\"],[0.4,\"#fde0ef\"],[0.5,\"#f7f7f7\"],[0.6,\"#e6f5d0\"],[0.7,\"#b8e186\"],[0.8,\"#7fbc41\"],[0.9,\"#4d9221\"],[1,\"#276419\"]],\"sequential\":[[0.0,\"#0d0887\"],[0.1111111111111111,\"#46039f\"],[0.2222222222222222,\"#7201a8\"],[0.3333333333333333,\"#9c179e\"],[0.4444444444444444,\"#bd3786\"],[0.5555555555555556,\"#d8576b\"],[0.6666666666666666,\"#ed7953\"],[0.7777777777777778,\"#fb9f3a\"],[0.8888888888888888,\"#fdca26\"],[1.0,\"#f0f921\"]],\"sequentialminus\":[[0.0,\"#0d0887\"],[0.1111111111111111,\"#46039f\"],[0.2222222222222222,\"#7201a8\"],[0.3333333333333333,\"#9c179e\"],[0.4444444444444444,\"#bd3786\"],[0.5555555555555556,\"#d8576b\"],[0.6666666666666666,\"#ed7953\"],[0.7777777777777778,\"#fb9f3a\"],[0.8888888888888888,\"#fdca26\"],[1.0,\"#f0f921\"]]},\"colorway\":[\"#636efa\",\"#EF553B\",\"#00cc96\",\"#ab63fa\",\"#FFA15A\",\"#19d3f3\",\"#FF6692\",\"#B6E880\",\"#FF97FF\",\"#FECB52\"],\"font\":{\"color\":\"#2a3f5f\"},\"geo\":{\"bgcolor\":\"white\",\"lakecolor\":\"white\",\"landcolor\":\"#E5ECF6\",\"showlakes\":true,\"showland\":true,\"subunitcolor\":\"white\"},\"hoverlabel\":{\"align\":\"left\"},\"hovermode\":\"closest\",\"mapbox\":{\"style\":\"light\"},\"paper_bgcolor\":\"white\",\"plot_bgcolor\":\"#E5ECF6\",\"polar\":{\"angularaxis\":{\"gridcolor\":\"white\",\"linecolor\":\"white\",\"ticks\":\"\"},\"bgcolor\":\"#E5ECF6\",\"radialaxis\":{\"gridcolor\":\"white\",\"linecolor\":\"white\",\"ticks\":\"\"}},\"scene\":{\"xaxis\":{\"backgroundcolor\":\"#E5ECF6\",\"gridcolor\":\"white\",\"gridwidth\":2,\"linecolor\":\"white\",\"showbackground\":true,\"ticks\":\"\",\"zerolinecolor\":\"white\"},\"yaxis\":{\"backgroundcolor\":\"#E5ECF6\",\"gridcolor\":\"white\",\"gridwidth\":2,\"linecolor\":\"white\",\"showbackground\":true,\"ticks\":\"\",\"zerolinecolor\":\"white\"},\"zaxis\":{\"backgroundcolor\":\"#E5ECF6\",\"gridcolor\":\"white\",\"gridwidth\":2,\"linecolor\":\"white\",\"showbackground\":true,\"ticks\":\"\",\"zerolinecolor\":\"white\"}},\"shapedefaults\":{\"line\":{\"color\":\"#2a3f5f\"}},\"ternary\":{\"aaxis\":{\"gridcolor\":\"white\",\"linecolor\":\"white\",\"ticks\":\"\"},\"baxis\":{\"gridcolor\":\"white\",\"linecolor\":\"white\",\"ticks\":\"\"},\"bgcolor\":\"#E5ECF6\",\"caxis\":{\"gridcolor\":\"white\",\"linecolor\":\"white\",\"ticks\":\"\"}},\"title\":{\"x\":0.05},\"xaxis\":{\"automargin\":true,\"gridcolor\":\"white\",\"linecolor\":\"white\",\"ticks\":\"\",\"title\":{\"standoff\":15},\"zerolinecolor\":\"white\",\"zerolinewidth\":2},\"yaxis\":{\"automargin\":true,\"gridcolor\":\"white\",\"linecolor\":\"white\",\"ticks\":\"\",\"title\":{\"standoff\":15},\"zerolinecolor\":\"white\",\"zerolinewidth\":2}}},\"title\":{\"text\":\"Review by Job Title\"},\"xaxis\":{\"anchor\":\"y\",\"domain\":[0.0,1.0],\"title\":{\"text\":\"job title\"}},\"yaxis\":{\"anchor\":\"x\",\"domain\":[0.0,1.0],\"title\":{\"text\":\"count\"}}},                        {\"responsive\": true}                    ).then(function(){\n",
       "                            \n",
       "var gd = document.getElementById('87452b55-97e0-4c82-9f4c-7ca8633b2778');\n",
       "var x = new MutationObserver(function (mutations, observer) {{\n",
       "        var display = window.getComputedStyle(gd).display;\n",
       "        if (!display || display === 'none') {{\n",
       "            console.log([gd, 'removed!']);\n",
       "            Plotly.purge(gd);\n",
       "            observer.disconnect();\n",
       "        }}\n",
       "}});\n",
       "\n",
       "// Listen for the removal of the full notebook cells\n",
       "var notebookContainer = gd.closest('#notebook-container');\n",
       "if (notebookContainer) {{\n",
       "    x.observe(notebookContainer, {childList: true});\n",
       "}}\n",
       "\n",
       "// Listen for the clearing of the current output cell\n",
       "var outputEl = gd.closest('.output');\n",
       "if (outputEl) {{\n",
       "    x.observe(outputEl, {childList: true});\n",
       "}}\n",
       "\n",
       "                        })                };                });            </script>        </div>"
      ]
     },
     "metadata": {},
     "output_type": "display_data"
    }
   ],
   "source": [
    "fig = px.histogram(walmart_df, x=\"job title\")\n",
    "fig.update_traces(marker_color=\"orange\",marker_line_color='rgb(8,48,107)',\n",
    "                  marker_line_width=1.5)\n",
    "fig.update_layout(title_text='Review by Job Title')\n",
    "fig.show()"
   ]
  },
  {
   "cell_type": "markdown",
   "id": "3f4271db",
   "metadata": {},
   "source": [
    "### Cleaning the textual review in Pros column "
   ]
  },
  {
   "cell_type": "code",
   "execution_count": 209,
   "id": "6f2af212",
   "metadata": {},
   "outputs": [
    {
     "name": "stderr",
     "output_type": "stream",
     "text": [
      "C:\\Users\\Public\\Documents\\Wondershare\\CreatorTemp/ipykernel_25216/2205683147.py:8: FutureWarning:\n",
      "\n",
      "The default value of regex will change from True to False in a future version.\n",
      "\n",
      "C:\\Users\\Public\\Documents\\Wondershare\\CreatorTemp/ipykernel_25216/2205683147.py:11: FutureWarning:\n",
      "\n",
      "The default value of regex will change from True to False in a future version.\n",
      "\n"
     ]
    }
   ],
   "source": [
    "## Change the reviews type to string\n",
    "walmart_df['clean_pro'] = walmart_df['pros'].astype(str)\n",
    "\n",
    "## Lowercase all reviews\n",
    "walmart_df['clean_pro'] = walmart_df['clean_pro'].apply(lambda x: \" \".join(x.lower() for x in x.split()))\n",
    "\n",
    "## remove punctuation\n",
    "walmart_df['clean_pro'] = walmart_df['clean_pro'].str.replace('[^\\\\w\\\\s]','')\n",
    "\n",
    "# Removing numbers \n",
    "walmart_df['clean_pro'] = walmart_df['clean_pro'].str.replace('\\\\d+', '')"
   ]
  },
  {
   "cell_type": "code",
   "execution_count": 210,
   "id": "e9ae4b78",
   "metadata": {},
   "outputs": [],
   "source": [
    "from nltk.corpus import stopwords\n",
    "stop = stopwords.words('english')\n",
    "walmart_df['clean_pro'] = walmart_df['clean_pro'].apply(lambda x: \" \".join(x for x in x.split() if x not in stop))"
   ]
  },
  {
   "cell_type": "code",
   "execution_count": 211,
   "id": "0b197687",
   "metadata": {},
   "outputs": [
    {
     "data": {
      "image/png": "[encoded data removed]",
      "text/plain": [
       "<Figure size 720x720 with 1 Axes>"
      ]
     },
     "metadata": {
      "needs_background": "light"
     },
     "output_type": "display_data"
    }
   ],
   "source": [
    "### Plot word cloud for the data\n",
    "freq = pd.Series(' '.join(walmart_df['clean_pro']).split()).value_counts()[:30]\n",
    "freq_df = pd.DataFrame({'text':freq.index, 'count':freq.values})\n",
    "data = freq_df.set_index('text').to_dict()['count']\n",
    "from wordcloud import WordCloud\n",
    "wc = WordCloud(background_color = 'white', width=800, height=400, max_words=200).generate_from_frequencies(data)\n",
    "\n",
    "import matplotlib.pyplot as plt\n",
    "plt.figure(figsize=(10, 10))\n",
    "plt.imshow(wc, interpolation='bilinear')\n",
    "plt.axis('off')\n",
    "plt.show()"
   ]
  },
  {
   "cell_type": "markdown",
   "id": "5a562330",
   "metadata": {},
   "source": [
    "#### Cleaning the textual data in cons column"
   ]
  },
  {
   "cell_type": "code",
   "execution_count": 212,
   "id": "f4aa82fc",
   "metadata": {},
   "outputs": [
    {
     "name": "stderr",
     "output_type": "stream",
     "text": [
      "C:\\Users\\Public\\Documents\\Wondershare\\CreatorTemp/ipykernel_25216/675121768.py:8: FutureWarning:\n",
      "\n",
      "The default value of regex will change from True to False in a future version.\n",
      "\n",
      "C:\\Users\\Public\\Documents\\Wondershare\\CreatorTemp/ipykernel_25216/675121768.py:11: FutureWarning:\n",
      "\n",
      "The default value of regex will change from True to False in a future version.\n",
      "\n"
     ]
    }
   ],
   "source": [
    "## Change the reviews type to string\n",
    "walmart_df['clean_cons'] = walmart_df['cons'].astype(str)\n",
    "\n",
    "## Lowercase all reviews\n",
    "walmart_df['clean_cons'] = walmart_df['clean_cons'].apply(lambda x: \" \".join(x.lower() for x in x.split()))\n",
    "\n",
    "## remove punctuation\n",
    "walmart_df['clean_cons'] = walmart_df['clean_cons'].str.replace('[^\\\\w\\\\s]','')\n",
    "\n",
    "## remove numbers\n",
    "walmart_df['clean_cons'] = walmart_df['clean_cons'].str.replace('\\\\d+', '')\n",
    "\n",
    "from nltk.corpus import stopwords\n",
    "stop = stopwords.words('english')\n",
    "walmart_df['clean_cons'] = walmart_df['clean_cons'].apply(lambda x: \" \".join(x for x in x.split() if x not in stop))"
   ]
  },
  {
   "cell_type": "code",
   "execution_count": 213,
   "id": "14b12a91",
   "metadata": {},
   "outputs": [
    {
     "data": {
      "image/png": "[encoded data removed]",
      "text/plain": [
       "<Figure size 720x720 with 1 Axes>"
      ]
     },
     "metadata": {
      "needs_background": "light"
     },
     "output_type": "display_data"
    }
   ],
   "source": [
    "### Plot word cloud for the data\n",
    "freq = pd.Series(' '.join(walmart_df['clean_cons']).split()).value_counts()[:30]\n",
    "freq_df = pd.DataFrame({'text':freq.index, 'count':freq.values})\n",
    "data = freq_df.set_index('text').to_dict()['count']\n",
    "from wordcloud import WordCloud\n",
    "wc = WordCloud(background_color = 'white', width=800, height=400, max_words=200).generate_from_frequencies(data)\n",
    "\n",
    "import matplotlib.pyplot as plt\n",
    "plt.figure(figsize=(10, 10))\n",
    "plt.imshow(wc, interpolation='bilinear')\n",
    "plt.axis('off')\n",
    "plt.show()"
   ]
  },
  {
   "cell_type": "markdown",
   "id": "16953275",
   "metadata": {},
   "source": [
    "### Plotting review length for each rating "
   ]
  },
  {
   "cell_type": "code",
   "execution_count": 193,
   "id": "87030bbd",
   "metadata": {},
   "outputs": [],
   "source": [
    "walmart_df['review_length'] = (walmart_df['pros'].str.len() + walmart_df['cons'].str.len())/100"
   ]
  },
  {
   "cell_type": "code",
   "execution_count": 195,
   "id": "25e772c8",
   "metadata": {},
   "outputs": [
    {
     "data": {
      "text/plain": [
       "<seaborn.axisgrid.FacetGrid at 0x212c58a1c10>"
      ]
     },
     "execution_count": 195,
     "metadata": {},
     "output_type": "execute_result"
    },
    {
     "data": {
      "image/png": "[encoded data removed]",
      "text/plain": [
       "<Figure size 1080x216 with 5 Axes>"
      ]
     },
     "metadata": {
      "needs_background": "light"
     },
     "output_type": "display_data"
    }
   ],
   "source": [
    "g = sns.FacetGrid(data=walmart_df, col='rating')\n",
    "g.map(plt.hist, 'review_length', bins=30)"
   ]
  },
  {
   "cell_type": "code",
   "execution_count": 196,
   "id": "bec2095a",
   "metadata": {},
   "outputs": [
    {
     "data": {
      "text/plain": [
       "<AxesSubplot:xlabel='rating', ylabel='review_length'>"
      ]
     },
     "execution_count": 196,
     "metadata": {},
     "output_type": "execute_result"
    },
    {
     "data": {
      "image/png": "[encoded data removed]",
      "text/plain": [
       "<Figure size 432x288 with 1 Axes>"
      ]
     },
     "metadata": {
      "needs_background": "light"
     },
     "output_type": "display_data"
    }
   ],
   "source": [
    "sns.boxplot(x='rating', y='review_length', data=walmart_df)"
   ]
  },
  {
   "cell_type": "markdown",
   "id": "b583a0be",
   "metadata": {},
   "source": [
    "### Perfoming LDA-Topic Modelling "
   ]
  },
  {
   "cell_type": "code",
   "execution_count": 221,
   "id": "4ddb6a8f",
   "metadata": {},
   "outputs": [],
   "source": [
    "#warnings.filterwarnings(action='once')\n",
    "warnings.filterwarnings('ignore')"
   ]
  },
  {
   "cell_type": "code",
   "execution_count": 217,
   "id": "1f7da655",
   "metadata": {},
   "outputs": [],
   "source": [
    "from sklearn.feature_extraction.text import CountVectorizer, TfidfVectorizer\n",
    "from __future__ import print_function\n",
    "import pyLDAvis\n",
    "import pyLDAvis.sklearn\n",
    "#pyLDAvis.enable_notebook()"
   ]
  },
  {
   "cell_type": "code",
   "execution_count": 218,
   "id": "21e8bf4e",
   "metadata": {},
   "outputs": [
    {
     "data": {
      "text/plain": [
       "<1006x440 sparse matrix of type '<class 'numpy.int64'>'\n",
       "\twith 5661 stored elements in Compressed Sparse Row format>"
      ]
     },
     "execution_count": 218,
     "metadata": {},
     "output_type": "execute_result"
    }
   ],
   "source": [
    "from sklearn.decomposition import LatentDirichletAllocation\n",
    "vectorizer = CountVectorizer(\n",
    "analyzer='word',       \n",
    "min_df=3,# minimum required occurences of a word \n",
    "stop_words='english',# remove stop words\n",
    "lowercase=True,# convert all words to lowercase\n",
    "token_pattern='[a-zA-Z0-9]{3,}',# num chars > 3\n",
    "max_features=5000,# max number of unique words\n",
    "                            )\n",
    "data_matrix = vectorizer.fit_transform(walmart_df.clean_pro)\n",
    "data_matrix"
   ]
  },
  {
   "cell_type": "code",
   "execution_count": 219,
   "id": "b0663159",
   "metadata": {},
   "outputs": [],
   "source": [
    "lda_model = LatentDirichletAllocation(\n",
    "n_components=5, # Number of topics\n",
    "learning_method='online',\n",
    "random_state=20,       \n",
    "n_jobs = -1 )\n",
    "                                     \n",
    "lda_output = lda_model.fit_transform(data_matrix)"
   ]
  },
  {
   "cell_type": "code",
   "execution_count": 222,
   "id": "c7ba2dcb",
   "metadata": {},
   "outputs": [
    {
     "data": {
      "text/html": [
       "\n",
       "<link rel=\"stylesheet\" type=\"text/css\" href=\"https://cdn.jsdelivr.net/gh/bmabey/pyLDAvis@3.3.1/pyLDAvis/js/ldavis.v1.0.0.css\">\n",
       "\n",
       "\n",
       "<div id=\"ldavis_el2521622796654155522629787270\"></div>\n",
       "<script type=\"text/javascript\">\n",
       "\n",
       "var ldavis_el2521622796654155522629787270_data = {\"mdsDat\": {\"x\": [150.22215270996094, 51.16336441040039, -73.1445541381836, -66.4101333618164, 54.41732406616211], \"y\": [-72.2695541381836, -159.968017578125, 21.523815155029297, -110.60643768310547, 12.44344425201416], \"topics\": [1, 2, 3, 4, 5], \"cluster\": [1, 1, 1, 1, 1], \"Freq\": [25.698021168191836, 25.487676757544204, 19.411133094150625, 16.714226255490335, 12.688942724623006]}, \"tinfo\": {\"Term\": [\"good\", \"great\", \"job\", \"easy\", \"time\", \"hours\", \"working\", \"schedule\", \"store\", \"paid\", \"flexible\", \"environment\", \"customers\", \"decent\", \"work\", \"worked\", \"walmart\", \"money\", \"pay\", \"experience\", \"like\", \"love\", \"hour\", \"nice\", \"lunch\", \"insurance\", \"fast\", \"fun\", \"benefits\", \"busy\", \"environment\", \"shift\", \"okay\", \"ability\", \"overtime\", \"balance\", \"simple\", \"minimum\", \"lunches\", \"higher\", \"flexible\", \"teamwork\", \"supportive\", \"clean\", \"pace\", \"students\", \"raises\", \"regular\", \"dress\", \"week\", \"places\", \"worklife\", \"wonderful\", \"slow\", \"holidays\", \"hourly\", \"code\", \"large\", \"leaders\", \"additional\", \"great\", \"life\", \"hours\", \"days\", \"work\", \"scheduling\", \"management\", \"pay\", \"pretty\", \"nice\", \"team\", \"coworkers\", \"decent\", \"people\", \"friendly\", \"benefits\", \"hard\", \"schedule\", \"long\", \"good\", \"place\", \"breaks\", \"discount\", \"company\", \"fast\", \"advancement\", \"skills\", \"job\", \"big\", \"diversity\", \"leadership\", \"stable\", \"support\", \"learn\", \"say\", \"fun\", \"promotion\", \"room\", \"available\", \"promote\", \"inclusion\", \"resources\", \"compensation\", \"huge\", \"good\", \"solid\", \"incentives\", \"run\", \"hiring\", \"real\", \"development\", \"alot\", \"grow\", \"skill\", \"lots\", \"growth\", \"fairly\", \"opportunity\", \"amazing\", \"opportunities\", \"bonuses\", \"workers\", \"really\", \"place\", \"company\", \"pay\", \"benefits\", \"nice\", \"employees\", \"hours\", \"easy\", \"work\", \"people\", \"coworkers\", \"great\", \"managers\", \"starting\", \"friendly\", \"management\", \"school\", \"love\", \"working\", \"career\", \"excellent\", \"jobs\", \"retail\", \"stock\", \"years\", \"experience\", \"degree\", \"worth\", \"manager\", \"personal\", \"making\", \"happy\", \"hire\", \"gain\", \"level\", \"physical\", \"right\", \"potential\", \"looking\", \"leader\", \"section\", \"plan\", \"goes\", \"look\", \"products\", \"open\", \"try\", \"new\", \"meet\", \"walmart\", \"lot\", \"fast\", \"awesome\", \"stores\", \"paced\", \"team\", \"plenty\", \"company\", \"day\", \"people\", \"opportunities\", \"benefits\", \"associates\", \"free\", \"pay\", \"college\", \"time\", \"store\", \"great\", \"job\", \"money\", \"paid\", \"lunch\", \"cool\", \"health\", \"training\", \"ppto\", \"break\", \"protected\", \"program\", \"thing\", \"use\", \"area\", \"point\", \"leave\", \"education\", \"generally\", \"quick\", \"dental\", \"somewhat\", \"longer\", \"minute\", \"hired\", \"diverse\", \"clear\", \"paycheck\", \"medical\", \"insurance\", \"pto\", \"pharmacy\", \"time\", \"easy\", \"hour\", \"decent\", \"breaks\", \"associates\", \"pretty\", \"pay\", \"benefits\", \"kind\", \"college\", \"day\", \"good\", \"work\", \"walmart\", \"make\", \"discount\", \"coworkers\", \"customers\", \"busy\", \"bad\", \"home\", \"listen\", \"set\", \"night\", \"orders\", \"clock\", \"stay\", \"music\", \"shopping\", \"tuition\", \"helping\", \"depending\", \"pros\", \"student\", \"pick\", \"office\", \"easier\", \"keeps\", \"availability\", \"stocking\", \"going\", \"alright\", \"bring\", \"shelves\", \"active\", \"constantly\", \"choose\", \"store\", \"worked\", \"schedule\", \"like\", \"care\", \"feel\", \"able\", \"wasnt\", \"dont\", \"work\", \"school\", \"youre\", \"people\", \"customer\", \"time\", \"usually\", \"make\", \"coworkers\", \"really\"], \"Freq\": [341.0, 189.0, 108.0, 88.0, 86.0, 127.0, 59.0, 57.0, 49.0, 39.0, 70.0, 49.0, 28.0, 76.0, 229.0, 31.0, 55.0, 25.0, 280.0, 30.0, 34.0, 23.0, 34.0, 60.0, 18.0, 23.0, 32.0, 32.0, 165.0, 14.0, 48.221189271707715, 13.985408959908074, 11.695587318527839, 10.795579066062432, 9.931906046574401, 8.605114978014115, 8.62632501770367, 7.609813284903503, 7.330261954024756, 7.67458969215642, 63.31249338792963, 6.474406809866722, 6.2951098514557415, 5.747727601420009, 6.148662689856855, 5.417965773048492, 4.9203405164735425, 4.966492826728327, 4.345692660202166, 11.024129675723811, 4.039993384585623, 3.8462591963469235, 3.815893499913896, 3.827985320050211, 3.561143899981585, 3.5761692672329546, 3.4669139875744683, 3.8842184733106304, 2.902041445472581, 2.868949753859588, 141.02835714750074, 7.212602810048521, 87.07608996793118, 12.422142164626617, 118.58278867580886, 7.973287279335158, 27.837912805348363, 94.90128183900983, 17.309409128580054, 28.292007181335272, 17.649652466230783, 30.946334184106444, 32.24040925114885, 41.85534904987369, 19.815919721672294, 43.373100660234826, 11.341652487606321, 18.47920202067999, 10.436881869555874, 38.054551611560605, 13.17520151128504, 10.8417924314371, 10.39016045915929, 12.448421789830784, 10.758041212376371, 15.684195826216564, 11.359732454185712, 97.32079835688232, 8.398258749600556, 6.512028505074915, 5.362628264025417, 7.11499936215193, 6.010964259502136, 12.589774821996166, 4.784863524603831, 27.75441035418028, 4.889491229091827, 10.516202007998379, 9.786333194267991, 3.7728733425911845, 3.639705046306306, 3.723261099671307, 3.5655898009273117, 3.0935619640624545, 271.7216621841564, 3.046310597849213, 2.9403839633588698, 2.8764020357022315, 2.9698919353616806, 2.771435360622453, 2.7286357933408643, 2.716905116563116, 12.944544362325693, 2.5130615858841963, 19.51942298486939, 10.842839023271047, 4.67296551123627, 12.723830917684689, 8.710347178312803, 25.90528693072703, 11.825804052868609, 9.883603701174193, 17.231223833394417, 23.616371243193367, 32.703200193388255, 108.26503075837962, 68.67492030785692, 30.22092981980363, 13.846049412941545, 40.04534278269586, 31.095202410428215, 55.89759611575956, 34.2243755670245, 23.902352932720305, 34.999407158993186, 11.711340741672108, 9.912964084167076, 12.848561695187875, 13.179443557448678, 10.305780864030067, 22.636755796049684, 57.671589574770636, 13.766404987231667, 13.137366498432526, 12.190640249219122, 12.311480475838282, 11.045688693238798, 8.864777609862454, 28.413049840300587, 8.727787938459038, 7.228815070080915, 7.568082353197544, 6.540536081084702, 6.2493315897138695, 6.147030301699833, 5.939952574463909, 5.91352389772666, 5.6389813932707975, 5.611156609466354, 5.549514641934003, 5.432219340593996, 5.212067231679945, 4.951872170278224, 6.425866509226202, 5.477578949238998, 7.906484561459208, 4.626454722536695, 4.3422139441161685, 4.685006988742629, 4.298733414002209, 11.402199392062398, 13.273277032880221, 37.6324815956476, 19.53423598322659, 20.974250686538912, 10.744203060542842, 7.334942701987105, 7.722957957670101, 14.719416266992978, 8.36795835398876, 19.268270634258723, 11.91448546660774, 22.984938096402242, 12.831078895729263, 20.466466963216604, 9.759327441504542, 8.196583411352483, 19.9186997192211, 9.65446762039793, 11.383369264701365, 9.930430487769085, 11.887581919451446, 9.88507104005724, 25.15652626681193, 38.081089391089066, 18.060739447111327, 16.144191356463, 12.358389162252335, 10.700948923338641, 10.243561287287486, 11.288510982659758, 7.739127310649841, 6.694859834707919, 6.158949986061041, 5.848421238601271, 5.844022470698822, 5.625554319095179, 7.278541206049316, 5.720984188761071, 5.0096076477452485, 4.921776342908909, 4.544085393462569, 5.336482816109469, 4.710015140675897, 4.275923356042882, 4.2776771119350885, 4.403470118953791, 3.982648855512401, 3.8369117772551475, 3.691631091156148, 18.816768399417906, 13.764392042641347, 3.0825702337742373, 65.7013810825072, 56.570112970474206, 24.10651334042102, 38.236320795959, 14.345381334968609, 12.518688543337385, 13.91869901121039, 54.333480101910475, 32.71875295845168, 6.545191006792152, 10.108174842757753, 9.864404929657136, 27.90697620251516, 23.00179981173688, 11.838294075607825, 7.559676169329337, 7.571387790095378, 8.422320401833048, 27.665446167000958, 13.60053337792175, 12.603239384777744, 12.145976325447851, 8.130945667574391, 7.060645280818971, 8.613717286257787, 6.67386635609348, 6.1257884056883265, 6.087233138426111, 5.834726880265242, 6.272934869245524, 5.62212735430242, 5.196873038416201, 11.413112264489817, 5.124074761610936, 4.976911308252134, 5.764106410831489, 4.919983332983197, 4.872817349896926, 5.03774931832165, 4.723107690090408, 5.727376955896509, 4.3486812320862755, 3.9977681614940828, 3.790343824055088, 3.675493068733717, 3.7022182343420806, 3.919205699899005, 3.3873083144376204, 35.72064327871526, 22.953408293132124, 38.00635353863884, 21.8081209910062, 10.458098423309156, 5.9370183704239246, 7.324728471507869, 6.828251133645451, 9.008422515404924, 27.286257723799906, 8.152292609078033, 7.2942650244025, 10.799670081240542, 6.7303887741820185, 9.232022159309814, 6.164040691309493, 6.204831529680869, 6.255048024777281, 5.996200040450911], \"Total\": [341.0, 189.0, 108.0, 88.0, 86.0, 127.0, 59.0, 57.0, 49.0, 39.0, 70.0, 49.0, 28.0, 76.0, 229.0, 31.0, 55.0, 25.0, 280.0, 30.0, 34.0, 23.0, 34.0, 60.0, 18.0, 23.0, 32.0, 32.0, 165.0, 14.0, 49.290681553518034, 14.8721017236749, 12.52443596866807, 11.596293778860074, 10.782984691990658, 9.396695666577934, 9.426096660975057, 8.431408552277288, 8.126386189272894, 8.513825940035474, 70.42139263011957, 7.262026863842177, 7.092204653658072, 6.545280707183951, 7.042439828328282, 6.222391546377584, 5.712201993681771, 5.787021905265695, 5.169414616652186, 13.189082387203028, 4.8454604171556275, 4.637408048222215, 4.614389308981138, 4.647836806227194, 4.347624369927569, 4.381548220115603, 4.309903230956594, 4.843965242015825, 3.7071963882476617, 3.67183851596447, 189.70115190934064, 9.372674988142569, 127.75594361753228, 17.718821996251823, 229.00526566313033, 11.077060683091812, 48.86694475452808, 280.7347785284889, 31.962924447759434, 60.51850505327667, 32.96295338190405, 69.73092705921141, 76.31818494962766, 111.17411252659059, 41.77341874455547, 165.62855683613643, 20.269203104820892, 57.09800993646013, 20.287676630304816, 341.69677466053946, 42.7828668692041, 25.80362701980342, 26.844630092292512, 65.0965412123207, 32.32340607342049, 16.492885716147867, 12.156190655766679, 108.70484512849413, 9.393564913611208, 7.301460133487372, 6.152519053392904, 8.166219230279973, 6.90065515366483, 14.603275934997981, 5.612093040810127, 32.706491369273316, 5.767410752794897, 12.421636938124994, 11.582536710673121, 4.567543743923421, 4.426946342041978, 4.530088348326993, 4.384488855127066, 3.8831150432542643, 341.69677466053946, 3.84107882460773, 3.7431628607636176, 3.6650651586821015, 3.7860345286668986, 3.558227796650966, 3.5169592018541516, 3.5191430933971017, 16.781802796308565, 3.298026652428323, 25.85381121586145, 14.373173395953993, 6.214176044196287, 18.64616459007448, 12.373042684515882, 41.0926313566906, 17.584097634608927, 14.689349072950437, 29.384146276385366, 42.7828668692041, 65.0965412123207, 280.7347785284889, 165.62855683613643, 60.51850505327667, 24.865822635159006, 127.75594361753228, 88.26814379792121, 229.00526566313033, 111.17411252659059, 69.73092705921141, 189.70115190934064, 23.437220159030975, 16.43232195639348, 41.77341874455547, 48.86694475452808, 24.41939356769082, 23.47374293974209, 59.808859929701875, 14.55588290213715, 13.915010113395555, 12.964951318963958, 13.129147919467673, 11.865869466012436, 9.645962235663395, 30.95889127046488, 9.519587056650938, 8.004567177698005, 8.398397014756823, 7.340563777242923, 7.018000030954057, 6.93178478926311, 6.723049029519615, 6.701008421528757, 6.408163237749337, 6.388578862744314, 6.321741284964249, 6.205229533332549, 6.012045222889186, 5.733808295931599, 7.453359068336882, 6.354373357717121, 9.247119913261937, 5.417816530701634, 5.119177450064052, 5.52393896222481, 5.068851947907538, 14.17296750961905, 16.899045594036433, 55.174104646721915, 28.71679759436685, 32.32340607342049, 14.771736381124501, 9.243649481273934, 10.636832214512557, 32.96295338190405, 13.35254327387239, 65.0965412123207, 26.92094940513786, 111.17411252659059, 41.0926313566906, 165.62855683613643, 23.01115646309576, 14.534268220413923, 280.7347785284889, 28.340273894250796, 86.69085340628888, 49.8824585059371, 189.70115190934064, 108.70484512849413, 25.978802589850257, 39.47519544744239, 18.890098018243012, 16.936277351499545, 13.146741536328456, 11.502537304070474, 11.018906066286018, 12.224325838631852, 8.510721880050328, 7.482357774958903, 6.941389625761282, 6.632166755548645, 6.633963392002304, 6.3973101337751626, 8.288334047558484, 6.57055757602977, 5.788868417075931, 5.703466019554255, 5.315964656908959, 6.251210755333226, 5.522670767932243, 5.049227415383658, 5.054912171204687, 5.224508241943296, 4.786726883144567, 4.622123944718154, 4.465289016056949, 23.14088003515031, 17.003161234707676, 3.8564105507132065, 86.69085340628888, 88.26814379792121, 34.58520188344489, 76.31818494962766, 25.80362701980342, 23.01115646309576, 31.962924447759434, 280.7347785284889, 165.62855683613643, 9.98102855153274, 28.340273894250796, 26.92094940513786, 341.69677466053946, 229.00526566313033, 55.174104646721915, 25.172522494290394, 26.844630092292512, 69.73092705921141, 28.571267621705967, 14.391675095576948, 13.576821846196507, 13.186350167708655, 8.94864246669386, 7.847721761059791, 9.59058150886281, 7.436013958053533, 6.896244358263419, 6.874037786937086, 6.597719171299171, 7.126621551499208, 6.408520734689683, 5.956819025549972, 13.084529231694605, 5.8852499448759374, 5.739935511175247, 6.656673729785526, 5.6842729979026565, 5.631848188606875, 5.8263669388986274, 5.490270436844288, 6.726558998913081, 5.126144426327814, 4.7652929025036315, 4.549293158209962, 4.43761456686217, 4.482838115497412, 4.750432743876092, 4.158419616108011, 49.8824585059371, 31.28421249716085, 57.09800993646013, 34.58848287920955, 16.57931525767849, 8.399414954579305, 11.62285879863804, 10.651968450617726, 17.74747095256673, 229.00526566313033, 24.41939356769082, 24.1017329108938, 111.17411252659059, 18.586940573668798, 86.69085340628888, 13.997099518041377, 25.172522494290394, 69.73092705921141, 29.384146276385366], \"Category\": [\"Default\", \"Default\", \"Default\", \"Default\", \"Default\", \"Default\", \"Default\", \"Default\", \"Default\", \"Default\", \"Default\", \"Default\", \"Default\", \"Default\", \"Default\", \"Default\", \"Default\", \"Default\", \"Default\", \"Default\", \"Default\", \"Default\", \"Default\", \"Default\", \"Default\", \"Default\", \"Default\", \"Default\", \"Default\", \"Default\", \"Topic1\", \"Topic1\", \"Topic1\", \"Topic1\", \"Topic1\", \"Topic1\", \"Topic1\", \"Topic1\", \"Topic1\", \"Topic1\", \"Topic1\", \"Topic1\", \"Topic1\", \"Topic1\", \"Topic1\", \"Topic1\", \"Topic1\", \"Topic1\", \"Topic1\", \"Topic1\", \"Topic1\", \"Topic1\", \"Topic1\", \"Topic1\", \"Topic1\", \"Topic1\", \"Topic1\", \"Topic1\", \"Topic1\", \"Topic1\", \"Topic1\", \"Topic1\", \"Topic1\", \"Topic1\", \"Topic1\", \"Topic1\", \"Topic1\", \"Topic1\", \"Topic1\", \"Topic1\", \"Topic1\", \"Topic1\", \"Topic1\", \"Topic1\", \"Topic1\", \"Topic1\", \"Topic1\", \"Topic1\", \"Topic1\", \"Topic1\", \"Topic1\", \"Topic1\", \"Topic1\", \"Topic1\", \"Topic1\", \"Topic2\", \"Topic2\", \"Topic2\", \"Topic2\", \"Topic2\", \"Topic2\", \"Topic2\", \"Topic2\", \"Topic2\", \"Topic2\", \"Topic2\", \"Topic2\", \"Topic2\", \"Topic2\", \"Topic2\", \"Topic2\", \"Topic2\", \"Topic2\", \"Topic2\", \"Topic2\", \"Topic2\", \"Topic2\", \"Topic2\", \"Topic2\", \"Topic2\", \"Topic2\", \"Topic2\", \"Topic2\", \"Topic2\", \"Topic2\", \"Topic2\", \"Topic2\", \"Topic2\", \"Topic2\", \"Topic2\", \"Topic2\", \"Topic2\", \"Topic2\", \"Topic2\", \"Topic2\", \"Topic2\", \"Topic2\", \"Topic2\", \"Topic2\", \"Topic2\", \"Topic2\", \"Topic2\", \"Topic2\", \"Topic2\", \"Topic2\", \"Topic2\", \"Topic2\", \"Topic2\", \"Topic2\", \"Topic2\", \"Topic3\", \"Topic3\", \"Topic3\", \"Topic3\", \"Topic3\", \"Topic3\", \"Topic3\", \"Topic3\", \"Topic3\", \"Topic3\", \"Topic3\", \"Topic3\", \"Topic3\", \"Topic3\", \"Topic3\", \"Topic3\", \"Topic3\", \"Topic3\", \"Topic3\", \"Topic3\", \"Topic3\", \"Topic3\", \"Topic3\", \"Topic3\", \"Topic3\", \"Topic3\", \"Topic3\", \"Topic3\", \"Topic3\", \"Topic3\", \"Topic3\", \"Topic3\", \"Topic3\", \"Topic3\", \"Topic3\", \"Topic3\", \"Topic3\", \"Topic3\", \"Topic3\", \"Topic3\", \"Topic3\", \"Topic3\", \"Topic3\", \"Topic3\", \"Topic3\", \"Topic3\", \"Topic3\", \"Topic3\", \"Topic3\", \"Topic3\", \"Topic3\", \"Topic3\", \"Topic3\", \"Topic4\", \"Topic4\", \"Topic4\", \"Topic4\", \"Topic4\", \"Topic4\", \"Topic4\", \"Topic4\", \"Topic4\", \"Topic4\", \"Topic4\", \"Topic4\", \"Topic4\", \"Topic4\", \"Topic4\", \"Topic4\", \"Topic4\", \"Topic4\", \"Topic4\", \"Topic4\", \"Topic4\", \"Topic4\", \"Topic4\", \"Topic4\", \"Topic4\", \"Topic4\", \"Topic4\", \"Topic4\", \"Topic4\", \"Topic4\", \"Topic4\", \"Topic4\", \"Topic4\", \"Topic4\", \"Topic4\", \"Topic4\", \"Topic4\", \"Topic4\", \"Topic4\", \"Topic4\", \"Topic4\", \"Topic4\", \"Topic4\", \"Topic4\", \"Topic4\", \"Topic4\", \"Topic4\", \"Topic4\", \"Topic5\", \"Topic5\", \"Topic5\", \"Topic5\", \"Topic5\", \"Topic5\", \"Topic5\", \"Topic5\", \"Topic5\", \"Topic5\", \"Topic5\", \"Topic5\", \"Topic5\", \"Topic5\", \"Topic5\", \"Topic5\", \"Topic5\", \"Topic5\", \"Topic5\", \"Topic5\", \"Topic5\", \"Topic5\", \"Topic5\", \"Topic5\", \"Topic5\", \"Topic5\", \"Topic5\", \"Topic5\", \"Topic5\", \"Topic5\", \"Topic5\", \"Topic5\", \"Topic5\", \"Topic5\", \"Topic5\", \"Topic5\", \"Topic5\", \"Topic5\", \"Topic5\", \"Topic5\", \"Topic5\", \"Topic5\", \"Topic5\", \"Topic5\", \"Topic5\", \"Topic5\", \"Topic5\", \"Topic5\", \"Topic5\"], \"logprob\": [30.0, 29.0, 28.0, 27.0, 26.0, 25.0, 24.0, 23.0, 22.0, 21.0, 20.0, 19.0, 18.0, 17.0, 16.0, 15.0, 14.0, 13.0, 12.0, 11.0, 10.0, 9.0, 8.0, 7.0, 6.0, 5.0, 4.0, 3.0, 2.0, 1.0, -3.4668, -4.7046, -4.8834, -4.9635, -5.0468, -5.1902, -5.1878, -5.3132, -5.3506, -5.3047, -3.1945, -5.4747, -5.5028, -5.5938, -5.5264, -5.6529, -5.7492, -5.7399, -5.8734, -4.9425, -5.9463, -5.9955, -6.0034, -6.0003, -6.0725, -6.0683, -6.0993, -5.9857, -6.2772, -6.2886, -2.3936, -5.3668, -2.8758, -4.8231, -2.567, -5.2665, -4.0162, -2.7898, -4.4913, -4.0, -4.4719, -3.9103, -3.8694, -3.6084, -4.3561, -3.5728, -4.9141, -4.4259, -4.9972, -3.7036, -4.7643, -4.9592, -5.0017, -4.821, -4.9669, -4.5817, -4.9043, -2.7564, -5.2063, -5.4607, -5.6549, -5.3722, -5.5408, -4.8015, -5.7689, -4.011, -5.7473, -4.9815, -5.0534, -6.0065, -6.0425, -6.0198, -6.063, -6.205, -1.7296, -6.2204, -6.2558, -6.2778, -6.2458, -6.315, -6.3306, -6.3349, -4.7737, -6.4129, -4.363, -4.9509, -5.7926, -4.7909, -5.1699, -4.0799, -4.8641, -5.0435, -4.4876, -4.1724, -3.8469, -2.6498, -3.105, -3.9258, -4.7064, -3.6444, -3.8973, -3.3108, -3.8014, -4.1604, -3.779, -4.8738, -5.0405, -4.7811, -4.7557, -5.0017, -3.9424, -3.0073, -4.4398, -4.4866, -4.5614, -4.5515, -4.66, -4.8799, -3.7152, -4.8955, -5.0839, -5.0381, -5.184, -5.2295, -5.2461, -5.2803, -5.2848, -5.3323, -5.3373, -5.3483, -5.3697, -5.411, -5.4623, -5.2017, -5.3614, -4.9943, -5.5302, -5.5936, -5.5177, -5.6037, -4.6282, -4.4763, -3.4342, -4.0899, -4.0187, -4.6877, -5.0694, -5.0178, -4.3729, -4.9376, -4.1036, -4.5843, -3.9272, -4.5102, -4.0432, -4.7838, -4.9583, -4.0704, -4.7946, -4.6299, -4.7664, -4.5865, -4.771, -3.6873, -3.2727, -4.0187, -4.1309, -4.3981, -4.5421, -4.5858, -4.4887, -4.8661, -5.0111, -5.0945, -5.1463, -5.147, -5.1851, -4.9275, -5.1683, -5.3011, -5.3188, -5.3986, -5.2379, -5.3627, -5.4594, -5.459, -5.43, -5.5305, -5.5678, -5.6064, -3.9777, -4.2904, -5.7867, -2.7273, -2.877, -3.73, -3.2687, -4.249, -4.3852, -4.2792, -2.9173, -3.4245, -5.0337, -4.5991, -4.6235, -3.5836, -3.7769, -4.4411, -4.8896, -4.8881, -4.7816, -3.3167, -4.0268, -4.103, -4.1399, -4.5412, -4.6824, -4.4836, -4.7387, -4.8244, -4.8307, -4.8731, -4.8007, -4.9102, -4.9889, -4.2021, -5.003, -5.0321, -4.8853, -5.0436, -5.0532, -5.0199, -5.0844, -4.8916, -5.167, -5.2512, -5.3045, -5.3352, -5.328, -5.271, -5.4169, -3.0612, -3.5034, -2.9992, -3.5546, -4.2895, -4.8557, -4.6457, -4.7158, -4.4387, -3.3305, -4.5386, -4.6498, -4.2574, -4.7303, -4.4142, -4.8182, -4.8116, -4.8035, -4.8458], \"loglift\": [30.0, 29.0, 28.0, 27.0, 26.0, 25.0, 24.0, 23.0, 22.0, 21.0, 20.0, 19.0, 18.0, 17.0, 16.0, 15.0, 14.0, 13.0, 12.0, 11.0, 10.0, 9.0, 8.0, 7.0, 6.0, 5.0, 4.0, 3.0, 2.0, 1.0, 1.3368, 1.2973, 1.2903, 1.2872, 1.2765, 1.2708, 1.2701, 1.2562, 1.2557, 1.255, 1.2523, 1.244, 1.2395, 1.2288, 1.223, 1.2203, 1.2095, 1.2059, 1.1852, 1.1795, 1.177, 1.1717, 1.1688, 1.1647, 1.1592, 1.1556, 1.1411, 1.1379, 1.1139, 1.112, 1.0623, 1.0968, 0.9754, 1.0036, 0.7006, 1.03, 0.7961, 0.2742, 0.7454, 0.5984, 0.7341, 0.5464, 0.4971, 0.3819, 0.613, 0.0188, 0.7781, 0.2306, 0.6941, -0.8361, 0.181, 0.4916, 0.4095, -0.2955, 0.2586, 1.3167, 1.2992, 1.2564, 1.255, 1.2526, 1.2296, 1.2292, 1.2289, 1.2186, 1.2075, 1.2028, 1.2018, 1.2005, 1.1985, 1.1758, 1.1712, 1.1708, 1.1602, 1.1397, 1.1378, 1.1352, 1.1256, 1.1247, 1.1242, 1.1171, 1.1132, 1.1083, 1.1074, 1.0952, 1.0859, 1.0851, 1.0819, 0.9848, 1.016, 0.9056, 0.9703, 0.9707, 0.8332, 0.7728, 0.6786, 0.4141, 0.4866, 0.6726, 0.7815, 0.2069, 0.3236, -0.0432, 0.1888, 0.2963, -0.3231, 0.6732, 0.8616, 0.1879, 0.0565, 0.5043, 1.603, 1.6029, 1.5836, 1.5818, 1.5777, 1.575, 1.5677, 1.5549, 1.5535, 1.5525, 1.5374, 1.5352, 1.5239, 1.5233, 1.5192, 1.5155, 1.5143, 1.5115, 1.5096, 1.509, 1.5063, 1.4965, 1.4927, 1.491, 1.4908, 1.4827, 1.4814, 1.4747, 1.4746, 1.4745, 1.4218, 1.3978, 1.2567, 1.254, 1.2068, 1.321, 1.408, 1.3192, 0.8331, 1.172, 0.4219, 0.8242, 0.0631, 0.4754, -0.4516, 0.7816, 1.0665, -1.0064, 0.5625, -0.3909, 0.0253, -1.1306, -0.7583, 1.7567, 1.753, 1.744, 1.741, 1.7271, 1.7167, 1.7159, 1.7093, 1.6939, 1.6777, 1.6693, 1.6632, 1.6621, 1.6604, 1.659, 1.6505, 1.6443, 1.6415, 1.632, 1.6307, 1.6297, 1.6227, 1.622, 1.6179, 1.605, 1.6027, 1.5986, 1.5821, 1.5776, 1.5649, 1.5117, 1.344, 1.428, 1.0978, 1.2018, 1.1802, 0.9576, 0.1466, 0.1671, 1.367, 0.758, 0.7849, -0.7161, -0.5093, 0.2498, 0.586, 0.5232, -0.3248, 2.0322, 2.0079, 1.99, 1.9823, 1.9686, 1.9588, 1.957, 1.9563, 1.946, 1.9429, 1.9415, 1.9368, 1.9335, 1.928, 1.9278, 1.9259, 1.9218, 1.9205, 1.92, 1.9197, 1.919, 1.9139, 1.9036, 1.9, 1.8888, 1.8819, 1.876, 1.8731, 1.8721, 1.8593, 1.7305, 1.7548, 1.6574, 1.6032, 1.6037, 1.7175, 1.6027, 1.6198, 1.3864, -0.0629, 0.9674, 0.8692, -0.2671, 1.0486, -0.1752, 1.2443, 0.664, -0.3468, 0.4751]}, \"token.table\": {\"Topic\": [1, 1, 5, 5, 1, 2, 2, 5, 1, 2, 4, 3, 4, 5, 2, 3, 1, 2, 3, 5, 1, 1, 2, 3, 4, 2, 2, 4, 4, 1, 4, 5, 5, 2, 5, 3, 5, 1, 4, 5, 1, 1, 3, 4, 5, 1, 2, 3, 2, 5, 4, 1, 2, 4, 5, 2, 3, 5, 5, 3, 4, 5, 1, 5, 1, 2, 3, 4, 3, 4, 4, 5, 2, 1, 3, 4, 5, 4, 2, 2, 3, 5, 1, 5, 2, 4, 4, 1, 2, 5, 1, 3, 1, 3, 4, 1, 2, 1, 3, 2, 3, 5, 1, 4, 5, 3, 4, 1, 2, 4, 5, 1, 2, 3, 4, 2, 3, 5, 1, 2, 3, 4, 1, 2, 3, 4, 5, 2, 3, 2, 3, 3, 1, 2, 3, 4, 5, 1, 3, 4, 2, 1, 5, 1, 4, 5, 1, 1, 2, 2, 2, 2, 1, 4, 2, 3, 5, 3, 5, 4, 5, 1, 3, 1, 2, 2, 5, 4, 3, 1, 3, 1, 2, 3, 4, 5, 5, 1, 3, 4, 4, 3, 3, 2, 3, 2, 3, 3, 4, 1, 1, 2, 3, 4, 5, 3, 1, 2, 3, 3, 1, 2, 5, 4, 1, 3, 1, 4, 4, 5, 2, 3, 1, 2, 3, 5, 5, 1, 3, 1, 2, 3, 2, 4, 5, 1, 1, 1, 3, 3, 4, 1, 2, 3, 4, 5, 4, 1, 2, 3, 4, 5, 3, 4, 3, 5, 1, 2, 3, 4, 1, 3, 2, 3, 4, 3, 4, 1, 4, 3, 4, 2, 2, 5, 4, 3, 4, 4, 1, 2, 2, 3, 5, 1, 2, 3, 3, 2, 4, 2, 2, 1, 5, 1, 2, 4, 1, 2, 4, 5, 3, 5, 5, 1, 5, 1, 2, 2, 1, 2, 4, 2, 2, 3, 5, 5, 3, 5, 1, 3, 5, 3, 5, 5, 1, 2, 1, 1, 3, 1, 4, 3, 4, 5, 4, 3, 5, 4, 1, 5, 1, 3, 4, 3, 5, 1, 2, 1, 1, 2, 3, 4, 5, 2, 4, 5, 2, 4, 1, 3, 1, 3, 3, 2, 3, 4, 5], \"Freq\": [0.9485789347673209, 0.3441494101665175, 0.6022614677914057, 0.8922918688881014, 0.8170293946633433, 0.9701152530472401, 0.8524802545337927, 0.839402756942484, 0.2424625919826753, 0.727387775948026, 0.9044367063034158, 0.4345718137216416, 0.5649433578381341, 0.9107019513002192, 0.8633687291303951, 0.08633687291303951, 0.20309054552540182, 0.06769684850846727, 0.74466533359314, 0.9575142214628012, 0.9577834931923042, 0.2596170661713957, 0.41659482711223955, 0.12075212380064915, 0.1992410042710711, 0.8516468533057198, 0.6824347913299608, 0.284347829720817, 0.8998451239934488, 0.42629665944085565, 0.5425593847429072, 0.8792574716319017, 0.9727846068664152, 0.30158060946964116, 0.6031612189392823, 0.961810430471687, 0.7214279166006314, 0.9166910127192156, 0.8356440836608294, 0.8700387759332374, 0.6960713127970027, 0.10585642224892507, 0.3528547408297502, 0.3528547408297502, 0.1764273704148751, 0.1843415913736563, 0.5069393762775548, 0.2918741863416225, 0.9123070287480698, 0.8420285510107485, 0.9447176417775984, 0.4445660097660342, 0.34418013659305874, 0.11472671219768625, 0.08604503414826468, 0.26900607876711313, 0.3766085102739584, 0.3766085102739584, 0.9800055206065842, 0.4457495097743396, 0.3714579248119496, 0.1857289624059748, 0.6772459254084972, 0.28218580225354045, 0.4192971835103387, 0.013103036984698084, 0.06551518492349043, 0.4979154054185272, 0.9454191601422539, 0.9405630629055609, 0.07642613519313357, 0.8406874871244693, 0.8530096108076519, 0.37251398010029374, 0.298011184080235, 0.298011184080235, 0.03725139801002938, 0.7656222968292552, 0.9587123495881656, 0.3380763386533251, 0.1126921128844417, 0.5071145079799877, 0.7737820036943522, 0.8878080219056522, 0.35120258188470116, 0.6457595860460634, 0.9131645116220827, 0.2815108956058569, 0.5630217912117138, 0.12064752668822437, 0.9738148974037484, 0.9342429429846622, 0.032300898351421616, 0.9044251538398052, 0.06460179670284323, 0.16092238019776528, 0.8046119009888265, 0.34031067069523, 0.6496840076908937, 0.11905591108518894, 0.11905591108518894, 0.7143354665111337, 0.8946145148094472, 0.028400460787601497, 0.07100115196900375, 0.5504233084651418, 0.4128174813488563, 0.4787733587787017, 0.3112026832061561, 0.09575467175574034, 0.11969333969467542, 0.12229988092693642, 0.8560991664885549, 0.8953876226633917, 0.8637266629262229, 0.10814177921125805, 0.8651342336900644, 0.780313558755007, 0.11120971228877213, 0.7960274142775269, 0.011706285504081277, 0.08194399852856894, 0.7432743479986077, 0.18450072468050546, 0.06325739131903044, 0.005271449276585871, 0.005271449276585871, 0.7746485975189487, 0.17876506096591122, 0.7653146383871268, 0.20872217410558003, 0.8655779402288448, 0.5426952378499639, 0.14800779214089924, 0.29601558428179847, 0.9127737064610528, 0.8393741657340962, 0.9396480567427089, 0.892452215305162, 0.7913094955014263, 0.7923858003102604, 0.9200426853037075, 0.9100319532986585, 0.20239870287849132, 0.693938409869113, 0.08674230123363913, 0.9129193150576497, 0.6809859293940572, 0.3130969790317505, 0.772575616890772, 0.8014612539161574, 0.9035573713674053, 0.17285427321364263, 0.8210577977648025, 0.8923245314902158, 0.09199221974125937, 0.009199221974125937, 0.9255723145251988, 0.8581677145355288, 0.7013305255924794, 0.30057022525391974, 0.825769756831573, 0.8720207830365955, 0.8092368695412052, 0.8126752565264582, 0.8902112141046657, 0.0684777857003589, 0.8445605546101279, 0.9363057365104371, 0.7468518868792255, 0.21338625339406445, 0.11564543070503738, 0.05782271535251869, 0.1734681460575561, 0.028911357676259346, 0.6360498688777056, 0.8939903487903744, 0.49291006467751225, 0.29574603880650735, 0.14787301940325367, 0.9053590572577374, 0.9228810115045508, 0.8316637374855222, 0.3134054196128561, 0.6964564880285692, 0.7735803372668666, 0.23207410118005997, 0.9798181763786796, 0.9528801800084147, 0.8613915013342878, 0.11917756755130349, 0.079451711700869, 0.23835513510260697, 0.317806846803476, 0.23835513510260697, 0.8549444248412655, 0.5729844609817863, 0.26602849974154363, 0.1432461152454466, 0.9525627314287716, 0.25600305664612033, 0.5120061132922407, 0.25600305664612033, 0.895798678566204, 0.1775248183872988, 0.7692742130116281, 0.9488331576387949, 0.79220040432583, 0.9623230290747631, 0.909405181430074, 0.14111370809554316, 0.7761253945254873, 0.4626684015963476, 0.4957161445675153, 0.033047742971167686, 0.9384206777954972, 0.8796199622792334, 0.9581269791326306, 0.9051512035509911, 0.048670526417246944, 0.6327168434242102, 0.3163584217121051, 0.6971943177483275, 0.2681516606724336, 0.9413645589541544, 0.9273870162708995, 0.8519774604058301, 0.1880259046740686, 0.7521036186962744, 0.02533236349219369, 0.9626298127033601, 0.33839768801698156, 0.3847047400614106, 0.07124161852989086, 0.1923523700307053, 0.010686242779483627, 0.8654030155489287, 0.37778579064397255, 0.305826592426073, 0.20688269487646116, 0.008994899777237442, 0.09894389754961186, 0.9536052287565797, 0.7779254725473091, 0.9391760090792095, 0.9013510716550196, 0.30385995496149515, 0.5609722245442987, 0.09349537075738312, 0.04674768537869156, 0.8255149471116868, 0.7868596505944538, 0.2995683981662884, 0.5991367963325768, 0.9378941890471233, 0.8057719659106188, 0.9075311051608369, 0.5318662260640447, 0.4380074802880368, 0.7813755313268055, 0.9355339868172032, 0.8757442127010888, 0.8669401598589093, 0.8495815890289093, 0.9399907684391036, 0.17643777875118039, 0.8233763008388418, 0.8766599087042105, 0.8753191861090464, 0.84311634089971, 0.5785432675191278, 0.2041917414773392, 0.2041917414773392, 0.8640022591672633, 0.8829849867005883, 0.9139968620664718, 0.9491055912507074, 0.8855515625511765, 0.08050468750465241, 0.8185393356222763, 0.8909331979425329, 0.3152474144025471, 0.6655223192942662, 0.7222132503265345, 0.09027665629081681, 0.09027665629081681, 0.08190211581036928, 0.4095105790518464, 0.16380423162073857, 0.32760846324147713, 0.8050061650040456, 0.8919786166137839, 0.9013851788458487, 0.9413598871310433, 0.8419136552491406, 0.9547960649778674, 0.9096348562832604, 0.9048887362408878, 0.8606154146033658, 0.7810305742180063, 0.7998450533337476, 0.8571898209693313, 0.6085567229352639, 0.12171134458705277, 0.24342268917410553, 0.8728494352186945, 0.9270285697569355, 0.8919865269849736, 0.08018850954437044, 0.2004712738609261, 0.721696585899334, 0.7572766594169124, 0.10818237991670178, 0.8710899260567222, 0.8035495617293307, 0.8694826601809676, 0.8459992756843633, 0.5460675744510688, 0.4550563120425573, 0.8262156161765468, 0.8643802355845949, 0.12688766539702814, 0.7613259923821688, 0.10381718077938665, 0.9563107433789727, 0.7891333266601388, 0.936253505043943, 0.9046817158178724, 0.5001036101070399, 0.42866023723460556, 0.09062222272594808, 0.6887288927172054, 0.21749333454227537, 0.2816380853837419, 0.6571555325620644, 0.8340231471048335, 0.07582028610043941, 0.8668536034041749, 0.5196387063651651, 0.24453586181890122, 0.017466847272778658, 0.10043437181847728, 0.11790121909125593, 0.2237550330101892, 0.03196500471574132, 0.7351951084620503, 0.6807653593319806, 0.2723061437327922, 0.03343986162502946, 0.9697559871258544, 0.8625507952731116, 0.8745007499597368, 0.9330328877636364, 0.08298158507498915, 0.3319263402999566, 0.24894475522496748, 0.29043554776246205], \"Term\": [\"ability\", \"able\", \"able\", \"active\", \"additional\", \"advancement\", \"alot\", \"alright\", \"amazing\", \"amazing\", \"area\", \"associates\", \"associates\", \"availability\", \"available\", \"available\", \"awesome\", \"awesome\", \"awesome\", \"bad\", \"balance\", \"benefits\", \"benefits\", \"benefits\", \"benefits\", \"big\", \"bonuses\", \"bonuses\", \"break\", \"breaks\", \"breaks\", \"bring\", \"busy\", \"care\", \"care\", \"career\", \"choose\", \"clean\", \"clear\", \"clock\", \"code\", \"college\", \"college\", \"college\", \"college\", \"company\", \"company\", \"company\", \"compensation\", \"constantly\", \"cool\", \"coworkers\", \"coworkers\", \"coworkers\", \"coworkers\", \"customer\", \"customer\", \"customer\", \"customers\", \"day\", \"day\", \"day\", \"days\", \"days\", \"decent\", \"decent\", \"decent\", \"decent\", \"degree\", \"dental\", \"depending\", \"depending\", \"development\", \"discount\", \"discount\", \"discount\", \"discount\", \"diverse\", \"diversity\", \"dont\", \"dont\", \"dont\", \"dress\", \"easier\", \"easy\", \"easy\", \"education\", \"employees\", \"employees\", \"employees\", \"environment\", \"excellent\", \"experience\", \"experience\", \"experience\", \"fairly\", \"fairly\", \"fast\", \"fast\", \"feel\", \"feel\", \"feel\", \"flexible\", \"flexible\", \"flexible\", \"free\", \"free\", \"friendly\", \"friendly\", \"friendly\", \"friendly\", \"fun\", \"fun\", \"gain\", \"generally\", \"goes\", \"goes\", \"going\", \"good\", \"good\", \"good\", \"good\", \"great\", \"great\", \"great\", \"great\", \"great\", \"grow\", \"grow\", \"growth\", \"growth\", \"happy\", \"hard\", \"hard\", \"hard\", \"health\", \"helping\", \"higher\", \"hire\", \"hired\", \"hiring\", \"holidays\", \"home\", \"hour\", \"hour\", \"hour\", \"hourly\", \"hours\", \"hours\", \"huge\", \"incentives\", \"inclusion\", \"insurance\", \"insurance\", \"job\", \"job\", \"job\", \"jobs\", \"keeps\", \"kind\", \"kind\", \"large\", \"leader\", \"leaders\", \"leadership\", \"learn\", \"learn\", \"leave\", \"level\", \"life\", \"life\", \"like\", \"like\", \"like\", \"like\", \"like\", \"listen\", \"long\", \"long\", \"long\", \"longer\", \"look\", \"looking\", \"lot\", \"lot\", \"lots\", \"lots\", \"love\", \"lunch\", \"lunches\", \"make\", \"make\", \"make\", \"make\", \"make\", \"making\", \"management\", \"management\", \"management\", \"manager\", \"managers\", \"managers\", \"managers\", \"medical\", \"meet\", \"meet\", \"minimum\", \"minute\", \"money\", \"music\", \"new\", \"new\", \"nice\", \"nice\", \"nice\", \"night\", \"office\", \"okay\", \"open\", \"opportunities\", \"opportunities\", \"opportunities\", \"opportunity\", \"opportunity\", \"orders\", \"overtime\", \"pace\", \"paced\", \"paced\", \"paid\", \"paid\", \"pay\", \"pay\", \"pay\", \"pay\", \"pay\", \"paycheck\", \"people\", \"people\", \"people\", \"people\", \"people\", \"personal\", \"pharmacy\", \"physical\", \"pick\", \"place\", \"place\", \"place\", \"place\", \"places\", \"plan\", \"plenty\", \"plenty\", \"point\", \"potential\", \"ppto\", \"pretty\", \"pretty\", \"products\", \"program\", \"promote\", \"promotion\", \"pros\", \"protected\", \"pto\", \"pto\", \"quick\", \"raises\", \"real\", \"really\", \"really\", \"really\", \"regular\", \"resources\", \"retail\", \"right\", \"room\", \"room\", \"run\", \"say\", \"schedule\", \"schedule\", \"scheduling\", \"scheduling\", \"scheduling\", \"school\", \"school\", \"school\", \"school\", \"section\", \"set\", \"shelves\", \"shift\", \"shopping\", \"simple\", \"skill\", \"skills\", \"slow\", \"solid\", \"somewhat\", \"stable\", \"starting\", \"starting\", \"starting\", \"stay\", \"stock\", \"stocking\", \"store\", \"store\", \"store\", \"stores\", \"stores\", \"student\", \"students\", \"support\", \"supportive\", \"team\", \"team\", \"teamwork\", \"thing\", \"time\", \"time\", \"time\", \"training\", \"try\", \"tuition\", \"use\", \"usually\", \"usually\", \"walmart\", \"walmart\", \"walmart\", \"wasnt\", \"wasnt\", \"week\", \"week\", \"wonderful\", \"work\", \"work\", \"work\", \"work\", \"work\", \"worked\", \"worked\", \"worked\", \"workers\", \"workers\", \"working\", \"working\", \"worklife\", \"worth\", \"years\", \"youre\", \"youre\", \"youre\", \"youre\"]}, \"R\": 30, \"lambda.step\": 0.01, \"plot.opts\": {\"xlab\": \"PC1\", \"ylab\": \"PC2\"}, \"topic.order\": [3, 2, 5, 4, 1]};\n",
       "\n",
       "function LDAvis_load_lib(url, callback){\n",
       "  var s = document.createElement('script');\n",
       "  s.src = url;\n",
       "  s.async = true;\n",
       "  s.onreadystatechange = s.onload = callback;\n",
       "  s.onerror = function(){console.warn(\"failed to load library \" + url);};\n",
       "  document.getElementsByTagName(\"head\")[0].appendChild(s);\n",
       "}\n",
       "\n",
       "if(typeof(LDAvis) !== \"undefined\"){\n",
       "   // already loaded: just create the visualization\n",
       "   !function(LDAvis){\n",
       "       new LDAvis(\"#\" + \"ldavis_el2521622796654155522629787270\", ldavis_el2521622796654155522629787270_data);\n",
       "   }(LDAvis);\n",
       "}else if(typeof define === \"function\" && define.amd){\n",
       "   // require.js is available: use it to load d3/LDAvis\n",
       "   require.config({paths: {d3: \"https://d3js.org/d3.v5\"}});\n",
       "   require([\"d3\"], function(d3){\n",
       "      window.d3 = d3;\n",
       "      LDAvis_load_lib(\"https://cdn.jsdelivr.net/gh/bmabey/pyLDAvis@3.3.1/pyLDAvis/js/ldavis.v3.0.0.js\", function(){\n",
       "        new LDAvis(\"#\" + \"ldavis_el2521622796654155522629787270\", ldavis_el2521622796654155522629787270_data);\n",
       "      });\n",
       "    });\n",
       "}else{\n",
       "    // require.js not available: dynamically load d3 & LDAvis\n",
       "    LDAvis_load_lib(\"https://d3js.org/d3.v5.js\", function(){\n",
       "         LDAvis_load_lib(\"https://cdn.jsdelivr.net/gh/bmabey/pyLDAvis@3.3.1/pyLDAvis/js/ldavis.v3.0.0.js\", function(){\n",
       "                 new LDAvis(\"#\" + \"ldavis_el2521622796654155522629787270\", ldavis_el2521622796654155522629787270_data);\n",
       "            })\n",
       "         });\n",
       "}\n",
       "</script>"
      ],
      "text/plain": [
       "PreparedData(topic_coordinates=                x           y  topics  cluster       Freq\n",
       "topic                                                    \n",
       "2      150.222153  -72.269554       1        1  25.698021\n",
       "1       51.163364 -159.968018       2        1  25.487677\n",
       "4      -73.144554   21.523815       3        1  19.411133\n",
       "3      -66.410133 -110.606438       4        1  16.714226\n",
       "0       54.417324   12.443444       5        1  12.688943, topic_info=          Term        Freq       Total Category  logprob  loglift\n",
       "152       good  341.000000  341.000000  Default  30.0000  30.0000\n",
       "154      great  189.000000  189.000000  Default  29.0000  29.0000\n",
       "193        job  108.000000  108.000000  Default  28.0000  28.0000\n",
       "104       easy   88.000000   88.000000  Default  27.0000  27.0000\n",
       "390       time   86.000000   86.000000  Default  26.0000  26.0000\n",
       "..         ...         ...         ...      ...      ...      ...\n",
       "390       time    9.232022   86.690853   Topic5  -4.4142  -0.1752\n",
       "405    usually    6.164041   13.997100   Topic5  -4.8182   1.2443\n",
       "231       make    6.204832   25.172522   Topic5  -4.8116   0.6640\n",
       "75   coworkers    6.255048   69.730927   Topic5  -4.8035  -0.3468\n",
       "321     really    5.996200   29.384146   Topic5  -4.8458   0.4751\n",
       "\n",
       "[290 rows x 6 columns], token_table=      Topic      Freq        Term\n",
       "term                             \n",
       "0         1  0.948579     ability\n",
       "1         1  0.344149        able\n",
       "1         5  0.602261        able\n",
       "2         5  0.892292      active\n",
       "4         1  0.817029  additional\n",
       "...     ...       ...         ...\n",
       "437       3  0.933033       years\n",
       "439       2  0.082982       youre\n",
       "439       3  0.331926       youre\n",
       "439       4  0.248945       youre\n",
       "439       5  0.290436       youre\n",
       "\n",
       "[357 rows x 3 columns], R=30, lambda_step=0.01, plot_opts={'xlab': 'PC1', 'ylab': 'PC2'}, topic_order=[3, 2, 5, 4, 1])"
      ]
     },
     "execution_count": 222,
     "metadata": {},
     "output_type": "execute_result"
    }
   ],
   "source": [
    "import pyLDAvis\n",
    "import pyLDAvis.sklearn\n",
    "pyLDAvis.enable_notebook()\n",
    "pyLDAvis.sklearn.prepare(lda_model, data_matrix, vectorizer, mds='tsne')"
   ]
  },
  {
   "cell_type": "markdown",
   "id": "57dfb512",
   "metadata": {},
   "source": [
    "#### Getting the Top Words for each topic "
   ]
  },
  {
   "cell_type": "code",
   "execution_count": 162,
   "id": "5f6c00c5",
   "metadata": {},
   "outputs": [],
   "source": [
    "import numpy as np \n",
    "import matplotlib.pyplot as plt\n",
    "import seaborn as sns\n",
    "\n",
    "from sklearn.feature_extraction.text import CountVectorizer\n",
    "from sklearn.decomposition import LatentDirichletAllocation\n",
    "from sklearn.feature_extraction.text import TfidfVectorizer\n",
    "from sklearn.decomposition import NMF"
   ]
  },
  {
   "cell_type": "code",
   "execution_count": 163,
   "id": "3267e282",
   "metadata": {},
   "outputs": [],
   "source": [
    "vectorizer = CountVectorizer(max_df=0.8, min_df=4, stop_words='english')"
   ]
  },
  {
   "cell_type": "code",
   "execution_count": 164,
   "id": "8f01e750",
   "metadata": {},
   "outputs": [],
   "source": [
    "doc_term_matrix = vectorizer.fit_transform(walmart_df[\"clean_pro\"].values.astype('U'))"
   ]
  },
  {
   "cell_type": "code",
   "execution_count": 165,
   "id": "5502a0b4",
   "metadata": {},
   "outputs": [
    {
     "data": {
      "text/plain": [
       "(1006, 338)"
      ]
     },
     "execution_count": 165,
     "metadata": {},
     "output_type": "execute_result"
    }
   ],
   "source": [
    "doc_term_matrix.shape"
   ]
  },
  {
   "cell_type": "code",
   "execution_count": 166,
   "id": "19641058",
   "metadata": {},
   "outputs": [
    {
     "data": {
      "text/plain": [
       "LatentDirichletAllocation(n_components=5, random_state=35)"
      ]
     },
     "execution_count": 166,
     "metadata": {},
     "output_type": "execute_result"
    }
   ],
   "source": [
    "LDA = LatentDirichletAllocation(n_components=5, random_state=35)\n",
    "LDA.fit(doc_term_matrix)"
   ]
  },
  {
   "cell_type": "code",
   "execution_count": 167,
   "id": "54e0b1cd",
   "metadata": {},
   "outputs": [
    {
     "name": "stdout",
     "output_type": "stream",
     "text": [
      "Top 10 words for topic #0:\n",
      "['people', 'fun', 'schedule', 'time', 'benefits', 'work', 'easy', 'pay', 'job', 'good']\n",
      "\n",
      "\n",
      "Top 10 words for topic #1:\n",
      "['really', 'environment', 'customers', 'customer', 'lot', 'day', 'place', 'store', 'fast', 'work']\n",
      "\n",
      "\n",
      "Top 10 words for topic #2:\n",
      "['advancement', 'team', 'hours', 'opportunities', 'people', 'pay', 'work', 'benefits', 'company', 'great']\n",
      "\n",
      "\n",
      "Top 10 words for topic #3:\n",
      "['breaks', 'like', 'management', 'working', 'decent', 'flexible', 'good', 'benefits', 'hours', 'pay']\n",
      "\n",
      "\n",
      "Top 10 words for topic #4:\n",
      "['discount', 'management', 'pretty', 'people', 'work', 'hours', 'nice', 'coworkers', 'pay', 'good']\n",
      "\n",
      "\n"
     ]
    }
   ],
   "source": [
    "for i,topic in enumerate(LDA.components_):\n",
    "    print(f'Top 10 words for topic #{i}:')\n",
    "    print([vectorizer.get_feature_names()[i] for i in topic.argsort()[-10:]])\n",
    "    print('\\n')"
   ]
  },
  {
   "cell_type": "code",
   "execution_count": 200,
   "id": "448c7fcc",
   "metadata": {},
   "outputs": [
    {
     "data": {
      "text/html": [
       "<style>.container { width:100% !important; }</style>"
      ],
      "text/plain": [
       "<IPython.core.display.HTML object>"
      ]
     },
     "metadata": {},
     "output_type": "display_data"
    }
   ],
   "source": [
    "from IPython.core.display import display, HTML\n",
    "display(HTML(\"<style>.container { width:100% !important; }</style>\"))"
   ]
  },
  {
   "cell_type": "markdown",
   "id": "2c02b687",
   "metadata": {},
   "source": [
    "# Sentiment Analysis "
   ]
  },
  {
   "cell_type": "markdown",
   "id": "3687703b",
   "metadata": {},
   "source": [
    "###  Using NRCLex library to classify emotions"
   ]
  },
  {
   "cell_type": "code",
   "execution_count": 223,
   "id": "e407b279",
   "metadata": {},
   "outputs": [],
   "source": [
    "#!pip install NRCLex"
   ]
  },
  {
   "cell_type": "code",
   "execution_count": 176,
   "id": "3e89799a",
   "metadata": {},
   "outputs": [],
   "source": [
    "from nrclex import NRCLex\n",
    "str_tweet = \",\".join(walmart_df[\"review\"])\n",
    "text_object = NRCLex(str_tweet)"
   ]
  },
  {
   "cell_type": "code",
   "execution_count": 177,
   "id": "5e335984",
   "metadata": {},
   "outputs": [],
   "source": [
    "data = text_object.raw_emotion_scores"
   ]
  },
  {
   "cell_type": "code",
   "execution_count": 178,
   "id": "369608e1",
   "metadata": {},
   "outputs": [
    {
     "data": {
      "text/plain": [
       "{'anticipation': 172,\n",
       " 'joy': 130,\n",
       " 'positive': 311,\n",
       " 'trust': 169,\n",
       " 'surprise': 81,\n",
       " 'fear': 49,\n",
       " 'negative': 58,\n",
       " 'sadness': 47,\n",
       " 'anger': 36,\n",
       " 'disgust': 38}"
      ]
     },
     "execution_count": 178,
     "metadata": {},
     "output_type": "execute_result"
    }
   ],
   "source": [
    "data"
   ]
  },
  {
   "cell_type": "code",
   "execution_count": 179,
   "id": "a4eb7ea5",
   "metadata": {},
   "outputs": [
    {
     "data": {
      "application/vnd.plotly.v1+json": {
       "config": {
        "plotlyServerURL": "https://plot.ly"
       },
       "data": [
        {
         "alignmentgroup": "True",
         "hovertemplate": "Emotion Classification=%{y}<br>Emotion Count=%{x}<extra></extra>",
         "legendgroup": "positive",
         "marker": {
          "color": "#636efa",
          "pattern": {
           "shape": ""
          }
         },
         "name": "positive",
         "offsetgroup": "positive",
         "orientation": "h",
         "showlegend": true,
         "textposition": "auto",
         "type": "bar",
         "x": [
          311
         ],
         "xaxis": "x",
         "y": [
          "positive"
         ],
         "yaxis": "y"
        },
        {
         "alignmentgroup": "True",
         "hovertemplate": "Emotion Classification=%{y}<br>Emotion Count=%{x}<extra></extra>",
         "legendgroup": "anticipation",
         "marker": {
          "color": "#EF553B",
          "pattern": {
           "shape": ""
          }
         },
         "name": "anticipation",
         "offsetgroup": "anticipation",
         "orientation": "h",
         "showlegend": true,
         "textposition": "auto",
         "type": "bar",
         "x": [
          172
         ],
         "xaxis": "x",
         "y": [
          "anticipation"
         ],
         "yaxis": "y"
        },
        {
         "alignmentgroup": "True",
         "hovertemplate": "Emotion Classification=%{y}<br>Emotion Count=%{x}<extra></extra>",
         "legendgroup": "trust",
         "marker": {
          "color": "#00cc96",
          "pattern": {
           "shape": ""
          }
         },
         "name": "trust",
         "offsetgroup": "trust",
         "orientation": "h",
         "showlegend": true,
         "textposition": "auto",
         "type": "bar",
         "x": [
          169
         ],
         "xaxis": "x",
         "y": [
          "trust"
         ],
         "yaxis": "y"
        },
        {
         "alignmentgroup": "True",
         "hovertemplate": "Emotion Classification=%{y}<br>Emotion Count=%{x}<extra></extra>",
         "legendgroup": "joy",
         "marker": {
          "color": "#ab63fa",
          "pattern": {
           "shape": ""
          }
         },
         "name": "joy",
         "offsetgroup": "joy",
         "orientation": "h",
         "showlegend": true,
         "textposition": "auto",
         "type": "bar",
         "x": [
          130
         ],
         "xaxis": "x",
         "y": [
          "joy"
         ],
         "yaxis": "y"
        },
        {
         "alignmentgroup": "True",
         "hovertemplate": "Emotion Classification=%{y}<br>Emotion Count=%{x}<extra></extra>",
         "legendgroup": "surprise",
         "marker": {
          "color": "#FFA15A",
          "pattern": {
           "shape": ""
          }
         },
         "name": "surprise",
         "offsetgroup": "surprise",
         "orientation": "h",
         "showlegend": true,
         "textposition": "auto",
         "type": "bar",
         "x": [
          81
         ],
         "xaxis": "x",
         "y": [
          "surprise"
         ],
         "yaxis": "y"
        },
        {
         "alignmentgroup": "True",
         "hovertemplate": "Emotion Classification=%{y}<br>Emotion Count=%{x}<extra></extra>",
         "legendgroup": "negative",
         "marker": {
          "color": "#19d3f3",
          "pattern": {
           "shape": ""
          }
         },
         "name": "negative",
         "offsetgroup": "negative",
         "orientation": "h",
         "showlegend": true,
         "textposition": "auto",
         "type": "bar",
         "x": [
          58
         ],
         "xaxis": "x",
         "y": [
          "negative"
         ],
         "yaxis": "y"
        },
        {
         "alignmentgroup": "True",
         "hovertemplate": "Emotion Classification=%{y}<br>Emotion Count=%{x}<extra></extra>",
         "legendgroup": "fear",
         "marker": {
          "color": "#FF6692",
          "pattern": {
           "shape": ""
          }
         },
         "name": "fear",
         "offsetgroup": "fear",
         "orientation": "h",
         "showlegend": true,
         "textposition": "auto",
         "type": "bar",
         "x": [
          49
         ],
         "xaxis": "x",
         "y": [
          "fear"
         ],
         "yaxis": "y"
        },
        {
         "alignmentgroup": "True",
         "hovertemplate": "Emotion Classification=%{y}<br>Emotion Count=%{x}<extra></extra>",
         "legendgroup": "sadness",
         "marker": {
          "color": "#B6E880",
          "pattern": {
           "shape": ""
          }
         },
         "name": "sadness",
         "offsetgroup": "sadness",
         "orientation": "h",
         "showlegend": true,
         "textposition": "auto",
         "type": "bar",
         "x": [
          47
         ],
         "xaxis": "x",
         "y": [
          "sadness"
         ],
         "yaxis": "y"
        },
        {
         "alignmentgroup": "True",
         "hovertemplate": "Emotion Classification=%{y}<br>Emotion Count=%{x}<extra></extra>",
         "legendgroup": "disgust",
         "marker": {
          "color": "#FF97FF",
          "pattern": {
           "shape": ""
          }
         },
         "name": "disgust",
         "offsetgroup": "disgust",
         "orientation": "h",
         "showlegend": true,
         "textposition": "auto",
         "type": "bar",
         "x": [
          38
         ],
         "xaxis": "x",
         "y": [
          "disgust"
         ],
         "yaxis": "y"
        },
        {
         "alignmentgroup": "True",
         "hovertemplate": "Emotion Classification=%{y}<br>Emotion Count=%{x}<extra></extra>",
         "legendgroup": "anger",
         "marker": {
          "color": "#FECB52",
          "pattern": {
           "shape": ""
          }
         },
         "name": "anger",
         "offsetgroup": "anger",
         "orientation": "h",
         "showlegend": true,
         "textposition": "auto",
         "type": "bar",
         "x": [
          36
         ],
         "xaxis": "x",
         "y": [
          "anger"
         ],
         "yaxis": "y"
        }
       ],
       "layout": {
        "barmode": "relative",
        "height": 400,
        "legend": {
         "title": {
          "text": "Emotion Classification"
         },
         "tracegroupgap": 0
        },
        "margin": {
         "t": 60
        },
        "template": {
         "data": {
          "bar": [
           {
            "error_x": {
             "color": "#2a3f5f"
            },
            "error_y": {
             "color": "#2a3f5f"
            },
            "marker": {
             "line": {
              "color": "#E5ECF6",
              "width": 0.5
             },
             "pattern": {
              "fillmode": "overlay",
              "size": 10,
              "solidity": 0.2
             }
            },
            "type": "bar"
           }
          ],
          "barpolar": [
           {
            "marker": {
             "line": {
              "color": "#E5ECF6",
              "width": 0.5
             },
             "pattern": {
              "fillmode": "overlay",
              "size": 10,
              "solidity": 0.2
             }
            },
            "type": "barpolar"
           }
          ],
          "carpet": [
           {
            "aaxis": {
             "endlinecolor": "#2a3f5f",
             "gridcolor": "white",
             "linecolor": "white",
             "minorgridcolor": "white",
             "startlinecolor": "#2a3f5f"
            },
            "baxis": {
             "endlinecolor": "#2a3f5f",
             "gridcolor": "white",
             "linecolor": "white",
             "minorgridcolor": "white",
             "startlinecolor": "#2a3f5f"
            },
            "type": "carpet"
           }
          ],
          "choropleth": [
           {
            "colorbar": {
             "outlinewidth": 0,
             "ticks": ""
            },
            "type": "choropleth"
           }
          ],
          "contour": [
           {
            "colorbar": {
             "outlinewidth": 0,
             "ticks": ""
            },
            "colorscale": [
             [
              0,
              "#0d0887"
             ],
             [
              0.1111111111111111,
              "#46039f"
             ],
             [
              0.2222222222222222,
              "#7201a8"
             ],
             [
              0.3333333333333333,
              "#9c179e"
             ],
             [
              0.4444444444444444,
              "#bd3786"
             ],
             [
              0.5555555555555556,
              "#d8576b"
             ],
             [
              0.6666666666666666,
              "#ed7953"
             ],
             [
              0.7777777777777778,
              "#fb9f3a"
             ],
             [
              0.8888888888888888,
              "#fdca26"
             ],
             [
              1,
              "#f0f921"
             ]
            ],
            "type": "contour"
           }
          ],
          "contourcarpet": [
           {
            "colorbar": {
             "outlinewidth": 0,
             "ticks": ""
            },
            "type": "contourcarpet"
           }
          ],
          "heatmap": [
           {
            "colorbar": {
             "outlinewidth": 0,
             "ticks": ""
            },
            "colorscale": [
             [
              0,
              "#0d0887"
             ],
             [
              0.1111111111111111,
              "#46039f"
             ],
             [
              0.2222222222222222,
              "#7201a8"
             ],
             [
              0.3333333333333333,
              "#9c179e"
             ],
             [
              0.4444444444444444,
              "#bd3786"
             ],
             [
              0.5555555555555556,
              "#d8576b"
             ],
             [
              0.6666666666666666,
              "#ed7953"
             ],
             [
              0.7777777777777778,
              "#fb9f3a"
             ],
             [
              0.8888888888888888,
              "#fdca26"
             ],
             [
              1,
              "#f0f921"
             ]
            ],
            "type": "heatmap"
           }
          ],
          "heatmapgl": [
           {
            "colorbar": {
             "outlinewidth": 0,
             "ticks": ""
            },
            "colorscale": [
             [
              0,
              "#0d0887"
             ],
             [
              0.1111111111111111,
              "#46039f"
             ],
             [
              0.2222222222222222,
              "#7201a8"
             ],
             [
              0.3333333333333333,
              "#9c179e"
             ],
             [
              0.4444444444444444,
              "#bd3786"
             ],
             [
              0.5555555555555556,
              "#d8576b"
             ],
             [
              0.6666666666666666,
              "#ed7953"
             ],
             [
              0.7777777777777778,
              "#fb9f3a"
             ],
             [
              0.8888888888888888,
              "#fdca26"
             ],
             [
              1,
              "#f0f921"
             ]
            ],
            "type": "heatmapgl"
           }
          ],
          "histogram": [
           {
            "marker": {
             "pattern": {
              "fillmode": "overlay",
              "size": 10,
              "solidity": 0.2
             }
            },
            "type": "histogram"
           }
          ],
          "histogram2d": [
           {
            "colorbar": {
             "outlinewidth": 0,
             "ticks": ""
            },
            "colorscale": [
             [
              0,
              "#0d0887"
             ],
             [
              0.1111111111111111,
              "#46039f"
             ],
             [
              0.2222222222222222,
              "#7201a8"
             ],
             [
              0.3333333333333333,
              "#9c179e"
             ],
             [
              0.4444444444444444,
              "#bd3786"
             ],
             [
              0.5555555555555556,
              "#d8576b"
             ],
             [
              0.6666666666666666,
              "#ed7953"
             ],
             [
              0.7777777777777778,
              "#fb9f3a"
             ],
             [
              0.8888888888888888,
              "#fdca26"
             ],
             [
              1,
              "#f0f921"
             ]
            ],
            "type": "histogram2d"
           }
          ],
          "histogram2dcontour": [
           {
            "colorbar": {
             "outlinewidth": 0,
             "ticks": ""
            },
            "colorscale": [
             [
              0,
              "#0d0887"
             ],
             [
              0.1111111111111111,
              "#46039f"
             ],
             [
              0.2222222222222222,
              "#7201a8"
             ],
             [
              0.3333333333333333,
              "#9c179e"
             ],
             [
              0.4444444444444444,
              "#bd3786"
             ],
             [
              0.5555555555555556,
              "#d8576b"
             ],
             [
              0.6666666666666666,
              "#ed7953"
             ],
             [
              0.7777777777777778,
              "#fb9f3a"
             ],
             [
              0.8888888888888888,
              "#fdca26"
             ],
             [
              1,
              "#f0f921"
             ]
            ],
            "type": "histogram2dcontour"
           }
          ],
          "mesh3d": [
           {
            "colorbar": {
             "outlinewidth": 0,
             "ticks": ""
            },
            "type": "mesh3d"
           }
          ],
          "parcoords": [
           {
            "line": {
             "colorbar": {
              "outlinewidth": 0,
              "ticks": ""
             }
            },
            "type": "parcoords"
           }
          ],
          "pie": [
           {
            "automargin": true,
            "type": "pie"
           }
          ],
          "scatter": [
           {
            "marker": {
             "colorbar": {
              "outlinewidth": 0,
              "ticks": ""
             }
            },
            "type": "scatter"
           }
          ],
          "scatter3d": [
           {
            "line": {
             "colorbar": {
              "outlinewidth": 0,
              "ticks": ""
             }
            },
            "marker": {
             "colorbar": {
              "outlinewidth": 0,
              "ticks": ""
             }
            },
            "type": "scatter3d"
           }
          ],
          "scattercarpet": [
           {
            "marker": {
             "colorbar": {
              "outlinewidth": 0,
              "ticks": ""
             }
            },
            "type": "scattercarpet"
           }
          ],
          "scattergeo": [
           {
            "marker": {
             "colorbar": {
              "outlinewidth": 0,
              "ticks": ""
             }
            },
            "type": "scattergeo"
           }
          ],
          "scattergl": [
           {
            "marker": {
             "colorbar": {
              "outlinewidth": 0,
              "ticks": ""
             }
            },
            "type": "scattergl"
           }
          ],
          "scattermapbox": [
           {
            "marker": {
             "colorbar": {
              "outlinewidth": 0,
              "ticks": ""
             }
            },
            "type": "scattermapbox"
           }
          ],
          "scatterpolar": [
           {
            "marker": {
             "colorbar": {
              "outlinewidth": 0,
              "ticks": ""
             }
            },
            "type": "scatterpolar"
           }
          ],
          "scatterpolargl": [
           {
            "marker": {
             "colorbar": {
              "outlinewidth": 0,
              "ticks": ""
             }
            },
            "type": "scatterpolargl"
           }
          ],
          "scatterternary": [
           {
            "marker": {
             "colorbar": {
              "outlinewidth": 0,
              "ticks": ""
             }
            },
            "type": "scatterternary"
           }
          ],
          "surface": [
           {
            "colorbar": {
             "outlinewidth": 0,
             "ticks": ""
            },
            "colorscale": [
             [
              0,
              "#0d0887"
             ],
             [
              0.1111111111111111,
              "#46039f"
             ],
             [
              0.2222222222222222,
              "#7201a8"
             ],
             [
              0.3333333333333333,
              "#9c179e"
             ],
             [
              0.4444444444444444,
              "#bd3786"
             ],
             [
              0.5555555555555556,
              "#d8576b"
             ],
             [
              0.6666666666666666,
              "#ed7953"
             ],
             [
              0.7777777777777778,
              "#fb9f3a"
             ],
             [
              0.8888888888888888,
              "#fdca26"
             ],
             [
              1,
              "#f0f921"
             ]
            ],
            "type": "surface"
           }
          ],
          "table": [
           {
            "cells": {
             "fill": {
              "color": "#EBF0F8"
             },
             "line": {
              "color": "white"
             }
            },
            "header": {
             "fill": {
              "color": "#C8D4E3"
             },
             "line": {
              "color": "white"
             }
            },
            "type": "table"
           }
          ]
         },
         "layout": {
          "annotationdefaults": {
           "arrowcolor": "#2a3f5f",
           "arrowhead": 0,
           "arrowwidth": 1
          },
          "autotypenumbers": "strict",
          "coloraxis": {
           "colorbar": {
            "outlinewidth": 0,
            "ticks": ""
           }
          },
          "colorscale": {
           "diverging": [
            [
             0,
             "#8e0152"
            ],
            [
             0.1,
             "#c51b7d"
            ],
            [
             0.2,
             "#de77ae"
            ],
            [
             0.3,
             "#f1b6da"
            ],
            [
             0.4,
             "#fde0ef"
            ],
            [
             0.5,
             "#f7f7f7"
            ],
            [
             0.6,
             "#e6f5d0"
            ],
            [
             0.7,
             "#b8e186"
            ],
            [
             0.8,
             "#7fbc41"
            ],
            [
             0.9,
             "#4d9221"
            ],
            [
             1,
             "#276419"
            ]
           ],
           "sequential": [
            [
             0,
             "#0d0887"
            ],
            [
             0.1111111111111111,
             "#46039f"
            ],
            [
             0.2222222222222222,
             "#7201a8"
            ],
            [
             0.3333333333333333,
             "#9c179e"
            ],
            [
             0.4444444444444444,
             "#bd3786"
            ],
            [
             0.5555555555555556,
             "#d8576b"
            ],
            [
             0.6666666666666666,
             "#ed7953"
            ],
            [
             0.7777777777777778,
             "#fb9f3a"
            ],
            [
             0.8888888888888888,
             "#fdca26"
            ],
            [
             1,
             "#f0f921"
            ]
           ],
           "sequentialminus": [
            [
             0,
             "#0d0887"
            ],
            [
             0.1111111111111111,
             "#46039f"
            ],
            [
             0.2222222222222222,
             "#7201a8"
            ],
            [
             0.3333333333333333,
             "#9c179e"
            ],
            [
             0.4444444444444444,
             "#bd3786"
            ],
            [
             0.5555555555555556,
             "#d8576b"
            ],
            [
             0.6666666666666666,
             "#ed7953"
            ],
            [
             0.7777777777777778,
             "#fb9f3a"
            ],
            [
             0.8888888888888888,
             "#fdca26"
            ],
            [
             1,
             "#f0f921"
            ]
           ]
          },
          "colorway": [
           "#636efa",
           "#EF553B",
           "#00cc96",
           "#ab63fa",
           "#FFA15A",
           "#19d3f3",
           "#FF6692",
           "#B6E880",
           "#FF97FF",
           "#FECB52"
          ],
          "font": {
           "color": "#2a3f5f"
          },
          "geo": {
           "bgcolor": "white",
           "lakecolor": "white",
           "landcolor": "#E5ECF6",
           "showlakes": true,
           "showland": true,
           "subunitcolor": "white"
          },
          "hoverlabel": {
           "align": "left"
          },
          "hovermode": "closest",
          "mapbox": {
           "style": "light"
          },
          "paper_bgcolor": "white",
          "plot_bgcolor": "#E5ECF6",
          "polar": {
           "angularaxis": {
            "gridcolor": "white",
            "linecolor": "white",
            "ticks": ""
           },
           "bgcolor": "#E5ECF6",
           "radialaxis": {
            "gridcolor": "white",
            "linecolor": "white",
            "ticks": ""
           }
          },
          "scene": {
           "xaxis": {
            "backgroundcolor": "#E5ECF6",
            "gridcolor": "white",
            "gridwidth": 2,
            "linecolor": "white",
            "showbackground": true,
            "ticks": "",
            "zerolinecolor": "white"
           },
           "yaxis": {
            "backgroundcolor": "#E5ECF6",
            "gridcolor": "white",
            "gridwidth": 2,
            "linecolor": "white",
            "showbackground": true,
            "ticks": "",
            "zerolinecolor": "white"
           },
           "zaxis": {
            "backgroundcolor": "#E5ECF6",
            "gridcolor": "white",
            "gridwidth": 2,
            "linecolor": "white",
            "showbackground": true,
            "ticks": "",
            "zerolinecolor": "white"
           }
          },
          "shapedefaults": {
           "line": {
            "color": "#2a3f5f"
           }
          },
          "ternary": {
           "aaxis": {
            "gridcolor": "white",
            "linecolor": "white",
            "ticks": ""
           },
           "baxis": {
            "gridcolor": "white",
            "linecolor": "white",
            "ticks": ""
           },
           "bgcolor": "#E5ECF6",
           "caxis": {
            "gridcolor": "white",
            "linecolor": "white",
            "ticks": ""
           }
          },
          "title": {
           "x": 0.05
          },
          "xaxis": {
           "automargin": true,
           "gridcolor": "white",
           "linecolor": "white",
           "ticks": "",
           "title": {
            "standoff": 15
           },
           "zerolinecolor": "white",
           "zerolinewidth": 2
          },
          "yaxis": {
           "automargin": true,
           "gridcolor": "white",
           "linecolor": "white",
           "ticks": "",
           "title": {
            "standoff": 15
           },
           "zerolinecolor": "white",
           "zerolinewidth": 2
          }
         }
        },
        "width": 800,
        "xaxis": {
         "anchor": "y",
         "domain": [
          0,
          1
         ],
         "title": {
          "text": "Emotion Count"
         }
        },
        "yaxis": {
         "anchor": "x",
         "categoryarray": [
          "anger",
          "disgust",
          "sadness",
          "fear",
          "negative",
          "surprise",
          "joy",
          "trust",
          "anticipation",
          "positive"
         ],
         "categoryorder": "array",
         "domain": [
          0,
          1
         ],
         "title": {
          "text": "Emotion Classification"
         }
        }
       }
      },
      "text/html": [
       "<div>                            <div id=\"51cc6c73-5f8c-414f-ae93-8a715073b540\" class=\"plotly-graph-div\" style=\"height:400px; width:800px;\"></div>            <script type=\"text/javascript\">                require([\"plotly\"], function(Plotly) {                    window.PLOTLYENV=window.PLOTLYENV || {};                                    if (document.getElementById(\"51cc6c73-5f8c-414f-ae93-8a715073b540\")) {                    Plotly.newPlot(                        \"51cc6c73-5f8c-414f-ae93-8a715073b540\",                        [{\"alignmentgroup\":\"True\",\"hovertemplate\":\"Emotion Classification=%{y}<br>Emotion Count=%{x}<extra></extra>\",\"legendgroup\":\"positive\",\"marker\":{\"color\":\"#636efa\",\"pattern\":{\"shape\":\"\"}},\"name\":\"positive\",\"offsetgroup\":\"positive\",\"orientation\":\"h\",\"showlegend\":true,\"textposition\":\"auto\",\"type\":\"bar\",\"x\":[311],\"xaxis\":\"x\",\"y\":[\"positive\"],\"yaxis\":\"y\"},{\"alignmentgroup\":\"True\",\"hovertemplate\":\"Emotion Classification=%{y}<br>Emotion Count=%{x}<extra></extra>\",\"legendgroup\":\"anticipation\",\"marker\":{\"color\":\"#EF553B\",\"pattern\":{\"shape\":\"\"}},\"name\":\"anticipation\",\"offsetgroup\":\"anticipation\",\"orientation\":\"h\",\"showlegend\":true,\"textposition\":\"auto\",\"type\":\"bar\",\"x\":[172],\"xaxis\":\"x\",\"y\":[\"anticipation\"],\"yaxis\":\"y\"},{\"alignmentgroup\":\"True\",\"hovertemplate\":\"Emotion Classification=%{y}<br>Emotion Count=%{x}<extra></extra>\",\"legendgroup\":\"trust\",\"marker\":{\"color\":\"#00cc96\",\"pattern\":{\"shape\":\"\"}},\"name\":\"trust\",\"offsetgroup\":\"trust\",\"orientation\":\"h\",\"showlegend\":true,\"textposition\":\"auto\",\"type\":\"bar\",\"x\":[169],\"xaxis\":\"x\",\"y\":[\"trust\"],\"yaxis\":\"y\"},{\"alignmentgroup\":\"True\",\"hovertemplate\":\"Emotion Classification=%{y}<br>Emotion Count=%{x}<extra></extra>\",\"legendgroup\":\"joy\",\"marker\":{\"color\":\"#ab63fa\",\"pattern\":{\"shape\":\"\"}},\"name\":\"joy\",\"offsetgroup\":\"joy\",\"orientation\":\"h\",\"showlegend\":true,\"textposition\":\"auto\",\"type\":\"bar\",\"x\":[130],\"xaxis\":\"x\",\"y\":[\"joy\"],\"yaxis\":\"y\"},{\"alignmentgroup\":\"True\",\"hovertemplate\":\"Emotion Classification=%{y}<br>Emotion Count=%{x}<extra></extra>\",\"legendgroup\":\"surprise\",\"marker\":{\"color\":\"#FFA15A\",\"pattern\":{\"shape\":\"\"}},\"name\":\"surprise\",\"offsetgroup\":\"surprise\",\"orientation\":\"h\",\"showlegend\":true,\"textposition\":\"auto\",\"type\":\"bar\",\"x\":[81],\"xaxis\":\"x\",\"y\":[\"surprise\"],\"yaxis\":\"y\"},{\"alignmentgroup\":\"True\",\"hovertemplate\":\"Emotion Classification=%{y}<br>Emotion Count=%{x}<extra></extra>\",\"legendgroup\":\"negative\",\"marker\":{\"color\":\"#19d3f3\",\"pattern\":{\"shape\":\"\"}},\"name\":\"negative\",\"offsetgroup\":\"negative\",\"orientation\":\"h\",\"showlegend\":true,\"textposition\":\"auto\",\"type\":\"bar\",\"x\":[58],\"xaxis\":\"x\",\"y\":[\"negative\"],\"yaxis\":\"y\"},{\"alignmentgroup\":\"True\",\"hovertemplate\":\"Emotion Classification=%{y}<br>Emotion Count=%{x}<extra></extra>\",\"legendgroup\":\"fear\",\"marker\":{\"color\":\"#FF6692\",\"pattern\":{\"shape\":\"\"}},\"name\":\"fear\",\"offsetgroup\":\"fear\",\"orientation\":\"h\",\"showlegend\":true,\"textposition\":\"auto\",\"type\":\"bar\",\"x\":[49],\"xaxis\":\"x\",\"y\":[\"fear\"],\"yaxis\":\"y\"},{\"alignmentgroup\":\"True\",\"hovertemplate\":\"Emotion Classification=%{y}<br>Emotion Count=%{x}<extra></extra>\",\"legendgroup\":\"sadness\",\"marker\":{\"color\":\"#B6E880\",\"pattern\":{\"shape\":\"\"}},\"name\":\"sadness\",\"offsetgroup\":\"sadness\",\"orientation\":\"h\",\"showlegend\":true,\"textposition\":\"auto\",\"type\":\"bar\",\"x\":[47],\"xaxis\":\"x\",\"y\":[\"sadness\"],\"yaxis\":\"y\"},{\"alignmentgroup\":\"True\",\"hovertemplate\":\"Emotion Classification=%{y}<br>Emotion Count=%{x}<extra></extra>\",\"legendgroup\":\"disgust\",\"marker\":{\"color\":\"#FF97FF\",\"pattern\":{\"shape\":\"\"}},\"name\":\"disgust\",\"offsetgroup\":\"disgust\",\"orientation\":\"h\",\"showlegend\":true,\"textposition\":\"auto\",\"type\":\"bar\",\"x\":[38],\"xaxis\":\"x\",\"y\":[\"disgust\"],\"yaxis\":\"y\"},{\"alignmentgroup\":\"True\",\"hovertemplate\":\"Emotion Classification=%{y}<br>Emotion Count=%{x}<extra></extra>\",\"legendgroup\":\"anger\",\"marker\":{\"color\":\"#FECB52\",\"pattern\":{\"shape\":\"\"}},\"name\":\"anger\",\"offsetgroup\":\"anger\",\"orientation\":\"h\",\"showlegend\":true,\"textposition\":\"auto\",\"type\":\"bar\",\"x\":[36],\"xaxis\":\"x\",\"y\":[\"anger\"],\"yaxis\":\"y\"}],                        {\"barmode\":\"relative\",\"height\":400,\"legend\":{\"title\":{\"text\":\"Emotion Classification\"},\"tracegroupgap\":0},\"margin\":{\"t\":60},\"template\":{\"data\":{\"bar\":[{\"error_x\":{\"color\":\"#2a3f5f\"},\"error_y\":{\"color\":\"#2a3f5f\"},\"marker\":{\"line\":{\"color\":\"#E5ECF6\",\"width\":0.5},\"pattern\":{\"fillmode\":\"overlay\",\"size\":10,\"solidity\":0.2}},\"type\":\"bar\"}],\"barpolar\":[{\"marker\":{\"line\":{\"color\":\"#E5ECF6\",\"width\":0.5},\"pattern\":{\"fillmode\":\"overlay\",\"size\":10,\"solidity\":0.2}},\"type\":\"barpolar\"}],\"carpet\":[{\"aaxis\":{\"endlinecolor\":\"#2a3f5f\",\"gridcolor\":\"white\",\"linecolor\":\"white\",\"minorgridcolor\":\"white\",\"startlinecolor\":\"#2a3f5f\"},\"baxis\":{\"endlinecolor\":\"#2a3f5f\",\"gridcolor\":\"white\",\"linecolor\":\"white\",\"minorgridcolor\":\"white\",\"startlinecolor\":\"#2a3f5f\"},\"type\":\"carpet\"}],\"choropleth\":[{\"colorbar\":{\"outlinewidth\":0,\"ticks\":\"\"},\"type\":\"choropleth\"}],\"contour\":[{\"colorbar\":{\"outlinewidth\":0,\"ticks\":\"\"},\"colorscale\":[[0.0,\"#0d0887\"],[0.1111111111111111,\"#46039f\"],[0.2222222222222222,\"#7201a8\"],[0.3333333333333333,\"#9c179e\"],[0.4444444444444444,\"#bd3786\"],[0.5555555555555556,\"#d8576b\"],[0.6666666666666666,\"#ed7953\"],[0.7777777777777778,\"#fb9f3a\"],[0.8888888888888888,\"#fdca26\"],[1.0,\"#f0f921\"]],\"type\":\"contour\"}],\"contourcarpet\":[{\"colorbar\":{\"outlinewidth\":0,\"ticks\":\"\"},\"type\":\"contourcarpet\"}],\"heatmap\":[{\"colorbar\":{\"outlinewidth\":0,\"ticks\":\"\"},\"colorscale\":[[0.0,\"#0d0887\"],[0.1111111111111111,\"#46039f\"],[0.2222222222222222,\"#7201a8\"],[0.3333333333333333,\"#9c179e\"],[0.4444444444444444,\"#bd3786\"],[0.5555555555555556,\"#d8576b\"],[0.6666666666666666,\"#ed7953\"],[0.7777777777777778,\"#fb9f3a\"],[0.8888888888888888,\"#fdca26\"],[1.0,\"#f0f921\"]],\"type\":\"heatmap\"}],\"heatmapgl\":[{\"colorbar\":{\"outlinewidth\":0,\"ticks\":\"\"},\"colorscale\":[[0.0,\"#0d0887\"],[0.1111111111111111,\"#46039f\"],[0.2222222222222222,\"#7201a8\"],[0.3333333333333333,\"#9c179e\"],[0.4444444444444444,\"#bd3786\"],[0.5555555555555556,\"#d8576b\"],[0.6666666666666666,\"#ed7953\"],[0.7777777777777778,\"#fb9f3a\"],[0.8888888888888888,\"#fdca26\"],[1.0,\"#f0f921\"]],\"type\":\"heatmapgl\"}],\"histogram\":[{\"marker\":{\"pattern\":{\"fillmode\":\"overlay\",\"size\":10,\"solidity\":0.2}},\"type\":\"histogram\"}],\"histogram2d\":[{\"colorbar\":{\"outlinewidth\":0,\"ticks\":\"\"},\"colorscale\":[[0.0,\"#0d0887\"],[0.1111111111111111,\"#46039f\"],[0.2222222222222222,\"#7201a8\"],[0.3333333333333333,\"#9c179e\"],[0.4444444444444444,\"#bd3786\"],[0.5555555555555556,\"#d8576b\"],[0.6666666666666666,\"#ed7953\"],[0.7777777777777778,\"#fb9f3a\"],[0.8888888888888888,\"#fdca26\"],[1.0,\"#f0f921\"]],\"type\":\"histogram2d\"}],\"histogram2dcontour\":[{\"colorbar\":{\"outlinewidth\":0,\"ticks\":\"\"},\"colorscale\":[[0.0,\"#0d0887\"],[0.1111111111111111,\"#46039f\"],[0.2222222222222222,\"#7201a8\"],[0.3333333333333333,\"#9c179e\"],[0.4444444444444444,\"#bd3786\"],[0.5555555555555556,\"#d8576b\"],[0.6666666666666666,\"#ed7953\"],[0.7777777777777778,\"#fb9f3a\"],[0.8888888888888888,\"#fdca26\"],[1.0,\"#f0f921\"]],\"type\":\"histogram2dcontour\"}],\"mesh3d\":[{\"colorbar\":{\"outlinewidth\":0,\"ticks\":\"\"},\"type\":\"mesh3d\"}],\"parcoords\":[{\"line\":{\"colorbar\":{\"outlinewidth\":0,\"ticks\":\"\"}},\"type\":\"parcoords\"}],\"pie\":[{\"automargin\":true,\"type\":\"pie\"}],\"scatter\":[{\"marker\":{\"colorbar\":{\"outlinewidth\":0,\"ticks\":\"\"}},\"type\":\"scatter\"}],\"scatter3d\":[{\"line\":{\"colorbar\":{\"outlinewidth\":0,\"ticks\":\"\"}},\"marker\":{\"colorbar\":{\"outlinewidth\":0,\"ticks\":\"\"}},\"type\":\"scatter3d\"}],\"scattercarpet\":[{\"marker\":{\"colorbar\":{\"outlinewidth\":0,\"ticks\":\"\"}},\"type\":\"scattercarpet\"}],\"scattergeo\":[{\"marker\":{\"colorbar\":{\"outlinewidth\":0,\"ticks\":\"\"}},\"type\":\"scattergeo\"}],\"scattergl\":[{\"marker\":{\"colorbar\":{\"outlinewidth\":0,\"ticks\":\"\"}},\"type\":\"scattergl\"}],\"scattermapbox\":[{\"marker\":{\"colorbar\":{\"outlinewidth\":0,\"ticks\":\"\"}},\"type\":\"scattermapbox\"}],\"scatterpolar\":[{\"marker\":{\"colorbar\":{\"outlinewidth\":0,\"ticks\":\"\"}},\"type\":\"scatterpolar\"}],\"scatterpolargl\":[{\"marker\":{\"colorbar\":{\"outlinewidth\":0,\"ticks\":\"\"}},\"type\":\"scatterpolargl\"}],\"scatterternary\":[{\"marker\":{\"colorbar\":{\"outlinewidth\":0,\"ticks\":\"\"}},\"type\":\"scatterternary\"}],\"surface\":[{\"colorbar\":{\"outlinewidth\":0,\"ticks\":\"\"},\"colorscale\":[[0.0,\"#0d0887\"],[0.1111111111111111,\"#46039f\"],[0.2222222222222222,\"#7201a8\"],[0.3333333333333333,\"#9c179e\"],[0.4444444444444444,\"#bd3786\"],[0.5555555555555556,\"#d8576b\"],[0.6666666666666666,\"#ed7953\"],[0.7777777777777778,\"#fb9f3a\"],[0.8888888888888888,\"#fdca26\"],[1.0,\"#f0f921\"]],\"type\":\"surface\"}],\"table\":[{\"cells\":{\"fill\":{\"color\":\"#EBF0F8\"},\"line\":{\"color\":\"white\"}},\"header\":{\"fill\":{\"color\":\"#C8D4E3\"},\"line\":{\"color\":\"white\"}},\"type\":\"table\"}]},\"layout\":{\"annotationdefaults\":{\"arrowcolor\":\"#2a3f5f\",\"arrowhead\":0,\"arrowwidth\":1},\"autotypenumbers\":\"strict\",\"coloraxis\":{\"colorbar\":{\"outlinewidth\":0,\"ticks\":\"\"}},\"colorscale\":{\"diverging\":[[0,\"#8e0152\"],[0.1,\"#c51b7d\"],[0.2,\"#de77ae\"],[0.3,\"#f1b6da\"],[0.4,\"#fde0ef\"],[0.5,\"#f7f7f7\"],[0.6,\"#e6f5d0\"],[0.7,\"#b8e186\"],[0.8,\"#7fbc41\"],[0.9,\"#4d9221\"],[1,\"#276419\"]],\"sequential\":[[0.0,\"#0d0887\"],[0.1111111111111111,\"#46039f\"],[0.2222222222222222,\"#7201a8\"],[0.3333333333333333,\"#9c179e\"],[0.4444444444444444,\"#bd3786\"],[0.5555555555555556,\"#d8576b\"],[0.6666666666666666,\"#ed7953\"],[0.7777777777777778,\"#fb9f3a\"],[0.8888888888888888,\"#fdca26\"],[1.0,\"#f0f921\"]],\"sequentialminus\":[[0.0,\"#0d0887\"],[0.1111111111111111,\"#46039f\"],[0.2222222222222222,\"#7201a8\"],[0.3333333333333333,\"#9c179e\"],[0.4444444444444444,\"#bd3786\"],[0.5555555555555556,\"#d8576b\"],[0.6666666666666666,\"#ed7953\"],[0.7777777777777778,\"#fb9f3a\"],[0.8888888888888888,\"#fdca26\"],[1.0,\"#f0f921\"]]},\"colorway\":[\"#636efa\",\"#EF553B\",\"#00cc96\",\"#ab63fa\",\"#FFA15A\",\"#19d3f3\",\"#FF6692\",\"#B6E880\",\"#FF97FF\",\"#FECB52\"],\"font\":{\"color\":\"#2a3f5f\"},\"geo\":{\"bgcolor\":\"white\",\"lakecolor\":\"white\",\"landcolor\":\"#E5ECF6\",\"showlakes\":true,\"showland\":true,\"subunitcolor\":\"white\"},\"hoverlabel\":{\"align\":\"left\"},\"hovermode\":\"closest\",\"mapbox\":{\"style\":\"light\"},\"paper_bgcolor\":\"white\",\"plot_bgcolor\":\"#E5ECF6\",\"polar\":{\"angularaxis\":{\"gridcolor\":\"white\",\"linecolor\":\"white\",\"ticks\":\"\"},\"bgcolor\":\"#E5ECF6\",\"radialaxis\":{\"gridcolor\":\"white\",\"linecolor\":\"white\",\"ticks\":\"\"}},\"scene\":{\"xaxis\":{\"backgroundcolor\":\"#E5ECF6\",\"gridcolor\":\"white\",\"gridwidth\":2,\"linecolor\":\"white\",\"showbackground\":true,\"ticks\":\"\",\"zerolinecolor\":\"white\"},\"yaxis\":{\"backgroundcolor\":\"#E5ECF6\",\"gridcolor\":\"white\",\"gridwidth\":2,\"linecolor\":\"white\",\"showbackground\":true,\"ticks\":\"\",\"zerolinecolor\":\"white\"},\"zaxis\":{\"backgroundcolor\":\"#E5ECF6\",\"gridcolor\":\"white\",\"gridwidth\":2,\"linecolor\":\"white\",\"showbackground\":true,\"ticks\":\"\",\"zerolinecolor\":\"white\"}},\"shapedefaults\":{\"line\":{\"color\":\"#2a3f5f\"}},\"ternary\":{\"aaxis\":{\"gridcolor\":\"white\",\"linecolor\":\"white\",\"ticks\":\"\"},\"baxis\":{\"gridcolor\":\"white\",\"linecolor\":\"white\",\"ticks\":\"\"},\"bgcolor\":\"#E5ECF6\",\"caxis\":{\"gridcolor\":\"white\",\"linecolor\":\"white\",\"ticks\":\"\"}},\"title\":{\"x\":0.05},\"xaxis\":{\"automargin\":true,\"gridcolor\":\"white\",\"linecolor\":\"white\",\"ticks\":\"\",\"title\":{\"standoff\":15},\"zerolinecolor\":\"white\",\"zerolinewidth\":2},\"yaxis\":{\"automargin\":true,\"gridcolor\":\"white\",\"linecolor\":\"white\",\"ticks\":\"\",\"title\":{\"standoff\":15},\"zerolinecolor\":\"white\",\"zerolinewidth\":2}}},\"width\":800,\"xaxis\":{\"anchor\":\"y\",\"domain\":[0.0,1.0],\"title\":{\"text\":\"Emotion Count\"}},\"yaxis\":{\"anchor\":\"x\",\"categoryarray\":[\"anger\",\"disgust\",\"sadness\",\"fear\",\"negative\",\"surprise\",\"joy\",\"trust\",\"anticipation\",\"positive\"],\"categoryorder\":\"array\",\"domain\":[0.0,1.0],\"title\":{\"text\":\"Emotion Classification\"}}},                        {\"responsive\": true}                    ).then(function(){\n",
       "                            \n",
       "var gd = document.getElementById('51cc6c73-5f8c-414f-ae93-8a715073b540');\n",
       "var x = new MutationObserver(function (mutations, observer) {{\n",
       "        var display = window.getComputedStyle(gd).display;\n",
       "        if (!display || display === 'none') {{\n",
       "            console.log([gd, 'removed!']);\n",
       "            Plotly.purge(gd);\n",
       "            observer.disconnect();\n",
       "        }}\n",
       "}});\n",
       "\n",
       "// Listen for the removal of the full notebook cells\n",
       "var notebookContainer = gd.closest('#notebook-container');\n",
       "if (notebookContainer) {{\n",
       "    x.observe(notebookContainer, {childList: true});\n",
       "}}\n",
       "\n",
       "// Listen for the clearing of the current output cell\n",
       "var outputEl = gd.closest('.output');\n",
       "if (outputEl) {{\n",
       "    x.observe(outputEl, {childList: true});\n",
       "}}\n",
       "\n",
       "                        })                };                });            </script>        </div>"
      ]
     },
     "metadata": {},
     "output_type": "display_data"
    }
   ],
   "source": [
    "emotion_df = pd.DataFrame.from_dict(data, orient='index')\n",
    "emotion_df = emotion_df.reset_index()\n",
    "emotion_df = emotion_df.rename(columns={'index' : 'Emotion Classification' , 0: 'Emotion Count'})\n",
    "emotion_df = emotion_df.sort_values(by=['Emotion Count'], ascending=False)\n",
    "import plotly.express as px\n",
    "fig = px.bar(emotion_df, x='Emotion Count', y='Emotion Classification', color = 'Emotion Classification', orientation='h', width = 800, height = 400)\n",
    "fig.show()"
   ]
  },
  {
   "cell_type": "code",
   "execution_count": 315,
   "id": "5ce9ab1d",
   "metadata": {},
   "outputs": [],
   "source": [
    "#text_object.affect_dict"
   ]
  },
  {
   "cell_type": "code",
   "execution_count": 182,
   "id": "cda71ac0",
   "metadata": {},
   "outputs": [],
   "source": [
    "n1 = text_object.affect_frequencies"
   ]
  },
  {
   "cell_type": "code",
   "execution_count": 185,
   "id": "5368b1b9",
   "metadata": {},
   "outputs": [
    {
     "data": {
      "text/plain": [
       "{'fear': 0.044912923923006415,\n",
       " 'anger': 0.03299725022914757,\n",
       " 'anticip': 0.0,\n",
       " 'trust': 0.15490375802016498,\n",
       " 'surprise': 0.07424381301558204,\n",
       " 'positive': 0.2850595783684693,\n",
       " 'negative': 0.05316223648029331,\n",
       " 'sadness': 0.04307974335472044,\n",
       " 'disgust': 0.034830430797433545,\n",
       " 'joy': 0.11915673693858846,\n",
       " 'anticipation': 0.15765352887259396}"
      ]
     },
     "execution_count": 185,
     "metadata": {},
     "output_type": "execute_result"
    }
   ],
   "source": [
    "n1"
   ]
  },
  {
   "cell_type": "code",
   "execution_count": 184,
   "id": "c8fe6315",
   "metadata": {},
   "outputs": [
    {
     "data": {
      "text/plain": [
       "dict"
      ]
     },
     "execution_count": 184,
     "metadata": {},
     "output_type": "execute_result"
    }
   ],
   "source": [
    "type(n1)"
   ]
  },
  {
   "cell_type": "code",
   "execution_count": null,
   "id": "51aced08",
   "metadata": {},
   "outputs": [],
   "source": [
    "fig = px.bar(df, y=\"continent\", x=\"pop\", color=\"lifeExp\", orientation=\"h\",\n",
    "             color_continuous_scale='Bluered_r', hover_name=\"country\")\n",
    "\n",
    "fig.show()"
   ]
  },
  {
   "cell_type": "code",
   "execution_count": 191,
   "id": "b8af484a",
   "metadata": {},
   "outputs": [
    {
     "data": {
      "application/vnd.plotly.v1+json": {
       "config": {
        "plotlyServerURL": "https://plot.ly"
       },
       "data": [
        {
         "alignmentgroup": "True",
         "hovertemplate": "Emotion Freq=%{marker.color}<br>Emotion Classification=%{y}<extra></extra>",
         "legendgroup": "",
         "marker": {
          "color": [
           0.2850595783684693,
           0.15765352887259396,
           0.15490375802016498,
           0.11915673693858846,
           0.07424381301558204,
           0.05316223648029331,
           0.044912923923006415,
           0.04307974335472044,
           0.034830430797433545,
           0.03299725022914757,
           0
          ],
          "coloraxis": "coloraxis",
          "pattern": {
           "shape": ""
          }
         },
         "name": "",
         "offsetgroup": "",
         "orientation": "h",
         "showlegend": false,
         "textposition": "auto",
         "type": "bar",
         "x": [
          0.2850595783684693,
          0.15765352887259396,
          0.15490375802016498,
          0.11915673693858846,
          0.07424381301558204,
          0.05316223648029331,
          0.044912923923006415,
          0.04307974335472044,
          0.034830430797433545,
          0.03299725022914757,
          0
         ],
         "xaxis": "x",
         "y": [
          "positive",
          "anticipation",
          "trust",
          "joy",
          "surprise",
          "negative",
          "fear",
          "sadness",
          "disgust",
          "anger",
          "anticip"
         ],
         "yaxis": "y"
        }
       ],
       "layout": {
        "barmode": "relative",
        "coloraxis": {
         "colorbar": {
          "title": {
           "text": "Emotion Freq"
          }
         },
         "colorscale": [
          [
           0,
           "rgb(255,0,0)"
          ],
          [
           1,
           "rgb(0,0,255)"
          ]
         ]
        },
        "height": 400,
        "legend": {
         "tracegroupgap": 0
        },
        "margin": {
         "t": 60
        },
        "template": {
         "data": {
          "bar": [
           {
            "error_x": {
             "color": "#2a3f5f"
            },
            "error_y": {
             "color": "#2a3f5f"
            },
            "marker": {
             "line": {
              "color": "#E5ECF6",
              "width": 0.5
             },
             "pattern": {
              "fillmode": "overlay",
              "size": 10,
              "solidity": 0.2
             }
            },
            "type": "bar"
           }
          ],
          "barpolar": [
           {
            "marker": {
             "line": {
              "color": "#E5ECF6",
              "width": 0.5
             },
             "pattern": {
              "fillmode": "overlay",
              "size": 10,
              "solidity": 0.2
             }
            },
            "type": "barpolar"
           }
          ],
          "carpet": [
           {
            "aaxis": {
             "endlinecolor": "#2a3f5f",
             "gridcolor": "white",
             "linecolor": "white",
             "minorgridcolor": "white",
             "startlinecolor": "#2a3f5f"
            },
            "baxis": {
             "endlinecolor": "#2a3f5f",
             "gridcolor": "white",
             "linecolor": "white",
             "minorgridcolor": "white",
             "startlinecolor": "#2a3f5f"
            },
            "type": "carpet"
           }
          ],
          "choropleth": [
           {
            "colorbar": {
             "outlinewidth": 0,
             "ticks": ""
            },
            "type": "choropleth"
           }
          ],
          "contour": [
           {
            "colorbar": {
             "outlinewidth": 0,
             "ticks": ""
            },
            "colorscale": [
             [
              0,
              "#0d0887"
             ],
             [
              0.1111111111111111,
              "#46039f"
             ],
             [
              0.2222222222222222,
              "#7201a8"
             ],
             [
              0.3333333333333333,
              "#9c179e"
             ],
             [
              0.4444444444444444,
              "#bd3786"
             ],
             [
              0.5555555555555556,
              "#d8576b"
             ],
             [
              0.6666666666666666,
              "#ed7953"
             ],
             [
              0.7777777777777778,
              "#fb9f3a"
             ],
             [
              0.8888888888888888,
              "#fdca26"
             ],
             [
              1,
              "#f0f921"
             ]
            ],
            "type": "contour"
           }
          ],
          "contourcarpet": [
           {
            "colorbar": {
             "outlinewidth": 0,
             "ticks": ""
            },
            "type": "contourcarpet"
           }
          ],
          "heatmap": [
           {
            "colorbar": {
             "outlinewidth": 0,
             "ticks": ""
            },
            "colorscale": [
             [
              0,
              "#0d0887"
             ],
             [
              0.1111111111111111,
              "#46039f"
             ],
             [
              0.2222222222222222,
              "#7201a8"
             ],
             [
              0.3333333333333333,
              "#9c179e"
             ],
             [
              0.4444444444444444,
              "#bd3786"
             ],
             [
              0.5555555555555556,
              "#d8576b"
             ],
             [
              0.6666666666666666,
              "#ed7953"
             ],
             [
              0.7777777777777778,
              "#fb9f3a"
             ],
             [
              0.8888888888888888,
              "#fdca26"
             ],
             [
              1,
              "#f0f921"
             ]
            ],
            "type": "heatmap"
           }
          ],
          "heatmapgl": [
           {
            "colorbar": {
             "outlinewidth": 0,
             "ticks": ""
            },
            "colorscale": [
             [
              0,
              "#0d0887"
             ],
             [
              0.1111111111111111,
              "#46039f"
             ],
             [
              0.2222222222222222,
              "#7201a8"
             ],
             [
              0.3333333333333333,
              "#9c179e"
             ],
             [
              0.4444444444444444,
              "#bd3786"
             ],
             [
              0.5555555555555556,
              "#d8576b"
             ],
             [
              0.6666666666666666,
              "#ed7953"
             ],
             [
              0.7777777777777778,
              "#fb9f3a"
             ],
             [
              0.8888888888888888,
              "#fdca26"
             ],
             [
              1,
              "#f0f921"
             ]
            ],
            "type": "heatmapgl"
           }
          ],
          "histogram": [
           {
            "marker": {
             "pattern": {
              "fillmode": "overlay",
              "size": 10,
              "solidity": 0.2
             }
            },
            "type": "histogram"
           }
          ],
          "histogram2d": [
           {
            "colorbar": {
             "outlinewidth": 0,
             "ticks": ""
            },
            "colorscale": [
             [
              0,
              "#0d0887"
             ],
             [
              0.1111111111111111,
              "#46039f"
             ],
             [
              0.2222222222222222,
              "#7201a8"
             ],
             [
              0.3333333333333333,
              "#9c179e"
             ],
             [
              0.4444444444444444,
              "#bd3786"
             ],
             [
              0.5555555555555556,
              "#d8576b"
             ],
             [
              0.6666666666666666,
              "#ed7953"
             ],
             [
              0.7777777777777778,
              "#fb9f3a"
             ],
             [
              0.8888888888888888,
              "#fdca26"
             ],
             [
              1,
              "#f0f921"
             ]
            ],
            "type": "histogram2d"
           }
          ],
          "histogram2dcontour": [
           {
            "colorbar": {
             "outlinewidth": 0,
             "ticks": ""
            },
            "colorscale": [
             [
              0,
              "#0d0887"
             ],
             [
              0.1111111111111111,
              "#46039f"
             ],
             [
              0.2222222222222222,
              "#7201a8"
             ],
             [
              0.3333333333333333,
              "#9c179e"
             ],
             [
              0.4444444444444444,
              "#bd3786"
             ],
             [
              0.5555555555555556,
              "#d8576b"
             ],
             [
              0.6666666666666666,
              "#ed7953"
             ],
             [
              0.7777777777777778,
              "#fb9f3a"
             ],
             [
              0.8888888888888888,
              "#fdca26"
             ],
             [
              1,
              "#f0f921"
             ]
            ],
            "type": "histogram2dcontour"
           }
          ],
          "mesh3d": [
           {
            "colorbar": {
             "outlinewidth": 0,
             "ticks": ""
            },
            "type": "mesh3d"
           }
          ],
          "parcoords": [
           {
            "line": {
             "colorbar": {
              "outlinewidth": 0,
              "ticks": ""
             }
            },
            "type": "parcoords"
           }
          ],
          "pie": [
           {
            "automargin": true,
            "type": "pie"
           }
          ],
          "scatter": [
           {
            "marker": {
             "colorbar": {
              "outlinewidth": 0,
              "ticks": ""
             }
            },
            "type": "scatter"
           }
          ],
          "scatter3d": [
           {
            "line": {
             "colorbar": {
              "outlinewidth": 0,
              "ticks": ""
             }
            },
            "marker": {
             "colorbar": {
              "outlinewidth": 0,
              "ticks": ""
             }
            },
            "type": "scatter3d"
           }
          ],
          "scattercarpet": [
           {
            "marker": {
             "colorbar": {
              "outlinewidth": 0,
              "ticks": ""
             }
            },
            "type": "scattercarpet"
           }
          ],
          "scattergeo": [
           {
            "marker": {
             "colorbar": {
              "outlinewidth": 0,
              "ticks": ""
             }
            },
            "type": "scattergeo"
           }
          ],
          "scattergl": [
           {
            "marker": {
             "colorbar": {
              "outlinewidth": 0,
              "ticks": ""
             }
            },
            "type": "scattergl"
           }
          ],
          "scattermapbox": [
           {
            "marker": {
             "colorbar": {
              "outlinewidth": 0,
              "ticks": ""
             }
            },
            "type": "scattermapbox"
           }
          ],
          "scatterpolar": [
           {
            "marker": {
             "colorbar": {
              "outlinewidth": 0,
              "ticks": ""
             }
            },
            "type": "scatterpolar"
           }
          ],
          "scatterpolargl": [
           {
            "marker": {
             "colorbar": {
              "outlinewidth": 0,
              "ticks": ""
             }
            },
            "type": "scatterpolargl"
           }
          ],
          "scatterternary": [
           {
            "marker": {
             "colorbar": {
              "outlinewidth": 0,
              "ticks": ""
             }
            },
            "type": "scatterternary"
           }
          ],
          "surface": [
           {
            "colorbar": {
             "outlinewidth": 0,
             "ticks": ""
            },
            "colorscale": [
             [
              0,
              "#0d0887"
             ],
             [
              0.1111111111111111,
              "#46039f"
             ],
             [
              0.2222222222222222,
              "#7201a8"
             ],
             [
              0.3333333333333333,
              "#9c179e"
             ],
             [
              0.4444444444444444,
              "#bd3786"
             ],
             [
              0.5555555555555556,
              "#d8576b"
             ],
             [
              0.6666666666666666,
              "#ed7953"
             ],
             [
              0.7777777777777778,
              "#fb9f3a"
             ],
             [
              0.8888888888888888,
              "#fdca26"
             ],
             [
              1,
              "#f0f921"
             ]
            ],
            "type": "surface"
           }
          ],
          "table": [
           {
            "cells": {
             "fill": {
              "color": "#EBF0F8"
             },
             "line": {
              "color": "white"
             }
            },
            "header": {
             "fill": {
              "color": "#C8D4E3"
             },
             "line": {
              "color": "white"
             }
            },
            "type": "table"
           }
          ]
         },
         "layout": {
          "annotationdefaults": {
           "arrowcolor": "#2a3f5f",
           "arrowhead": 0,
           "arrowwidth": 1
          },
          "autotypenumbers": "strict",
          "coloraxis": {
           "colorbar": {
            "outlinewidth": 0,
            "ticks": ""
           }
          },
          "colorscale": {
           "diverging": [
            [
             0,
             "#8e0152"
            ],
            [
             0.1,
             "#c51b7d"
            ],
            [
             0.2,
             "#de77ae"
            ],
            [
             0.3,
             "#f1b6da"
            ],
            [
             0.4,
             "#fde0ef"
            ],
            [
             0.5,
             "#f7f7f7"
            ],
            [
             0.6,
             "#e6f5d0"
            ],
            [
             0.7,
             "#b8e186"
            ],
            [
             0.8,
             "#7fbc41"
            ],
            [
             0.9,
             "#4d9221"
            ],
            [
             1,
             "#276419"
            ]
           ],
           "sequential": [
            [
             0,
             "#0d0887"
            ],
            [
             0.1111111111111111,
             "#46039f"
            ],
            [
             0.2222222222222222,
             "#7201a8"
            ],
            [
             0.3333333333333333,
             "#9c179e"
            ],
            [
             0.4444444444444444,
             "#bd3786"
            ],
            [
             0.5555555555555556,
             "#d8576b"
            ],
            [
             0.6666666666666666,
             "#ed7953"
            ],
            [
             0.7777777777777778,
             "#fb9f3a"
            ],
            [
             0.8888888888888888,
             "#fdca26"
            ],
            [
             1,
             "#f0f921"
            ]
           ],
           "sequentialminus": [
            [
             0,
             "#0d0887"
            ],
            [
             0.1111111111111111,
             "#46039f"
            ],
            [
             0.2222222222222222,
             "#7201a8"
            ],
            [
             0.3333333333333333,
             "#9c179e"
            ],
            [
             0.4444444444444444,
             "#bd3786"
            ],
            [
             0.5555555555555556,
             "#d8576b"
            ],
            [
             0.6666666666666666,
             "#ed7953"
            ],
            [
             0.7777777777777778,
             "#fb9f3a"
            ],
            [
             0.8888888888888888,
             "#fdca26"
            ],
            [
             1,
             "#f0f921"
            ]
           ]
          },
          "colorway": [
           "#636efa",
           "#EF553B",
           "#00cc96",
           "#ab63fa",
           "#FFA15A",
           "#19d3f3",
           "#FF6692",
           "#B6E880",
           "#FF97FF",
           "#FECB52"
          ],
          "font": {
           "color": "#2a3f5f"
          },
          "geo": {
           "bgcolor": "white",
           "lakecolor": "white",
           "landcolor": "#E5ECF6",
           "showlakes": true,
           "showland": true,
           "subunitcolor": "white"
          },
          "hoverlabel": {
           "align": "left"
          },
          "hovermode": "closest",
          "mapbox": {
           "style": "light"
          },
          "paper_bgcolor": "white",
          "plot_bgcolor": "#E5ECF6",
          "polar": {
           "angularaxis": {
            "gridcolor": "white",
            "linecolor": "white",
            "ticks": ""
           },
           "bgcolor": "#E5ECF6",
           "radialaxis": {
            "gridcolor": "white",
            "linecolor": "white",
            "ticks": ""
           }
          },
          "scene": {
           "xaxis": {
            "backgroundcolor": "#E5ECF6",
            "gridcolor": "white",
            "gridwidth": 2,
            "linecolor": "white",
            "showbackground": true,
            "ticks": "",
            "zerolinecolor": "white"
           },
           "yaxis": {
            "backgroundcolor": "#E5ECF6",
            "gridcolor": "white",
            "gridwidth": 2,
            "linecolor": "white",
            "showbackground": true,
            "ticks": "",
            "zerolinecolor": "white"
           },
           "zaxis": {
            "backgroundcolor": "#E5ECF6",
            "gridcolor": "white",
            "gridwidth": 2,
            "linecolor": "white",
            "showbackground": true,
            "ticks": "",
            "zerolinecolor": "white"
           }
          },
          "shapedefaults": {
           "line": {
            "color": "#2a3f5f"
           }
          },
          "ternary": {
           "aaxis": {
            "gridcolor": "white",
            "linecolor": "white",
            "ticks": ""
           },
           "baxis": {
            "gridcolor": "white",
            "linecolor": "white",
            "ticks": ""
           },
           "bgcolor": "#E5ECF6",
           "caxis": {
            "gridcolor": "white",
            "linecolor": "white",
            "ticks": ""
           }
          },
          "title": {
           "x": 0.05
          },
          "xaxis": {
           "automargin": true,
           "gridcolor": "white",
           "linecolor": "white",
           "ticks": "",
           "title": {
            "standoff": 15
           },
           "zerolinecolor": "white",
           "zerolinewidth": 2
          },
          "yaxis": {
           "automargin": true,
           "gridcolor": "white",
           "linecolor": "white",
           "ticks": "",
           "title": {
            "standoff": 15
           },
           "zerolinecolor": "white",
           "zerolinewidth": 2
          }
         }
        },
        "width": 800,
        "xaxis": {
         "anchor": "y",
         "domain": [
          0,
          1
         ],
         "title": {
          "text": "Emotion Freq"
         }
        },
        "yaxis": {
         "anchor": "x",
         "domain": [
          0,
          1
         ],
         "title": {
          "text": "Emotion Classification"
         }
        }
       }
      },
      "text/html": [
       "<div>                            <div id=\"d4a8a179-6089-4335-90d9-dc115344db0c\" class=\"plotly-graph-div\" style=\"height:400px; width:800px;\"></div>            <script type=\"text/javascript\">                require([\"plotly\"], function(Plotly) {                    window.PLOTLYENV=window.PLOTLYENV || {};                                    if (document.getElementById(\"d4a8a179-6089-4335-90d9-dc115344db0c\")) {                    Plotly.newPlot(                        \"d4a8a179-6089-4335-90d9-dc115344db0c\",                        [{\"alignmentgroup\":\"True\",\"hovertemplate\":\"Emotion Freq=%{marker.color}<br>Emotion Classification=%{y}<extra></extra>\",\"legendgroup\":\"\",\"marker\":{\"color\":[0.2850595783684693,0.15765352887259396,0.15490375802016498,0.11915673693858846,0.07424381301558204,0.05316223648029331,0.044912923923006415,0.04307974335472044,0.034830430797433545,0.03299725022914757,0.0],\"coloraxis\":\"coloraxis\",\"pattern\":{\"shape\":\"\"}},\"name\":\"\",\"offsetgroup\":\"\",\"orientation\":\"h\",\"showlegend\":false,\"textposition\":\"auto\",\"type\":\"bar\",\"x\":[0.2850595783684693,0.15765352887259396,0.15490375802016498,0.11915673693858846,0.07424381301558204,0.05316223648029331,0.044912923923006415,0.04307974335472044,0.034830430797433545,0.03299725022914757,0.0],\"xaxis\":\"x\",\"y\":[\"positive\",\"anticipation\",\"trust\",\"joy\",\"surprise\",\"negative\",\"fear\",\"sadness\",\"disgust\",\"anger\",\"anticip\"],\"yaxis\":\"y\"}],                        {\"barmode\":\"relative\",\"coloraxis\":{\"colorbar\":{\"title\":{\"text\":\"Emotion Freq\"}},\"colorscale\":[[0.0,\"rgb(255,0,0)\"],[1.0,\"rgb(0,0,255)\"]]},\"height\":400,\"legend\":{\"tracegroupgap\":0},\"margin\":{\"t\":60},\"template\":{\"data\":{\"bar\":[{\"error_x\":{\"color\":\"#2a3f5f\"},\"error_y\":{\"color\":\"#2a3f5f\"},\"marker\":{\"line\":{\"color\":\"#E5ECF6\",\"width\":0.5},\"pattern\":{\"fillmode\":\"overlay\",\"size\":10,\"solidity\":0.2}},\"type\":\"bar\"}],\"barpolar\":[{\"marker\":{\"line\":{\"color\":\"#E5ECF6\",\"width\":0.5},\"pattern\":{\"fillmode\":\"overlay\",\"size\":10,\"solidity\":0.2}},\"type\":\"barpolar\"}],\"carpet\":[{\"aaxis\":{\"endlinecolor\":\"#2a3f5f\",\"gridcolor\":\"white\",\"linecolor\":\"white\",\"minorgridcolor\":\"white\",\"startlinecolor\":\"#2a3f5f\"},\"baxis\":{\"endlinecolor\":\"#2a3f5f\",\"gridcolor\":\"white\",\"linecolor\":\"white\",\"minorgridcolor\":\"white\",\"startlinecolor\":\"#2a3f5f\"},\"type\":\"carpet\"}],\"choropleth\":[{\"colorbar\":{\"outlinewidth\":0,\"ticks\":\"\"},\"type\":\"choropleth\"}],\"contour\":[{\"colorbar\":{\"outlinewidth\":0,\"ticks\":\"\"},\"colorscale\":[[0.0,\"#0d0887\"],[0.1111111111111111,\"#46039f\"],[0.2222222222222222,\"#7201a8\"],[0.3333333333333333,\"#9c179e\"],[0.4444444444444444,\"#bd3786\"],[0.5555555555555556,\"#d8576b\"],[0.6666666666666666,\"#ed7953\"],[0.7777777777777778,\"#fb9f3a\"],[0.8888888888888888,\"#fdca26\"],[1.0,\"#f0f921\"]],\"type\":\"contour\"}],\"contourcarpet\":[{\"colorbar\":{\"outlinewidth\":0,\"ticks\":\"\"},\"type\":\"contourcarpet\"}],\"heatmap\":[{\"colorbar\":{\"outlinewidth\":0,\"ticks\":\"\"},\"colorscale\":[[0.0,\"#0d0887\"],[0.1111111111111111,\"#46039f\"],[0.2222222222222222,\"#7201a8\"],[0.3333333333333333,\"#9c179e\"],[0.4444444444444444,\"#bd3786\"],[0.5555555555555556,\"#d8576b\"],[0.6666666666666666,\"#ed7953\"],[0.7777777777777778,\"#fb9f3a\"],[0.8888888888888888,\"#fdca26\"],[1.0,\"#f0f921\"]],\"type\":\"heatmap\"}],\"heatmapgl\":[{\"colorbar\":{\"outlinewidth\":0,\"ticks\":\"\"},\"colorscale\":[[0.0,\"#0d0887\"],[0.1111111111111111,\"#46039f\"],[0.2222222222222222,\"#7201a8\"],[0.3333333333333333,\"#9c179e\"],[0.4444444444444444,\"#bd3786\"],[0.5555555555555556,\"#d8576b\"],[0.6666666666666666,\"#ed7953\"],[0.7777777777777778,\"#fb9f3a\"],[0.8888888888888888,\"#fdca26\"],[1.0,\"#f0f921\"]],\"type\":\"heatmapgl\"}],\"histogram\":[{\"marker\":{\"pattern\":{\"fillmode\":\"overlay\",\"size\":10,\"solidity\":0.2}},\"type\":\"histogram\"}],\"histogram2d\":[{\"colorbar\":{\"outlinewidth\":0,\"ticks\":\"\"},\"colorscale\":[[0.0,\"#0d0887\"],[0.1111111111111111,\"#46039f\"],[0.2222222222222222,\"#7201a8\"],[0.3333333333333333,\"#9c179e\"],[0.4444444444444444,\"#bd3786\"],[0.5555555555555556,\"#d8576b\"],[0.6666666666666666,\"#ed7953\"],[0.7777777777777778,\"#fb9f3a\"],[0.8888888888888888,\"#fdca26\"],[1.0,\"#f0f921\"]],\"type\":\"histogram2d\"}],\"histogram2dcontour\":[{\"colorbar\":{\"outlinewidth\":0,\"ticks\":\"\"},\"colorscale\":[[0.0,\"#0d0887\"],[0.1111111111111111,\"#46039f\"],[0.2222222222222222,\"#7201a8\"],[0.3333333333333333,\"#9c179e\"],[0.4444444444444444,\"#bd3786\"],[0.5555555555555556,\"#d8576b\"],[0.6666666666666666,\"#ed7953\"],[0.7777777777777778,\"#fb9f3a\"],[0.8888888888888888,\"#fdca26\"],[1.0,\"#f0f921\"]],\"type\":\"histogram2dcontour\"}],\"mesh3d\":[{\"colorbar\":{\"outlinewidth\":0,\"ticks\":\"\"},\"type\":\"mesh3d\"}],\"parcoords\":[{\"line\":{\"colorbar\":{\"outlinewidth\":0,\"ticks\":\"\"}},\"type\":\"parcoords\"}],\"pie\":[{\"automargin\":true,\"type\":\"pie\"}],\"scatter\":[{\"marker\":{\"colorbar\":{\"outlinewidth\":0,\"ticks\":\"\"}},\"type\":\"scatter\"}],\"scatter3d\":[{\"line\":{\"colorbar\":{\"outlinewidth\":0,\"ticks\":\"\"}},\"marker\":{\"colorbar\":{\"outlinewidth\":0,\"ticks\":\"\"}},\"type\":\"scatter3d\"}],\"scattercarpet\":[{\"marker\":{\"colorbar\":{\"outlinewidth\":0,\"ticks\":\"\"}},\"type\":\"scattercarpet\"}],\"scattergeo\":[{\"marker\":{\"colorbar\":{\"outlinewidth\":0,\"ticks\":\"\"}},\"type\":\"scattergeo\"}],\"scattergl\":[{\"marker\":{\"colorbar\":{\"outlinewidth\":0,\"ticks\":\"\"}},\"type\":\"scattergl\"}],\"scattermapbox\":[{\"marker\":{\"colorbar\":{\"outlinewidth\":0,\"ticks\":\"\"}},\"type\":\"scattermapbox\"}],\"scatterpolar\":[{\"marker\":{\"colorbar\":{\"outlinewidth\":0,\"ticks\":\"\"}},\"type\":\"scatterpolar\"}],\"scatterpolargl\":[{\"marker\":{\"colorbar\":{\"outlinewidth\":0,\"ticks\":\"\"}},\"type\":\"scatterpolargl\"}],\"scatterternary\":[{\"marker\":{\"colorbar\":{\"outlinewidth\":0,\"ticks\":\"\"}},\"type\":\"scatterternary\"}],\"surface\":[{\"colorbar\":{\"outlinewidth\":0,\"ticks\":\"\"},\"colorscale\":[[0.0,\"#0d0887\"],[0.1111111111111111,\"#46039f\"],[0.2222222222222222,\"#7201a8\"],[0.3333333333333333,\"#9c179e\"],[0.4444444444444444,\"#bd3786\"],[0.5555555555555556,\"#d8576b\"],[0.6666666666666666,\"#ed7953\"],[0.7777777777777778,\"#fb9f3a\"],[0.8888888888888888,\"#fdca26\"],[1.0,\"#f0f921\"]],\"type\":\"surface\"}],\"table\":[{\"cells\":{\"fill\":{\"color\":\"#EBF0F8\"},\"line\":{\"color\":\"white\"}},\"header\":{\"fill\":{\"color\":\"#C8D4E3\"},\"line\":{\"color\":\"white\"}},\"type\":\"table\"}]},\"layout\":{\"annotationdefaults\":{\"arrowcolor\":\"#2a3f5f\",\"arrowhead\":0,\"arrowwidth\":1},\"autotypenumbers\":\"strict\",\"coloraxis\":{\"colorbar\":{\"outlinewidth\":0,\"ticks\":\"\"}},\"colorscale\":{\"diverging\":[[0,\"#8e0152\"],[0.1,\"#c51b7d\"],[0.2,\"#de77ae\"],[0.3,\"#f1b6da\"],[0.4,\"#fde0ef\"],[0.5,\"#f7f7f7\"],[0.6,\"#e6f5d0\"],[0.7,\"#b8e186\"],[0.8,\"#7fbc41\"],[0.9,\"#4d9221\"],[1,\"#276419\"]],\"sequential\":[[0.0,\"#0d0887\"],[0.1111111111111111,\"#46039f\"],[0.2222222222222222,\"#7201a8\"],[0.3333333333333333,\"#9c179e\"],[0.4444444444444444,\"#bd3786\"],[0.5555555555555556,\"#d8576b\"],[0.6666666666666666,\"#ed7953\"],[0.7777777777777778,\"#fb9f3a\"],[0.8888888888888888,\"#fdca26\"],[1.0,\"#f0f921\"]],\"sequentialminus\":[[0.0,\"#0d0887\"],[0.1111111111111111,\"#46039f\"],[0.2222222222222222,\"#7201a8\"],[0.3333333333333333,\"#9c179e\"],[0.4444444444444444,\"#bd3786\"],[0.5555555555555556,\"#d8576b\"],[0.6666666666666666,\"#ed7953\"],[0.7777777777777778,\"#fb9f3a\"],[0.8888888888888888,\"#fdca26\"],[1.0,\"#f0f921\"]]},\"colorway\":[\"#636efa\",\"#EF553B\",\"#00cc96\",\"#ab63fa\",\"#FFA15A\",\"#19d3f3\",\"#FF6692\",\"#B6E880\",\"#FF97FF\",\"#FECB52\"],\"font\":{\"color\":\"#2a3f5f\"},\"geo\":{\"bgcolor\":\"white\",\"lakecolor\":\"white\",\"landcolor\":\"#E5ECF6\",\"showlakes\":true,\"showland\":true,\"subunitcolor\":\"white\"},\"hoverlabel\":{\"align\":\"left\"},\"hovermode\":\"closest\",\"mapbox\":{\"style\":\"light\"},\"paper_bgcolor\":\"white\",\"plot_bgcolor\":\"#E5ECF6\",\"polar\":{\"angularaxis\":{\"gridcolor\":\"white\",\"linecolor\":\"white\",\"ticks\":\"\"},\"bgcolor\":\"#E5ECF6\",\"radialaxis\":{\"gridcolor\":\"white\",\"linecolor\":\"white\",\"ticks\":\"\"}},\"scene\":{\"xaxis\":{\"backgroundcolor\":\"#E5ECF6\",\"gridcolor\":\"white\",\"gridwidth\":2,\"linecolor\":\"white\",\"showbackground\":true,\"ticks\":\"\",\"zerolinecolor\":\"white\"},\"yaxis\":{\"backgroundcolor\":\"#E5ECF6\",\"gridcolor\":\"white\",\"gridwidth\":2,\"linecolor\":\"white\",\"showbackground\":true,\"ticks\":\"\",\"zerolinecolor\":\"white\"},\"zaxis\":{\"backgroundcolor\":\"#E5ECF6\",\"gridcolor\":\"white\",\"gridwidth\":2,\"linecolor\":\"white\",\"showbackground\":true,\"ticks\":\"\",\"zerolinecolor\":\"white\"}},\"shapedefaults\":{\"line\":{\"color\":\"#2a3f5f\"}},\"ternary\":{\"aaxis\":{\"gridcolor\":\"white\",\"linecolor\":\"white\",\"ticks\":\"\"},\"baxis\":{\"gridcolor\":\"white\",\"linecolor\":\"white\",\"ticks\":\"\"},\"bgcolor\":\"#E5ECF6\",\"caxis\":{\"gridcolor\":\"white\",\"linecolor\":\"white\",\"ticks\":\"\"}},\"title\":{\"x\":0.05},\"xaxis\":{\"automargin\":true,\"gridcolor\":\"white\",\"linecolor\":\"white\",\"ticks\":\"\",\"title\":{\"standoff\":15},\"zerolinecolor\":\"white\",\"zerolinewidth\":2},\"yaxis\":{\"automargin\":true,\"gridcolor\":\"white\",\"linecolor\":\"white\",\"ticks\":\"\",\"title\":{\"standoff\":15},\"zerolinecolor\":\"white\",\"zerolinewidth\":2}}},\"width\":800,\"xaxis\":{\"anchor\":\"y\",\"domain\":[0.0,1.0],\"title\":{\"text\":\"Emotion Freq\"}},\"yaxis\":{\"anchor\":\"x\",\"domain\":[0.0,1.0],\"title\":{\"text\":\"Emotion Classification\"}}},                        {\"responsive\": true}                    ).then(function(){\n",
       "                            \n",
       "var gd = document.getElementById('d4a8a179-6089-4335-90d9-dc115344db0c');\n",
       "var x = new MutationObserver(function (mutations, observer) {{\n",
       "        var display = window.getComputedStyle(gd).display;\n",
       "        if (!display || display === 'none') {{\n",
       "            console.log([gd, 'removed!']);\n",
       "            Plotly.purge(gd);\n",
       "            observer.disconnect();\n",
       "        }}\n",
       "}});\n",
       "\n",
       "// Listen for the removal of the full notebook cells\n",
       "var notebookContainer = gd.closest('#notebook-container');\n",
       "if (notebookContainer) {{\n",
       "    x.observe(notebookContainer, {childList: true});\n",
       "}}\n",
       "\n",
       "// Listen for the clearing of the current output cell\n",
       "var outputEl = gd.closest('.output');\n",
       "if (outputEl) {{\n",
       "    x.observe(outputEl, {childList: true});\n",
       "}}\n",
       "\n",
       "                        })                };                });            </script>        </div>"
      ]
     },
     "metadata": {},
     "output_type": "display_data"
    }
   ],
   "source": [
    "emotion_df = pd.DataFrame.from_dict(n1, orient='index')\n",
    "emotion_df = emotion_df.reset_index()\n",
    "emotion_df = emotion_df.rename(columns={'index' : 'Emotion Classification' , 0: 'Emotion Freq'})\n",
    "emotion_df = emotion_df.sort_values(by=['Emotion Freq'], ascending=False)\n",
    "import plotly.express as px\n",
    "fig = px.bar(emotion_df, x='Emotion Freq', y='Emotion Classification', color = 'Emotion Freq', orientation='h',color_continuous_scale='Bluered_r', width = 800, height = 400)\n",
    "fig.show()"
   ]
  },
  {
   "cell_type": "code",
   "execution_count": null,
   "id": "b934a414",
   "metadata": {},
   "outputs": [],
   "source": [
    "## topic analysis\n",
    "## 4 sentiment happy sas angry and glad\n",
    "# visualisations\n",
    "# name entitiy recognitions\n",
    "# create a classification model for data "
   ]
  },
  {
   "cell_type": "code",
   "execution_count": 114,
   "id": "432fd01a",
   "metadata": {},
   "outputs": [],
   "source": [
    "walmart_df = walmart_df.drop(['clean_pro'], axis=1)"
   ]
  },
  {
   "cell_type": "code",
   "execution_count": 224,
   "id": "1d4d8ff9",
   "metadata": {},
   "outputs": [
    {
     "data": {
      "text/html": [
       "<div>\n",
       "<style scoped>\n",
       "    .dataframe tbody tr th:only-of-type {\n",
       "        vertical-align: middle;\n",
       "    }\n",
       "\n",
       "    .dataframe tbody tr th {\n",
       "        vertical-align: top;\n",
       "    }\n",
       "\n",
       "    .dataframe thead th {\n",
       "        text-align: right;\n",
       "    }\n",
       "</style>\n",
       "<table border=\"1\" class=\"dataframe\">\n",
       "  <thead>\n",
       "    <tr style=\"text-align: right;\">\n",
       "      <th></th>\n",
       "      <th>rating</th>\n",
       "      <th>employee_type</th>\n",
       "      <th>review</th>\n",
       "      <th>pros</th>\n",
       "      <th>cons</th>\n",
       "      <th>date</th>\n",
       "      <th>job title</th>\n",
       "      <th>monthyear</th>\n",
       "      <th>day</th>\n",
       "      <th>clean_pro</th>\n",
       "      <th>review_length</th>\n",
       "      <th>clean_cons</th>\n",
       "    </tr>\n",
       "  </thead>\n",
       "  <tbody>\n",
       "    <tr>\n",
       "      <th>0</th>\n",
       "      <td>5.0</td>\n",
       "      <td>Current Employee</td>\n",
       "      <td>pretty cool</td>\n",
       "      <td>get to be outside most of the time</td>\n",
       "      <td>i have to work but its okay</td>\n",
       "      <td>2021-10-04</td>\n",
       "      <td>Anonymous Employee</td>\n",
       "      <td>2021-10</td>\n",
       "      <td>2021-10-04</td>\n",
       "      <td>get outside time</td>\n",
       "      <td>0.61</td>\n",
       "      <td>work okay</td>\n",
       "    </tr>\n",
       "    <tr>\n",
       "      <th>1</th>\n",
       "      <td>5.0</td>\n",
       "      <td>Former Employee</td>\n",
       "      <td>From an Asst Store Manager</td>\n",
       "      <td>Advancement opportunities, great at developing skills, great place to learn ...</td>\n",
       "      <td>Understaffing issues negatively affects all parts of their business. However...</td>\n",
       "      <td>2015-06-02</td>\n",
       "      <td>Assistant Store Manager</td>\n",
       "      <td>2015-06</td>\n",
       "      <td>2015-06-02</td>\n",
       "      <td>advancement opportunities great developing skills great place learn skill gr...</td>\n",
       "      <td>3.33</td>\n",
       "      <td>understaffing issues negatively affects parts business however walmart incre...</td>\n",
       "    </tr>\n",
       "    <tr>\n",
       "      <th>2</th>\n",
       "      <td>3.0</td>\n",
       "      <td>Former Employee</td>\n",
       "      <td>It only takes one.</td>\n",
       "      <td>I loved working with people as management. This position is very high-paced ...</td>\n",
       "      <td>It only takes one senior level management to tarnish an other-wise respectab...</td>\n",
       "      <td>2021-10-19</td>\n",
       "      <td>Field Assistant Manager</td>\n",
       "      <td>2021-10</td>\n",
       "      <td>2021-10-19</td>\n",
       "      <td>loved working people management position highpaced id typically walk roughly...</td>\n",
       "      <td>11.95</td>\n",
       "      <td>takes one senior level management tarnish otherwise respectable image vice p...</td>\n",
       "    </tr>\n",
       "    <tr>\n",
       "      <th>3</th>\n",
       "      <td>3.0</td>\n",
       "      <td>Current Employee</td>\n",
       "      <td>Can get overwhelming at times but decent pay</td>\n",
       "      <td>$14 an hour starting pay.\\nDepending on what role they have you some are eas...</td>\n",
       "      <td>Generally the whole business strucutre in terms of managemnt/leadership.\\nSo...</td>\n",
       "      <td>2021-10-05</td>\n",
       "      <td>Online Personal Shopper</td>\n",
       "      <td>2021-10</td>\n",
       "      <td>2021-10-05</td>\n",
       "      <td>hour starting pay depending role easier others dispensing bring order custom...</td>\n",
       "      <td>12.47</td>\n",
       "      <td>generally whole business strucutre terms managemntleadership sometimes impol...</td>\n",
       "    </tr>\n",
       "    <tr>\n",
       "      <th>4</th>\n",
       "      <td>3.0</td>\n",
       "      <td>Former Employee</td>\n",
       "      <td>Admiring Front Skill</td>\n",
       "      <td>A lot of social trafficking.....minimal guidance to departments and customer...</td>\n",
       "      <td>Less of a total team effectiveness by picking and choosing, but first time i...</td>\n",
       "      <td>2021-10-21</td>\n",
       "      <td>Guest Greeter</td>\n",
       "      <td>2021-10</td>\n",
       "      <td>2021-10-21</td>\n",
       "      <td>lot social traffickingminimal guidance departments customer service returns ...</td>\n",
       "      <td>5.67</td>\n",
       "      <td>less total team effectiveness picking choosing first time time word really w...</td>\n",
       "    </tr>\n",
       "  </tbody>\n",
       "</table>\n",
       "</div>"
      ],
      "text/plain": [
       "   rating     employee_type                                        review  \\\n",
       "0     5.0  Current Employee                                   pretty cool   \n",
       "1     5.0   Former Employee                    From an Asst Store Manager   \n",
       "2     3.0   Former Employee                            It only takes one.   \n",
       "3     3.0  Current Employee  Can get overwhelming at times but decent pay   \n",
       "4     3.0   Former Employee                          Admiring Front Skill   \n",
       "\n",
       "                                                                              pros  \\\n",
       "0                                               get to be outside most of the time   \n",
       "1  Advancement opportunities, great at developing skills, great place to learn ...   \n",
       "2  I loved working with people as management. This position is very high-paced ...   \n",
       "3  $14 an hour starting pay.\\nDepending on what role they have you some are eas...   \n",
       "4  A lot of social trafficking.....minimal guidance to departments and customer...   \n",
       "\n",
       "                                                                              cons  \\\n",
       "0                                                      i have to work but its okay   \n",
       "1  Understaffing issues negatively affects all parts of their business. However...   \n",
       "2  It only takes one senior level management to tarnish an other-wise respectab...   \n",
       "3  Generally the whole business strucutre in terms of managemnt/leadership.\\nSo...   \n",
       "4  Less of a total team effectiveness by picking and choosing, but first time i...   \n",
       "\n",
       "        date                 job title monthyear         day  \\\n",
       "0 2021-10-04        Anonymous Employee   2021-10  2021-10-04   \n",
       "1 2015-06-02   Assistant Store Manager   2015-06  2015-06-02   \n",
       "2 2021-10-19   Field Assistant Manager   2021-10  2021-10-19   \n",
       "3 2021-10-05   Online Personal Shopper   2021-10  2021-10-05   \n",
       "4 2021-10-21             Guest Greeter   2021-10  2021-10-21   \n",
       "\n",
       "                                                                         clean_pro  \\\n",
       "0                                                                 get outside time   \n",
       "1  advancement opportunities great developing skills great place learn skill gr...   \n",
       "2  loved working people management position highpaced id typically walk roughly...   \n",
       "3  hour starting pay depending role easier others dispensing bring order custom...   \n",
       "4  lot social traffickingminimal guidance departments customer service returns ...   \n",
       "\n",
       "   review_length  \\\n",
       "0           0.61   \n",
       "1           3.33   \n",
       "2          11.95   \n",
       "3          12.47   \n",
       "4           5.67   \n",
       "\n",
       "                                                                        clean_cons  \n",
       "0                                                                        work okay  \n",
       "1  understaffing issues negatively affects parts business however walmart incre...  \n",
       "2  takes one senior level management tarnish otherwise respectable image vice p...  \n",
       "3  generally whole business strucutre terms managemntleadership sometimes impol...  \n",
       "4  less total team effectiveness picking choosing first time time word really w...  "
      ]
     },
     "execution_count": 224,
     "metadata": {},
     "output_type": "execute_result"
    }
   ],
   "source": [
    "walmart_df.head()"
   ]
  },
  {
   "cell_type": "markdown",
   "id": "f38ea243",
   "metadata": {},
   "source": [
    "### N-gram Implementation"
   ]
  },
  {
   "cell_type": "code",
   "execution_count": 281,
   "id": "d14bdd79",
   "metadata": {},
   "outputs": [],
   "source": [
    "import re\n",
    "import unicodedata\n",
    "import nltk\n",
    "from nltk.corpus import stopwords"
   ]
  },
  {
   "cell_type": "code",
   "execution_count": 282,
   "id": "e9d7e7de",
   "metadata": {},
   "outputs": [],
   "source": [
    "### Text cleaning\n",
    "def quick_clean(text):\n",
    "  lemma = nltk.stem.WordNetLemmatizer()\n",
    "  stopwords = nltk.corpus.stopwords.words('english')\n",
    "  text = (unicodedata.normalize('NFKD', text)\n",
    "    .encode('ascii', 'ignore')\n",
    "    .decode('utf-8', 'ignore')\n",
    "    .lower())\n",
    "  words = re.sub(r'[^\\w\\s]', '', text).split()\n",
    "  return [lemma.lemmatize(word) for word in words if word not in stopwords]"
   ]
  },
  {
   "cell_type": "code",
   "execution_count": 283,
   "id": "95615fc3",
   "metadata": {},
   "outputs": [],
   "source": [
    "words = quick_clean(''.join(str(walmart_df['review'].tolist())))"
   ]
  },
  {
   "cell_type": "code",
   "execution_count": 284,
   "id": "bac4bd99",
   "metadata": {},
   "outputs": [
    {
     "data": {
      "text/plain": [
       "['pretty',\n",
       " 'cool',\n",
       " 'asst',\n",
       " 'store',\n",
       " 'manager',\n",
       " 'take',\n",
       " 'one',\n",
       " 'get',\n",
       " 'overwhelming',\n",
       " 'time']"
      ]
     },
     "execution_count": 284,
     "metadata": {},
     "output_type": "execute_result"
    }
   ],
   "source": [
    "words[:10]"
   ]
  },
  {
   "cell_type": "code",
   "execution_count": 285,
   "id": "3b821d0c",
   "metadata": {},
   "outputs": [
    {
     "data": {
      "text/plain": [
       "(place, work)       31\n",
       "(good, job)         24\n",
       "(great, company)    18\n",
       "(good, place)       17\n",
       "(great, place)      14\n",
       "(good, company)     13\n",
       "(pretty, good)      12\n",
       "(great, job)        12\n",
       "(good, great)       11\n",
       "(job, good)         10\n",
       "dtype: int64"
      ]
     },
     "execution_count": 285,
     "metadata": {},
     "output_type": "execute_result"
    }
   ],
   "source": [
    "(pd.Series(nltk.ngrams(words, 2)).value_counts())[:10]"
   ]
  },
  {
   "cell_type": "code",
   "execution_count": 286,
   "id": "551b4a19",
   "metadata": {},
   "outputs": [],
   "source": [
    "new_bigrams = (pd.Series(nltk.ngrams(words, 2)).value_counts())[:20]\n",
    "new_trigrams = (pd.Series(nltk.ngrams(words, 3)).value_counts())[:20]"
   ]
  },
  {
   "cell_type": "code",
   "execution_count": 312,
   "id": "6c48c62c",
   "metadata": {},
   "outputs": [],
   "source": [
    "b1 = pd.DataFrame({'bigrams':new_bigrams.index, 'values':new_bigrams.values})\n",
    "t1 = pd.DataFrame({'trigrams':new_trigrams.index, 'values':new_trigrams.values})"
   ]
  },
  {
   "cell_type": "code",
   "execution_count": 311,
   "id": "61c5c1fc",
   "metadata": {},
   "outputs": [
    {
     "data": {
      "text/plain": [
       "<AxesSubplot:xlabel='values', ylabel='bigrams'>"
      ]
     },
     "execution_count": 311,
     "metadata": {},
     "output_type": "execute_result"
    },
    {
     "data": {
      "image/png": "[encoded data removed]",
      "text/plain": [
       "<Figure size 720x720 with 1 Axes>"
      ]
     },
     "metadata": {
      "needs_background": "light"
     },
     "output_type": "display_data"
    }
   ],
   "source": [
    "f, ax = plt.subplots(figsize = (10,10))\n",
    "sns.barplot(x = 'values',y = 'bigrams',data = b1, orient = 'h')"
   ]
  },
  {
   "cell_type": "code",
   "execution_count": 313,
   "id": "641e7c1e",
   "metadata": {},
   "outputs": [
    {
     "data": {
      "text/plain": [
       "<AxesSubplot:xlabel='values', ylabel='trigrams'>"
      ]
     },
     "execution_count": 313,
     "metadata": {},
     "output_type": "execute_result"
    },
    {
     "data": {
      "image/png": "[encoded data removed]",
      "text/plain": [
       "<Figure size 720x720 with 1 Axes>"
      ]
     },
     "metadata": {
      "needs_background": "light"
     },
     "output_type": "display_data"
    }
   ],
   "source": [
    "f, ax = plt.subplots(figsize = (10,10))\n",
    "sns.barplot(x = 'values',y = 'trigrams',data = t1, orient = 'h')"
   ]
  },
  {
   "cell_type": "markdown",
   "id": "5ba97304",
   "metadata": {},
   "source": [
    "### Name Entity recognition"
   ]
  },
  {
   "cell_type": "code",
   "execution_count": 316,
   "id": "64dff05f",
   "metadata": {},
   "outputs": [],
   "source": [
    "import spacy\n",
    "from collections import Counter\n",
    "import en_core_web_sm\n",
    "nlp = en_core_web_sm.load()"
   ]
  },
  {
   "cell_type": "code",
   "execution_count": 317,
   "id": "39d9ddb7",
   "metadata": {},
   "outputs": [],
   "source": [
    "tokens = nlp(''.join(str(walmart_df.review.tolist())))"
   ]
  },
  {
   "cell_type": "code",
   "execution_count": 318,
   "id": "1c9a7e6b",
   "metadata": {},
   "outputs": [
    {
     "data": {
      "text/plain": [
       "[('Cashier', 16),\n",
       " ('Review', 10),\n",
       " ('first', 6),\n",
       " ('Working at Walmart', 3),\n",
       " (\"Walmart'\", 3),\n",
       " ('Stocker', 3),\n",
       " ('hours', 3),\n",
       " ('one', 2),\n",
       " ('summer', 2),\n",
       " (\"Team Associate'\", 2),\n",
       " ('Bakery', 2),\n",
       " ('Awesome', 2),\n",
       " ('Xxx', 2),\n",
       " (\"Surprisingly Okay'\", 1),\n",
       " ('NICU', 1),\n",
       " ('11', 1),\n",
       " ('Unorganized', 1),\n",
       " (\"Walmart DC'\", 1),\n",
       " (\"'10 years\", 1),\n",
       " ('Kinda', 1)]"
      ]
     },
     "execution_count": 318,
     "metadata": {},
     "output_type": "execute_result"
    }
   ],
   "source": [
    "items = [x.text for x in tokens.ents]\n",
    "Counter(items).most_common(20)"
   ]
  },
  {
   "cell_type": "code",
   "execution_count": 335,
   "id": "edc859ec",
   "metadata": {},
   "outputs": [],
   "source": [
    "org_list = []\n",
    "for ent in tokens.ents:\n",
    "    if ent.label_ == 'ORG':\n",
    "        org_list.append(ent.text)\n",
    "        \n",
    "org_counts = Counter(org_list).most_common(20)\n",
    "df_org = pd.DataFrame(org_counts, columns =['text', 'count'])"
   ]
  },
  {
   "cell_type": "code",
   "execution_count": 336,
   "id": "df4d102c",
   "metadata": {},
   "outputs": [
    {
     "data": {
      "text/html": [
       "<div>\n",
       "<style scoped>\n",
       "    .dataframe tbody tr th:only-of-type {\n",
       "        vertical-align: middle;\n",
       "    }\n",
       "\n",
       "    .dataframe tbody tr th {\n",
       "        vertical-align: top;\n",
       "    }\n",
       "\n",
       "    .dataframe thead th {\n",
       "        text-align: right;\n",
       "    }\n",
       "</style>\n",
       "<table border=\"1\" class=\"dataframe\">\n",
       "  <thead>\n",
       "    <tr style=\"text-align: right;\">\n",
       "      <th></th>\n",
       "      <th>text</th>\n",
       "      <th>count</th>\n",
       "    </tr>\n",
       "  </thead>\n",
       "  <tbody>\n",
       "    <tr>\n",
       "      <th>0</th>\n",
       "      <td>Walmart'</td>\n",
       "      <td>3</td>\n",
       "    </tr>\n",
       "    <tr>\n",
       "      <th>1</th>\n",
       "      <td>Bakery</td>\n",
       "      <td>2</td>\n",
       "    </tr>\n",
       "    <tr>\n",
       "      <th>2</th>\n",
       "      <td>Awesome</td>\n",
       "      <td>2</td>\n",
       "    </tr>\n",
       "    <tr>\n",
       "      <th>3</th>\n",
       "      <td>NICU</td>\n",
       "      <td>1</td>\n",
       "    </tr>\n",
       "    <tr>\n",
       "      <th>4</th>\n",
       "      <td>Unorganized</td>\n",
       "      <td>1</td>\n",
       "    </tr>\n",
       "    <tr>\n",
       "      <th>5</th>\n",
       "      <td>OGP Review'</td>\n",
       "      <td>1</td>\n",
       "    </tr>\n",
       "    <tr>\n",
       "      <th>6</th>\n",
       "      <td>Wal-Mart Bad Boy Bad Bad</td>\n",
       "      <td>1</td>\n",
       "    </tr>\n",
       "    <tr>\n",
       "      <th>7</th>\n",
       "      <td>WalMart Pro/ Cons'</td>\n",
       "      <td>1</td>\n",
       "    </tr>\n",
       "    <tr>\n",
       "      <th>8</th>\n",
       "      <td>Machine</td>\n",
       "      <td>1</td>\n",
       "    </tr>\n",
       "    <tr>\n",
       "      <th>9</th>\n",
       "      <td>Bad Maintenance'</td>\n",
       "      <td>1</td>\n",
       "    </tr>\n",
       "    <tr>\n",
       "      <th>10</th>\n",
       "      <td>PTO</td>\n",
       "      <td>1</td>\n",
       "    </tr>\n",
       "    <tr>\n",
       "      <th>11</th>\n",
       "      <td>Supply Chain Operations</td>\n",
       "      <td>1</td>\n",
       "    </tr>\n",
       "    <tr>\n",
       "      <th>12</th>\n",
       "      <td>Department Managers'</td>\n",
       "      <td>1</td>\n",
       "    </tr>\n",
       "    <tr>\n",
       "      <th>13</th>\n",
       "      <td>Working at Walmart'</td>\n",
       "      <td>1</td>\n",
       "    </tr>\n",
       "    <tr>\n",
       "      <th>14</th>\n",
       "      <td>Digital</td>\n",
       "      <td>1</td>\n",
       "    </tr>\n",
       "    <tr>\n",
       "      <th>15</th>\n",
       "      <td>Student</td>\n",
       "      <td>1</td>\n",
       "    </tr>\n",
       "    <tr>\n",
       "      <th>16</th>\n",
       "      <td>Great Walmart'</td>\n",
       "      <td>1</td>\n",
       "    </tr>\n",
       "    <tr>\n",
       "      <th>17</th>\n",
       "      <td>str8</td>\n",
       "      <td>1</td>\n",
       "    </tr>\n",
       "    <tr>\n",
       "      <th>18</th>\n",
       "      <td>Unprofessional Management'</td>\n",
       "      <td>1</td>\n",
       "    </tr>\n",
       "    <tr>\n",
       "      <th>19</th>\n",
       "      <td>PACED &amp; PASSIONATE</td>\n",
       "      <td>1</td>\n",
       "    </tr>\n",
       "  </tbody>\n",
       "</table>\n",
       "</div>"
      ],
      "text/plain": [
       "                          text  count\n",
       "0                     Walmart'      3\n",
       "1                       Bakery      2\n",
       "2                      Awesome      2\n",
       "3                         NICU      1\n",
       "4                  Unorganized      1\n",
       "5                  OGP Review'      1\n",
       "6     Wal-Mart Bad Boy Bad Bad      1\n",
       "7           WalMart Pro/ Cons'      1\n",
       "8                      Machine      1\n",
       "9             Bad Maintenance'      1\n",
       "10                         PTO      1\n",
       "11     Supply Chain Operations      1\n",
       "12        Department Managers'      1\n",
       "13         Working at Walmart'      1\n",
       "14                     Digital      1\n",
       "15                     Student      1\n",
       "16              Great Walmart'      1\n",
       "17                        str8      1\n",
       "18  Unprofessional Management'      1\n",
       "19          PACED & PASSIONATE      1"
      ]
     },
     "execution_count": 336,
     "metadata": {},
     "output_type": "execute_result"
    }
   ],
   "source": [
    "df_org"
   ]
  },
  {
   "cell_type": "code",
   "execution_count": 337,
   "id": "e205d9ed",
   "metadata": {},
   "outputs": [
    {
     "data": {
      "application/vnd.plotly.v1+json": {
       "config": {
        "plotlyServerURL": "https://plot.ly"
       },
       "data": [
        {
         "alignmentgroup": "True",
         "hovertemplate": "text=%{x}<br>count=%{y}<extra></extra>",
         "legendgroup": "",
         "marker": {
          "color": "#636efa",
          "pattern": {
           "shape": ""
          }
         },
         "name": "",
         "offsetgroup": "",
         "orientation": "v",
         "showlegend": false,
         "textposition": "auto",
         "type": "bar",
         "x": [
          "Walmart'",
          "Bakery",
          "Awesome",
          "NICU",
          "Unorganized",
          "OGP Review'",
          "Wal-Mart Bad Boy Bad Bad",
          "WalMart Pro/ Cons'",
          "Machine",
          "Bad Maintenance'",
          "PTO",
          "Supply Chain Operations",
          "Department Managers'",
          "Working at Walmart'",
          "Digital",
          "Student",
          "Great Walmart'",
          "str8",
          "Unprofessional Management'",
          "PACED & PASSIONATE"
         ],
         "xaxis": "x",
         "y": [
          3,
          2,
          2,
          1,
          1,
          1,
          1,
          1,
          1,
          1,
          1,
          1,
          1,
          1,
          1,
          1,
          1,
          1,
          1,
          1
         ],
         "yaxis": "y"
        }
       ],
       "layout": {
        "barmode": "relative",
        "legend": {
         "tracegroupgap": 0
        },
        "margin": {
         "t": 60
        },
        "template": {
         "data": {
          "bar": [
           {
            "error_x": {
             "color": "#2a3f5f"
            },
            "error_y": {
             "color": "#2a3f5f"
            },
            "marker": {
             "line": {
              "color": "#E5ECF6",
              "width": 0.5
             },
             "pattern": {
              "fillmode": "overlay",
              "size": 10,
              "solidity": 0.2
             }
            },
            "type": "bar"
           }
          ],
          "barpolar": [
           {
            "marker": {
             "line": {
              "color": "#E5ECF6",
              "width": 0.5
             },
             "pattern": {
              "fillmode": "overlay",
              "size": 10,
              "solidity": 0.2
             }
            },
            "type": "barpolar"
           }
          ],
          "carpet": [
           {
            "aaxis": {
             "endlinecolor": "#2a3f5f",
             "gridcolor": "white",
             "linecolor": "white",
             "minorgridcolor": "white",
             "startlinecolor": "#2a3f5f"
            },
            "baxis": {
             "endlinecolor": "#2a3f5f",
             "gridcolor": "white",
             "linecolor": "white",
             "minorgridcolor": "white",
             "startlinecolor": "#2a3f5f"
            },
            "type": "carpet"
           }
          ],
          "choropleth": [
           {
            "colorbar": {
             "outlinewidth": 0,
             "ticks": ""
            },
            "type": "choropleth"
           }
          ],
          "contour": [
           {
            "colorbar": {
             "outlinewidth": 0,
             "ticks": ""
            },
            "colorscale": [
             [
              0,
              "#0d0887"
             ],
             [
              0.1111111111111111,
              "#46039f"
             ],
             [
              0.2222222222222222,
              "#7201a8"
             ],
             [
              0.3333333333333333,
              "#9c179e"
             ],
             [
              0.4444444444444444,
              "#bd3786"
             ],
             [
              0.5555555555555556,
              "#d8576b"
             ],
             [
              0.6666666666666666,
              "#ed7953"
             ],
             [
              0.7777777777777778,
              "#fb9f3a"
             ],
             [
              0.8888888888888888,
              "#fdca26"
             ],
             [
              1,
              "#f0f921"
             ]
            ],
            "type": "contour"
           }
          ],
          "contourcarpet": [
           {
            "colorbar": {
             "outlinewidth": 0,
             "ticks": ""
            },
            "type": "contourcarpet"
           }
          ],
          "heatmap": [
           {
            "colorbar": {
             "outlinewidth": 0,
             "ticks": ""
            },
            "colorscale": [
             [
              0,
              "#0d0887"
             ],
             [
              0.1111111111111111,
              "#46039f"
             ],
             [
              0.2222222222222222,
              "#7201a8"
             ],
             [
              0.3333333333333333,
              "#9c179e"
             ],
             [
              0.4444444444444444,
              "#bd3786"
             ],
             [
              0.5555555555555556,
              "#d8576b"
             ],
             [
              0.6666666666666666,
              "#ed7953"
             ],
             [
              0.7777777777777778,
              "#fb9f3a"
             ],
             [
              0.8888888888888888,
              "#fdca26"
             ],
             [
              1,
              "#f0f921"
             ]
            ],
            "type": "heatmap"
           }
          ],
          "heatmapgl": [
           {
            "colorbar": {
             "outlinewidth": 0,
             "ticks": ""
            },
            "colorscale": [
             [
              0,
              "#0d0887"
             ],
             [
              0.1111111111111111,
              "#46039f"
             ],
             [
              0.2222222222222222,
              "#7201a8"
             ],
             [
              0.3333333333333333,
              "#9c179e"
             ],
             [
              0.4444444444444444,
              "#bd3786"
             ],
             [
              0.5555555555555556,
              "#d8576b"
             ],
             [
              0.6666666666666666,
              "#ed7953"
             ],
             [
              0.7777777777777778,
              "#fb9f3a"
             ],
             [
              0.8888888888888888,
              "#fdca26"
             ],
             [
              1,
              "#f0f921"
             ]
            ],
            "type": "heatmapgl"
           }
          ],
          "histogram": [
           {
            "marker": {
             "pattern": {
              "fillmode": "overlay",
              "size": 10,
              "solidity": 0.2
             }
            },
            "type": "histogram"
           }
          ],
          "histogram2d": [
           {
            "colorbar": {
             "outlinewidth": 0,
             "ticks": ""
            },
            "colorscale": [
             [
              0,
              "#0d0887"
             ],
             [
              0.1111111111111111,
              "#46039f"
             ],
             [
              0.2222222222222222,
              "#7201a8"
             ],
             [
              0.3333333333333333,
              "#9c179e"
             ],
             [
              0.4444444444444444,
              "#bd3786"
             ],
             [
              0.5555555555555556,
              "#d8576b"
             ],
             [
              0.6666666666666666,
              "#ed7953"
             ],
             [
              0.7777777777777778,
              "#fb9f3a"
             ],
             [
              0.8888888888888888,
              "#fdca26"
             ],
             [
              1,
              "#f0f921"
             ]
            ],
            "type": "histogram2d"
           }
          ],
          "histogram2dcontour": [
           {
            "colorbar": {
             "outlinewidth": 0,
             "ticks": ""
            },
            "colorscale": [
             [
              0,
              "#0d0887"
             ],
             [
              0.1111111111111111,
              "#46039f"
             ],
             [
              0.2222222222222222,
              "#7201a8"
             ],
             [
              0.3333333333333333,
              "#9c179e"
             ],
             [
              0.4444444444444444,
              "#bd3786"
             ],
             [
              0.5555555555555556,
              "#d8576b"
             ],
             [
              0.6666666666666666,
              "#ed7953"
             ],
             [
              0.7777777777777778,
              "#fb9f3a"
             ],
             [
              0.8888888888888888,
              "#fdca26"
             ],
             [
              1,
              "#f0f921"
             ]
            ],
            "type": "histogram2dcontour"
           }
          ],
          "mesh3d": [
           {
            "colorbar": {
             "outlinewidth": 0,
             "ticks": ""
            },
            "type": "mesh3d"
           }
          ],
          "parcoords": [
           {
            "line": {
             "colorbar": {
              "outlinewidth": 0,
              "ticks": ""
             }
            },
            "type": "parcoords"
           }
          ],
          "pie": [
           {
            "automargin": true,
            "type": "pie"
           }
          ],
          "scatter": [
           {
            "marker": {
             "colorbar": {
              "outlinewidth": 0,
              "ticks": ""
             }
            },
            "type": "scatter"
           }
          ],
          "scatter3d": [
           {
            "line": {
             "colorbar": {
              "outlinewidth": 0,
              "ticks": ""
             }
            },
            "marker": {
             "colorbar": {
              "outlinewidth": 0,
              "ticks": ""
             }
            },
            "type": "scatter3d"
           }
          ],
          "scattercarpet": [
           {
            "marker": {
             "colorbar": {
              "outlinewidth": 0,
              "ticks": ""
             }
            },
            "type": "scattercarpet"
           }
          ],
          "scattergeo": [
           {
            "marker": {
             "colorbar": {
              "outlinewidth": 0,
              "ticks": ""
             }
            },
            "type": "scattergeo"
           }
          ],
          "scattergl": [
           {
            "marker": {
             "colorbar": {
              "outlinewidth": 0,
              "ticks": ""
             }
            },
            "type": "scattergl"
           }
          ],
          "scattermapbox": [
           {
            "marker": {
             "colorbar": {
              "outlinewidth": 0,
              "ticks": ""
             }
            },
            "type": "scattermapbox"
           }
          ],
          "scatterpolar": [
           {
            "marker": {
             "colorbar": {
              "outlinewidth": 0,
              "ticks": ""
             }
            },
            "type": "scatterpolar"
           }
          ],
          "scatterpolargl": [
           {
            "marker": {
             "colorbar": {
              "outlinewidth": 0,
              "ticks": ""
             }
            },
            "type": "scatterpolargl"
           }
          ],
          "scatterternary": [
           {
            "marker": {
             "colorbar": {
              "outlinewidth": 0,
              "ticks": ""
             }
            },
            "type": "scatterternary"
           }
          ],
          "surface": [
           {
            "colorbar": {
             "outlinewidth": 0,
             "ticks": ""
            },
            "colorscale": [
             [
              0,
              "#0d0887"
             ],
             [
              0.1111111111111111,
              "#46039f"
             ],
             [
              0.2222222222222222,
              "#7201a8"
             ],
             [
              0.3333333333333333,
              "#9c179e"
             ],
             [
              0.4444444444444444,
              "#bd3786"
             ],
             [
              0.5555555555555556,
              "#d8576b"
             ],
             [
              0.6666666666666666,
              "#ed7953"
             ],
             [
              0.7777777777777778,
              "#fb9f3a"
             ],
             [
              0.8888888888888888,
              "#fdca26"
             ],
             [
              1,
              "#f0f921"
             ]
            ],
            "type": "surface"
           }
          ],
          "table": [
           {
            "cells": {
             "fill": {
              "color": "#EBF0F8"
             },
             "line": {
              "color": "white"
             }
            },
            "header": {
             "fill": {
              "color": "#C8D4E3"
             },
             "line": {
              "color": "white"
             }
            },
            "type": "table"
           }
          ]
         },
         "layout": {
          "annotationdefaults": {
           "arrowcolor": "#2a3f5f",
           "arrowhead": 0,
           "arrowwidth": 1
          },
          "autotypenumbers": "strict",
          "coloraxis": {
           "colorbar": {
            "outlinewidth": 0,
            "ticks": ""
           }
          },
          "colorscale": {
           "diverging": [
            [
             0,
             "#8e0152"
            ],
            [
             0.1,
             "#c51b7d"
            ],
            [
             0.2,
             "#de77ae"
            ],
            [
             0.3,
             "#f1b6da"
            ],
            [
             0.4,
             "#fde0ef"
            ],
            [
             0.5,
             "#f7f7f7"
            ],
            [
             0.6,
             "#e6f5d0"
            ],
            [
             0.7,
             "#b8e186"
            ],
            [
             0.8,
             "#7fbc41"
            ],
            [
             0.9,
             "#4d9221"
            ],
            [
             1,
             "#276419"
            ]
           ],
           "sequential": [
            [
             0,
             "#0d0887"
            ],
            [
             0.1111111111111111,
             "#46039f"
            ],
            [
             0.2222222222222222,
             "#7201a8"
            ],
            [
             0.3333333333333333,
             "#9c179e"
            ],
            [
             0.4444444444444444,
             "#bd3786"
            ],
            [
             0.5555555555555556,
             "#d8576b"
            ],
            [
             0.6666666666666666,
             "#ed7953"
            ],
            [
             0.7777777777777778,
             "#fb9f3a"
            ],
            [
             0.8888888888888888,
             "#fdca26"
            ],
            [
             1,
             "#f0f921"
            ]
           ],
           "sequentialminus": [
            [
             0,
             "#0d0887"
            ],
            [
             0.1111111111111111,
             "#46039f"
            ],
            [
             0.2222222222222222,
             "#7201a8"
            ],
            [
             0.3333333333333333,
             "#9c179e"
            ],
            [
             0.4444444444444444,
             "#bd3786"
            ],
            [
             0.5555555555555556,
             "#d8576b"
            ],
            [
             0.6666666666666666,
             "#ed7953"
            ],
            [
             0.7777777777777778,
             "#fb9f3a"
            ],
            [
             0.8888888888888888,
             "#fdca26"
            ],
            [
             1,
             "#f0f921"
            ]
           ]
          },
          "colorway": [
           "#636efa",
           "#EF553B",
           "#00cc96",
           "#ab63fa",
           "#FFA15A",
           "#19d3f3",
           "#FF6692",
           "#B6E880",
           "#FF97FF",
           "#FECB52"
          ],
          "font": {
           "color": "#2a3f5f"
          },
          "geo": {
           "bgcolor": "white",
           "lakecolor": "white",
           "landcolor": "#E5ECF6",
           "showlakes": true,
           "showland": true,
           "subunitcolor": "white"
          },
          "hoverlabel": {
           "align": "left"
          },
          "hovermode": "closest",
          "mapbox": {
           "style": "light"
          },
          "paper_bgcolor": "white",
          "plot_bgcolor": "#E5ECF6",
          "polar": {
           "angularaxis": {
            "gridcolor": "white",
            "linecolor": "white",
            "ticks": ""
           },
           "bgcolor": "#E5ECF6",
           "radialaxis": {
            "gridcolor": "white",
            "linecolor": "white",
            "ticks": ""
           }
          },
          "scene": {
           "xaxis": {
            "backgroundcolor": "#E5ECF6",
            "gridcolor": "white",
            "gridwidth": 2,
            "linecolor": "white",
            "showbackground": true,
            "ticks": "",
            "zerolinecolor": "white"
           },
           "yaxis": {
            "backgroundcolor": "#E5ECF6",
            "gridcolor": "white",
            "gridwidth": 2,
            "linecolor": "white",
            "showbackground": true,
            "ticks": "",
            "zerolinecolor": "white"
           },
           "zaxis": {
            "backgroundcolor": "#E5ECF6",
            "gridcolor": "white",
            "gridwidth": 2,
            "linecolor": "white",
            "showbackground": true,
            "ticks": "",
            "zerolinecolor": "white"
           }
          },
          "shapedefaults": {
           "line": {
            "color": "#2a3f5f"
           }
          },
          "ternary": {
           "aaxis": {
            "gridcolor": "white",
            "linecolor": "white",
            "ticks": ""
           },
           "baxis": {
            "gridcolor": "white",
            "linecolor": "white",
            "ticks": ""
           },
           "bgcolor": "#E5ECF6",
           "caxis": {
            "gridcolor": "white",
            "linecolor": "white",
            "ticks": ""
           }
          },
          "title": {
           "x": 0.05
          },
          "xaxis": {
           "automargin": true,
           "gridcolor": "white",
           "linecolor": "white",
           "ticks": "",
           "title": {
            "standoff": 15
           },
           "zerolinecolor": "white",
           "zerolinewidth": 2
          },
          "yaxis": {
           "automargin": true,
           "gridcolor": "white",
           "linecolor": "white",
           "ticks": "",
           "title": {
            "standoff": 15
           },
           "zerolinecolor": "white",
           "zerolinewidth": 2
          }
         }
        },
        "xaxis": {
         "anchor": "y",
         "domain": [
          0,
          1
         ],
         "title": {
          "text": "text"
         }
        },
        "yaxis": {
         "anchor": "x",
         "domain": [
          0,
          1
         ],
         "title": {
          "text": "count"
         }
        }
       }
      },
      "text/html": [
       "<div>                            <div id=\"4a4f4333-a4ab-4a98-b0c4-7bdbfc0454e2\" class=\"plotly-graph-div\" style=\"height:525px; width:100%;\"></div>            <script type=\"text/javascript\">                require([\"plotly\"], function(Plotly) {                    window.PLOTLYENV=window.PLOTLYENV || {};                                    if (document.getElementById(\"4a4f4333-a4ab-4a98-b0c4-7bdbfc0454e2\")) {                    Plotly.newPlot(                        \"4a4f4333-a4ab-4a98-b0c4-7bdbfc0454e2\",                        [{\"alignmentgroup\":\"True\",\"hovertemplate\":\"text=%{x}<br>count=%{y}<extra></extra>\",\"legendgroup\":\"\",\"marker\":{\"color\":\"#636efa\",\"pattern\":{\"shape\":\"\"}},\"name\":\"\",\"offsetgroup\":\"\",\"orientation\":\"v\",\"showlegend\":false,\"textposition\":\"auto\",\"type\":\"bar\",\"x\":[\"Walmart'\",\"Bakery\",\"Awesome\",\"NICU\",\"Unorganized\",\"OGP Review'\",\"Wal-Mart Bad Boy Bad Bad\",\"WalMart Pro/ Cons'\",\"Machine\",\"Bad Maintenance'\",\"PTO\",\"Supply Chain Operations\",\"Department Managers'\",\"Working at Walmart'\",\"Digital\",\"Student\",\"Great Walmart'\",\"str8\",\"Unprofessional Management'\",\"PACED & PASSIONATE\"],\"xaxis\":\"x\",\"y\":[3,2,2,1,1,1,1,1,1,1,1,1,1,1,1,1,1,1,1,1],\"yaxis\":\"y\"}],                        {\"barmode\":\"relative\",\"legend\":{\"tracegroupgap\":0},\"margin\":{\"t\":60},\"template\":{\"data\":{\"bar\":[{\"error_x\":{\"color\":\"#2a3f5f\"},\"error_y\":{\"color\":\"#2a3f5f\"},\"marker\":{\"line\":{\"color\":\"#E5ECF6\",\"width\":0.5},\"pattern\":{\"fillmode\":\"overlay\",\"size\":10,\"solidity\":0.2}},\"type\":\"bar\"}],\"barpolar\":[{\"marker\":{\"line\":{\"color\":\"#E5ECF6\",\"width\":0.5},\"pattern\":{\"fillmode\":\"overlay\",\"size\":10,\"solidity\":0.2}},\"type\":\"barpolar\"}],\"carpet\":[{\"aaxis\":{\"endlinecolor\":\"#2a3f5f\",\"gridcolor\":\"white\",\"linecolor\":\"white\",\"minorgridcolor\":\"white\",\"startlinecolor\":\"#2a3f5f\"},\"baxis\":{\"endlinecolor\":\"#2a3f5f\",\"gridcolor\":\"white\",\"linecolor\":\"white\",\"minorgridcolor\":\"white\",\"startlinecolor\":\"#2a3f5f\"},\"type\":\"carpet\"}],\"choropleth\":[{\"colorbar\":{\"outlinewidth\":0,\"ticks\":\"\"},\"type\":\"choropleth\"}],\"contour\":[{\"colorbar\":{\"outlinewidth\":0,\"ticks\":\"\"},\"colorscale\":[[0.0,\"#0d0887\"],[0.1111111111111111,\"#46039f\"],[0.2222222222222222,\"#7201a8\"],[0.3333333333333333,\"#9c179e\"],[0.4444444444444444,\"#bd3786\"],[0.5555555555555556,\"#d8576b\"],[0.6666666666666666,\"#ed7953\"],[0.7777777777777778,\"#fb9f3a\"],[0.8888888888888888,\"#fdca26\"],[1.0,\"#f0f921\"]],\"type\":\"contour\"}],\"contourcarpet\":[{\"colorbar\":{\"outlinewidth\":0,\"ticks\":\"\"},\"type\":\"contourcarpet\"}],\"heatmap\":[{\"colorbar\":{\"outlinewidth\":0,\"ticks\":\"\"},\"colorscale\":[[0.0,\"#0d0887\"],[0.1111111111111111,\"#46039f\"],[0.2222222222222222,\"#7201a8\"],[0.3333333333333333,\"#9c179e\"],[0.4444444444444444,\"#bd3786\"],[0.5555555555555556,\"#d8576b\"],[0.6666666666666666,\"#ed7953\"],[0.7777777777777778,\"#fb9f3a\"],[0.8888888888888888,\"#fdca26\"],[1.0,\"#f0f921\"]],\"type\":\"heatmap\"}],\"heatmapgl\":[{\"colorbar\":{\"outlinewidth\":0,\"ticks\":\"\"},\"colorscale\":[[0.0,\"#0d0887\"],[0.1111111111111111,\"#46039f\"],[0.2222222222222222,\"#7201a8\"],[0.3333333333333333,\"#9c179e\"],[0.4444444444444444,\"#bd3786\"],[0.5555555555555556,\"#d8576b\"],[0.6666666666666666,\"#ed7953\"],[0.7777777777777778,\"#fb9f3a\"],[0.8888888888888888,\"#fdca26\"],[1.0,\"#f0f921\"]],\"type\":\"heatmapgl\"}],\"histogram\":[{\"marker\":{\"pattern\":{\"fillmode\":\"overlay\",\"size\":10,\"solidity\":0.2}},\"type\":\"histogram\"}],\"histogram2d\":[{\"colorbar\":{\"outlinewidth\":0,\"ticks\":\"\"},\"colorscale\":[[0.0,\"#0d0887\"],[0.1111111111111111,\"#46039f\"],[0.2222222222222222,\"#7201a8\"],[0.3333333333333333,\"#9c179e\"],[0.4444444444444444,\"#bd3786\"],[0.5555555555555556,\"#d8576b\"],[0.6666666666666666,\"#ed7953\"],[0.7777777777777778,\"#fb9f3a\"],[0.8888888888888888,\"#fdca26\"],[1.0,\"#f0f921\"]],\"type\":\"histogram2d\"}],\"histogram2dcontour\":[{\"colorbar\":{\"outlinewidth\":0,\"ticks\":\"\"},\"colorscale\":[[0.0,\"#0d0887\"],[0.1111111111111111,\"#46039f\"],[0.2222222222222222,\"#7201a8\"],[0.3333333333333333,\"#9c179e\"],[0.4444444444444444,\"#bd3786\"],[0.5555555555555556,\"#d8576b\"],[0.6666666666666666,\"#ed7953\"],[0.7777777777777778,\"#fb9f3a\"],[0.8888888888888888,\"#fdca26\"],[1.0,\"#f0f921\"]],\"type\":\"histogram2dcontour\"}],\"mesh3d\":[{\"colorbar\":{\"outlinewidth\":0,\"ticks\":\"\"},\"type\":\"mesh3d\"}],\"parcoords\":[{\"line\":{\"colorbar\":{\"outlinewidth\":0,\"ticks\":\"\"}},\"type\":\"parcoords\"}],\"pie\":[{\"automargin\":true,\"type\":\"pie\"}],\"scatter\":[{\"marker\":{\"colorbar\":{\"outlinewidth\":0,\"ticks\":\"\"}},\"type\":\"scatter\"}],\"scatter3d\":[{\"line\":{\"colorbar\":{\"outlinewidth\":0,\"ticks\":\"\"}},\"marker\":{\"colorbar\":{\"outlinewidth\":0,\"ticks\":\"\"}},\"type\":\"scatter3d\"}],\"scattercarpet\":[{\"marker\":{\"colorbar\":{\"outlinewidth\":0,\"ticks\":\"\"}},\"type\":\"scattercarpet\"}],\"scattergeo\":[{\"marker\":{\"colorbar\":{\"outlinewidth\":0,\"ticks\":\"\"}},\"type\":\"scattergeo\"}],\"scattergl\":[{\"marker\":{\"colorbar\":{\"outlinewidth\":0,\"ticks\":\"\"}},\"type\":\"scattergl\"}],\"scattermapbox\":[{\"marker\":{\"colorbar\":{\"outlinewidth\":0,\"ticks\":\"\"}},\"type\":\"scattermapbox\"}],\"scatterpolar\":[{\"marker\":{\"colorbar\":{\"outlinewidth\":0,\"ticks\":\"\"}},\"type\":\"scatterpolar\"}],\"scatterpolargl\":[{\"marker\":{\"colorbar\":{\"outlinewidth\":0,\"ticks\":\"\"}},\"type\":\"scatterpolargl\"}],\"scatterternary\":[{\"marker\":{\"colorbar\":{\"outlinewidth\":0,\"ticks\":\"\"}},\"type\":\"scatterternary\"}],\"surface\":[{\"colorbar\":{\"outlinewidth\":0,\"ticks\":\"\"},\"colorscale\":[[0.0,\"#0d0887\"],[0.1111111111111111,\"#46039f\"],[0.2222222222222222,\"#7201a8\"],[0.3333333333333333,\"#9c179e\"],[0.4444444444444444,\"#bd3786\"],[0.5555555555555556,\"#d8576b\"],[0.6666666666666666,\"#ed7953\"],[0.7777777777777778,\"#fb9f3a\"],[0.8888888888888888,\"#fdca26\"],[1.0,\"#f0f921\"]],\"type\":\"surface\"}],\"table\":[{\"cells\":{\"fill\":{\"color\":\"#EBF0F8\"},\"line\":{\"color\":\"white\"}},\"header\":{\"fill\":{\"color\":\"#C8D4E3\"},\"line\":{\"color\":\"white\"}},\"type\":\"table\"}]},\"layout\":{\"annotationdefaults\":{\"arrowcolor\":\"#2a3f5f\",\"arrowhead\":0,\"arrowwidth\":1},\"autotypenumbers\":\"strict\",\"coloraxis\":{\"colorbar\":{\"outlinewidth\":0,\"ticks\":\"\"}},\"colorscale\":{\"diverging\":[[0,\"#8e0152\"],[0.1,\"#c51b7d\"],[0.2,\"#de77ae\"],[0.3,\"#f1b6da\"],[0.4,\"#fde0ef\"],[0.5,\"#f7f7f7\"],[0.6,\"#e6f5d0\"],[0.7,\"#b8e186\"],[0.8,\"#7fbc41\"],[0.9,\"#4d9221\"],[1,\"#276419\"]],\"sequential\":[[0.0,\"#0d0887\"],[0.1111111111111111,\"#46039f\"],[0.2222222222222222,\"#7201a8\"],[0.3333333333333333,\"#9c179e\"],[0.4444444444444444,\"#bd3786\"],[0.5555555555555556,\"#d8576b\"],[0.6666666666666666,\"#ed7953\"],[0.7777777777777778,\"#fb9f3a\"],[0.8888888888888888,\"#fdca26\"],[1.0,\"#f0f921\"]],\"sequentialminus\":[[0.0,\"#0d0887\"],[0.1111111111111111,\"#46039f\"],[0.2222222222222222,\"#7201a8\"],[0.3333333333333333,\"#9c179e\"],[0.4444444444444444,\"#bd3786\"],[0.5555555555555556,\"#d8576b\"],[0.6666666666666666,\"#ed7953\"],[0.7777777777777778,\"#fb9f3a\"],[0.8888888888888888,\"#fdca26\"],[1.0,\"#f0f921\"]]},\"colorway\":[\"#636efa\",\"#EF553B\",\"#00cc96\",\"#ab63fa\",\"#FFA15A\",\"#19d3f3\",\"#FF6692\",\"#B6E880\",\"#FF97FF\",\"#FECB52\"],\"font\":{\"color\":\"#2a3f5f\"},\"geo\":{\"bgcolor\":\"white\",\"lakecolor\":\"white\",\"landcolor\":\"#E5ECF6\",\"showlakes\":true,\"showland\":true,\"subunitcolor\":\"white\"},\"hoverlabel\":{\"align\":\"left\"},\"hovermode\":\"closest\",\"mapbox\":{\"style\":\"light\"},\"paper_bgcolor\":\"white\",\"plot_bgcolor\":\"#E5ECF6\",\"polar\":{\"angularaxis\":{\"gridcolor\":\"white\",\"linecolor\":\"white\",\"ticks\":\"\"},\"bgcolor\":\"#E5ECF6\",\"radialaxis\":{\"gridcolor\":\"white\",\"linecolor\":\"white\",\"ticks\":\"\"}},\"scene\":{\"xaxis\":{\"backgroundcolor\":\"#E5ECF6\",\"gridcolor\":\"white\",\"gridwidth\":2,\"linecolor\":\"white\",\"showbackground\":true,\"ticks\":\"\",\"zerolinecolor\":\"white\"},\"yaxis\":{\"backgroundcolor\":\"#E5ECF6\",\"gridcolor\":\"white\",\"gridwidth\":2,\"linecolor\":\"white\",\"showbackground\":true,\"ticks\":\"\",\"zerolinecolor\":\"white\"},\"zaxis\":{\"backgroundcolor\":\"#E5ECF6\",\"gridcolor\":\"white\",\"gridwidth\":2,\"linecolor\":\"white\",\"showbackground\":true,\"ticks\":\"\",\"zerolinecolor\":\"white\"}},\"shapedefaults\":{\"line\":{\"color\":\"#2a3f5f\"}},\"ternary\":{\"aaxis\":{\"gridcolor\":\"white\",\"linecolor\":\"white\",\"ticks\":\"\"},\"baxis\":{\"gridcolor\":\"white\",\"linecolor\":\"white\",\"ticks\":\"\"},\"bgcolor\":\"#E5ECF6\",\"caxis\":{\"gridcolor\":\"white\",\"linecolor\":\"white\",\"ticks\":\"\"}},\"title\":{\"x\":0.05},\"xaxis\":{\"automargin\":true,\"gridcolor\":\"white\",\"linecolor\":\"white\",\"ticks\":\"\",\"title\":{\"standoff\":15},\"zerolinecolor\":\"white\",\"zerolinewidth\":2},\"yaxis\":{\"automargin\":true,\"gridcolor\":\"white\",\"linecolor\":\"white\",\"ticks\":\"\",\"title\":{\"standoff\":15},\"zerolinecolor\":\"white\",\"zerolinewidth\":2}}},\"xaxis\":{\"anchor\":\"y\",\"domain\":[0.0,1.0],\"title\":{\"text\":\"text\"}},\"yaxis\":{\"anchor\":\"x\",\"domain\":[0.0,1.0],\"title\":{\"text\":\"count\"}}},                        {\"responsive\": true}                    ).then(function(){\n",
       "                            \n",
       "var gd = document.getElementById('4a4f4333-a4ab-4a98-b0c4-7bdbfc0454e2');\n",
       "var x = new MutationObserver(function (mutations, observer) {{\n",
       "        var display = window.getComputedStyle(gd).display;\n",
       "        if (!display || display === 'none') {{\n",
       "            console.log([gd, 'removed!']);\n",
       "            Plotly.purge(gd);\n",
       "            observer.disconnect();\n",
       "        }}\n",
       "}});\n",
       "\n",
       "// Listen for the removal of the full notebook cells\n",
       "var notebookContainer = gd.closest('#notebook-container');\n",
       "if (notebookContainer) {{\n",
       "    x.observe(notebookContainer, {childList: true});\n",
       "}}\n",
       "\n",
       "// Listen for the clearing of the current output cell\n",
       "var outputEl = gd.closest('.output');\n",
       "if (outputEl) {{\n",
       "    x.observe(outputEl, {childList: true});\n",
       "}}\n",
       "\n",
       "                        })                };                });            </script>        </div>"
      ]
     },
     "metadata": {},
     "output_type": "display_data"
    }
   ],
   "source": [
    "fig = px.bar(df_org, x='text', y='count')\n",
    "fig.show()"
   ]
  },
  {
   "cell_type": "code",
   "execution_count": null,
   "id": "20a85cdb",
   "metadata": {},
   "outputs": [],
   "source": []
  }
 ],
 "metadata": {
  "kernelspec": {
   "display_name": "Python 3 (ipykernel)",
   "language": "python",
   "name": "python3"
  },
  "language_info": {
   "codemirror_mode": {
    "name": "ipython",
    "version": 3
   },
   "file_extension": ".py",
   "mimetype": "text/x-python",
   "name": "python",
   "nbconvert_exporter": "python",
   "pygments_lexer": "ipython3",
   "version": "3.8.10"
  }
 },
 "nbformat": 4,
 "nbformat_minor": 5
}
